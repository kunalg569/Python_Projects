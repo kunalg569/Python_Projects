{
 "cells": [
  {
   "cell_type": "markdown",
   "id": "2054977a",
   "metadata": {},
   "source": [
    "\n",
    "<div style=\"background-color:#f0f0f0; padding:10px; border-radius:5px;\">\n",
    "    <h2 style=\"color:#333333; text-align:center;\">Background</h2>\n",
    "    <p style=\"color:#555555; font-size:16px;\">\n",
    "        Invistico Airlines, a key player in the aviation industry, is dedicated to <strong>enhancing customer satisfaction</strong>. The challenge lies in accurately predicting customer satisfaction from historical flight data. It's crucial to understand the <strong>key drivers of customer satisfaction</strong> to tailor services effectively, which will foster positive experiences and increase loyalty among passengers. As a data analyst consultant, the task is to use <strong>Decision Trees</strong> for preliminary analysis to identify the most important features affecting customer satisfaction. This effort complements the Senior Analyst team's aim of building a robust model that captures the intricacies in the data.\n",
    "    </p>\n",
    "</div>\n",
    "\n",
    "\n",
    "<div style=\"background-color:#f0f0f0; padding:10px; border-radius:5px; margin-top:10px;\">\n",
    "    <h2 style=\"color:#333333; text-align:center;\">Objective</h2>\n",
    "    <p style=\"color:#555555; font-size:16px;\">\n",
    "        The primary objective is to <strong>identify the most impactful features</strong> contributing to customer satisfaction using Decision Trees, aiding the airline in tailoring their services more effectively.\n",
    "    </p>\n",
    "</div>\n",
    "\n",
    "<div style=\"background-color:#f0f0f0; padding:10px; border-radius:5px; margin-top:10px;\">\n",
    "    <h2 style=\"color:#333333; text-align:center;\">Goals</h2>\n",
    "    <ul style=\"color:#555555; font-size:16px;\">\n",
    "        <li>Identify the most important features contributing to customer satisfaction as determined by the model's analysis.</li>\n",
    "        <li>Evaluate the performance of the model using metrics such as <strong>accuracy, precision, recall</strong>, and <strong>F1-score</strong>.</li>\n",
    "    </ul>\n",
    "</div>\n"
   ]
  },
  {
   "cell_type": "markdown",
   "id": "48c7c761",
   "metadata": {},
   "source": [
    "## Technical Report on Predictive Analysis for Customer Satisfaction at Invistico Airlines\n",
    "\n",
    "### Introduction\n",
    "\n",
    "Invistico Airlines has embarked on a data-driven initiative to enhance customer satisfaction through predictive analytics. By leveraging decision tree models, our aim is to identify and prioritize the key features that influence customer satisfaction based on historical flight data. This report outlines the methodology, key findings, and strategic recommendations derived from the model's analysis.\n",
    "\n",
    "### Objectives\n",
    "\n",
    "The objectives of this analysis were:\n",
    "\n",
    "1. To identify the most significant features contributing to customer satisfaction using a decision tree model.\n",
    "2. To evaluate the performance of the model using metrics such as accuracy, precision, recall, and F1-score.\n",
    "\n",
    "### Methodology\n",
    "\n",
    "#### Data Preparation and Model Construction\n",
    "\n",
    "We utilized historical customer data, which included various attributes of flight experiences. The data underwent preprocessing to ensure quality and relevance. A decision tree model was then trained to classify customer satisfaction, focusing on interpretability to ensure actionable insights.\n",
    "\n",
    "#### Model Evaluation\n",
    "\n",
    "The model's performance was assessed on several fronts:\n",
    "\n",
    "- **Accuracy**: The overall correctness of the model in classifying satisfaction, which was found to be over 94%.\n",
    "- **Precision and Recall**: These metrics helped in understanding the model's ability to minimize false positives and false negatives, crucial for resource allocation and customer retention strategies.\n",
    "- **F1-Score**: Balanced metric that considers both precision and recall, providing a more complete picture of the model's performance.\n",
    "\n",
    "### Observations\n",
    "\n",
    "Key observations from the model's analysis included:\n",
    "\n",
    "- The decision tree effectively identified the majority of customer satisfaction statuses correctly, with significant counts of both satisfied (13K+) and unsatisfied (16K+) customers.\n",
    "- The importance of minimizing false negatives (1204 instances) was noted, as misclassifying satisfied customers as unsatisfied could lead to unnecessary resource allocation.\n",
    "- High precision indicates the model's efficiency in minimizing instances where dissatisfied customers are incorrectly classified as satisfied, which is vital to prevent potential customer churn.\n",
    "\n",
    "### Key Findings\n",
    "\n",
    "The decision tree model highlighted several features as being particularly influential in predicting customer satisfaction:\n",
    "\n",
    "- **Inflight Entertainment**\n",
    "- **Seat Comfort**\n",
    "- **Ease of Online Booking**\n",
    "\n",
    "These features were consistently identified as the top predictors of satisfaction, underscoring their importance in the overall customer experience.\n",
    "\n",
    "### Future Steps\n",
    "\n",
    "Given the findings, the following steps are recommended for Invistico Airlines:\n",
    "\n",
    "- **Enhance Key Service Areas**: Focus on improving inflight entertainment, seat comfort, and the ease of online booking, as these areas are strongly correlated with customer satisfaction.\n",
    "- **Continuous Model Improvement**: Further refine the decision tree model by incorporating additional data and exploring advanced modeling techniques to improve accuracy and reduce false negatives.\n",
    "- **Strategic Resource Allocation**: Utilize the insights from the model to better allocate resources towards the most impactful areas, enhancing customer satisfaction efficiently.\n",
    "\n",
    "### Conclusion\n",
    "\n",
    "The decision tree analysis has provided valuable insights into the drivers of customer satisfaction at Invistico Airlines. By continuing to invest in these analytical approaches and focusing on the key areas identified, the airline can significantly enhance customer satisfaction and loyalty.\n",
    "\n"
   ]
  },
  {
   "cell_type": "markdown",
   "id": "d96d8c8a",
   "metadata": {},
   "source": [
    "\n",
    "\n",
    "# Data Dictionary:\n",
    "<img src = 'airlines_data_dict.png' width = '700' height = '700' align = 'center'>"
   ]
  },
  {
   "cell_type": "code",
   "execution_count": 1,
   "id": "1d2369a3",
   "metadata": {},
   "outputs": [],
   "source": [
    "# Imports\n",
    "import pandas as pd\n",
    "import numpy as np\n",
    "import seaborn as sns\n",
    "import matplotlib.pyplot as plt\n",
    "\n",
    "# For Decision Tree\n",
    "from sklearn.model_selection import train_test_split\n",
    "from sklearn.model_selection import GridSearchCV\n",
    "from sklearn.tree import DecisionTreeClassifier\n",
    "from sklearn.tree import plot_tree\n",
    "\n",
    "# For metrics\n",
    "from sklearn.metrics import accuracy_score, precision_score, recall_score, f1_score\n",
    "from sklearn.metrics import confusion_matrix, ConfusionMatrixDisplay\n",
    "\n",
    "import warnings\n",
    "warnings.filterwarnings('ignore')"
   ]
  },
  {
   "cell_type": "markdown",
   "id": "ef7f60f8",
   "metadata": {},
   "source": [
    "# EDA "
   ]
  },
  {
   "cell_type": "code",
   "execution_count": 2,
   "id": "a2ef8fcb",
   "metadata": {},
   "outputs": [
    {
     "data": {
      "text/html": [
       "<div>\n",
       "<style scoped>\n",
       "    .dataframe tbody tr th:only-of-type {\n",
       "        vertical-align: middle;\n",
       "    }\n",
       "\n",
       "    .dataframe tbody tr th {\n",
       "        vertical-align: top;\n",
       "    }\n",
       "\n",
       "    .dataframe thead th {\n",
       "        text-align: right;\n",
       "    }\n",
       "</style>\n",
       "<table border=\"1\" class=\"dataframe\">\n",
       "  <thead>\n",
       "    <tr style=\"text-align: right;\">\n",
       "      <th></th>\n",
       "      <th>satisfaction</th>\n",
       "      <th>Customer Type</th>\n",
       "      <th>Age</th>\n",
       "      <th>Type of Travel</th>\n",
       "      <th>Class</th>\n",
       "      <th>Flight Distance</th>\n",
       "      <th>Seat comfort</th>\n",
       "      <th>Departure/Arrival time convenient</th>\n",
       "      <th>Food and drink</th>\n",
       "      <th>Gate location</th>\n",
       "      <th>...</th>\n",
       "      <th>Online support</th>\n",
       "      <th>Ease of Online booking</th>\n",
       "      <th>On-board service</th>\n",
       "      <th>Leg room service</th>\n",
       "      <th>Baggage handling</th>\n",
       "      <th>Checkin service</th>\n",
       "      <th>Cleanliness</th>\n",
       "      <th>Online boarding</th>\n",
       "      <th>Departure Delay in Minutes</th>\n",
       "      <th>Arrival Delay in Minutes</th>\n",
       "    </tr>\n",
       "  </thead>\n",
       "  <tbody>\n",
       "    <tr>\n",
       "      <th>0</th>\n",
       "      <td>satisfied</td>\n",
       "      <td>Loyal Customer</td>\n",
       "      <td>65</td>\n",
       "      <td>Personal Travel</td>\n",
       "      <td>Eco</td>\n",
       "      <td>265</td>\n",
       "      <td>0</td>\n",
       "      <td>0</td>\n",
       "      <td>0</td>\n",
       "      <td>2</td>\n",
       "      <td>...</td>\n",
       "      <td>2</td>\n",
       "      <td>3</td>\n",
       "      <td>3</td>\n",
       "      <td>0</td>\n",
       "      <td>3</td>\n",
       "      <td>5</td>\n",
       "      <td>3</td>\n",
       "      <td>2</td>\n",
       "      <td>0</td>\n",
       "      <td>0.0</td>\n",
       "    </tr>\n",
       "    <tr>\n",
       "      <th>1</th>\n",
       "      <td>satisfied</td>\n",
       "      <td>Loyal Customer</td>\n",
       "      <td>47</td>\n",
       "      <td>Personal Travel</td>\n",
       "      <td>Business</td>\n",
       "      <td>2464</td>\n",
       "      <td>0</td>\n",
       "      <td>0</td>\n",
       "      <td>0</td>\n",
       "      <td>3</td>\n",
       "      <td>...</td>\n",
       "      <td>2</td>\n",
       "      <td>3</td>\n",
       "      <td>4</td>\n",
       "      <td>4</td>\n",
       "      <td>4</td>\n",
       "      <td>2</td>\n",
       "      <td>3</td>\n",
       "      <td>2</td>\n",
       "      <td>310</td>\n",
       "      <td>305.0</td>\n",
       "    </tr>\n",
       "    <tr>\n",
       "      <th>2</th>\n",
       "      <td>satisfied</td>\n",
       "      <td>Loyal Customer</td>\n",
       "      <td>15</td>\n",
       "      <td>Personal Travel</td>\n",
       "      <td>Eco</td>\n",
       "      <td>2138</td>\n",
       "      <td>0</td>\n",
       "      <td>0</td>\n",
       "      <td>0</td>\n",
       "      <td>3</td>\n",
       "      <td>...</td>\n",
       "      <td>2</td>\n",
       "      <td>2</td>\n",
       "      <td>3</td>\n",
       "      <td>3</td>\n",
       "      <td>4</td>\n",
       "      <td>4</td>\n",
       "      <td>4</td>\n",
       "      <td>2</td>\n",
       "      <td>0</td>\n",
       "      <td>0.0</td>\n",
       "    </tr>\n",
       "    <tr>\n",
       "      <th>3</th>\n",
       "      <td>satisfied</td>\n",
       "      <td>Loyal Customer</td>\n",
       "      <td>60</td>\n",
       "      <td>Personal Travel</td>\n",
       "      <td>Eco</td>\n",
       "      <td>623</td>\n",
       "      <td>0</td>\n",
       "      <td>0</td>\n",
       "      <td>0</td>\n",
       "      <td>3</td>\n",
       "      <td>...</td>\n",
       "      <td>3</td>\n",
       "      <td>1</td>\n",
       "      <td>1</td>\n",
       "      <td>0</td>\n",
       "      <td>1</td>\n",
       "      <td>4</td>\n",
       "      <td>1</td>\n",
       "      <td>3</td>\n",
       "      <td>0</td>\n",
       "      <td>0.0</td>\n",
       "    </tr>\n",
       "    <tr>\n",
       "      <th>4</th>\n",
       "      <td>satisfied</td>\n",
       "      <td>Loyal Customer</td>\n",
       "      <td>70</td>\n",
       "      <td>Personal Travel</td>\n",
       "      <td>Eco</td>\n",
       "      <td>354</td>\n",
       "      <td>0</td>\n",
       "      <td>0</td>\n",
       "      <td>0</td>\n",
       "      <td>3</td>\n",
       "      <td>...</td>\n",
       "      <td>4</td>\n",
       "      <td>2</td>\n",
       "      <td>2</td>\n",
       "      <td>0</td>\n",
       "      <td>2</td>\n",
       "      <td>4</td>\n",
       "      <td>2</td>\n",
       "      <td>5</td>\n",
       "      <td>0</td>\n",
       "      <td>0.0</td>\n",
       "    </tr>\n",
       "  </tbody>\n",
       "</table>\n",
       "<p>5 rows × 22 columns</p>\n",
       "</div>"
      ],
      "text/plain": [
       "  satisfaction   Customer Type  Age   Type of Travel     Class  \\\n",
       "0    satisfied  Loyal Customer   65  Personal Travel       Eco   \n",
       "1    satisfied  Loyal Customer   47  Personal Travel  Business   \n",
       "2    satisfied  Loyal Customer   15  Personal Travel       Eco   \n",
       "3    satisfied  Loyal Customer   60  Personal Travel       Eco   \n",
       "4    satisfied  Loyal Customer   70  Personal Travel       Eco   \n",
       "\n",
       "   Flight Distance  Seat comfort  Departure/Arrival time convenient  \\\n",
       "0              265             0                                  0   \n",
       "1             2464             0                                  0   \n",
       "2             2138             0                                  0   \n",
       "3              623             0                                  0   \n",
       "4              354             0                                  0   \n",
       "\n",
       "   Food and drink  Gate location  ...  Online support  Ease of Online booking  \\\n",
       "0               0              2  ...               2                       3   \n",
       "1               0              3  ...               2                       3   \n",
       "2               0              3  ...               2                       2   \n",
       "3               0              3  ...               3                       1   \n",
       "4               0              3  ...               4                       2   \n",
       "\n",
       "   On-board service  Leg room service  Baggage handling  Checkin service  \\\n",
       "0                 3                 0                 3                5   \n",
       "1                 4                 4                 4                2   \n",
       "2                 3                 3                 4                4   \n",
       "3                 1                 0                 1                4   \n",
       "4                 2                 0                 2                4   \n",
       "\n",
       "   Cleanliness  Online boarding  Departure Delay in Minutes  \\\n",
       "0            3                2                           0   \n",
       "1            3                2                         310   \n",
       "2            4                2                           0   \n",
       "3            1                3                           0   \n",
       "4            2                5                           0   \n",
       "\n",
       "   Arrival Delay in Minutes  \n",
       "0                       0.0  \n",
       "1                     305.0  \n",
       "2                       0.0  \n",
       "3                       0.0  \n",
       "4                       0.0  \n",
       "\n",
       "[5 rows x 22 columns]"
      ]
     },
     "execution_count": 2,
     "metadata": {},
     "output_type": "execute_result"
    }
   ],
   "source": [
    "# Reading the file\n",
    "data = pd.read_csv('Invistico_Airline.csv')\n",
    "\n",
    "data.head()"
   ]
  },
  {
   "cell_type": "code",
   "execution_count": 3,
   "id": "ebc2c97c",
   "metadata": {},
   "outputs": [
    {
     "name": "stdout",
     "output_type": "stream",
     "text": [
      "<class 'pandas.core.frame.DataFrame'>\n",
      "RangeIndex: 129880 entries, 0 to 129879\n",
      "Data columns (total 22 columns):\n",
      " #   Column                             Non-Null Count   Dtype  \n",
      "---  ------                             --------------   -----  \n",
      " 0   satisfaction                       129880 non-null  object \n",
      " 1   Customer Type                      129880 non-null  object \n",
      " 2   Age                                129880 non-null  int64  \n",
      " 3   Type of Travel                     129880 non-null  object \n",
      " 4   Class                              129880 non-null  object \n",
      " 5   Flight Distance                    129880 non-null  int64  \n",
      " 6   Seat comfort                       129880 non-null  int64  \n",
      " 7   Departure/Arrival time convenient  129880 non-null  int64  \n",
      " 8   Food and drink                     129880 non-null  int64  \n",
      " 9   Gate location                      129880 non-null  int64  \n",
      " 10  Inflight wifi service              129880 non-null  int64  \n",
      " 11  Inflight entertainment             129880 non-null  int64  \n",
      " 12  Online support                     129880 non-null  int64  \n",
      " 13  Ease of Online booking             129880 non-null  int64  \n",
      " 14  On-board service                   129880 non-null  int64  \n",
      " 15  Leg room service                   129880 non-null  int64  \n",
      " 16  Baggage handling                   129880 non-null  int64  \n",
      " 17  Checkin service                    129880 non-null  int64  \n",
      " 18  Cleanliness                        129880 non-null  int64  \n",
      " 19  Online boarding                    129880 non-null  int64  \n",
      " 20  Departure Delay in Minutes         129880 non-null  int64  \n",
      " 21  Arrival Delay in Minutes           129487 non-null  float64\n",
      "dtypes: float64(1), int64(17), object(4)\n",
      "memory usage: 21.8+ MB\n"
     ]
    }
   ],
   "source": [
    "data.info()"
   ]
  },
  {
   "cell_type": "markdown",
   "id": "a0c4b71f",
   "metadata": {},
   "source": [
    "**Observation**:\n",
    "- There are null values in `Arrival Delay in minutes`\n",
    "- There are four `object` data type columns that need to be addressed with encoding or feature extraction"
   ]
  },
  {
   "cell_type": "code",
   "execution_count": 4,
   "id": "6764f282",
   "metadata": {},
   "outputs": [
    {
     "data": {
      "text/html": [
       "<div>\n",
       "<style scoped>\n",
       "    .dataframe tbody tr th:only-of-type {\n",
       "        vertical-align: middle;\n",
       "    }\n",
       "\n",
       "    .dataframe tbody tr th {\n",
       "        vertical-align: top;\n",
       "    }\n",
       "\n",
       "    .dataframe thead th {\n",
       "        text-align: right;\n",
       "    }\n",
       "</style>\n",
       "<table border=\"1\" class=\"dataframe\">\n",
       "  <thead>\n",
       "    <tr style=\"text-align: right;\">\n",
       "      <th></th>\n",
       "      <th>satisfaction</th>\n",
       "      <th>Customer Type</th>\n",
       "      <th>Age</th>\n",
       "      <th>Type of Travel</th>\n",
       "      <th>Class</th>\n",
       "      <th>Flight Distance</th>\n",
       "      <th>Seat comfort</th>\n",
       "      <th>Departure/Arrival time convenient</th>\n",
       "      <th>Food and drink</th>\n",
       "      <th>Gate location</th>\n",
       "      <th>...</th>\n",
       "      <th>Online support</th>\n",
       "      <th>Ease of Online booking</th>\n",
       "      <th>On-board service</th>\n",
       "      <th>Leg room service</th>\n",
       "      <th>Baggage handling</th>\n",
       "      <th>Checkin service</th>\n",
       "      <th>Cleanliness</th>\n",
       "      <th>Online boarding</th>\n",
       "      <th>Departure Delay in Minutes</th>\n",
       "      <th>Arrival Delay in Minutes</th>\n",
       "    </tr>\n",
       "  </thead>\n",
       "  <tbody>\n",
       "    <tr>\n",
       "      <th>count</th>\n",
       "      <td>129880</td>\n",
       "      <td>129880</td>\n",
       "      <td>129880.000000</td>\n",
       "      <td>129880</td>\n",
       "      <td>129880</td>\n",
       "      <td>129880.000000</td>\n",
       "      <td>129880.000000</td>\n",
       "      <td>129880.000000</td>\n",
       "      <td>129880.000000</td>\n",
       "      <td>129880.000000</td>\n",
       "      <td>...</td>\n",
       "      <td>129880.000000</td>\n",
       "      <td>129880.000000</td>\n",
       "      <td>129880.000000</td>\n",
       "      <td>129880.000000</td>\n",
       "      <td>129880.000000</td>\n",
       "      <td>129880.000000</td>\n",
       "      <td>129880.000000</td>\n",
       "      <td>129880.000000</td>\n",
       "      <td>129880.000000</td>\n",
       "      <td>129487.000000</td>\n",
       "    </tr>\n",
       "    <tr>\n",
       "      <th>unique</th>\n",
       "      <td>2</td>\n",
       "      <td>2</td>\n",
       "      <td>NaN</td>\n",
       "      <td>2</td>\n",
       "      <td>3</td>\n",
       "      <td>NaN</td>\n",
       "      <td>NaN</td>\n",
       "      <td>NaN</td>\n",
       "      <td>NaN</td>\n",
       "      <td>NaN</td>\n",
       "      <td>...</td>\n",
       "      <td>NaN</td>\n",
       "      <td>NaN</td>\n",
       "      <td>NaN</td>\n",
       "      <td>NaN</td>\n",
       "      <td>NaN</td>\n",
       "      <td>NaN</td>\n",
       "      <td>NaN</td>\n",
       "      <td>NaN</td>\n",
       "      <td>NaN</td>\n",
       "      <td>NaN</td>\n",
       "    </tr>\n",
       "    <tr>\n",
       "      <th>top</th>\n",
       "      <td>satisfied</td>\n",
       "      <td>Loyal Customer</td>\n",
       "      <td>NaN</td>\n",
       "      <td>Business travel</td>\n",
       "      <td>Business</td>\n",
       "      <td>NaN</td>\n",
       "      <td>NaN</td>\n",
       "      <td>NaN</td>\n",
       "      <td>NaN</td>\n",
       "      <td>NaN</td>\n",
       "      <td>...</td>\n",
       "      <td>NaN</td>\n",
       "      <td>NaN</td>\n",
       "      <td>NaN</td>\n",
       "      <td>NaN</td>\n",
       "      <td>NaN</td>\n",
       "      <td>NaN</td>\n",
       "      <td>NaN</td>\n",
       "      <td>NaN</td>\n",
       "      <td>NaN</td>\n",
       "      <td>NaN</td>\n",
       "    </tr>\n",
       "    <tr>\n",
       "      <th>freq</th>\n",
       "      <td>71087</td>\n",
       "      <td>106100</td>\n",
       "      <td>NaN</td>\n",
       "      <td>89693</td>\n",
       "      <td>62160</td>\n",
       "      <td>NaN</td>\n",
       "      <td>NaN</td>\n",
       "      <td>NaN</td>\n",
       "      <td>NaN</td>\n",
       "      <td>NaN</td>\n",
       "      <td>...</td>\n",
       "      <td>NaN</td>\n",
       "      <td>NaN</td>\n",
       "      <td>NaN</td>\n",
       "      <td>NaN</td>\n",
       "      <td>NaN</td>\n",
       "      <td>NaN</td>\n",
       "      <td>NaN</td>\n",
       "      <td>NaN</td>\n",
       "      <td>NaN</td>\n",
       "      <td>NaN</td>\n",
       "    </tr>\n",
       "    <tr>\n",
       "      <th>mean</th>\n",
       "      <td>NaN</td>\n",
       "      <td>NaN</td>\n",
       "      <td>39.427957</td>\n",
       "      <td>NaN</td>\n",
       "      <td>NaN</td>\n",
       "      <td>1981.409055</td>\n",
       "      <td>2.838597</td>\n",
       "      <td>2.990645</td>\n",
       "      <td>2.851994</td>\n",
       "      <td>2.990422</td>\n",
       "      <td>...</td>\n",
       "      <td>3.519703</td>\n",
       "      <td>3.472105</td>\n",
       "      <td>3.465075</td>\n",
       "      <td>3.485902</td>\n",
       "      <td>3.695673</td>\n",
       "      <td>3.340807</td>\n",
       "      <td>3.705759</td>\n",
       "      <td>3.352587</td>\n",
       "      <td>14.713713</td>\n",
       "      <td>15.091129</td>\n",
       "    </tr>\n",
       "    <tr>\n",
       "      <th>std</th>\n",
       "      <td>NaN</td>\n",
       "      <td>NaN</td>\n",
       "      <td>15.119360</td>\n",
       "      <td>NaN</td>\n",
       "      <td>NaN</td>\n",
       "      <td>1027.115606</td>\n",
       "      <td>1.392983</td>\n",
       "      <td>1.527224</td>\n",
       "      <td>1.443729</td>\n",
       "      <td>1.305970</td>\n",
       "      <td>...</td>\n",
       "      <td>1.306511</td>\n",
       "      <td>1.305560</td>\n",
       "      <td>1.270836</td>\n",
       "      <td>1.292226</td>\n",
       "      <td>1.156483</td>\n",
       "      <td>1.260582</td>\n",
       "      <td>1.151774</td>\n",
       "      <td>1.298715</td>\n",
       "      <td>38.071126</td>\n",
       "      <td>38.465650</td>\n",
       "    </tr>\n",
       "    <tr>\n",
       "      <th>min</th>\n",
       "      <td>NaN</td>\n",
       "      <td>NaN</td>\n",
       "      <td>7.000000</td>\n",
       "      <td>NaN</td>\n",
       "      <td>NaN</td>\n",
       "      <td>50.000000</td>\n",
       "      <td>0.000000</td>\n",
       "      <td>0.000000</td>\n",
       "      <td>0.000000</td>\n",
       "      <td>0.000000</td>\n",
       "      <td>...</td>\n",
       "      <td>0.000000</td>\n",
       "      <td>0.000000</td>\n",
       "      <td>0.000000</td>\n",
       "      <td>0.000000</td>\n",
       "      <td>1.000000</td>\n",
       "      <td>0.000000</td>\n",
       "      <td>0.000000</td>\n",
       "      <td>0.000000</td>\n",
       "      <td>0.000000</td>\n",
       "      <td>0.000000</td>\n",
       "    </tr>\n",
       "    <tr>\n",
       "      <th>25%</th>\n",
       "      <td>NaN</td>\n",
       "      <td>NaN</td>\n",
       "      <td>27.000000</td>\n",
       "      <td>NaN</td>\n",
       "      <td>NaN</td>\n",
       "      <td>1359.000000</td>\n",
       "      <td>2.000000</td>\n",
       "      <td>2.000000</td>\n",
       "      <td>2.000000</td>\n",
       "      <td>2.000000</td>\n",
       "      <td>...</td>\n",
       "      <td>3.000000</td>\n",
       "      <td>2.000000</td>\n",
       "      <td>3.000000</td>\n",
       "      <td>2.000000</td>\n",
       "      <td>3.000000</td>\n",
       "      <td>3.000000</td>\n",
       "      <td>3.000000</td>\n",
       "      <td>2.000000</td>\n",
       "      <td>0.000000</td>\n",
       "      <td>0.000000</td>\n",
       "    </tr>\n",
       "    <tr>\n",
       "      <th>50%</th>\n",
       "      <td>NaN</td>\n",
       "      <td>NaN</td>\n",
       "      <td>40.000000</td>\n",
       "      <td>NaN</td>\n",
       "      <td>NaN</td>\n",
       "      <td>1925.000000</td>\n",
       "      <td>3.000000</td>\n",
       "      <td>3.000000</td>\n",
       "      <td>3.000000</td>\n",
       "      <td>3.000000</td>\n",
       "      <td>...</td>\n",
       "      <td>4.000000</td>\n",
       "      <td>4.000000</td>\n",
       "      <td>4.000000</td>\n",
       "      <td>4.000000</td>\n",
       "      <td>4.000000</td>\n",
       "      <td>3.000000</td>\n",
       "      <td>4.000000</td>\n",
       "      <td>4.000000</td>\n",
       "      <td>0.000000</td>\n",
       "      <td>0.000000</td>\n",
       "    </tr>\n",
       "    <tr>\n",
       "      <th>75%</th>\n",
       "      <td>NaN</td>\n",
       "      <td>NaN</td>\n",
       "      <td>51.000000</td>\n",
       "      <td>NaN</td>\n",
       "      <td>NaN</td>\n",
       "      <td>2544.000000</td>\n",
       "      <td>4.000000</td>\n",
       "      <td>4.000000</td>\n",
       "      <td>4.000000</td>\n",
       "      <td>4.000000</td>\n",
       "      <td>...</td>\n",
       "      <td>5.000000</td>\n",
       "      <td>5.000000</td>\n",
       "      <td>4.000000</td>\n",
       "      <td>5.000000</td>\n",
       "      <td>5.000000</td>\n",
       "      <td>4.000000</td>\n",
       "      <td>5.000000</td>\n",
       "      <td>4.000000</td>\n",
       "      <td>12.000000</td>\n",
       "      <td>13.000000</td>\n",
       "    </tr>\n",
       "    <tr>\n",
       "      <th>max</th>\n",
       "      <td>NaN</td>\n",
       "      <td>NaN</td>\n",
       "      <td>85.000000</td>\n",
       "      <td>NaN</td>\n",
       "      <td>NaN</td>\n",
       "      <td>6951.000000</td>\n",
       "      <td>5.000000</td>\n",
       "      <td>5.000000</td>\n",
       "      <td>5.000000</td>\n",
       "      <td>5.000000</td>\n",
       "      <td>...</td>\n",
       "      <td>5.000000</td>\n",
       "      <td>5.000000</td>\n",
       "      <td>5.000000</td>\n",
       "      <td>5.000000</td>\n",
       "      <td>5.000000</td>\n",
       "      <td>5.000000</td>\n",
       "      <td>5.000000</td>\n",
       "      <td>5.000000</td>\n",
       "      <td>1592.000000</td>\n",
       "      <td>1584.000000</td>\n",
       "    </tr>\n",
       "  </tbody>\n",
       "</table>\n",
       "<p>11 rows × 22 columns</p>\n",
       "</div>"
      ],
      "text/plain": [
       "       satisfaction   Customer Type            Age   Type of Travel     Class  \\\n",
       "count        129880          129880  129880.000000           129880    129880   \n",
       "unique            2               2            NaN                2         3   \n",
       "top       satisfied  Loyal Customer            NaN  Business travel  Business   \n",
       "freq          71087          106100            NaN            89693     62160   \n",
       "mean            NaN             NaN      39.427957              NaN       NaN   \n",
       "std             NaN             NaN      15.119360              NaN       NaN   \n",
       "min             NaN             NaN       7.000000              NaN       NaN   \n",
       "25%             NaN             NaN      27.000000              NaN       NaN   \n",
       "50%             NaN             NaN      40.000000              NaN       NaN   \n",
       "75%             NaN             NaN      51.000000              NaN       NaN   \n",
       "max             NaN             NaN      85.000000              NaN       NaN   \n",
       "\n",
       "        Flight Distance   Seat comfort  Departure/Arrival time convenient  \\\n",
       "count     129880.000000  129880.000000                      129880.000000   \n",
       "unique              NaN            NaN                                NaN   \n",
       "top                 NaN            NaN                                NaN   \n",
       "freq                NaN            NaN                                NaN   \n",
       "mean        1981.409055       2.838597                           2.990645   \n",
       "std         1027.115606       1.392983                           1.527224   \n",
       "min           50.000000       0.000000                           0.000000   \n",
       "25%         1359.000000       2.000000                           2.000000   \n",
       "50%         1925.000000       3.000000                           3.000000   \n",
       "75%         2544.000000       4.000000                           4.000000   \n",
       "max         6951.000000       5.000000                           5.000000   \n",
       "\n",
       "        Food and drink  Gate location  ...  Online support  \\\n",
       "count    129880.000000  129880.000000  ...   129880.000000   \n",
       "unique             NaN            NaN  ...             NaN   \n",
       "top                NaN            NaN  ...             NaN   \n",
       "freq               NaN            NaN  ...             NaN   \n",
       "mean          2.851994       2.990422  ...        3.519703   \n",
       "std           1.443729       1.305970  ...        1.306511   \n",
       "min           0.000000       0.000000  ...        0.000000   \n",
       "25%           2.000000       2.000000  ...        3.000000   \n",
       "50%           3.000000       3.000000  ...        4.000000   \n",
       "75%           4.000000       4.000000  ...        5.000000   \n",
       "max           5.000000       5.000000  ...        5.000000   \n",
       "\n",
       "        Ease of Online booking  On-board service  Leg room service  \\\n",
       "count            129880.000000     129880.000000     129880.000000   \n",
       "unique                     NaN               NaN               NaN   \n",
       "top                        NaN               NaN               NaN   \n",
       "freq                       NaN               NaN               NaN   \n",
       "mean                  3.472105          3.465075          3.485902   \n",
       "std                   1.305560          1.270836          1.292226   \n",
       "min                   0.000000          0.000000          0.000000   \n",
       "25%                   2.000000          3.000000          2.000000   \n",
       "50%                   4.000000          4.000000          4.000000   \n",
       "75%                   5.000000          4.000000          5.000000   \n",
       "max                   5.000000          5.000000          5.000000   \n",
       "\n",
       "        Baggage handling  Checkin service    Cleanliness  Online boarding  \\\n",
       "count      129880.000000    129880.000000  129880.000000    129880.000000   \n",
       "unique               NaN              NaN            NaN              NaN   \n",
       "top                  NaN              NaN            NaN              NaN   \n",
       "freq                 NaN              NaN            NaN              NaN   \n",
       "mean            3.695673         3.340807       3.705759         3.352587   \n",
       "std             1.156483         1.260582       1.151774         1.298715   \n",
       "min             1.000000         0.000000       0.000000         0.000000   \n",
       "25%             3.000000         3.000000       3.000000         2.000000   \n",
       "50%             4.000000         3.000000       4.000000         4.000000   \n",
       "75%             5.000000         4.000000       5.000000         4.000000   \n",
       "max             5.000000         5.000000       5.000000         5.000000   \n",
       "\n",
       "        Departure Delay in Minutes  Arrival Delay in Minutes  \n",
       "count                129880.000000             129487.000000  \n",
       "unique                         NaN                       NaN  \n",
       "top                            NaN                       NaN  \n",
       "freq                           NaN                       NaN  \n",
       "mean                     14.713713                 15.091129  \n",
       "std                      38.071126                 38.465650  \n",
       "min                       0.000000                  0.000000  \n",
       "25%                       0.000000                  0.000000  \n",
       "50%                       0.000000                  0.000000  \n",
       "75%                      12.000000                 13.000000  \n",
       "max                    1592.000000               1584.000000  \n",
       "\n",
       "[11 rows x 22 columns]"
      ]
     },
     "execution_count": 4,
     "metadata": {},
     "output_type": "execute_result"
    }
   ],
   "source": [
    "# Descriptive Stats\n",
    "data.describe(include = 'all')"
   ]
  },
  {
   "cell_type": "code",
   "execution_count": 5,
   "id": "419d81af",
   "metadata": {},
   "outputs": [
    {
     "data": {
      "text/plain": [
       "(129880, 22)"
      ]
     },
     "execution_count": 5,
     "metadata": {},
     "output_type": "execute_result"
    }
   ],
   "source": [
    "# Check rows and colums:\n",
    "data.shape"
   ]
  },
  {
   "cell_type": "code",
   "execution_count": 6,
   "id": "cc905680",
   "metadata": {},
   "outputs": [
    {
     "name": "stdout",
     "output_type": "stream",
     "text": [
      "satisfaction : ['satisfied' 'dissatisfied']\n",
      "\n",
      "Customer Type : ['Loyal Customer' 'disloyal Customer']\n",
      "\n",
      "Type of Travel : ['Personal Travel' 'Business travel']\n",
      "\n",
      "Class : ['Eco' 'Business' 'Eco Plus']\n",
      "\n"
     ]
    }
   ],
   "source": [
    "# Unique values in the object columns\n",
    "cols = ['satisfaction', 'Customer Type', 'Type of Travel', 'Class']\n",
    "\n",
    "for col in cols:\n",
    "    print(col,':', data[col].unique())\n",
    "    print('')"
   ]
  },
  {
   "cell_type": "code",
   "execution_count": 7,
   "id": "1eee07b4",
   "metadata": {},
   "outputs": [
    {
     "name": "stdout",
     "output_type": "stream",
     "text": [
      "satisfaction :\n",
      " satisfied       54.73283\n",
      "dissatisfied    45.26717\n",
      "Name: satisfaction, dtype: float64\n",
      "\n",
      "Customer Type :\n",
      " Loyal Customer       81.690791\n",
      "disloyal Customer    18.309209\n",
      "Name: Customer Type, dtype: float64\n",
      "\n",
      "Type of Travel :\n",
      " Business travel    69.058362\n",
      "Personal Travel    30.941638\n",
      "Name: Type of Travel, dtype: float64\n",
      "\n",
      "Class :\n",
      " Business    47.859563\n",
      "Eco         44.894518\n",
      "Eco Plus     7.245919\n",
      "Name: Class, dtype: float64\n",
      "\n"
     ]
    }
   ],
   "source": [
    "# Unique values in the object columns\n",
    "cols = ['satisfaction', 'Customer Type', 'Type of Travel', 'Class']\n",
    "\n",
    "for col in cols:\n",
    "    print(col,':\\n',data[col].value_counts(normalize = True)*100)\n",
    "    print('')"
   ]
  },
  {
   "cell_type": "markdown",
   "id": "7ca3fbb6",
   "metadata": {},
   "source": [
    "**Observations**: We are only concerened with the *'satisfaction'* feature\n",
    "- The target feature, `satisfaction` has 54% cusomters labeled as satisfied and 45% labeled as dissatisfied"
   ]
  },
  {
   "cell_type": "code",
   "execution_count": 8,
   "id": "e273b8c1",
   "metadata": {},
   "outputs": [
    {
     "data": {
      "text/html": [
       "<div>\n",
       "<style scoped>\n",
       "    .dataframe tbody tr th:only-of-type {\n",
       "        vertical-align: middle;\n",
       "    }\n",
       "\n",
       "    .dataframe tbody tr th {\n",
       "        vertical-align: top;\n",
       "    }\n",
       "\n",
       "    .dataframe thead th {\n",
       "        text-align: right;\n",
       "    }\n",
       "</style>\n",
       "<table border=\"1\" class=\"dataframe\">\n",
       "  <thead>\n",
       "    <tr style=\"text-align: right;\">\n",
       "      <th></th>\n",
       "      <th>perecntage_nulls</th>\n",
       "      <th>total_nulls</th>\n",
       "    </tr>\n",
       "  </thead>\n",
       "  <tbody>\n",
       "    <tr>\n",
       "      <th>satisfaction</th>\n",
       "      <td>0.000000</td>\n",
       "      <td>0</td>\n",
       "    </tr>\n",
       "    <tr>\n",
       "      <th>Customer Type</th>\n",
       "      <td>0.000000</td>\n",
       "      <td>0</td>\n",
       "    </tr>\n",
       "    <tr>\n",
       "      <th>Age</th>\n",
       "      <td>0.000000</td>\n",
       "      <td>0</td>\n",
       "    </tr>\n",
       "    <tr>\n",
       "      <th>Type of Travel</th>\n",
       "      <td>0.000000</td>\n",
       "      <td>0</td>\n",
       "    </tr>\n",
       "    <tr>\n",
       "      <th>Class</th>\n",
       "      <td>0.000000</td>\n",
       "      <td>0</td>\n",
       "    </tr>\n",
       "    <tr>\n",
       "      <th>Flight Distance</th>\n",
       "      <td>0.000000</td>\n",
       "      <td>0</td>\n",
       "    </tr>\n",
       "    <tr>\n",
       "      <th>Seat comfort</th>\n",
       "      <td>0.000000</td>\n",
       "      <td>0</td>\n",
       "    </tr>\n",
       "    <tr>\n",
       "      <th>Departure/Arrival time convenient</th>\n",
       "      <td>0.000000</td>\n",
       "      <td>0</td>\n",
       "    </tr>\n",
       "    <tr>\n",
       "      <th>Food and drink</th>\n",
       "      <td>0.000000</td>\n",
       "      <td>0</td>\n",
       "    </tr>\n",
       "    <tr>\n",
       "      <th>Gate location</th>\n",
       "      <td>0.000000</td>\n",
       "      <td>0</td>\n",
       "    </tr>\n",
       "    <tr>\n",
       "      <th>Inflight wifi service</th>\n",
       "      <td>0.000000</td>\n",
       "      <td>0</td>\n",
       "    </tr>\n",
       "    <tr>\n",
       "      <th>Inflight entertainment</th>\n",
       "      <td>0.000000</td>\n",
       "      <td>0</td>\n",
       "    </tr>\n",
       "    <tr>\n",
       "      <th>Online support</th>\n",
       "      <td>0.000000</td>\n",
       "      <td>0</td>\n",
       "    </tr>\n",
       "    <tr>\n",
       "      <th>Ease of Online booking</th>\n",
       "      <td>0.000000</td>\n",
       "      <td>0</td>\n",
       "    </tr>\n",
       "    <tr>\n",
       "      <th>On-board service</th>\n",
       "      <td>0.000000</td>\n",
       "      <td>0</td>\n",
       "    </tr>\n",
       "    <tr>\n",
       "      <th>Leg room service</th>\n",
       "      <td>0.000000</td>\n",
       "      <td>0</td>\n",
       "    </tr>\n",
       "    <tr>\n",
       "      <th>Baggage handling</th>\n",
       "      <td>0.000000</td>\n",
       "      <td>0</td>\n",
       "    </tr>\n",
       "    <tr>\n",
       "      <th>Checkin service</th>\n",
       "      <td>0.000000</td>\n",
       "      <td>0</td>\n",
       "    </tr>\n",
       "    <tr>\n",
       "      <th>Cleanliness</th>\n",
       "      <td>0.000000</td>\n",
       "      <td>0</td>\n",
       "    </tr>\n",
       "    <tr>\n",
       "      <th>Online boarding</th>\n",
       "      <td>0.000000</td>\n",
       "      <td>0</td>\n",
       "    </tr>\n",
       "    <tr>\n",
       "      <th>Departure Delay in Minutes</th>\n",
       "      <td>0.000000</td>\n",
       "      <td>0</td>\n",
       "    </tr>\n",
       "    <tr>\n",
       "      <th>Arrival Delay in Minutes</th>\n",
       "      <td>0.302587</td>\n",
       "      <td>393</td>\n",
       "    </tr>\n",
       "  </tbody>\n",
       "</table>\n",
       "</div>"
      ],
      "text/plain": [
       "                                   perecntage_nulls  total_nulls\n",
       "satisfaction                               0.000000            0\n",
       "Customer Type                              0.000000            0\n",
       "Age                                        0.000000            0\n",
       "Type of Travel                             0.000000            0\n",
       "Class                                      0.000000            0\n",
       "Flight Distance                            0.000000            0\n",
       "Seat comfort                               0.000000            0\n",
       "Departure/Arrival time convenient          0.000000            0\n",
       "Food and drink                             0.000000            0\n",
       "Gate location                              0.000000            0\n",
       "Inflight wifi service                      0.000000            0\n",
       "Inflight entertainment                     0.000000            0\n",
       "Online support                             0.000000            0\n",
       "Ease of Online booking                     0.000000            0\n",
       "On-board service                           0.000000            0\n",
       "Leg room service                           0.000000            0\n",
       "Baggage handling                           0.000000            0\n",
       "Checkin service                            0.000000            0\n",
       "Cleanliness                                0.000000            0\n",
       "Online boarding                            0.000000            0\n",
       "Departure Delay in Minutes                 0.000000            0\n",
       "Arrival Delay in Minutes                   0.302587          393"
      ]
     },
     "execution_count": 8,
     "metadata": {},
     "output_type": "execute_result"
    }
   ],
   "source": [
    "# Check for nulls:\n",
    "# Dataframe for Nulls and their percentage in column \n",
    "nulls = pd.DataFrame(data.isnull().sum()/data.shape[0]*100, columns = ['perecntage_nulls'])\n",
    "nulls['total_nulls'] = data.isnull().sum()\n",
    "nulls"
   ]
  },
  {
   "cell_type": "markdown",
   "id": "9f4baddd",
   "metadata": {},
   "source": [
    "**Observation**:\n",
    "- Since we have `0.3%` null values, we will simply drop them as the population size is over 100K.\n",
    "- Since the number of nulls are negligible, this wont have any effect on our target feature distribution."
   ]
  },
  {
   "cell_type": "code",
   "execution_count": 9,
   "id": "b98ef8ff",
   "metadata": {},
   "outputs": [],
   "source": [
    "# Drop the nulls\n",
    "df_subset = data.dropna(axis=0).reset_index(drop = True)"
   ]
  },
  {
   "cell_type": "code",
   "execution_count": 10,
   "id": "1e9251f9",
   "metadata": {},
   "outputs": [
    {
     "data": {
      "text/plain": [
       "satisfaction                         0\n",
       "Customer Type                        0\n",
       "Age                                  0\n",
       "Type of Travel                       0\n",
       "Class                                0\n",
       "Flight Distance                      0\n",
       "Seat comfort                         0\n",
       "Departure/Arrival time convenient    0\n",
       "Food and drink                       0\n",
       "Gate location                        0\n",
       "Inflight wifi service                0\n",
       "Inflight entertainment               0\n",
       "Online support                       0\n",
       "Ease of Online booking               0\n",
       "On-board service                     0\n",
       "Leg room service                     0\n",
       "Baggage handling                     0\n",
       "Checkin service                      0\n",
       "Cleanliness                          0\n",
       "Online boarding                      0\n",
       "Departure Delay in Minutes           0\n",
       "Arrival Delay in Minutes             0\n",
       "dtype: int64"
      ]
     },
     "execution_count": 10,
     "metadata": {},
     "output_type": "execute_result"
    }
   ],
   "source": [
    "# Varifying dropped nulls\n",
    "df_subset.isnull().sum()"
   ]
  },
  {
   "cell_type": "code",
   "execution_count": 11,
   "id": "cb053651",
   "metadata": {},
   "outputs": [
    {
     "name": "stdout",
     "output_type": "stream",
     "text": [
      "<class 'pandas.core.frame.DataFrame'>\n",
      "RangeIndex: 129487 entries, 0 to 129486\n",
      "Data columns (total 22 columns):\n",
      " #   Column                             Non-Null Count   Dtype  \n",
      "---  ------                             --------------   -----  \n",
      " 0   satisfaction                       129487 non-null  object \n",
      " 1   Customer Type                      129487 non-null  object \n",
      " 2   Age                                129487 non-null  int64  \n",
      " 3   Type of Travel                     129487 non-null  object \n",
      " 4   Class                              129487 non-null  object \n",
      " 5   Flight Distance                    129487 non-null  int64  \n",
      " 6   Seat comfort                       129487 non-null  int64  \n",
      " 7   Departure/Arrival time convenient  129487 non-null  int64  \n",
      " 8   Food and drink                     129487 non-null  int64  \n",
      " 9   Gate location                      129487 non-null  int64  \n",
      " 10  Inflight wifi service              129487 non-null  int64  \n",
      " 11  Inflight entertainment             129487 non-null  int64  \n",
      " 12  Online support                     129487 non-null  int64  \n",
      " 13  Ease of Online booking             129487 non-null  int64  \n",
      " 14  On-board service                   129487 non-null  int64  \n",
      " 15  Leg room service                   129487 non-null  int64  \n",
      " 16  Baggage handling                   129487 non-null  int64  \n",
      " 17  Checkin service                    129487 non-null  int64  \n",
      " 18  Cleanliness                        129487 non-null  int64  \n",
      " 19  Online boarding                    129487 non-null  int64  \n",
      " 20  Departure Delay in Minutes         129487 non-null  int64  \n",
      " 21  Arrival Delay in Minutes           129487 non-null  float64\n",
      "dtypes: float64(1), int64(17), object(4)\n",
      "memory usage: 21.7+ MB\n"
     ]
    }
   ],
   "source": [
    "df_subset.info()"
   ]
  },
  {
   "cell_type": "markdown",
   "id": "75192409",
   "metadata": {},
   "source": [
    "**Note:**\n",
    "> Decision trees are generally robust to outliers, meaning they can handle data with outliers without significant degradation in performance. Decision trees make splits in the data based on thresholds for features, and outliers may simply result in additional splits rather than negatively impacting the overall performance of the tree.\n",
    "- Hence we will proceed with encoding our categorical variables.\n",
    "- We will map the `Class` and `Satisfaction` features to manual numeric values\n",
    "- We will use `get dummies()` methodology to encode the rest of our categorical features."
   ]
  },
  {
   "cell_type": "markdown",
   "id": "92062842",
   "metadata": {},
   "source": [
    "## Encoding categorical features:"
   ]
  },
  {
   "cell_type": "code",
   "execution_count": 12,
   "id": "a0e381a2",
   "metadata": {},
   "outputs": [],
   "source": [
    "# Encoding 'class' feature\n",
    "df_subset['Class'] = df_subset['Class'].map({'Business': 3, \"Eco Plus\": 2, \"Eco\": 1 })\n",
    "\n",
    "# Encoding satisfaction feature:\n",
    "df_subset['satisfaction'] = df_subset['satisfaction'].map({'satisfied': 1, 'dissatisfied': 0})\n"
   ]
  },
  {
   "cell_type": "code",
   "execution_count": 13,
   "id": "36db0799",
   "metadata": {},
   "outputs": [
    {
     "name": "stdout",
     "output_type": "stream",
     "text": [
      "<class 'pandas.core.frame.DataFrame'>\n",
      "RangeIndex: 129487 entries, 0 to 129486\n",
      "Data columns (total 22 columns):\n",
      " #   Column                             Non-Null Count   Dtype  \n",
      "---  ------                             --------------   -----  \n",
      " 0   satisfaction                       129487 non-null  int64  \n",
      " 1   Customer Type                      129487 non-null  object \n",
      " 2   Age                                129487 non-null  int64  \n",
      " 3   Type of Travel                     129487 non-null  object \n",
      " 4   Class                              129487 non-null  int64  \n",
      " 5   Flight Distance                    129487 non-null  int64  \n",
      " 6   Seat comfort                       129487 non-null  int64  \n",
      " 7   Departure/Arrival time convenient  129487 non-null  int64  \n",
      " 8   Food and drink                     129487 non-null  int64  \n",
      " 9   Gate location                      129487 non-null  int64  \n",
      " 10  Inflight wifi service              129487 non-null  int64  \n",
      " 11  Inflight entertainment             129487 non-null  int64  \n",
      " 12  Online support                     129487 non-null  int64  \n",
      " 13  Ease of Online booking             129487 non-null  int64  \n",
      " 14  On-board service                   129487 non-null  int64  \n",
      " 15  Leg room service                   129487 non-null  int64  \n",
      " 16  Baggage handling                   129487 non-null  int64  \n",
      " 17  Checkin service                    129487 non-null  int64  \n",
      " 18  Cleanliness                        129487 non-null  int64  \n",
      " 19  Online boarding                    129487 non-null  int64  \n",
      " 20  Departure Delay in Minutes         129487 non-null  int64  \n",
      " 21  Arrival Delay in Minutes           129487 non-null  float64\n",
      "dtypes: float64(1), int64(19), object(2)\n",
      "memory usage: 21.7+ MB\n"
     ]
    }
   ],
   "source": [
    "df_subset.info()"
   ]
  },
  {
   "cell_type": "code",
   "execution_count": 14,
   "id": "99236f94",
   "metadata": {},
   "outputs": [
    {
     "name": "stdout",
     "output_type": "stream",
     "text": [
      "<class 'pandas.core.frame.DataFrame'>\n",
      "RangeIndex: 129487 entries, 0 to 129486\n",
      "Data columns (total 22 columns):\n",
      " #   Column                             Non-Null Count   Dtype  \n",
      "---  ------                             --------------   -----  \n",
      " 0   satisfaction                       129487 non-null  int64  \n",
      " 1   Age                                129487 non-null  int64  \n",
      " 2   Class                              129487 non-null  int64  \n",
      " 3   Flight Distance                    129487 non-null  int64  \n",
      " 4   Seat comfort                       129487 non-null  int64  \n",
      " 5   Departure/Arrival time convenient  129487 non-null  int64  \n",
      " 6   Food and drink                     129487 non-null  int64  \n",
      " 7   Gate location                      129487 non-null  int64  \n",
      " 8   Inflight wifi service              129487 non-null  int64  \n",
      " 9   Inflight entertainment             129487 non-null  int64  \n",
      " 10  Online support                     129487 non-null  int64  \n",
      " 11  Ease of Online booking             129487 non-null  int64  \n",
      " 12  On-board service                   129487 non-null  int64  \n",
      " 13  Leg room service                   129487 non-null  int64  \n",
      " 14  Baggage handling                   129487 non-null  int64  \n",
      " 15  Checkin service                    129487 non-null  int64  \n",
      " 16  Cleanliness                        129487 non-null  int64  \n",
      " 17  Online boarding                    129487 non-null  int64  \n",
      " 18  Departure Delay in Minutes         129487 non-null  int64  \n",
      " 19  Arrival Delay in Minutes           129487 non-null  float64\n",
      " 20  Customer Type_disloyal Customer    129487 non-null  uint8  \n",
      " 21  Type of Travel_Personal Travel     129487 non-null  uint8  \n",
      "dtypes: float64(1), int64(19), uint8(2)\n",
      "memory usage: 20.0 MB\n"
     ]
    }
   ],
   "source": [
    "# Encoding the rest of our features:\n",
    "df_subset = pd.get_dummies(df_subset, drop_first=True)\n",
    "\n",
    "df_subset.info()"
   ]
  },
  {
   "cell_type": "markdown",
   "id": "297a5bc5",
   "metadata": {},
   "source": [
    "**Obseravtions**:\n",
    "- We have all our features in the appropiate format to proceed with deploying our Decision Tree for learning."
   ]
  },
  {
   "cell_type": "markdown",
   "id": "bb08205e",
   "metadata": {},
   "source": [
    "## Building a Baseline Decision Tree:"
   ]
  },
  {
   "cell_type": "code",
   "execution_count": 15,
   "id": "4b44a1ac",
   "metadata": {},
   "outputs": [
    {
     "name": "stdout",
     "output_type": "stream",
     "text": [
      "CPU times: user 459 ms, sys: 11.5 ms, total: 471 ms\n",
      "Wall time: 478 ms\n"
     ]
    },
    {
     "data": {
      "text/plain": [
       "DecisionTreeClassifier(random_state=42)"
      ]
     },
     "execution_count": 15,
     "metadata": {},
     "output_type": "execute_result"
    }
   ],
   "source": [
    "%%time\n",
    "# Data split\n",
    "y = df_subset['satisfaction']\n",
    "X = df_subset.copy()\n",
    "\n",
    "X = X.drop('satisfaction', axis = 1)\n",
    "\n",
    "# Train/test split\n",
    "X_train, X_test, y_train, y_test = train_test_split(X, y, test_size=0.25, random_state=0)\n",
    "\n",
    "# Initialise the model\n",
    "decision_tree = DecisionTreeClassifier(random_state=42)\n",
    "\n",
    "# Fit the model\n",
    "decision_tree.fit(X_train, y_train)"
   ]
  },
  {
   "cell_type": "code",
   "execution_count": 16,
   "id": "c7a23c87",
   "metadata": {},
   "outputs": [],
   "source": [
    "# Make prediction on X_test\n",
    "y_pred_baseline = decision_tree.predict(X_test)"
   ]
  },
  {
   "cell_type": "code",
   "execution_count": 17,
   "id": "aae4aa01",
   "metadata": {},
   "outputs": [
    {
     "name": "stdout",
     "output_type": "stream",
     "text": [
      "Decision Tree\n",
      "Accuracy: 0.935160\n",
      "Precision: 0.941928\n",
      "Recall: 0.939538\n",
      "F1 Score: 0.940731\n"
     ]
    }
   ],
   "source": [
    "# Evaluation Metrics\n",
    "\n",
    "print(\"Decision Tree\")\n",
    "print(\"Accuracy:\", \"%.6f\" % accuracy_score(y_test, y_pred_baseline))\n",
    "print(\"Precision:\", \"%.6f\" % precision_score(y_test, y_pred_baseline))\n",
    "print(\"Recall:\", \"%.6f\" % recall_score(y_test, y_pred_baseline))\n",
    "print(\"F1 Score:\", \"%.6f\" % f1_score(y_test, y_pred_baseline))"
   ]
  },
  {
   "cell_type": "code",
   "execution_count": 18,
   "id": "237b4e14",
   "metadata": {},
   "outputs": [
    {
     "data": {
      "text/html": [
       "<div>\n",
       "<style scoped>\n",
       "    .dataframe tbody tr th:only-of-type {\n",
       "        vertical-align: middle;\n",
       "    }\n",
       "\n",
       "    .dataframe tbody tr th {\n",
       "        vertical-align: top;\n",
       "    }\n",
       "\n",
       "    .dataframe thead th {\n",
       "        text-align: right;\n",
       "    }\n",
       "</style>\n",
       "<table border=\"1\" class=\"dataframe\">\n",
       "  <thead>\n",
       "    <tr style=\"text-align: right;\">\n",
       "      <th></th>\n",
       "      <th>Model</th>\n",
       "      <th>Accuracy</th>\n",
       "      <th>Precision</th>\n",
       "      <th>Recall</th>\n",
       "      <th>F1 Score</th>\n",
       "    </tr>\n",
       "  </thead>\n",
       "  <tbody>\n",
       "    <tr>\n",
       "      <th>0</th>\n",
       "      <td>Baseline Decision Tree</td>\n",
       "      <td>0.93516</td>\n",
       "      <td>0.941928</td>\n",
       "      <td>0.939538</td>\n",
       "      <td>0.940731</td>\n",
       "    </tr>\n",
       "  </tbody>\n",
       "</table>\n",
       "</div>"
      ],
      "text/plain": [
       "                    Model  Accuracy  Precision    Recall  F1 Score\n",
       "0  Baseline Decision Tree   0.93516   0.941928  0.939538  0.940731"
      ]
     },
     "execution_count": 18,
     "metadata": {},
     "output_type": "execute_result"
    }
   ],
   "source": [
    "# Create a table with these metrics\n",
    "model_name = 'Baseline Decision Tree'\n",
    "accuracy = accuracy_score(y_test, y_pred_baseline)\n",
    "precision = precision_score(y_test, y_pred_baseline)\n",
    "recall = recall_score(y_test, y_pred_baseline)\n",
    "f1 = f1_score(y_test, y_pred_baseline)\n",
    "\n",
    "metrics_df = pd.DataFrame({\n",
    "    'Model': [model_name],\n",
    "    'Accuracy': [accuracy],\n",
    "    'Precision': [precision],\n",
    "    'Recall': [recall],\n",
    "    'F1 Score': [f1]\n",
    "})\n",
    "\n",
    "metrics_df"
   ]
  },
  {
   "cell_type": "code",
   "execution_count": 19,
   "id": "e895cc29",
   "metadata": {},
   "outputs": [
    {
     "data": {
      "text/plain": [
       "<sklearn.metrics._plot.confusion_matrix.ConfusionMatrixDisplay at 0x7fdd60743c70>"
      ]
     },
     "execution_count": 19,
     "metadata": {},
     "output_type": "execute_result"
    },
    {
     "data": {
      "image/png": "[encoded data removed]",
      "text/plain": [
       "<Figure size 432x288 with 2 Axes>"
      ]
     },
     "metadata": {
      "needs_background": "light"
     },
     "output_type": "display_data"
    }
   ],
   "source": [
    "cm = confusion_matrix(y_test, y_pred_baseline, labels=decision_tree.classes_)\n",
    "disp = ConfusionMatrixDisplay(cm, display_labels=decision_tree.classes_)\n",
    "disp.plot()"
   ]
  },
  {
   "cell_type": "markdown",
   "id": "b543e4ff",
   "metadata": {},
   "source": [
    "**Observations:**\n",
    "- In the confusion matrix, there are a high proportion of true positives and true negatives (where the matrix accurately predicted that the customer would be satisfied or dissatified, respectively).\n",
    "- The matrix also had a relatively low number of false positives and false negatives (where the matrix innacurately predicted that the customer would be satisfied or dissatified, respectively.)"
   ]
  },
  {
   "cell_type": "code",
   "execution_count": 20,
   "id": "ec57b699",
   "metadata": {},
   "outputs": [
    {
     "data": {
      "text/plain": [
       "[Text(0.5, 0.875, 'Inflight entertainment <= 3.5\\ngini = 0.496\\nsamples = 97115\\nvalue = [43963, 53152]\\nclass = satisfied'),\n",
       " Text(0.25, 0.625, 'Seat comfort <= 3.5\\ngini = 0.339\\nsamples = 43502\\nvalue = [34098, 9404]\\nclass = dissatisfied'),\n",
       " Text(0.125, 0.375, 'Seat comfort <= 0.5\\ngini = 0.247\\nsamples = 38022\\nvalue = [32531, 5491]\\nclass = dissatisfied'),\n",
       " Text(0.0625, 0.125, '\\n  (...)  \\n'),\n",
       " Text(0.1875, 0.125, '\\n  (...)  \\n'),\n",
       " Text(0.375, 0.375, 'Seat comfort <= 4.5\\ngini = 0.408\\nsamples = 5480\\nvalue = [1567, 3913]\\nclass = satisfied'),\n",
       " Text(0.3125, 0.125, '\\n  (...)  \\n'),\n",
       " Text(0.4375, 0.125, '\\n  (...)  \\n'),\n",
       " Text(0.75, 0.625, 'Ease of Online booking <= 3.5\\ngini = 0.3\\nsamples = 53613\\nvalue = [9865, 43748]\\nclass = satisfied'),\n",
       " Text(0.625, 0.375, 'Inflight entertainment <= 4.5\\ngini = 0.485\\nsamples = 14645\\nvalue = [6063, 8582]\\nclass = satisfied'),\n",
       " Text(0.5625, 0.125, '\\n  (...)  \\n'),\n",
       " Text(0.6875, 0.125, '\\n  (...)  \\n'),\n",
       " Text(0.875, 0.375, 'Customer Type_disloyal Customer <= 0.5\\ngini = 0.176\\nsamples = 38968\\nvalue = [3802, 35166]\\nclass = satisfied'),\n",
       " Text(0.8125, 0.125, '\\n  (...)  \\n'),\n",
       " Text(0.9375, 0.125, '\\n  (...)  \\n')]"
      ]
     },
     "execution_count": 20,
     "metadata": {},
     "output_type": "execute_result"
    },
    {
     "data": {
      "image/png": "[encoded data removed]",
      "text/plain": [
       "<Figure size 1440x864 with 1 Axes>"
      ]
     },
     "metadata": {
      "needs_background": "light"
     },
     "output_type": "display_data"
    }
   ],
   "source": [
    "# Most important features:\n",
    "plt.figure(figsize=(20,12))\n",
    "plot_tree(decision_tree, \n",
    "          max_depth=2, \n",
    "          fontsize=14, \n",
    "          feature_names=X.columns, \n",
    "          filled=True, \n",
    "          class_names={1: 'satisfied', 0:'dissatisfied'})"
   ]
  },
  {
   "cell_type": "markdown",
   "id": "27cde4de",
   "metadata": {},
   "source": [
    "### Top Insights on Customer Satisfaction from Decision Tree Classifier\n",
    "\n",
    "1. **Inflight Entertainment Importance**:<br>\n",
    "    - The root node of the decision tree highlights the significance of inflight entertainment.\n",
    "    - Customers rating inflight entertainment less than or equal to 3.5 are further categorized.\n",
    "\n",
    "2. **Seat Comfort Significance**:<br>\n",
    "    - For dissatisfied customers(rating inflight entertainment <= 3.5) `Seat Comfort` is crucial.\n",
    "    - Customers rating seat comfort as 3.5 or less are further divided based on their satisfaction levels.\n",
    "\n",
    "3. **Ease of Online Booking**:<br>\n",
    "    - For satisfied customers (rating inflight entertainment > 3.5), `Ease of online booking` emerges as crucial.\n",
    "    - This suggests a correlation between online booking convenience and overall satisfaction.\n",
    "\n",
    "\n",
    "\n",
    "These insights underline the critical factors influencing customer satisfaction:\n",
    "- Improving inflight entertainment.\n",
    "- Enhancing online booking convenience.\n",
    "- Providing comfortable seating.\n",
    "\n"
   ]
  },
  {
   "cell_type": "markdown",
   "id": "6300acb6",
   "metadata": {},
   "source": [
    "### Build a feature importance graph\n",
    "\n",
    "Uncover which features might be most important to your decision tree model by building a feature importance graph. "
   ]
  },
  {
   "cell_type": "code",
   "execution_count": 21,
   "id": "86b9d86d",
   "metadata": {},
   "outputs": [
    {
     "data": {
      "image/png": "[encoded data removed]",
      "text/plain": [
       "<Figure size 432x288 with 1 Axes>"
      ]
     },
     "metadata": {
      "needs_background": "light"
     },
     "output_type": "display_data"
    }
   ],
   "source": [
    "# Plot most important features\n",
    "importances = decision_tree.feature_importances_\n",
    "\n",
    "forest_importances = pd.Series(importances, index=X.columns)\n",
    "\n",
    "forest_importances.plot.bar()\n",
    "plt.title(\"Most Important Features\", size = 15)\n",
    "plt.show()"
   ]
  },
  {
   "cell_type": "markdown",
   "id": "14f42fc9",
   "metadata": {},
   "source": [
    "**Observations**:\n",
    "- Inflight Entertainment, seat comfort, ease of online booking and Customer type disloyal customer appear to be the key factosrs influencing the Customer satisfaction."
   ]
  },
  {
   "cell_type": "markdown",
   "id": "2f171f44",
   "metadata": {},
   "source": [
    "**Note**:\n",
    "> Decision trees can be particularly susceptible to overfitting. This is evident with our high (90+) scores for precision and recall. Combining hyperparameter tuning and grid search can help ensure this doesn't happen. \n",
    "For instance, setting an appropriate value for max depth could potentially help reduce a decision tree's overfitting problem by limiting how deep a tree can grow.\n",
    "\n"
   ]
  },
  {
   "cell_type": "markdown",
   "id": "a5fc6931",
   "metadata": {},
   "source": [
    "## Hyper parameter tuning:\n",
    "we will find the best values for the hyperparameters max_depth and min_samples_leaf using grid search and cross validation."
   ]
  },
  {
   "cell_type": "code",
   "execution_count": 22,
   "id": "cc432a7e",
   "metadata": {},
   "outputs": [
    {
     "name": "stdout",
     "output_type": "stream",
     "text": [
      "CPU times: user 5min 42s, sys: 307 ms, total: 5min 42s\n",
      "Wall time: 5min 43s\n"
     ]
    },
    {
     "data": {
      "text/plain": [
       "GridSearchCV(cv=5, estimator=DecisionTreeClassifier(random_state=0),\n",
       "             param_grid={'max_depth': [1, 2, 3, 4, 5, 6, 7, 8, 9, 10, 11, 12,\n",
       "                                       13, 14, 15, 16, 17, 18, 19, 20, 30, 40,\n",
       "                                       50],\n",
       "                         'min_samples_leaf': [2, 3, 4, 5, 6, 7, 8, 9, 10, 15,\n",
       "                                              20, 50]},\n",
       "             refit='f1', scoring={'accuracy', 'precision', 'f1', 'recall'})"
      ]
     },
     "execution_count": 22,
     "metadata": {},
     "output_type": "execute_result"
    }
   ],
   "source": [
    "%%time\n",
    "# Instantiate the classifier\n",
    "tuned_dtree = DecisionTreeClassifier(random_state=0)\n",
    "\n",
    "# Specify the hyper paramters:\n",
    "tree_para = {'max_depth':[1,2,3,4,5,6,7,8,9,10,11,12,13,14,15,16,17,18,19,20,30,40,50],\n",
    "             'min_samples_leaf': [2,3,4,5,6,7,8,9, 10, 15, 20, 50]}\n",
    "\n",
    "scoring = {'accuracy', 'precision', 'recall', 'f1'}\n",
    "\n",
    "# Grid search\n",
    "clf = GridSearchCV(estimator=tuned_dtree, \n",
    "                   param_grid= tree_para,\n",
    "                   scoring= scoring,\n",
    "                   refit='f1',\n",
    "                   cv = 5)\n"
   ]
  },
  {
   "cell_type": "code",
   "execution_count": null,
   "id": "003fd471",
   "metadata": {},
   "outputs": [],
   "source": [
    "# Fit model:\n",
    "# clf.fit(X_train, y_train)"
   ]
  },
  {
   "cell_type": "markdown",
   "id": "047d56d8",
   "metadata": {},
   "source": [
    "## Determine the \"best\" decision tree model's accuracy, precision, recall, and F1 score**"
   ]
  },
  {
   "cell_type": "code",
   "execution_count": 23,
   "id": "4fc5f736",
   "metadata": {},
   "outputs": [],
   "source": [
    "def make_results(model_name, model_object, table):\n",
    "    \"\"\"\n",
    "    Accepts as arguments a model name (your choice - string), a fit GridSearchCV model object and a table\n",
    "\n",
    "    Returns a pandas df with the F1, recall, precision, and accuracy scores\n",
    "    for the model with the best mean F1 score across all validation folds.  \n",
    "    \"\"\"\n",
    "    # Fetch all values from the Cross validation and create a df\n",
    "    cv_results = pd.DataFrame(model_object.cv_results_)\n",
    "    \n",
    "    # Isolate the Best estimator row for metric values:\n",
    "    best_estimator_results = cv_results.iloc[cv_results['mean_test_f1'].idxmax(), :]\n",
    "    \n",
    "    # Fetch indiviudal metric scores from the isolated row:\n",
    "    accuracy = best_estimator_results.mean_test_accuracy\n",
    "    precision = best_estimator_results.mean_test_precision\n",
    "    recall = best_estimator_results.mean_test_recall\n",
    "    f1 = best_estimator_results.mean_test_f1\n",
    "    \n",
    "    # Append these values to a prexisting metrics table: \n",
    "    table = table.append({\n",
    "        'Model': model_name,\n",
    "        'Accuracy': accuracy,\n",
    "        'Precision': precision,\n",
    "        'Recall': recall,\n",
    "        'F1 Score': f1\n",
    "    }, ignore_index = True)\n",
    "    \n",
    "    return table\n",
    "    "
   ]
  },
  {
   "cell_type": "code",
   "execution_count": 24,
   "id": "5e86f40a",
   "metadata": {},
   "outputs": [
    {
     "data": {
      "text/html": [
       "<div>\n",
       "<style scoped>\n",
       "    .dataframe tbody tr th:only-of-type {\n",
       "        vertical-align: middle;\n",
       "    }\n",
       "\n",
       "    .dataframe tbody tr th {\n",
       "        vertical-align: top;\n",
       "    }\n",
       "\n",
       "    .dataframe thead th {\n",
       "        text-align: right;\n",
       "    }\n",
       "</style>\n",
       "<table border=\"1\" class=\"dataframe\">\n",
       "  <thead>\n",
       "    <tr style=\"text-align: right;\">\n",
       "      <th></th>\n",
       "      <th>Model</th>\n",
       "      <th>Accuracy</th>\n",
       "      <th>Precision</th>\n",
       "      <th>Recall</th>\n",
       "      <th>F1 Score</th>\n",
       "    </tr>\n",
       "  </thead>\n",
       "  <tbody>\n",
       "    <tr>\n",
       "      <th>0</th>\n",
       "      <td>Baseline Decision Tree</td>\n",
       "      <td>0.935160</td>\n",
       "      <td>0.941928</td>\n",
       "      <td>0.939538</td>\n",
       "      <td>0.940731</td>\n",
       "    </tr>\n",
       "    <tr>\n",
       "      <th>1</th>\n",
       "      <td>Tuned Decision Tree</td>\n",
       "      <td>0.940864</td>\n",
       "      <td>0.955197</td>\n",
       "      <td>0.935863</td>\n",
       "      <td>0.945422</td>\n",
       "    </tr>\n",
       "  </tbody>\n",
       "</table>\n",
       "</div>"
      ],
      "text/plain": [
       "                    Model  Accuracy  Precision    Recall  F1 Score\n",
       "0  Baseline Decision Tree  0.935160   0.941928  0.939538  0.940731\n",
       "1     Tuned Decision Tree  0.940864   0.955197  0.935863  0.945422"
      ]
     },
     "execution_count": 24,
     "metadata": {},
     "output_type": "execute_result"
    }
   ],
   "source": [
    "# Calling the function \n",
    "make_results('Tuned Decision Tree', clf, metrics_df)"
   ]
  },
  {
   "cell_type": "markdown",
   "id": "71ce1e03",
   "metadata": {},
   "source": [
    "**Observation**:\n",
    "- The F1 score for the decision tree that was not hyperparameter tuned is 0.940731 and the F1 score for the hyperparameter-tuned decision tree is 0.945422. \n",
    "- While ensuring that overfitting doesn't occur is necessary for some models, it didn't make a meaningful difference in improving this model.\n",
    "\n",
    "Moving forward identifying the most important features from this fine tuned Decision Tree:"
   ]
  },
  {
   "cell_type": "code",
   "execution_count": 25,
   "id": "2fada772",
   "metadata": {},
   "outputs": [
    {
     "name": "stdout",
     "output_type": "stream",
     "text": [
      "DecisionTreeClassifier(max_depth=18, min_samples_leaf=2, random_state=0)\n"
     ]
    }
   ],
   "source": [
    "# Best estimators\n",
    "best_estimator = clf.best_estimator_\n",
    "\n",
    "print(best_estimator)"
   ]
  },
  {
   "cell_type": "code",
   "execution_count": 26,
   "id": "0921365b",
   "metadata": {},
   "outputs": [
    {
     "data": {
      "image/png": "[encoded data removed]",
      "text/plain": [
       "<Figure size 1440x720 with 1 Axes>"
      ]
     },
     "metadata": {
      "needs_background": "light"
     },
     "output_type": "display_data"
    }
   ],
   "source": [
    "# Plot the decision tree:\n",
    "plt.figure(figsize = (20,10))\n",
    "plot_tree(best_estimator, max_depth=2, feature_names=X.columns, fontsize=14, filled=True)\n",
    "plt.show()"
   ]
  },
  {
   "cell_type": "code",
   "execution_count": 27,
   "id": "a463939d",
   "metadata": {},
   "outputs": [
    {
     "data": {
      "image/png": "[encoded data removed]",
      "text/plain": [
       "<Figure size 432x288 with 1 Axes>"
      ]
     },
     "metadata": {
      "needs_background": "light"
     },
     "output_type": "display_data"
    }
   ],
   "source": [
    "# Plot the most important features:\n",
    "importances = clf.best_estimator_.feature_importances_\n",
    "\n",
    "forest_importances = pd.Series(importances, index = X.columns)\n",
    "\n",
    "forest_importances.plot.bar()\n",
    "plt.title(\"Most Important Features (Fined Tuned Dtree)\", size = 15)\n",
    "plt.show()"
   ]
  },
  {
   "cell_type": "markdown",
   "id": "fb31a6af",
   "metadata": {},
   "source": [
    "**Observation**:\n",
    "- The feature importance graph seems to confirm that `'Inflight entertainment'`, `'Seat comfort'`, and `'Ease of Online booking'` are the \"most important\" features for this model. "
   ]
  },
  {
   "cell_type": "code",
   "execution_count": 28,
   "id": "fca50968",
   "metadata": {},
   "outputs": [
    {
     "data": {
      "text/plain": [
       "<sklearn.metrics._plot.confusion_matrix.ConfusionMatrixDisplay at 0x7fdd60743c40>"
      ]
     },
     "execution_count": 28,
     "metadata": {},
     "output_type": "execute_result"
    },
    {
     "data": {
      "image/png": "[encoded data removed]",
      "text/plain": [
       "<Figure size 432x288 with 2 Axes>"
      ]
     },
     "metadata": {
      "needs_background": "light"
     },
     "output_type": "display_data"
    }
   ],
   "source": [
    "# Make predictions using the Tuned Model\n",
    "y_pred_tuned = clf.predict(X_test)\n",
    "\n",
    "# Confusion matrix:\n",
    "cm = confusion_matrix(y_test, y_pred_tuned, labels=clf.classes_)\n",
    "disp = ConfusionMatrixDisplay(cm, display_labels=clf.classes_)\n",
    "disp.plot()"
   ]
  },
  {
   "cell_type": "markdown",
   "id": "5246bba9",
   "metadata": {},
   "source": [
    "**Observations**:\n",
    "    \n",
    "- The model identified majority of the customers correctly (satisfied 13K+ and unsatisfied 16K+)\n",
    "- Recall measures the percentage of actual positives a model correctly identified (true positive). In our case, the airlines should focus on minimising the False negatives (1204), cases where the customer is happy but has been identified as dissatisfied. Assuming a customer was dissatisfied would lead the airlines to deploy unnecessary resources trying to improve the customer satisfaction of an already satisfied customer.\n",
    "- Precision measures the proportion of actual positives a model correctly identified as positive. For instance, if we do not want to falsely classify a customer as satisfied when indeeed the customer is dissatisfied, the precision score would be good metric. Assuming a customer is happy when they are not, might lead to customer churn."
   ]
  },
  {
   "cell_type": "markdown",
   "id": "ef1cd281",
   "metadata": {},
   "source": [
    "# Stakeholder Summary:\n",
    "\n",
    "- Decision trees accurately predicted satisfaction over 94 percent of the time.\n",
    "- The confusion matrix is useful as it shows a similar number of true positives and true negatives.\n",
    "- The visualization of the decision tree and the feature importance graph both suggest that 'Inflight entertainment', 'Seat comfort', and 'Ease of Online booking' are the most important features in the model.\n",
    "\n",
    "# Future steps:\n",
    "\n",
    "*  Customer satisfaction is highly tied to `'Inflight entertainment'`, `'Seat comfort'`, and `'Ease of Online booking'`. Improving these experiences should lead to better customer satisfaction. \n",
    "*  The success of the model suggests that the airline should invest more effort into model building and model understanding since this model semed to be very good at predicting customer satisfaction. "
   ]
  },
  {
   "cell_type": "code",
   "execution_count": null,
   "id": "af605f8c",
   "metadata": {},
   "outputs": [],
   "source": []
  }
 ],
 "metadata": {
  "kernelspec": {
   "display_name": "Python 3 (ipykernel)",
   "language": "python",
   "name": "python3"
  },
  "language_info": {
   "codemirror_mode": {
    "name": "ipython",
    "version": 3
   },
   "file_extension": ".py",
   "mimetype": "text/x-python",
   "name": "python",
   "nbconvert_exporter": "python",
   "pygments_lexer": "ipython3",
   "version": "3.9.12"
  }
 },
 "nbformat": 4,
 "nbformat_minor": 5
}
