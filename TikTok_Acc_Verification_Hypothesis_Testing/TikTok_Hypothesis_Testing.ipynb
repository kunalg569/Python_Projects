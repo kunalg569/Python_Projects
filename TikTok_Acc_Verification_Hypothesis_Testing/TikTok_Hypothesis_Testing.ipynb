{
 "cells": [
  {
   "cell_type": "markdown",
   "id": "148d1e96",
   "metadata": {},
   "source": [
    "\n",
    "\n",
    "<img src = 'TikTok.png.webp' width = '400' height = '300'>\n",
    "\n",
    "## Scenario:\n",
    "TikTok is working on the development of a predictive model that can determine whether a video contains a claim or offers an opinion. With a successful prediction model, TikTok can reduce the backlog of user reports and prioritize them more efficiently.<br>\n",
    "You receive a new email from Mary Joanna Rodgers, one of TikTok’s project management officers. Mary Joanna informs the data team about a new request: to determine whether there is a statistical difference in the data of TikTok videos posted by verified accounts versus unverified accounts. You also receive follow-up emails from Data Science Manager, Rosie Mae Bradshaw and Data Science Lead, Willow Jaffey. They want you to assess the viewership on both types on accounts and want to gauge the average viewership of both the accounts. \n",
    "\n",
    "## Problem Statement:\n",
    "Build a **confidence interval** for viewership on both the accounts. Furthermore, conduct a **A/B testing** on views for verified versus non verified accounts. Choose a suitable feature or field to be most insightful to test verified and unverifed accounts.\n",
    "\n",
    "## Objective:\n",
    "The suitable feature to give insights into verified VS unverified accounts will be **'$Views$'**\n",
    "* Build confidence interval for the viewership for both accounts respectively.\n",
    "* Conduct 2 sample hypothesis test to assess if the difference between the views of verified and non verified accounts is statiscally significant or not.\n",
    "\n",
    "## Approach:\n",
    "- Find descriptive stats\n",
    "- Perform EDA\n",
    "- Build confidence interval\n",
    "    - Identify sample statistic: MEAN\n",
    "    - Choose confidence level: 95% and 99%\n",
    "    - Find Standard Error\n",
    "    - Find MOE\n",
    "    - Calculate interval\n",
    "- Conduct A/B testing\n",
    "    - Find sample MEAN\n",
    "    - State Ho and Ha\n",
    "    - Choose significance level ( 5% )\n",
    "    - Find p-value\n",
    "    - Reject or fail to reject Ho\n",
    "\n",
    "## Excecutive summary:"
   ]
  },
  {
   "cell_type": "code",
   "execution_count": 2,
   "id": "36181c28",
   "metadata": {},
   "outputs": [],
   "source": [
    "# Load data:\n",
    "import numpy as np \n",
    "from scipy import stats\n",
    "import pandas as pd\n",
    "import seaborn as sns\n",
    "import matplotlib.pyplot as plt\n",
    "\n",
    "pd.set_option('display.width', 100)\n",
    "pd.set_option('display.max_columns', 100)\n",
    "pd.set_option('display.max_rows', 100)"
   ]
  },
  {
   "cell_type": "code",
   "execution_count": 4,
   "id": "73bcb7ed",
   "metadata": {},
   "outputs": [
    {
     "data": {
      "text/html": [
       "<div>\n",
       "<style scoped>\n",
       "    .dataframe tbody tr th:only-of-type {\n",
       "        vertical-align: middle;\n",
       "    }\n",
       "\n",
       "    .dataframe tbody tr th {\n",
       "        vertical-align: top;\n",
       "    }\n",
       "\n",
       "    .dataframe thead th {\n",
       "        text-align: right;\n",
       "    }\n",
       "</style>\n",
       "<table border=\"1\" class=\"dataframe\">\n",
       "  <thead>\n",
       "    <tr style=\"text-align: right;\">\n",
       "      <th></th>\n",
       "      <th>claim_status</th>\n",
       "      <th>video_id</th>\n",
       "      <th>video_duration_sec</th>\n",
       "      <th>video_transcription_text</th>\n",
       "      <th>verified_status</th>\n",
       "      <th>author_ban_status</th>\n",
       "      <th>video_view_count</th>\n",
       "      <th>video_like_count</th>\n",
       "      <th>video_share_count</th>\n",
       "      <th>video_download_count</th>\n",
       "      <th>video_comment_count</th>\n",
       "    </tr>\n",
       "    <tr>\n",
       "      <th>#</th>\n",
       "      <th></th>\n",
       "      <th></th>\n",
       "      <th></th>\n",
       "      <th></th>\n",
       "      <th></th>\n",
       "      <th></th>\n",
       "      <th></th>\n",
       "      <th></th>\n",
       "      <th></th>\n",
       "      <th></th>\n",
       "      <th></th>\n",
       "    </tr>\n",
       "  </thead>\n",
       "  <tbody>\n",
       "    <tr>\n",
       "      <th>1</th>\n",
       "      <td>claim</td>\n",
       "      <td>7017666017</td>\n",
       "      <td>59</td>\n",
       "      <td>someone shared with me that drone deliveries a...</td>\n",
       "      <td>not verified</td>\n",
       "      <td>under review</td>\n",
       "      <td>343296.0</td>\n",
       "      <td>19425.0</td>\n",
       "      <td>241.0</td>\n",
       "      <td>1.0</td>\n",
       "      <td>0.0</td>\n",
       "    </tr>\n",
       "    <tr>\n",
       "      <th>2</th>\n",
       "      <td>claim</td>\n",
       "      <td>4014381136</td>\n",
       "      <td>32</td>\n",
       "      <td>someone shared with me that there are more mic...</td>\n",
       "      <td>not verified</td>\n",
       "      <td>active</td>\n",
       "      <td>140877.0</td>\n",
       "      <td>77355.0</td>\n",
       "      <td>19034.0</td>\n",
       "      <td>1161.0</td>\n",
       "      <td>684.0</td>\n",
       "    </tr>\n",
       "    <tr>\n",
       "      <th>3</th>\n",
       "      <td>claim</td>\n",
       "      <td>9859838091</td>\n",
       "      <td>31</td>\n",
       "      <td>someone shared with me that american industria...</td>\n",
       "      <td>not verified</td>\n",
       "      <td>active</td>\n",
       "      <td>902185.0</td>\n",
       "      <td>97690.0</td>\n",
       "      <td>2858.0</td>\n",
       "      <td>833.0</td>\n",
       "      <td>329.0</td>\n",
       "    </tr>\n",
       "    <tr>\n",
       "      <th>4</th>\n",
       "      <td>claim</td>\n",
       "      <td>1866847991</td>\n",
       "      <td>25</td>\n",
       "      <td>someone shared with me that the metro of st. p...</td>\n",
       "      <td>not verified</td>\n",
       "      <td>active</td>\n",
       "      <td>437506.0</td>\n",
       "      <td>239954.0</td>\n",
       "      <td>34812.0</td>\n",
       "      <td>1234.0</td>\n",
       "      <td>584.0</td>\n",
       "    </tr>\n",
       "    <tr>\n",
       "      <th>5</th>\n",
       "      <td>claim</td>\n",
       "      <td>7105231098</td>\n",
       "      <td>19</td>\n",
       "      <td>someone shared with me that the number of busi...</td>\n",
       "      <td>not verified</td>\n",
       "      <td>active</td>\n",
       "      <td>56167.0</td>\n",
       "      <td>34987.0</td>\n",
       "      <td>4110.0</td>\n",
       "      <td>547.0</td>\n",
       "      <td>152.0</td>\n",
       "    </tr>\n",
       "  </tbody>\n",
       "</table>\n",
       "</div>"
      ],
      "text/plain": [
       "  claim_status    video_id  video_duration_sec                           video_transcription_text  \\\n",
       "#                                                                                                   \n",
       "1        claim  7017666017                  59  someone shared with me that drone deliveries a...   \n",
       "2        claim  4014381136                  32  someone shared with me that there are more mic...   \n",
       "3        claim  9859838091                  31  someone shared with me that american industria...   \n",
       "4        claim  1866847991                  25  someone shared with me that the metro of st. p...   \n",
       "5        claim  7105231098                  19  someone shared with me that the number of busi...   \n",
       "\n",
       "  verified_status author_ban_status  video_view_count  video_like_count  video_share_count  \\\n",
       "#                                                                                            \n",
       "1    not verified      under review          343296.0           19425.0              241.0   \n",
       "2    not verified            active          140877.0           77355.0            19034.0   \n",
       "3    not verified            active          902185.0           97690.0             2858.0   \n",
       "4    not verified            active          437506.0          239954.0            34812.0   \n",
       "5    not verified            active           56167.0           34987.0             4110.0   \n",
       "\n",
       "   video_download_count  video_comment_count  \n",
       "#                                             \n",
       "1                   1.0                  0.0  \n",
       "2                1161.0                684.0  \n",
       "3                 833.0                329.0  \n",
       "4                1234.0                584.0  \n",
       "5                 547.0                152.0  "
      ]
     },
     "execution_count": 4,
     "metadata": {},
     "output_type": "execute_result"
    }
   ],
   "source": [
    "tiktok = pd.read_csv('tiktok_dataset.csv', index_col=0)\n",
    "tiktok.head()"
   ]
  },
  {
   "cell_type": "code",
   "execution_count": 9,
   "id": "e3958b39",
   "metadata": {},
   "outputs": [
    {
     "data": {
      "text/html": [
       "<div>\n",
       "<style scoped>\n",
       "    .dataframe tbody tr th:only-of-type {\n",
       "        vertical-align: middle;\n",
       "    }\n",
       "\n",
       "    .dataframe tbody tr th {\n",
       "        vertical-align: top;\n",
       "    }\n",
       "\n",
       "    .dataframe thead th {\n",
       "        text-align: right;\n",
       "    }\n",
       "</style>\n",
       "<table border=\"1\" class=\"dataframe\">\n",
       "  <thead>\n",
       "    <tr style=\"text-align: right;\">\n",
       "      <th></th>\n",
       "      <th>claim_status</th>\n",
       "      <th>video_id</th>\n",
       "      <th>video_duration_sec</th>\n",
       "      <th>video_transcription_text</th>\n",
       "      <th>verified_status</th>\n",
       "      <th>author_ban_status</th>\n",
       "      <th>video_view_count</th>\n",
       "      <th>video_like_count</th>\n",
       "      <th>video_share_count</th>\n",
       "      <th>video_download_count</th>\n",
       "      <th>video_comment_count</th>\n",
       "    </tr>\n",
       "  </thead>\n",
       "  <tbody>\n",
       "    <tr>\n",
       "      <th>count</th>\n",
       "      <td>19084</td>\n",
       "      <td>1.938200e+04</td>\n",
       "      <td>19382.000000</td>\n",
       "      <td>19084</td>\n",
       "      <td>19382</td>\n",
       "      <td>19382</td>\n",
       "      <td>19084.000000</td>\n",
       "      <td>19084.000000</td>\n",
       "      <td>19084.000000</td>\n",
       "      <td>19084.000000</td>\n",
       "      <td>19084.000000</td>\n",
       "    </tr>\n",
       "    <tr>\n",
       "      <th>unique</th>\n",
       "      <td>2</td>\n",
       "      <td>NaN</td>\n",
       "      <td>NaN</td>\n",
       "      <td>19012</td>\n",
       "      <td>2</td>\n",
       "      <td>3</td>\n",
       "      <td>NaN</td>\n",
       "      <td>NaN</td>\n",
       "      <td>NaN</td>\n",
       "      <td>NaN</td>\n",
       "      <td>NaN</td>\n",
       "    </tr>\n",
       "    <tr>\n",
       "      <th>top</th>\n",
       "      <td>claim</td>\n",
       "      <td>NaN</td>\n",
       "      <td>NaN</td>\n",
       "      <td>a friend read  in the media a claim that badmi...</td>\n",
       "      <td>not verified</td>\n",
       "      <td>active</td>\n",
       "      <td>NaN</td>\n",
       "      <td>NaN</td>\n",
       "      <td>NaN</td>\n",
       "      <td>NaN</td>\n",
       "      <td>NaN</td>\n",
       "    </tr>\n",
       "    <tr>\n",
       "      <th>freq</th>\n",
       "      <td>9608</td>\n",
       "      <td>NaN</td>\n",
       "      <td>NaN</td>\n",
       "      <td>2</td>\n",
       "      <td>18142</td>\n",
       "      <td>15663</td>\n",
       "      <td>NaN</td>\n",
       "      <td>NaN</td>\n",
       "      <td>NaN</td>\n",
       "      <td>NaN</td>\n",
       "      <td>NaN</td>\n",
       "    </tr>\n",
       "    <tr>\n",
       "      <th>mean</th>\n",
       "      <td>NaN</td>\n",
       "      <td>5.627454e+09</td>\n",
       "      <td>32.421732</td>\n",
       "      <td>NaN</td>\n",
       "      <td>NaN</td>\n",
       "      <td>NaN</td>\n",
       "      <td>254708.558688</td>\n",
       "      <td>84304.636030</td>\n",
       "      <td>16735.248323</td>\n",
       "      <td>1049.429627</td>\n",
       "      <td>349.312146</td>\n",
       "    </tr>\n",
       "    <tr>\n",
       "      <th>std</th>\n",
       "      <td>NaN</td>\n",
       "      <td>2.536440e+09</td>\n",
       "      <td>16.229967</td>\n",
       "      <td>NaN</td>\n",
       "      <td>NaN</td>\n",
       "      <td>NaN</td>\n",
       "      <td>322893.280814</td>\n",
       "      <td>133420.546814</td>\n",
       "      <td>32036.174350</td>\n",
       "      <td>2004.299894</td>\n",
       "      <td>799.638865</td>\n",
       "    </tr>\n",
       "    <tr>\n",
       "      <th>min</th>\n",
       "      <td>NaN</td>\n",
       "      <td>1.234959e+09</td>\n",
       "      <td>5.000000</td>\n",
       "      <td>NaN</td>\n",
       "      <td>NaN</td>\n",
       "      <td>NaN</td>\n",
       "      <td>20.000000</td>\n",
       "      <td>0.000000</td>\n",
       "      <td>0.000000</td>\n",
       "      <td>0.000000</td>\n",
       "      <td>0.000000</td>\n",
       "    </tr>\n",
       "    <tr>\n",
       "      <th>25%</th>\n",
       "      <td>NaN</td>\n",
       "      <td>3.430417e+09</td>\n",
       "      <td>18.000000</td>\n",
       "      <td>NaN</td>\n",
       "      <td>NaN</td>\n",
       "      <td>NaN</td>\n",
       "      <td>4942.500000</td>\n",
       "      <td>810.750000</td>\n",
       "      <td>115.000000</td>\n",
       "      <td>7.000000</td>\n",
       "      <td>1.000000</td>\n",
       "    </tr>\n",
       "    <tr>\n",
       "      <th>50%</th>\n",
       "      <td>NaN</td>\n",
       "      <td>5.618664e+09</td>\n",
       "      <td>32.000000</td>\n",
       "      <td>NaN</td>\n",
       "      <td>NaN</td>\n",
       "      <td>NaN</td>\n",
       "      <td>9954.500000</td>\n",
       "      <td>3403.500000</td>\n",
       "      <td>717.000000</td>\n",
       "      <td>46.000000</td>\n",
       "      <td>9.000000</td>\n",
       "    </tr>\n",
       "    <tr>\n",
       "      <th>75%</th>\n",
       "      <td>NaN</td>\n",
       "      <td>7.843960e+09</td>\n",
       "      <td>47.000000</td>\n",
       "      <td>NaN</td>\n",
       "      <td>NaN</td>\n",
       "      <td>NaN</td>\n",
       "      <td>504327.000000</td>\n",
       "      <td>125020.000000</td>\n",
       "      <td>18222.000000</td>\n",
       "      <td>1156.250000</td>\n",
       "      <td>292.000000</td>\n",
       "    </tr>\n",
       "    <tr>\n",
       "      <th>max</th>\n",
       "      <td>NaN</td>\n",
       "      <td>9.999873e+09</td>\n",
       "      <td>60.000000</td>\n",
       "      <td>NaN</td>\n",
       "      <td>NaN</td>\n",
       "      <td>NaN</td>\n",
       "      <td>999817.000000</td>\n",
       "      <td>657830.000000</td>\n",
       "      <td>256130.000000</td>\n",
       "      <td>14994.000000</td>\n",
       "      <td>9599.000000</td>\n",
       "    </tr>\n",
       "  </tbody>\n",
       "</table>\n",
       "</div>"
      ],
      "text/plain": [
       "       claim_status      video_id  video_duration_sec  \\\n",
       "count         19084  1.938200e+04        19382.000000   \n",
       "unique            2           NaN                 NaN   \n",
       "top           claim           NaN                 NaN   \n",
       "freq           9608           NaN                 NaN   \n",
       "mean            NaN  5.627454e+09           32.421732   \n",
       "std             NaN  2.536440e+09           16.229967   \n",
       "min             NaN  1.234959e+09            5.000000   \n",
       "25%             NaN  3.430417e+09           18.000000   \n",
       "50%             NaN  5.618664e+09           32.000000   \n",
       "75%             NaN  7.843960e+09           47.000000   \n",
       "max             NaN  9.999873e+09           60.000000   \n",
       "\n",
       "                                 video_transcription_text verified_status author_ban_status  \\\n",
       "count                                               19084           19382             19382   \n",
       "unique                                              19012               2                 3   \n",
       "top     a friend read  in the media a claim that badmi...    not verified            active   \n",
       "freq                                                    2           18142             15663   \n",
       "mean                                                  NaN             NaN               NaN   \n",
       "std                                                   NaN             NaN               NaN   \n",
       "min                                                   NaN             NaN               NaN   \n",
       "25%                                                   NaN             NaN               NaN   \n",
       "50%                                                   NaN             NaN               NaN   \n",
       "75%                                                   NaN             NaN               NaN   \n",
       "max                                                   NaN             NaN               NaN   \n",
       "\n",
       "        video_view_count  video_like_count  video_share_count  video_download_count  \\\n",
       "count       19084.000000      19084.000000       19084.000000          19084.000000   \n",
       "unique               NaN               NaN                NaN                   NaN   \n",
       "top                  NaN               NaN                NaN                   NaN   \n",
       "freq                 NaN               NaN                NaN                   NaN   \n",
       "mean       254708.558688      84304.636030       16735.248323           1049.429627   \n",
       "std        322893.280814     133420.546814       32036.174350           2004.299894   \n",
       "min            20.000000          0.000000           0.000000              0.000000   \n",
       "25%          4942.500000        810.750000         115.000000              7.000000   \n",
       "50%          9954.500000       3403.500000         717.000000             46.000000   \n",
       "75%        504327.000000     125020.000000       18222.000000           1156.250000   \n",
       "max        999817.000000     657830.000000      256130.000000          14994.000000   \n",
       "\n",
       "        video_comment_count  \n",
       "count          19084.000000  \n",
       "unique                  NaN  \n",
       "top                     NaN  \n",
       "freq                    NaN  \n",
       "mean             349.312146  \n",
       "std              799.638865  \n",
       "min                0.000000  \n",
       "25%                1.000000  \n",
       "50%                9.000000  \n",
       "75%              292.000000  \n",
       "max             9599.000000  "
      ]
     },
     "execution_count": 9,
     "metadata": {},
     "output_type": "execute_result"
    }
   ],
   "source": [
    "# Make a copy:\n",
    "df = tiktok.copy()\n",
    "\n",
    "# Decriptive Stats:\n",
    "tiktok.describe(include = 'all')"
   ]
  },
  {
   "cell_type": "markdown",
   "id": "c94bdaf9",
   "metadata": {},
   "source": [
    "### Handling missing values:"
   ]
  },
  {
   "cell_type": "code",
   "execution_count": 10,
   "id": "96ada519",
   "metadata": {},
   "outputs": [
    {
     "data": {
      "text/html": [
       "<div>\n",
       "<style scoped>\n",
       "    .dataframe tbody tr th:only-of-type {\n",
       "        vertical-align: middle;\n",
       "    }\n",
       "\n",
       "    .dataframe tbody tr th {\n",
       "        vertical-align: top;\n",
       "    }\n",
       "\n",
       "    .dataframe thead th {\n",
       "        text-align: right;\n",
       "    }\n",
       "</style>\n",
       "<table border=\"1\" class=\"dataframe\">\n",
       "  <thead>\n",
       "    <tr style=\"text-align: right;\">\n",
       "      <th></th>\n",
       "      <th>perecntage_nulls</th>\n",
       "      <th>total_nulls</th>\n",
       "    </tr>\n",
       "  </thead>\n",
       "  <tbody>\n",
       "    <tr>\n",
       "      <th>claim_status</th>\n",
       "      <td>1.537509</td>\n",
       "      <td>298</td>\n",
       "    </tr>\n",
       "    <tr>\n",
       "      <th>video_id</th>\n",
       "      <td>0.000000</td>\n",
       "      <td>0</td>\n",
       "    </tr>\n",
       "    <tr>\n",
       "      <th>video_duration_sec</th>\n",
       "      <td>0.000000</td>\n",
       "      <td>0</td>\n",
       "    </tr>\n",
       "    <tr>\n",
       "      <th>video_transcription_text</th>\n",
       "      <td>1.537509</td>\n",
       "      <td>298</td>\n",
       "    </tr>\n",
       "    <tr>\n",
       "      <th>verified_status</th>\n",
       "      <td>0.000000</td>\n",
       "      <td>0</td>\n",
       "    </tr>\n",
       "    <tr>\n",
       "      <th>author_ban_status</th>\n",
       "      <td>0.000000</td>\n",
       "      <td>0</td>\n",
       "    </tr>\n",
       "    <tr>\n",
       "      <th>video_view_count</th>\n",
       "      <td>1.537509</td>\n",
       "      <td>298</td>\n",
       "    </tr>\n",
       "    <tr>\n",
       "      <th>video_like_count</th>\n",
       "      <td>1.537509</td>\n",
       "      <td>298</td>\n",
       "    </tr>\n",
       "    <tr>\n",
       "      <th>video_share_count</th>\n",
       "      <td>1.537509</td>\n",
       "      <td>298</td>\n",
       "    </tr>\n",
       "    <tr>\n",
       "      <th>video_download_count</th>\n",
       "      <td>1.537509</td>\n",
       "      <td>298</td>\n",
       "    </tr>\n",
       "    <tr>\n",
       "      <th>video_comment_count</th>\n",
       "      <td>1.537509</td>\n",
       "      <td>298</td>\n",
       "    </tr>\n",
       "  </tbody>\n",
       "</table>\n",
       "</div>"
      ],
      "text/plain": [
       "                          perecntage_nulls  total_nulls\n",
       "claim_status                      1.537509          298\n",
       "video_id                          0.000000            0\n",
       "video_duration_sec                0.000000            0\n",
       "video_transcription_text          1.537509          298\n",
       "verified_status                   0.000000            0\n",
       "author_ban_status                 0.000000            0\n",
       "video_view_count                  1.537509          298\n",
       "video_like_count                  1.537509          298\n",
       "video_share_count                 1.537509          298\n",
       "video_download_count              1.537509          298\n",
       "video_comment_count               1.537509          298"
      ]
     },
     "execution_count": 10,
     "metadata": {},
     "output_type": "execute_result"
    }
   ],
   "source": [
    "# Dataframe for Nulls and their percentage in column \n",
    "nulls = pd.DataFrame(df.isnull().sum()/df.shape[0]*100, columns = ['perecntage_nulls'])\n",
    "nulls['total_nulls'] = df.isnull().sum()\n",
    "nulls\n"
   ]
  },
  {
   "cell_type": "code",
   "execution_count": 11,
   "id": "f9627761",
   "metadata": {},
   "outputs": [],
   "source": [
    "# Dropping missing values:\n",
    "df.dropna(inplace = True)"
   ]
  },
  {
   "cell_type": "code",
   "execution_count": 13,
   "id": "c64dc464",
   "metadata": {},
   "outputs": [
    {
     "data": {
      "text/plain": [
       "claim      9608\n",
       "opinion    9476\n",
       "Name: claim_status, dtype: int64"
      ]
     },
     "execution_count": 13,
     "metadata": {},
     "output_type": "execute_result"
    }
   ],
   "source": [
    "df['claim_status'].value_counts()"
   ]
  },
  {
   "cell_type": "code",
   "execution_count": 14,
   "id": "32cf3c5d",
   "metadata": {},
   "outputs": [
    {
     "data": {
      "text/plain": [
       "not verified    17884\n",
       "verified         1200\n",
       "Name: verified_status, dtype: int64"
      ]
     },
     "execution_count": 14,
     "metadata": {},
     "output_type": "execute_result"
    }
   ],
   "source": [
    "df['verified_status'].value_counts()"
   ]
  },
  {
   "cell_type": "markdown",
   "id": "fa7d580d",
   "metadata": {},
   "source": [
    "Since our dataset is evenly distributed wrt claim_status, it would be better to segregate our data based on *verified_status* feature and generate 50 random samples for the same. As there will verified accounts that having claims and also non verified accounts, not having claims. Our assessment is based on the the status of the account being verified or unverified"
   ]
  },
  {
   "cell_type": "code",
   "execution_count": 19,
   "id": "2418a854",
   "metadata": {},
   "outputs": [
    {
     "data": {
      "text/plain": [
       "<AxesSubplot:xlabel='verified_status', ylabel='video_view_count'>"
      ]
     },
     "execution_count": 19,
     "metadata": {},
     "output_type": "execute_result"
    },
    {
     "data": {
      "image/png": "[encoded data removed]",
      "text/plain": [
       "<Figure size 432x288 with 1 Axes>"
      ]
     },
     "metadata": {
      "needs_background": "light"
     },
     "output_type": "display_data"
    }
   ],
   "source": [
    "sns.boxplot(x = df['verified_status'], y = df['video_view_count'])"
   ]
  },
  {
   "cell_type": "markdown",
   "id": "6b1031c6",
   "metadata": {},
   "source": [
    "# Building Confidence Interval:"
   ]
  },
  {
   "cell_type": "code",
   "execution_count": 22,
   "id": "b217aca0",
   "metadata": {},
   "outputs": [
    {
     "data": {
      "text/plain": [
       "verified_status\n",
       "not verified    265663.785339\n",
       "verified         91439.164167\n",
       "Name: video_view_count, dtype: float64"
      ]
     },
     "execution_count": 22,
     "metadata": {},
     "output_type": "execute_result"
    }
   ],
   "source": [
    "df.groupby('verified_status')['video_view_count'].mean()"
   ]
  },
  {
   "cell_type": "markdown",
   "id": "ad4bcafa",
   "metadata": {},
   "source": [
    "### Create our two samples based on Video Views feature"
   ]
  },
  {
   "cell_type": "code",
   "execution_count": 27,
   "id": "d3cdad18",
   "metadata": {},
   "outputs": [
    {
     "data": {
      "text/plain": [
       "(1200,)"
      ]
     },
     "execution_count": 27,
     "metadata": {},
     "output_type": "execute_result"
    }
   ],
   "source": [
    "# Seperate the two samples\n",
    "verified_views = df[df['verified_status'] == 'verified']['video_view_count']\n",
    "non_verified_views = df[df['verified_status'] == 'not verified']['video_view_count']\n",
    "\n",
    "verified_views.shape"
   ]
  },
  {
   "cell_type": "code",
   "execution_count": 26,
   "id": "aa9f21ac",
   "metadata": {},
   "outputs": [
    {
     "name": "stdout",
     "output_type": "stream",
     "text": [
      "Non verified account views:  265663.79\n",
      "Verified account views:  91439.16\n"
     ]
    }
   ],
   "source": [
    "# Calculate mean of either samples\n",
    "verified_mean = verified_views.mean()\n",
    "non_verified_mean = non_verified_views.mean()\n",
    "\n",
    "print('Non verified account views: ', round(non_verified_mean,2))\n",
    "print('Verified account views: ', round(verified_mean, 2))"
   ]
  },
  {
   "cell_type": "markdown",
   "id": "5cfa5bbe",
   "metadata": {},
   "source": [
    "### Choose confidence level\n",
    "\n",
    "* Confidence level is 95%  (Z Score of 1.96)\n",
    "* Confidence level is 99%  (Z Score of 2.576)\n",
    "\n",
    "### Calculate Std Error"
   ]
  },
  {
   "cell_type": "code",
   "execution_count": 29,
   "id": "6bbf9bd0",
   "metadata": {},
   "outputs": [
    {
     "name": "stdout",
     "output_type": "stream",
     "text": [
      "Std Error for Verified Acc views: 6383.726272925682\n",
      "Std Error for Non Verified Acc views: 2435.3493437842335\n"
     ]
    }
   ],
   "source": [
    "# Std Error:\n",
    "verified_std_error = verified_views.std() / np.sqrt(verified_views.shape[0])\n",
    "non_verified_std_error = non_verified_views.std() / np.sqrt(non_verified_views.shape[0])\n",
    "\n",
    "print('Std Error for Verified Acc views:', verified_std_error)\n",
    "print('Std Error for Non Verified Acc views:', non_verified_std_error)"
   ]
  },
  {
   "cell_type": "markdown",
   "id": "d8d7f746",
   "metadata": {},
   "source": [
    "### Build the confidence intervals:"
   ]
  },
  {
   "cell_type": "code",
   "execution_count": 38,
   "id": "cd0a8551",
   "metadata": {},
   "outputs": [
    {
     "name": "stdout",
     "output_type": "stream",
     "text": [
      "Mean range of views for Verified accounts: (78927.29058457022, 103951.03774876312)\n",
      "Mean range of views for Non Verified accounts:: (260890.58833526, 270436.9823424407)\n"
     ]
    }
   ],
   "source": [
    "verified_confidence = stats.norm.interval(alpha=0.95, scale = verified_std_error, loc=verified_mean)\n",
    "\n",
    "non_verified_confidence = stats.norm.interval(alpha=0.95, scale = non_verified_std_error, loc=non_verified_mean)\n",
    "\n",
    "print('Mean range of views for Verified accounts:', verified_confidence)\n",
    "print('Mean range of views for Non Verified accounts::', non_verified_confidence)"
   ]
  },
  {
   "cell_type": "markdown",
   "id": "87a40b7f",
   "metadata": {},
   "source": [
    "# A/B Testing:"
   ]
  },
  {
   "cell_type": "markdown",
   "id": "242695ac",
   "metadata": {},
   "source": [
    "### Calculate the mean statistic for number of views"
   ]
  },
  {
   "cell_type": "code",
   "execution_count": 32,
   "id": "e201a6f2",
   "metadata": {},
   "outputs": [
    {
     "name": "stdout",
     "output_type": "stream",
     "text": [
      "Mean Non verified account views:  265663.79\n",
      "Mean Verified account views:  91439.16\n"
     ]
    }
   ],
   "source": [
    "print('Mean Non verified account views: ', round(non_verified_mean,2))\n",
    "print('Mean Verified account views: ', round(verified_mean, 2))"
   ]
  },
  {
   "cell_type": "markdown",
   "id": "d2bae7f0",
   "metadata": {},
   "source": [
    "### State Hypothesis:\n",
    "\n",
    "* **Null hypothesis**: There is no difference in number of views between TikTok videos posted by verified accounts and TikTok videos posted by unverified accounts (any observed difference in the sample data is due to chance or sampling variability).\n",
    "* **Alternative hypothesis**: There is a difference in number of views between TikTok videos posted by verified accounts and TikTok videos posted by unverified accounts (any observed difference in the sample data is due to an actual difference in the corresponding population means).\n",
    "\n",
    "### Choose significance level:\n",
    "The probability of rejecting the null hypothesis if it is true OR the threshold at which consider our results to be statistically significant \n",
    "* Significance Level = 5%"
   ]
  },
  {
   "cell_type": "markdown",
   "id": "b58017ae",
   "metadata": {},
   "source": [
    "### Calculate p-value:\n"
   ]
  },
  {
   "cell_type": "code",
   "execution_count": 33,
   "id": "8028aa07",
   "metadata": {},
   "outputs": [
    {
     "data": {
      "text/plain": [
       "Ttest_indResult(statistic=-25.499441780633777, pvalue=2.6088823687177823e-120)"
      ]
     },
     "execution_count": 33,
     "metadata": {},
     "output_type": "execute_result"
    }
   ],
   "source": [
    "stats.ttest_ind(a=verified_views, b=non_verified_views, equal_var=False)"
   ]
  },
  {
   "cell_type": "markdown",
   "id": "8e53695b",
   "metadata": {},
   "source": [
    "\n",
    "\n",
    "> *Since our **P-value < Significance level** we reject our null hypothesis. Hence, our results are statiscally significant and not by chance alone.*"
   ]
  },
  {
   "cell_type": "markdown",
   "id": "28700127",
   "metadata": {},
   "source": [
    "## Conclusions:\n",
    "\n",
    "* The average viewership for non verfied accounts is significantly more (twice) than verified accounts.\n",
    "* The average viewership for verified account and non verified accounts is as follows:\n",
    "    - Verified accounts: (78927.29058457022, 103951.03774876312)\n",
    "    - Non Verified accounts: (260890.58833526, 270436.9823424407)\n",
    "* The analysis shows that there is a statistically significant difference in the average view counts between videos from verified accounts and videos from unverified accounts. This suggests there might be fundamental behavioral differences between these two groups of accounts.\n",
    "* It would be interesting to investigate the root cause of this behavioral difference. For example, \n",
    "    - Do unverified accounts tend to post more clickbait-y videos? \n",
    "    - Or are unverified accounts associated with spam bots that help inflate view counts?\n",
    "\n",
    "## Next Steps:\n",
    "- The next step will be to build a regression model on verified_status. A regression model is the natural next step because the end goal is to make predictions on claim status. A regression model for verified_status can help analyze user behavior in this group of verified users. \n",
    "- Technical note to prepare regression model: because the data is skewed, and there is a significant difference in account types, it will be key to build a logistic regression model"
   ]
  }
 ],
 "metadata": {
  "kernelspec": {
   "display_name": "Python 3 (ipykernel)",
   "language": "python",
   "name": "python3"
  },
  "language_info": {
   "codemirror_mode": {
    "name": "ipython",
    "version": 3
   },
   "file_extension": ".py",
   "mimetype": "text/x-python",
   "name": "python",
   "nbconvert_exporter": "python",
   "pygments_lexer": "ipython3",
   "version": "3.9.12"
  }
 },
 "nbformat": 4,
 "nbformat_minor": 5
}
