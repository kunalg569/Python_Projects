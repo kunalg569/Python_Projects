{
 "cells": [
  {
   "cell_type": "markdown",
   "id": "85988e34",
   "metadata": {},
   "source": [
    "<img src = 'tiktok.jpg' width = '300' height = '200' align = 'center'>\n",
    "\n",
    "# Background:\n",
    "\n",
    "You are a data professional at TikTok. The data team is working towards building a machine learning model that can be used to determine whether a video contains a claim or whether it offers an opinion. With a successful prediction model, TikTok can reduce the backlog of user reports and prioritize them more efficiently.\n",
    "\n",
    "The team is getting closer to completing the project, having completed an initial plan of action, initial Python coding work, EDA, and hypothesis testing.\n",
    "\n",
    "The TikTok team has reviewed the results of the hypothesis testing. TikTok’s Operations Lead, Maika Abadi, is interested in how different variables are associated with whether a user is verified. Earlier, the data team observed that if a user is verified, they are much more likely to post opinions. Now, the data team has decided to explore how to predict verified status to help them understand how video characteristics relate to verified users. Therefore, you have been asked to conduct a logistic regression using verified status as the outcome variable. The results may be used to inform the final model related to predicting whether a video is a claim vs an opinion.\n",
    "\n",
    "# Objective:\n",
    "To construct and evaluate a logistic regression model that predicts user verified status based on video characteristics, aiding in the distinction between claims and opinions in TikTok videos.\n",
    "\n",
    "\n",
    "# Goal: \n",
    "The goal is to build a logistic regression model and evaluate the model.\n",
    "Following is the procedure:\n",
    "\n",
    "- EDA & Checking Model Assumptions\n",
    "- Model Building and Evaluation\n",
    "- Interpreting Model Results\n",
    "- What key insights emerged from your model(s)?\n",
    "- What business recommendations do you propose based on the models built?"
   ]
  },
  {
   "cell_type": "code",
   "execution_count": 1,
   "id": "4e0f62fb",
   "metadata": {},
   "outputs": [],
   "source": [
    "# Import packages for data manipulation\n",
    "import pandas as pd\n",
    "import numpy as np\n",
    "\n",
    "# Import packages for data visualization\n",
    "import matplotlib.pyplot as plt\n",
    "import seaborn as sns\n",
    "\n",
    "# Import packages for data preprocessing\n",
    "from sklearn.preprocessing import OneHotEncoder\n",
    "from sklearn.feature_extraction.text import CountVectorizer, TfidfVectorizer\n",
    "from sklearn.utils import resample\n",
    "from sklearn.preprocessing import MinMaxScaler\n",
    "\n",
    "# Import packages for data modeling\n",
    "from sklearn.model_selection import train_test_split\n",
    "import statsmodels.api as sm\n",
    "from sklearn.linear_model import LogisticRegression\n",
    "from sklearn.metrics import classification_report\n",
    "from sklearn.metrics import confusion_matrix, ConfusionMatrixDisplay\n",
    "\n",
    "%matplotlib inline"
   ]
  },
  {
   "cell_type": "markdown",
   "id": "4bce44de",
   "metadata": {},
   "source": [
    "## Explore data with EDA"
   ]
  },
  {
   "cell_type": "code",
   "execution_count": 2,
   "id": "973a7972",
   "metadata": {},
   "outputs": [],
   "source": [
    "# Load dataset into dataframe\n",
    "data = pd.read_csv(\"tiktok_dataset.csv\")"
   ]
  },
  {
   "cell_type": "code",
   "execution_count": 3,
   "id": "638e8e85",
   "metadata": {},
   "outputs": [
    {
     "name": "stdout",
     "output_type": "stream",
     "text": [
      "<class 'pandas.core.frame.DataFrame'>\n",
      "RangeIndex: 19382 entries, 0 to 19381\n",
      "Data columns (total 12 columns):\n",
      " #   Column                    Non-Null Count  Dtype  \n",
      "---  ------                    --------------  -----  \n",
      " 0   #                         19382 non-null  int64  \n",
      " 1   claim_status              19084 non-null  object \n",
      " 2   video_id                  19382 non-null  int64  \n",
      " 3   video_duration_sec        19382 non-null  int64  \n",
      " 4   video_transcription_text  19084 non-null  object \n",
      " 5   verified_status           19382 non-null  object \n",
      " 6   author_ban_status         19382 non-null  object \n",
      " 7   video_view_count          19084 non-null  float64\n",
      " 8   video_like_count          19084 non-null  float64\n",
      " 9   video_share_count         19084 non-null  float64\n",
      " 10  video_download_count      19084 non-null  float64\n",
      " 11  video_comment_count       19084 non-null  float64\n",
      "dtypes: float64(5), int64(3), object(4)\n",
      "memory usage: 1.8+ MB\n"
     ]
    }
   ],
   "source": [
    "data.info()"
   ]
  },
  {
   "cell_type": "code",
   "execution_count": 4,
   "id": "70da0ab0",
   "metadata": {},
   "outputs": [
    {
     "data": {
      "text/html": [
       "<div>\n",
       "<style scoped>\n",
       "    .dataframe tbody tr th:only-of-type {\n",
       "        vertical-align: middle;\n",
       "    }\n",
       "\n",
       "    .dataframe tbody tr th {\n",
       "        vertical-align: top;\n",
       "    }\n",
       "\n",
       "    .dataframe thead th {\n",
       "        text-align: right;\n",
       "    }\n",
       "</style>\n",
       "<table border=\"1\" class=\"dataframe\">\n",
       "  <thead>\n",
       "    <tr style=\"text-align: right;\">\n",
       "      <th></th>\n",
       "      <th>#</th>\n",
       "      <th>claim_status</th>\n",
       "      <th>video_id</th>\n",
       "      <th>video_duration_sec</th>\n",
       "      <th>video_transcription_text</th>\n",
       "      <th>verified_status</th>\n",
       "      <th>author_ban_status</th>\n",
       "      <th>video_view_count</th>\n",
       "      <th>video_like_count</th>\n",
       "      <th>video_share_count</th>\n",
       "      <th>video_download_count</th>\n",
       "      <th>video_comment_count</th>\n",
       "    </tr>\n",
       "  </thead>\n",
       "  <tbody>\n",
       "    <tr>\n",
       "      <th>0</th>\n",
       "      <td>1</td>\n",
       "      <td>claim</td>\n",
       "      <td>7017666017</td>\n",
       "      <td>59</td>\n",
       "      <td>someone shared with me that drone deliveries a...</td>\n",
       "      <td>not verified</td>\n",
       "      <td>under review</td>\n",
       "      <td>343296.0</td>\n",
       "      <td>19425.0</td>\n",
       "      <td>241.0</td>\n",
       "      <td>1.0</td>\n",
       "      <td>0.0</td>\n",
       "    </tr>\n",
       "    <tr>\n",
       "      <th>1</th>\n",
       "      <td>2</td>\n",
       "      <td>claim</td>\n",
       "      <td>4014381136</td>\n",
       "      <td>32</td>\n",
       "      <td>someone shared with me that there are more mic...</td>\n",
       "      <td>not verified</td>\n",
       "      <td>active</td>\n",
       "      <td>140877.0</td>\n",
       "      <td>77355.0</td>\n",
       "      <td>19034.0</td>\n",
       "      <td>1161.0</td>\n",
       "      <td>684.0</td>\n",
       "    </tr>\n",
       "    <tr>\n",
       "      <th>2</th>\n",
       "      <td>3</td>\n",
       "      <td>claim</td>\n",
       "      <td>9859838091</td>\n",
       "      <td>31</td>\n",
       "      <td>someone shared with me that american industria...</td>\n",
       "      <td>not verified</td>\n",
       "      <td>active</td>\n",
       "      <td>902185.0</td>\n",
       "      <td>97690.0</td>\n",
       "      <td>2858.0</td>\n",
       "      <td>833.0</td>\n",
       "      <td>329.0</td>\n",
       "    </tr>\n",
       "    <tr>\n",
       "      <th>3</th>\n",
       "      <td>4</td>\n",
       "      <td>claim</td>\n",
       "      <td>1866847991</td>\n",
       "      <td>25</td>\n",
       "      <td>someone shared with me that the metro of st. p...</td>\n",
       "      <td>not verified</td>\n",
       "      <td>active</td>\n",
       "      <td>437506.0</td>\n",
       "      <td>239954.0</td>\n",
       "      <td>34812.0</td>\n",
       "      <td>1234.0</td>\n",
       "      <td>584.0</td>\n",
       "    </tr>\n",
       "    <tr>\n",
       "      <th>4</th>\n",
       "      <td>5</td>\n",
       "      <td>claim</td>\n",
       "      <td>7105231098</td>\n",
       "      <td>19</td>\n",
       "      <td>someone shared with me that the number of busi...</td>\n",
       "      <td>not verified</td>\n",
       "      <td>active</td>\n",
       "      <td>56167.0</td>\n",
       "      <td>34987.0</td>\n",
       "      <td>4110.0</td>\n",
       "      <td>547.0</td>\n",
       "      <td>152.0</td>\n",
       "    </tr>\n",
       "  </tbody>\n",
       "</table>\n",
       "</div>"
      ],
      "text/plain": [
       "   # claim_status    video_id  video_duration_sec  \\\n",
       "0  1        claim  7017666017                  59   \n",
       "1  2        claim  4014381136                  32   \n",
       "2  3        claim  9859838091                  31   \n",
       "3  4        claim  1866847991                  25   \n",
       "4  5        claim  7105231098                  19   \n",
       "\n",
       "                            video_transcription_text verified_status  \\\n",
       "0  someone shared with me that drone deliveries a...    not verified   \n",
       "1  someone shared with me that there are more mic...    not verified   \n",
       "2  someone shared with me that american industria...    not verified   \n",
       "3  someone shared with me that the metro of st. p...    not verified   \n",
       "4  someone shared with me that the number of busi...    not verified   \n",
       "\n",
       "  author_ban_status  video_view_count  video_like_count  video_share_count  \\\n",
       "0      under review          343296.0           19425.0              241.0   \n",
       "1            active          140877.0           77355.0            19034.0   \n",
       "2            active          902185.0           97690.0             2858.0   \n",
       "3            active          437506.0          239954.0            34812.0   \n",
       "4            active           56167.0           34987.0             4110.0   \n",
       "\n",
       "   video_download_count  video_comment_count  \n",
       "0                   1.0                  0.0  \n",
       "1                1161.0                684.0  \n",
       "2                 833.0                329.0  \n",
       "3                1234.0                584.0  \n",
       "4                 547.0                152.0  "
      ]
     },
     "execution_count": 4,
     "metadata": {},
     "output_type": "execute_result"
    }
   ],
   "source": [
    "data.head()"
   ]
  },
  {
   "cell_type": "code",
   "execution_count": 5,
   "id": "5f7331a5",
   "metadata": {},
   "outputs": [
    {
     "data": {
      "text/plain": [
       "#                             int64\n",
       "claim_status                 object\n",
       "video_id                      int64\n",
       "video_duration_sec            int64\n",
       "video_transcription_text     object\n",
       "verified_status              object\n",
       "author_ban_status            object\n",
       "video_view_count            float64\n",
       "video_like_count            float64\n",
       "video_share_count           float64\n",
       "video_download_count        float64\n",
       "video_comment_count         float64\n",
       "dtype: object"
      ]
     },
     "execution_count": 5,
     "metadata": {},
     "output_type": "execute_result"
    }
   ],
   "source": [
    "data.dtypes"
   ]
  },
  {
   "cell_type": "code",
   "execution_count": 6,
   "id": "b4599e88",
   "metadata": {},
   "outputs": [
    {
     "data": {
      "text/html": [
       "<div>\n",
       "<style scoped>\n",
       "    .dataframe tbody tr th:only-of-type {\n",
       "        vertical-align: middle;\n",
       "    }\n",
       "\n",
       "    .dataframe tbody tr th {\n",
       "        vertical-align: top;\n",
       "    }\n",
       "\n",
       "    .dataframe thead th {\n",
       "        text-align: right;\n",
       "    }\n",
       "</style>\n",
       "<table border=\"1\" class=\"dataframe\">\n",
       "  <thead>\n",
       "    <tr style=\"text-align: right;\">\n",
       "      <th></th>\n",
       "      <th>#</th>\n",
       "      <th>video_id</th>\n",
       "      <th>video_duration_sec</th>\n",
       "      <th>video_view_count</th>\n",
       "      <th>video_like_count</th>\n",
       "      <th>video_share_count</th>\n",
       "      <th>video_download_count</th>\n",
       "      <th>video_comment_count</th>\n",
       "    </tr>\n",
       "  </thead>\n",
       "  <tbody>\n",
       "    <tr>\n",
       "      <th>count</th>\n",
       "      <td>19382.000000</td>\n",
       "      <td>1.938200e+04</td>\n",
       "      <td>19382.000000</td>\n",
       "      <td>19084.000000</td>\n",
       "      <td>19084.000000</td>\n",
       "      <td>19084.000000</td>\n",
       "      <td>19084.000000</td>\n",
       "      <td>19084.000000</td>\n",
       "    </tr>\n",
       "    <tr>\n",
       "      <th>mean</th>\n",
       "      <td>9691.500000</td>\n",
       "      <td>5.627454e+09</td>\n",
       "      <td>32.421732</td>\n",
       "      <td>254708.558688</td>\n",
       "      <td>84304.636030</td>\n",
       "      <td>16735.248323</td>\n",
       "      <td>1049.429627</td>\n",
       "      <td>349.312146</td>\n",
       "    </tr>\n",
       "    <tr>\n",
       "      <th>std</th>\n",
       "      <td>5595.245794</td>\n",
       "      <td>2.536440e+09</td>\n",
       "      <td>16.229967</td>\n",
       "      <td>322893.280814</td>\n",
       "      <td>133420.546814</td>\n",
       "      <td>32036.174350</td>\n",
       "      <td>2004.299894</td>\n",
       "      <td>799.638865</td>\n",
       "    </tr>\n",
       "    <tr>\n",
       "      <th>min</th>\n",
       "      <td>1.000000</td>\n",
       "      <td>1.234959e+09</td>\n",
       "      <td>5.000000</td>\n",
       "      <td>20.000000</td>\n",
       "      <td>0.000000</td>\n",
       "      <td>0.000000</td>\n",
       "      <td>0.000000</td>\n",
       "      <td>0.000000</td>\n",
       "    </tr>\n",
       "    <tr>\n",
       "      <th>25%</th>\n",
       "      <td>4846.250000</td>\n",
       "      <td>3.430417e+09</td>\n",
       "      <td>18.000000</td>\n",
       "      <td>4942.500000</td>\n",
       "      <td>810.750000</td>\n",
       "      <td>115.000000</td>\n",
       "      <td>7.000000</td>\n",
       "      <td>1.000000</td>\n",
       "    </tr>\n",
       "    <tr>\n",
       "      <th>50%</th>\n",
       "      <td>9691.500000</td>\n",
       "      <td>5.618664e+09</td>\n",
       "      <td>32.000000</td>\n",
       "      <td>9954.500000</td>\n",
       "      <td>3403.500000</td>\n",
       "      <td>717.000000</td>\n",
       "      <td>46.000000</td>\n",
       "      <td>9.000000</td>\n",
       "    </tr>\n",
       "    <tr>\n",
       "      <th>75%</th>\n",
       "      <td>14536.750000</td>\n",
       "      <td>7.843960e+09</td>\n",
       "      <td>47.000000</td>\n",
       "      <td>504327.000000</td>\n",
       "      <td>125020.000000</td>\n",
       "      <td>18222.000000</td>\n",
       "      <td>1156.250000</td>\n",
       "      <td>292.000000</td>\n",
       "    </tr>\n",
       "    <tr>\n",
       "      <th>max</th>\n",
       "      <td>19382.000000</td>\n",
       "      <td>9.999873e+09</td>\n",
       "      <td>60.000000</td>\n",
       "      <td>999817.000000</td>\n",
       "      <td>657830.000000</td>\n",
       "      <td>256130.000000</td>\n",
       "      <td>14994.000000</td>\n",
       "      <td>9599.000000</td>\n",
       "    </tr>\n",
       "  </tbody>\n",
       "</table>\n",
       "</div>"
      ],
      "text/plain": [
       "                  #      video_id  video_duration_sec  video_view_count  \\\n",
       "count  19382.000000  1.938200e+04        19382.000000      19084.000000   \n",
       "mean    9691.500000  5.627454e+09           32.421732     254708.558688   \n",
       "std     5595.245794  2.536440e+09           16.229967     322893.280814   \n",
       "min        1.000000  1.234959e+09            5.000000         20.000000   \n",
       "25%     4846.250000  3.430417e+09           18.000000       4942.500000   \n",
       "50%     9691.500000  5.618664e+09           32.000000       9954.500000   \n",
       "75%    14536.750000  7.843960e+09           47.000000     504327.000000   \n",
       "max    19382.000000  9.999873e+09           60.000000     999817.000000   \n",
       "\n",
       "       video_like_count  video_share_count  video_download_count  \\\n",
       "count      19084.000000       19084.000000          19084.000000   \n",
       "mean       84304.636030       16735.248323           1049.429627   \n",
       "std       133420.546814       32036.174350           2004.299894   \n",
       "min            0.000000           0.000000              0.000000   \n",
       "25%          810.750000         115.000000              7.000000   \n",
       "50%         3403.500000         717.000000             46.000000   \n",
       "75%       125020.000000       18222.000000           1156.250000   \n",
       "max       657830.000000      256130.000000          14994.000000   \n",
       "\n",
       "       video_comment_count  \n",
       "count         19084.000000  \n",
       "mean            349.312146  \n",
       "std             799.638865  \n",
       "min               0.000000  \n",
       "25%               1.000000  \n",
       "50%               9.000000  \n",
       "75%             292.000000  \n",
       "max            9599.000000  "
      ]
     },
     "execution_count": 6,
     "metadata": {},
     "output_type": "execute_result"
    }
   ],
   "source": [
    "data.describe()"
   ]
  },
  {
   "cell_type": "code",
   "execution_count": 7,
   "id": "3cb9f3ce",
   "metadata": {},
   "outputs": [
    {
     "data": {
      "text/html": [
       "<div>\n",
       "<style scoped>\n",
       "    .dataframe tbody tr th:only-of-type {\n",
       "        vertical-align: middle;\n",
       "    }\n",
       "\n",
       "    .dataframe tbody tr th {\n",
       "        vertical-align: top;\n",
       "    }\n",
       "\n",
       "    .dataframe thead th {\n",
       "        text-align: right;\n",
       "    }\n",
       "</style>\n",
       "<table border=\"1\" class=\"dataframe\">\n",
       "  <thead>\n",
       "    <tr style=\"text-align: right;\">\n",
       "      <th></th>\n",
       "      <th>perecntage_nulls</th>\n",
       "      <th>total_nulls</th>\n",
       "    </tr>\n",
       "  </thead>\n",
       "  <tbody>\n",
       "    <tr>\n",
       "      <th>#</th>\n",
       "      <td>0.000000</td>\n",
       "      <td>0</td>\n",
       "    </tr>\n",
       "    <tr>\n",
       "      <th>claim_status</th>\n",
       "      <td>1.537509</td>\n",
       "      <td>298</td>\n",
       "    </tr>\n",
       "    <tr>\n",
       "      <th>video_id</th>\n",
       "      <td>0.000000</td>\n",
       "      <td>0</td>\n",
       "    </tr>\n",
       "    <tr>\n",
       "      <th>video_duration_sec</th>\n",
       "      <td>0.000000</td>\n",
       "      <td>0</td>\n",
       "    </tr>\n",
       "    <tr>\n",
       "      <th>video_transcription_text</th>\n",
       "      <td>1.537509</td>\n",
       "      <td>298</td>\n",
       "    </tr>\n",
       "    <tr>\n",
       "      <th>verified_status</th>\n",
       "      <td>0.000000</td>\n",
       "      <td>0</td>\n",
       "    </tr>\n",
       "    <tr>\n",
       "      <th>author_ban_status</th>\n",
       "      <td>0.000000</td>\n",
       "      <td>0</td>\n",
       "    </tr>\n",
       "    <tr>\n",
       "      <th>video_view_count</th>\n",
       "      <td>1.537509</td>\n",
       "      <td>298</td>\n",
       "    </tr>\n",
       "    <tr>\n",
       "      <th>video_like_count</th>\n",
       "      <td>1.537509</td>\n",
       "      <td>298</td>\n",
       "    </tr>\n",
       "    <tr>\n",
       "      <th>video_share_count</th>\n",
       "      <td>1.537509</td>\n",
       "      <td>298</td>\n",
       "    </tr>\n",
       "    <tr>\n",
       "      <th>video_download_count</th>\n",
       "      <td>1.537509</td>\n",
       "      <td>298</td>\n",
       "    </tr>\n",
       "    <tr>\n",
       "      <th>video_comment_count</th>\n",
       "      <td>1.537509</td>\n",
       "      <td>298</td>\n",
       "    </tr>\n",
       "  </tbody>\n",
       "</table>\n",
       "</div>"
      ],
      "text/plain": [
       "                          perecntage_nulls  total_nulls\n",
       "#                                 0.000000            0\n",
       "claim_status                      1.537509          298\n",
       "video_id                          0.000000            0\n",
       "video_duration_sec                0.000000            0\n",
       "video_transcription_text          1.537509          298\n",
       "verified_status                   0.000000            0\n",
       "author_ban_status                 0.000000            0\n",
       "video_view_count                  1.537509          298\n",
       "video_like_count                  1.537509          298\n",
       "video_share_count                 1.537509          298\n",
       "video_download_count              1.537509          298\n",
       "video_comment_count               1.537509          298"
      ]
     },
     "execution_count": 7,
     "metadata": {},
     "output_type": "execute_result"
    }
   ],
   "source": [
    "# Dataframe for Nulls and their percentage in column \n",
    "nulls = pd.DataFrame(data.isnull().sum()/data.shape[0]*100, columns = ['perecntage_nulls'])\n",
    "nulls['total_nulls'] = data.isnull().sum()\n",
    "nulls"
   ]
  },
  {
   "cell_type": "markdown",
   "id": "eea96547",
   "metadata": {},
   "source": [
    "**Observation**:\n",
    "- We have 1.5 missing values which is negligible. Hence we will simply drop them"
   ]
  },
  {
   "cell_type": "code",
   "execution_count": 8,
   "id": "bd72878b",
   "metadata": {},
   "outputs": [],
   "source": [
    "# Drop NULLS\n",
    "data = data.dropna(axis=0)"
   ]
  },
  {
   "cell_type": "code",
   "execution_count": 9,
   "id": "78ec729c",
   "metadata": {},
   "outputs": [
    {
     "data": {
      "text/plain": [
       "#                           0\n",
       "claim_status                0\n",
       "video_id                    0\n",
       "video_duration_sec          0\n",
       "video_transcription_text    0\n",
       "verified_status             0\n",
       "author_ban_status           0\n",
       "video_view_count            0\n",
       "video_like_count            0\n",
       "video_share_count           0\n",
       "video_download_count        0\n",
       "video_comment_count         0\n",
       "dtype: int64"
      ]
     },
     "execution_count": 9,
     "metadata": {},
     "output_type": "execute_result"
    }
   ],
   "source": [
    "data.isnull().sum()"
   ]
  },
  {
   "cell_type": "code",
   "execution_count": 10,
   "id": "282f5d8b",
   "metadata": {},
   "outputs": [
    {
     "name": "stdout",
     "output_type": "stream",
     "text": [
      "<class 'pandas.core.frame.DataFrame'>\n",
      "Int64Index: 19084 entries, 0 to 19083\n",
      "Data columns (total 12 columns):\n",
      " #   Column                    Non-Null Count  Dtype  \n",
      "---  ------                    --------------  -----  \n",
      " 0   #                         19084 non-null  int64  \n",
      " 1   claim_status              19084 non-null  object \n",
      " 2   video_id                  19084 non-null  int64  \n",
      " 3   video_duration_sec        19084 non-null  int64  \n",
      " 4   video_transcription_text  19084 non-null  object \n",
      " 5   verified_status           19084 non-null  object \n",
      " 6   author_ban_status         19084 non-null  object \n",
      " 7   video_view_count          19084 non-null  float64\n",
      " 8   video_like_count          19084 non-null  float64\n",
      " 9   video_share_count         19084 non-null  float64\n",
      " 10  video_download_count      19084 non-null  float64\n",
      " 11  video_comment_count       19084 non-null  float64\n",
      "dtypes: float64(5), int64(3), object(4)\n",
      "memory usage: 1.9+ MB\n"
     ]
    }
   ],
   "source": [
    "data.info()"
   ]
  },
  {
   "cell_type": "code",
   "execution_count": 11,
   "id": "2dc3a804",
   "metadata": {},
   "outputs": [],
   "source": [
    "# Removing duplicates:\n",
    "data.drop_duplicates(inplace=True)"
   ]
  },
  {
   "cell_type": "code",
   "execution_count": 12,
   "id": "87575d18",
   "metadata": {},
   "outputs": [
    {
     "name": "stdout",
     "output_type": "stream",
     "text": [
      "<class 'pandas.core.frame.DataFrame'>\n",
      "Int64Index: 19084 entries, 0 to 19083\n",
      "Data columns (total 12 columns):\n",
      " #   Column                    Non-Null Count  Dtype  \n",
      "---  ------                    --------------  -----  \n",
      " 0   #                         19084 non-null  int64  \n",
      " 1   claim_status              19084 non-null  object \n",
      " 2   video_id                  19084 non-null  int64  \n",
      " 3   video_duration_sec        19084 non-null  int64  \n",
      " 4   video_transcription_text  19084 non-null  object \n",
      " 5   verified_status           19084 non-null  object \n",
      " 6   author_ban_status         19084 non-null  object \n",
      " 7   video_view_count          19084 non-null  float64\n",
      " 8   video_like_count          19084 non-null  float64\n",
      " 9   video_share_count         19084 non-null  float64\n",
      " 10  video_download_count      19084 non-null  float64\n",
      " 11  video_comment_count       19084 non-null  float64\n",
      "dtypes: float64(5), int64(3), object(4)\n",
      "memory usage: 1.9+ MB\n"
     ]
    }
   ],
   "source": [
    "data.info()"
   ]
  },
  {
   "cell_type": "code",
   "execution_count": 13,
   "id": "513bf620",
   "metadata": {},
   "outputs": [
    {
     "data": {
      "image/png": "[encoded data removed]",
      "text/plain": [
       "<Figure size 720x432 with 1 Axes>"
      ]
     },
     "metadata": {
      "needs_background": "light"
     },
     "output_type": "display_data"
    },
    {
     "data": {
      "image/png": "[encoded data removed]",
      "text/plain": [
       "<Figure size 720x432 with 1 Axes>"
      ]
     },
     "metadata": {
      "needs_background": "light"
     },
     "output_type": "display_data"
    },
    {
     "data": {
      "image/png": "[encoded data removed]",
      "text/plain": [
       "<Figure size 720x432 with 1 Axes>"
      ]
     },
     "metadata": {
      "needs_background": "light"
     },
     "output_type": "display_data"
    },
    {
     "data": {
      "image/png": "[encoded data removed]",
      "text/plain": [
       "<Figure size 720x432 with 1 Axes>"
      ]
     },
     "metadata": {
      "needs_background": "light"
     },
     "output_type": "display_data"
    },
    {
     "data": {
      "image/png": "[encoded data removed]",
      "text/plain": [
       "<Figure size 720x432 with 1 Axes>"
      ]
     },
     "metadata": {
      "needs_background": "light"
     },
     "output_type": "display_data"
    },
    {
     "data": {
      "image/png": "[encoded data removed]",
      "text/plain": [
       "<Figure size 720x432 with 1 Axes>"
      ]
     },
     "metadata": {
      "needs_background": "light"
     },
     "output_type": "display_data"
    }
   ],
   "source": [
    "cols = ['video_duration_sec', 'video_view_count', 'video_like_count', \n",
    "        'video_share_count', 'video_download_count', 'video_comment_count']\n",
    "\n",
    "for i in cols:\n",
    "    plt.figure(figsize=(10, 6))  # Set the figure size for better visibility\n",
    "    sns.boxplot(x=data[i])\n",
    "    plt.title(f'Distribution of {i.replace(\"_\", \" \").title()}')  # Setting a title for each boxplot\n",
    "    plt.xlabel(i.replace(\"_\", \" \").title())  \n",
    "    plt.ylabel('Count') \n",
    "    plt.show()  # Display the plot and then clear the figure for the next iteration\n"
   ]
  },
  {
   "cell_type": "markdown",
   "id": "a6a453ca",
   "metadata": {},
   "source": [
    "### Capping Outliers for video_like_count, video_comment_count, video_share_count, video_download_count"
   ]
  },
  {
   "cell_type": "code",
   "execution_count": 14,
   "id": "c978af56",
   "metadata": {},
   "outputs": [],
   "source": [
    "# Capping video Likes count\n",
    "percentile25_1 = data['video_like_count'].quantile(0.25)\n",
    "percentile75_1 = data['video_like_count'].quantile(0.75)\n",
    "iqr_1 = percentile75_1 - percentile25_1\n",
    "upper_limit_1 = percentile75_1 + 1.5 * iqr_1\n",
    "data.loc[data['video_like_count'] > upper_limit_1, 'video_like_count'] = upper_limit_1\n",
    "\n",
    "# Capping video Comments count\n",
    "percentile25_2 = data['video_comment_count'].quantile(0.25)\n",
    "percentile75_2 = data['video_comment_count'].quantile(0.75)\n",
    "iqr_2 = percentile75_2 - percentile25_2\n",
    "upper_limit_2 = percentile75_2 + 1.5 * iqr_2\n",
    "data.loc[data['video_comment_count'] > upper_limit_2, 'video_comment_count'] = upper_limit_2\n",
    "\n",
    "# Capping video Share count\n",
    "percentile25_3 = data['video_share_count'].quantile(0.25)\n",
    "percentile75_3 = data['video_share_count'].quantile(0.75)\n",
    "iqr_3 = percentile75_3 - percentile25_3\n",
    "upper_limit_3 = percentile75_3 + 1.5 * iqr_3\n",
    "data.loc[data['video_share_count'] > upper_limit_3, 'video_share_count'] = upper_limit_3\n",
    "\n",
    "# Capping video Download count\n",
    "percentile25_4 = data['video_download_count'].quantile(0.25)\n",
    "percentile75_4 = data['video_download_count'].quantile(0.75)\n",
    "iqr_4 = percentile75_4 - percentile25_4\n",
    "upper_limit_4 = percentile75_4 + 1.5 * iqr_4\n",
    "data.loc[data['video_download_count'] > upper_limit_4, 'video_download_count'] = upper_limit_4"
   ]
  },
  {
   "cell_type": "code",
   "execution_count": 15,
   "id": "6bb9c3ae",
   "metadata": {},
   "outputs": [
    {
     "data": {
      "text/html": [
       "<div>\n",
       "<style scoped>\n",
       "    .dataframe tbody tr th:only-of-type {\n",
       "        vertical-align: middle;\n",
       "    }\n",
       "\n",
       "    .dataframe tbody tr th {\n",
       "        vertical-align: top;\n",
       "    }\n",
       "\n",
       "    .dataframe thead th {\n",
       "        text-align: right;\n",
       "    }\n",
       "</style>\n",
       "<table border=\"1\" class=\"dataframe\">\n",
       "  <thead>\n",
       "    <tr style=\"text-align: right;\">\n",
       "      <th></th>\n",
       "      <th>#</th>\n",
       "      <th>video_id</th>\n",
       "      <th>video_duration_sec</th>\n",
       "      <th>video_view_count</th>\n",
       "      <th>video_like_count</th>\n",
       "      <th>video_share_count</th>\n",
       "      <th>video_download_count</th>\n",
       "      <th>video_comment_count</th>\n",
       "    </tr>\n",
       "  </thead>\n",
       "  <tbody>\n",
       "    <tr>\n",
       "      <th>count</th>\n",
       "      <td>19084.000000</td>\n",
       "      <td>1.908400e+04</td>\n",
       "      <td>19084.000000</td>\n",
       "      <td>19084.000000</td>\n",
       "      <td>19084.000000</td>\n",
       "      <td>19084.000000</td>\n",
       "      <td>19084.000000</td>\n",
       "      <td>19084.000000</td>\n",
       "    </tr>\n",
       "    <tr>\n",
       "      <th>mean</th>\n",
       "      <td>9542.500000</td>\n",
       "      <td>5.624840e+09</td>\n",
       "      <td>32.423811</td>\n",
       "      <td>254708.558688</td>\n",
       "      <td>74323.538632</td>\n",
       "      <td>11246.910082</td>\n",
       "      <td>713.444836</td>\n",
       "      <td>181.023501</td>\n",
       "    </tr>\n",
       "    <tr>\n",
       "      <th>std</th>\n",
       "      <td>5509.220604</td>\n",
       "      <td>2.537030e+09</td>\n",
       "      <td>16.226470</td>\n",
       "      <td>322893.280814</td>\n",
       "      <td>107103.555220</td>\n",
       "      <td>16573.533466</td>\n",
       "      <td>1049.881393</td>\n",
       "      <td>272.084766</td>\n",
       "    </tr>\n",
       "    <tr>\n",
       "      <th>min</th>\n",
       "      <td>1.000000</td>\n",
       "      <td>1.234959e+09</td>\n",
       "      <td>5.000000</td>\n",
       "      <td>20.000000</td>\n",
       "      <td>0.000000</td>\n",
       "      <td>0.000000</td>\n",
       "      <td>0.000000</td>\n",
       "      <td>0.000000</td>\n",
       "    </tr>\n",
       "    <tr>\n",
       "      <th>25%</th>\n",
       "      <td>4771.750000</td>\n",
       "      <td>3.425100e+09</td>\n",
       "      <td>18.000000</td>\n",
       "      <td>4942.500000</td>\n",
       "      <td>810.750000</td>\n",
       "      <td>115.000000</td>\n",
       "      <td>7.000000</td>\n",
       "      <td>1.000000</td>\n",
       "    </tr>\n",
       "    <tr>\n",
       "      <th>50%</th>\n",
       "      <td>9542.500000</td>\n",
       "      <td>5.609500e+09</td>\n",
       "      <td>32.000000</td>\n",
       "      <td>9954.500000</td>\n",
       "      <td>3403.500000</td>\n",
       "      <td>717.000000</td>\n",
       "      <td>46.000000</td>\n",
       "      <td>9.000000</td>\n",
       "    </tr>\n",
       "    <tr>\n",
       "      <th>75%</th>\n",
       "      <td>14313.250000</td>\n",
       "      <td>7.840823e+09</td>\n",
       "      <td>47.000000</td>\n",
       "      <td>504327.000000</td>\n",
       "      <td>125020.000000</td>\n",
       "      <td>18222.000000</td>\n",
       "      <td>1156.250000</td>\n",
       "      <td>292.000000</td>\n",
       "    </tr>\n",
       "    <tr>\n",
       "      <th>max</th>\n",
       "      <td>19084.000000</td>\n",
       "      <td>9.999873e+09</td>\n",
       "      <td>60.000000</td>\n",
       "      <td>999817.000000</td>\n",
       "      <td>311333.875000</td>\n",
       "      <td>45382.500000</td>\n",
       "      <td>2880.125000</td>\n",
       "      <td>728.500000</td>\n",
       "    </tr>\n",
       "  </tbody>\n",
       "</table>\n",
       "</div>"
      ],
      "text/plain": [
       "                  #      video_id  video_duration_sec  video_view_count  \\\n",
       "count  19084.000000  1.908400e+04        19084.000000      19084.000000   \n",
       "mean    9542.500000  5.624840e+09           32.423811     254708.558688   \n",
       "std     5509.220604  2.537030e+09           16.226470     322893.280814   \n",
       "min        1.000000  1.234959e+09            5.000000         20.000000   \n",
       "25%     4771.750000  3.425100e+09           18.000000       4942.500000   \n",
       "50%     9542.500000  5.609500e+09           32.000000       9954.500000   \n",
       "75%    14313.250000  7.840823e+09           47.000000     504327.000000   \n",
       "max    19084.000000  9.999873e+09           60.000000     999817.000000   \n",
       "\n",
       "       video_like_count  video_share_count  video_download_count  \\\n",
       "count      19084.000000       19084.000000          19084.000000   \n",
       "mean       74323.538632       11246.910082            713.444836   \n",
       "std       107103.555220       16573.533466           1049.881393   \n",
       "min            0.000000           0.000000              0.000000   \n",
       "25%          810.750000         115.000000              7.000000   \n",
       "50%         3403.500000         717.000000             46.000000   \n",
       "75%       125020.000000       18222.000000           1156.250000   \n",
       "max       311333.875000       45382.500000           2880.125000   \n",
       "\n",
       "       video_comment_count  \n",
       "count         19084.000000  \n",
       "mean            181.023501  \n",
       "std             272.084766  \n",
       "min               0.000000  \n",
       "25%               1.000000  \n",
       "50%               9.000000  \n",
       "75%             292.000000  \n",
       "max             728.500000  "
      ]
     },
     "execution_count": 15,
     "metadata": {},
     "output_type": "execute_result"
    }
   ],
   "source": [
    "data.describe()"
   ]
  },
  {
   "cell_type": "code",
   "execution_count": 16,
   "id": "5305bd5e",
   "metadata": {},
   "outputs": [
    {
     "name": "stdout",
     "output_type": "stream",
     "text": [
      "311333.875\n",
      "728.5\n",
      "45382.5\n",
      "2880.125\n"
     ]
    }
   ],
   "source": [
    "print(upper_limit_1)\n",
    "print(upper_limit_2)\n",
    "print(upper_limit_3)\n",
    "print(upper_limit_4)"
   ]
  },
  {
   "cell_type": "code",
   "execution_count": 17,
   "id": "01728a5b",
   "metadata": {},
   "outputs": [
    {
     "data": {
      "text/plain": [
       "#                           0\n",
       "claim_status                0\n",
       "video_id                    0\n",
       "video_duration_sec          0\n",
       "video_transcription_text    0\n",
       "verified_status             0\n",
       "author_ban_status           0\n",
       "video_view_count            0\n",
       "video_like_count            0\n",
       "video_share_count           0\n",
       "video_download_count        0\n",
       "video_comment_count         0\n",
       "dtype: int64"
      ]
     },
     "execution_count": 17,
     "metadata": {},
     "output_type": "execute_result"
    }
   ],
   "source": [
    "data.isnull().sum()"
   ]
  },
  {
   "cell_type": "markdown",
   "id": "9ba2b0e0",
   "metadata": {},
   "source": [
    "**Observation**\n",
    "- The max values have been replaced by the upper limits above"
   ]
  },
  {
   "cell_type": "code",
   "execution_count": 18,
   "id": "e05d1f4e",
   "metadata": {},
   "outputs": [
    {
     "data": {
      "text/html": [
       "<div>\n",
       "<style scoped>\n",
       "    .dataframe tbody tr th:only-of-type {\n",
       "        vertical-align: middle;\n",
       "    }\n",
       "\n",
       "    .dataframe tbody tr th {\n",
       "        vertical-align: top;\n",
       "    }\n",
       "\n",
       "    .dataframe thead th {\n",
       "        text-align: right;\n",
       "    }\n",
       "</style>\n",
       "<table border=\"1\" class=\"dataframe\">\n",
       "  <thead>\n",
       "    <tr style=\"text-align: right;\">\n",
       "      <th></th>\n",
       "      <th>claim_status</th>\n",
       "      <th>video_duration_sec</th>\n",
       "      <th>video_transcription_text</th>\n",
       "      <th>verified_status</th>\n",
       "      <th>author_ban_status</th>\n",
       "      <th>video_view_count</th>\n",
       "      <th>video_like_count</th>\n",
       "      <th>video_share_count</th>\n",
       "      <th>video_download_count</th>\n",
       "      <th>video_comment_count</th>\n",
       "    </tr>\n",
       "  </thead>\n",
       "  <tbody>\n",
       "    <tr>\n",
       "      <th>0</th>\n",
       "      <td>claim</td>\n",
       "      <td>59</td>\n",
       "      <td>someone shared with me that drone deliveries a...</td>\n",
       "      <td>not verified</td>\n",
       "      <td>under review</td>\n",
       "      <td>343296.0</td>\n",
       "      <td>19425.0</td>\n",
       "      <td>241.0</td>\n",
       "      <td>1.0</td>\n",
       "      <td>0.0</td>\n",
       "    </tr>\n",
       "    <tr>\n",
       "      <th>1</th>\n",
       "      <td>claim</td>\n",
       "      <td>32</td>\n",
       "      <td>someone shared with me that there are more mic...</td>\n",
       "      <td>not verified</td>\n",
       "      <td>active</td>\n",
       "      <td>140877.0</td>\n",
       "      <td>77355.0</td>\n",
       "      <td>19034.0</td>\n",
       "      <td>1161.0</td>\n",
       "      <td>684.0</td>\n",
       "    </tr>\n",
       "    <tr>\n",
       "      <th>2</th>\n",
       "      <td>claim</td>\n",
       "      <td>31</td>\n",
       "      <td>someone shared with me that american industria...</td>\n",
       "      <td>not verified</td>\n",
       "      <td>active</td>\n",
       "      <td>902185.0</td>\n",
       "      <td>97690.0</td>\n",
       "      <td>2858.0</td>\n",
       "      <td>833.0</td>\n",
       "      <td>329.0</td>\n",
       "    </tr>\n",
       "    <tr>\n",
       "      <th>3</th>\n",
       "      <td>claim</td>\n",
       "      <td>25</td>\n",
       "      <td>someone shared with me that the metro of st. p...</td>\n",
       "      <td>not verified</td>\n",
       "      <td>active</td>\n",
       "      <td>437506.0</td>\n",
       "      <td>239954.0</td>\n",
       "      <td>34812.0</td>\n",
       "      <td>1234.0</td>\n",
       "      <td>584.0</td>\n",
       "    </tr>\n",
       "    <tr>\n",
       "      <th>4</th>\n",
       "      <td>claim</td>\n",
       "      <td>19</td>\n",
       "      <td>someone shared with me that the number of busi...</td>\n",
       "      <td>not verified</td>\n",
       "      <td>active</td>\n",
       "      <td>56167.0</td>\n",
       "      <td>34987.0</td>\n",
       "      <td>4110.0</td>\n",
       "      <td>547.0</td>\n",
       "      <td>152.0</td>\n",
       "    </tr>\n",
       "  </tbody>\n",
       "</table>\n",
       "</div>"
      ],
      "text/plain": [
       "  claim_status  video_duration_sec  \\\n",
       "0        claim                  59   \n",
       "1        claim                  32   \n",
       "2        claim                  31   \n",
       "3        claim                  25   \n",
       "4        claim                  19   \n",
       "\n",
       "                            video_transcription_text verified_status  \\\n",
       "0  someone shared with me that drone deliveries a...    not verified   \n",
       "1  someone shared with me that there are more mic...    not verified   \n",
       "2  someone shared with me that american industria...    not verified   \n",
       "3  someone shared with me that the metro of st. p...    not verified   \n",
       "4  someone shared with me that the number of busi...    not verified   \n",
       "\n",
       "  author_ban_status  video_view_count  video_like_count  video_share_count  \\\n",
       "0      under review          343296.0           19425.0              241.0   \n",
       "1            active          140877.0           77355.0            19034.0   \n",
       "2            active          902185.0           97690.0             2858.0   \n",
       "3            active          437506.0          239954.0            34812.0   \n",
       "4            active           56167.0           34987.0             4110.0   \n",
       "\n",
       "   video_download_count  video_comment_count  \n",
       "0                   1.0                  0.0  \n",
       "1                1161.0                684.0  \n",
       "2                 833.0                329.0  \n",
       "3                1234.0                584.0  \n",
       "4                 547.0                152.0  "
      ]
     },
     "execution_count": 18,
     "metadata": {},
     "output_type": "execute_result"
    }
   ],
   "source": [
    "# Dropping redundant columns: '#', 'video_id'\n",
    "\n",
    "df_copy = data.drop(columns=['#', 'video_id'], axis = 1)\n",
    "\n",
    "df_copy.head()"
   ]
  },
  {
   "cell_type": "code",
   "execution_count": 19,
   "id": "fde6e8fa",
   "metadata": {},
   "outputs": [
    {
     "data": {
      "text/plain": [
       "not verified    0.93712\n",
       "verified        0.06288\n",
       "Name: verified_status, dtype: float64"
      ]
     },
     "execution_count": 19,
     "metadata": {},
     "output_type": "execute_result"
    }
   ],
   "source": [
    "# Check class balance:\n",
    "df_copy['verified_status'].value_counts(normalize = True)"
   ]
  },
  {
   "cell_type": "markdown",
   "id": "13880815",
   "metadata": {},
   "source": [
    "**Observation**:\n",
    "- Approximately 94.2% of the dataset represents videos posted by unverified accounts and 6.3% represents videos posted by verified accounts. So the outcome variable is not very balanced.\n",
    "\n",
    "We will resample the dataset to balance our outcome variable as follows:\n",
    "- Identify minority and majority class\n",
    "- Upsample minority class\n",
    "- Combine majority and unsample minority class"
   ]
  },
  {
   "cell_type": "code",
   "execution_count": 20,
   "id": "23d6735c",
   "metadata": {},
   "outputs": [
    {
     "data": {
      "text/html": [
       "<div>\n",
       "<style scoped>\n",
       "    .dataframe tbody tr th:only-of-type {\n",
       "        vertical-align: middle;\n",
       "    }\n",
       "\n",
       "    .dataframe tbody tr th {\n",
       "        vertical-align: top;\n",
       "    }\n",
       "\n",
       "    .dataframe thead th {\n",
       "        text-align: right;\n",
       "    }\n",
       "</style>\n",
       "<table border=\"1\" class=\"dataframe\">\n",
       "  <thead>\n",
       "    <tr style=\"text-align: right;\">\n",
       "      <th></th>\n",
       "      <th>claim_status</th>\n",
       "      <th>video_duration_sec</th>\n",
       "      <th>video_transcription_text</th>\n",
       "      <th>verified_status</th>\n",
       "      <th>author_ban_status</th>\n",
       "      <th>video_view_count</th>\n",
       "      <th>video_like_count</th>\n",
       "      <th>video_share_count</th>\n",
       "      <th>video_download_count</th>\n",
       "      <th>video_comment_count</th>\n",
       "    </tr>\n",
       "  </thead>\n",
       "  <tbody>\n",
       "    <tr>\n",
       "      <th>0</th>\n",
       "      <td>claim</td>\n",
       "      <td>59</td>\n",
       "      <td>someone shared with me that drone deliveries a...</td>\n",
       "      <td>not verified</td>\n",
       "      <td>under review</td>\n",
       "      <td>343296.0</td>\n",
       "      <td>19425.0</td>\n",
       "      <td>241.0</td>\n",
       "      <td>1.0</td>\n",
       "      <td>0.0</td>\n",
       "    </tr>\n",
       "    <tr>\n",
       "      <th>1</th>\n",
       "      <td>claim</td>\n",
       "      <td>32</td>\n",
       "      <td>someone shared with me that there are more mic...</td>\n",
       "      <td>not verified</td>\n",
       "      <td>active</td>\n",
       "      <td>140877.0</td>\n",
       "      <td>77355.0</td>\n",
       "      <td>19034.0</td>\n",
       "      <td>1161.0</td>\n",
       "      <td>684.0</td>\n",
       "    </tr>\n",
       "    <tr>\n",
       "      <th>2</th>\n",
       "      <td>claim</td>\n",
       "      <td>31</td>\n",
       "      <td>someone shared with me that american industria...</td>\n",
       "      <td>not verified</td>\n",
       "      <td>active</td>\n",
       "      <td>902185.0</td>\n",
       "      <td>97690.0</td>\n",
       "      <td>2858.0</td>\n",
       "      <td>833.0</td>\n",
       "      <td>329.0</td>\n",
       "    </tr>\n",
       "    <tr>\n",
       "      <th>3</th>\n",
       "      <td>claim</td>\n",
       "      <td>25</td>\n",
       "      <td>someone shared with me that the metro of st. p...</td>\n",
       "      <td>not verified</td>\n",
       "      <td>active</td>\n",
       "      <td>437506.0</td>\n",
       "      <td>239954.0</td>\n",
       "      <td>34812.0</td>\n",
       "      <td>1234.0</td>\n",
       "      <td>584.0</td>\n",
       "    </tr>\n",
       "    <tr>\n",
       "      <th>4</th>\n",
       "      <td>claim</td>\n",
       "      <td>19</td>\n",
       "      <td>someone shared with me that the number of busi...</td>\n",
       "      <td>not verified</td>\n",
       "      <td>active</td>\n",
       "      <td>56167.0</td>\n",
       "      <td>34987.0</td>\n",
       "      <td>4110.0</td>\n",
       "      <td>547.0</td>\n",
       "      <td>152.0</td>\n",
       "    </tr>\n",
       "  </tbody>\n",
       "</table>\n",
       "</div>"
      ],
      "text/plain": [
       "  claim_status  video_duration_sec  \\\n",
       "0        claim                  59   \n",
       "1        claim                  32   \n",
       "2        claim                  31   \n",
       "3        claim                  25   \n",
       "4        claim                  19   \n",
       "\n",
       "                            video_transcription_text verified_status  \\\n",
       "0  someone shared with me that drone deliveries a...    not verified   \n",
       "1  someone shared with me that there are more mic...    not verified   \n",
       "2  someone shared with me that american industria...    not verified   \n",
       "3  someone shared with me that the metro of st. p...    not verified   \n",
       "4  someone shared with me that the number of busi...    not verified   \n",
       "\n",
       "  author_ban_status  video_view_count  video_like_count  video_share_count  \\\n",
       "0      under review          343296.0           19425.0              241.0   \n",
       "1            active          140877.0           77355.0            19034.0   \n",
       "2            active          902185.0           97690.0             2858.0   \n",
       "3            active          437506.0          239954.0            34812.0   \n",
       "4            active           56167.0           34987.0             4110.0   \n",
       "\n",
       "   video_download_count  video_comment_count  \n",
       "0                   1.0                  0.0  \n",
       "1                1161.0                684.0  \n",
       "2                 833.0                329.0  \n",
       "3                1234.0                584.0  \n",
       "4                 547.0                152.0  "
      ]
     },
     "execution_count": 20,
     "metadata": {},
     "output_type": "execute_result"
    }
   ],
   "source": [
    "df = df_copy.copy()\n",
    "df.head()"
   ]
  },
  {
   "cell_type": "code",
   "execution_count": 21,
   "id": "12860668",
   "metadata": {},
   "outputs": [
    {
     "data": {
      "text/html": [
       "<div>\n",
       "<style scoped>\n",
       "    .dataframe tbody tr th:only-of-type {\n",
       "        vertical-align: middle;\n",
       "    }\n",
       "\n",
       "    .dataframe tbody tr th {\n",
       "        vertical-align: top;\n",
       "    }\n",
       "\n",
       "    .dataframe thead th {\n",
       "        text-align: right;\n",
       "    }\n",
       "</style>\n",
       "<table border=\"1\" class=\"dataframe\">\n",
       "  <thead>\n",
       "    <tr style=\"text-align: right;\">\n",
       "      <th></th>\n",
       "      <th>claim_status</th>\n",
       "      <th>video_duration_sec</th>\n",
       "      <th>video_transcription_text</th>\n",
       "      <th>verified_status</th>\n",
       "      <th>author_ban_status</th>\n",
       "      <th>video_view_count</th>\n",
       "      <th>video_like_count</th>\n",
       "      <th>video_share_count</th>\n",
       "      <th>video_download_count</th>\n",
       "      <th>video_comment_count</th>\n",
       "    </tr>\n",
       "  </thead>\n",
       "  <tbody>\n",
       "    <tr>\n",
       "      <th>0</th>\n",
       "      <td>claim</td>\n",
       "      <td>59</td>\n",
       "      <td>someone shared with me that drone deliveries a...</td>\n",
       "      <td>not verified</td>\n",
       "      <td>under review</td>\n",
       "      <td>343296.0</td>\n",
       "      <td>19425.0</td>\n",
       "      <td>241.0</td>\n",
       "      <td>1.0</td>\n",
       "      <td>0.0</td>\n",
       "    </tr>\n",
       "    <tr>\n",
       "      <th>1</th>\n",
       "      <td>claim</td>\n",
       "      <td>32</td>\n",
       "      <td>someone shared with me that there are more mic...</td>\n",
       "      <td>not verified</td>\n",
       "      <td>active</td>\n",
       "      <td>140877.0</td>\n",
       "      <td>77355.0</td>\n",
       "      <td>19034.0</td>\n",
       "      <td>1161.0</td>\n",
       "      <td>684.0</td>\n",
       "    </tr>\n",
       "    <tr>\n",
       "      <th>2</th>\n",
       "      <td>claim</td>\n",
       "      <td>31</td>\n",
       "      <td>someone shared with me that american industria...</td>\n",
       "      <td>not verified</td>\n",
       "      <td>active</td>\n",
       "      <td>902185.0</td>\n",
       "      <td>97690.0</td>\n",
       "      <td>2858.0</td>\n",
       "      <td>833.0</td>\n",
       "      <td>329.0</td>\n",
       "    </tr>\n",
       "    <tr>\n",
       "      <th>3</th>\n",
       "      <td>claim</td>\n",
       "      <td>25</td>\n",
       "      <td>someone shared with me that the metro of st. p...</td>\n",
       "      <td>not verified</td>\n",
       "      <td>active</td>\n",
       "      <td>437506.0</td>\n",
       "      <td>239954.0</td>\n",
       "      <td>34812.0</td>\n",
       "      <td>1234.0</td>\n",
       "      <td>584.0</td>\n",
       "    </tr>\n",
       "    <tr>\n",
       "      <th>4</th>\n",
       "      <td>claim</td>\n",
       "      <td>19</td>\n",
       "      <td>someone shared with me that the number of busi...</td>\n",
       "      <td>not verified</td>\n",
       "      <td>active</td>\n",
       "      <td>56167.0</td>\n",
       "      <td>34987.0</td>\n",
       "      <td>4110.0</td>\n",
       "      <td>547.0</td>\n",
       "      <td>152.0</td>\n",
       "    </tr>\n",
       "  </tbody>\n",
       "</table>\n",
       "</div>"
      ],
      "text/plain": [
       "  claim_status  video_duration_sec  \\\n",
       "0        claim                  59   \n",
       "1        claim                  32   \n",
       "2        claim                  31   \n",
       "3        claim                  25   \n",
       "4        claim                  19   \n",
       "\n",
       "                            video_transcription_text verified_status  \\\n",
       "0  someone shared with me that drone deliveries a...    not verified   \n",
       "1  someone shared with me that there are more mic...    not verified   \n",
       "2  someone shared with me that american industria...    not verified   \n",
       "3  someone shared with me that the metro of st. p...    not verified   \n",
       "4  someone shared with me that the number of busi...    not verified   \n",
       "\n",
       "  author_ban_status  video_view_count  video_like_count  video_share_count  \\\n",
       "0      under review          343296.0           19425.0              241.0   \n",
       "1            active          140877.0           77355.0            19034.0   \n",
       "2            active          902185.0           97690.0             2858.0   \n",
       "3            active          437506.0          239954.0            34812.0   \n",
       "4            active           56167.0           34987.0             4110.0   \n",
       "\n",
       "   video_download_count  video_comment_count  \n",
       "0                   1.0                  0.0  \n",
       "1                1161.0                684.0  \n",
       "2                 833.0                329.0  \n",
       "3                1234.0                584.0  \n",
       "4                 547.0                152.0  "
      ]
     },
     "execution_count": 21,
     "metadata": {},
     "output_type": "execute_result"
    }
   ],
   "source": [
    "# Minority and Majority Class\n",
    "data_minority = df[df['verified_status'] == 'verified']\n",
    "data_majority = df[df['verified_status'] == 'not verified']\n",
    "\n",
    "# Upsample minority class:\n",
    "data_upsample_minority = resample(data_minority, \n",
    "                                  replace=True, \n",
    "                                  n_samples = len(data_majority), \n",
    "                                  random_state=0)\n",
    "\n",
    "data_upsampled = pd.concat([data_majority, data_upsample_minority]).reset_index(drop = True)\n",
    "\n",
    "data_upsampled.head()"
   ]
  },
  {
   "cell_type": "code",
   "execution_count": 22,
   "id": "353728e1",
   "metadata": {},
   "outputs": [
    {
     "data": {
      "text/plain": [
       "((17884, 10), (1200, 10))"
      ]
     },
     "execution_count": 22,
     "metadata": {},
     "output_type": "execute_result"
    }
   ],
   "source": [
    "data_majority.shape, data_minority.shape"
   ]
  },
  {
   "cell_type": "code",
   "execution_count": 23,
   "id": "6175ff07",
   "metadata": {},
   "outputs": [
    {
     "data": {
      "text/plain": [
       "(17884, 10)"
      ]
     },
     "execution_count": 23,
     "metadata": {},
     "output_type": "execute_result"
    }
   ],
   "source": [
    "data_upsample_minority.shape"
   ]
  },
  {
   "cell_type": "code",
   "execution_count": 24,
   "id": "31f05a23",
   "metadata": {},
   "outputs": [
    {
     "data": {
      "text/plain": [
       "not verified    17884\n",
       "verified        17884\n",
       "Name: verified_status, dtype: int64"
      ]
     },
     "execution_count": 24,
     "metadata": {},
     "output_type": "execute_result"
    }
   ],
   "source": [
    "# Display new class counts\n",
    "data_upsampled[\"verified_status\"].value_counts()"
   ]
  },
  {
   "cell_type": "markdown",
   "id": "23308e63",
   "metadata": {},
   "source": [
    "**Observation**: \n",
    "- The minority class now has matching lengths with the majority class(18,142), thus balancing our outcome variable, verified status"
   ]
  },
  {
   "cell_type": "code",
   "execution_count": 25,
   "id": "da3a107c",
   "metadata": {},
   "outputs": [
    {
     "data": {
      "text/plain": [
       "not verified    0.5\n",
       "verified        0.5\n",
       "Name: verified_status, dtype: float64"
      ]
     },
     "execution_count": 25,
     "metadata": {},
     "output_type": "execute_result"
    }
   ],
   "source": [
    "# Check class balance:\n",
    "data_upsampled['verified_status'].value_counts(normalize = True)"
   ]
  },
  {
   "cell_type": "markdown",
   "id": "1eaaca19",
   "metadata": {},
   "source": [
    "## Feature Engineering:\n",
    "We use the mean length of the video transcription as a potential feature for our modelling since the mean length is almost even and not outlandishly uneven"
   ]
  },
  {
   "cell_type": "code",
   "execution_count": 26,
   "id": "c698f977",
   "metadata": {},
   "outputs": [
    {
     "data": {
      "text/html": [
       "<div>\n",
       "<style scoped>\n",
       "    .dataframe tbody tr th:only-of-type {\n",
       "        vertical-align: middle;\n",
       "    }\n",
       "\n",
       "    .dataframe tbody tr th {\n",
       "        vertical-align: top;\n",
       "    }\n",
       "\n",
       "    .dataframe thead th {\n",
       "        text-align: right;\n",
       "    }\n",
       "</style>\n",
       "<table border=\"1\" class=\"dataframe\">\n",
       "  <thead>\n",
       "    <tr style=\"text-align: right;\">\n",
       "      <th></th>\n",
       "      <th>video_transcription_text</th>\n",
       "    </tr>\n",
       "    <tr>\n",
       "      <th>verified_status</th>\n",
       "      <th></th>\n",
       "    </tr>\n",
       "  </thead>\n",
       "  <tbody>\n",
       "    <tr>\n",
       "      <th>not verified</th>\n",
       "      <td>89.401141</td>\n",
       "    </tr>\n",
       "    <tr>\n",
       "      <th>verified</th>\n",
       "      <td>84.569559</td>\n",
       "    </tr>\n",
       "  </tbody>\n",
       "</table>\n",
       "</div>"
      ],
      "text/plain": [
       "                 video_transcription_text\n",
       "verified_status                          \n",
       "not verified                    89.401141\n",
       "verified                        84.569559"
      ]
     },
     "execution_count": 26,
     "metadata": {},
     "output_type": "execute_result"
    }
   ],
   "source": [
    "data_upsampled[['verified_status', 'video_transcription_text']].groupby('verified_status').agg(lambda array: np.mean([len(text) for text in array]))"
   ]
  },
  {
   "cell_type": "code",
   "execution_count": 27,
   "id": "ccdcca46",
   "metadata": {},
   "outputs": [
    {
     "data": {
      "text/html": [
       "<div>\n",
       "<style scoped>\n",
       "    .dataframe tbody tr th:only-of-type {\n",
       "        vertical-align: middle;\n",
       "    }\n",
       "\n",
       "    .dataframe tbody tr th {\n",
       "        vertical-align: top;\n",
       "    }\n",
       "\n",
       "    .dataframe thead th {\n",
       "        text-align: right;\n",
       "    }\n",
       "</style>\n",
       "<table border=\"1\" class=\"dataframe\">\n",
       "  <thead>\n",
       "    <tr style=\"text-align: right;\">\n",
       "      <th></th>\n",
       "      <th>claim_status</th>\n",
       "      <th>video_duration_sec</th>\n",
       "      <th>video_transcription_text</th>\n",
       "      <th>verified_status</th>\n",
       "      <th>author_ban_status</th>\n",
       "      <th>video_view_count</th>\n",
       "      <th>video_like_count</th>\n",
       "      <th>video_share_count</th>\n",
       "      <th>video_download_count</th>\n",
       "      <th>video_comment_count</th>\n",
       "      <th>text_length</th>\n",
       "    </tr>\n",
       "  </thead>\n",
       "  <tbody>\n",
       "    <tr>\n",
       "      <th>0</th>\n",
       "      <td>claim</td>\n",
       "      <td>59</td>\n",
       "      <td>someone shared with me that drone deliveries a...</td>\n",
       "      <td>not verified</td>\n",
       "      <td>under review</td>\n",
       "      <td>343296.0</td>\n",
       "      <td>19425.0</td>\n",
       "      <td>241.0</td>\n",
       "      <td>1.0</td>\n",
       "      <td>0.0</td>\n",
       "      <td>97</td>\n",
       "    </tr>\n",
       "    <tr>\n",
       "      <th>1</th>\n",
       "      <td>claim</td>\n",
       "      <td>32</td>\n",
       "      <td>someone shared with me that there are more mic...</td>\n",
       "      <td>not verified</td>\n",
       "      <td>active</td>\n",
       "      <td>140877.0</td>\n",
       "      <td>77355.0</td>\n",
       "      <td>19034.0</td>\n",
       "      <td>1161.0</td>\n",
       "      <td>684.0</td>\n",
       "      <td>107</td>\n",
       "    </tr>\n",
       "    <tr>\n",
       "      <th>2</th>\n",
       "      <td>claim</td>\n",
       "      <td>31</td>\n",
       "      <td>someone shared with me that american industria...</td>\n",
       "      <td>not verified</td>\n",
       "      <td>active</td>\n",
       "      <td>902185.0</td>\n",
       "      <td>97690.0</td>\n",
       "      <td>2858.0</td>\n",
       "      <td>833.0</td>\n",
       "      <td>329.0</td>\n",
       "      <td>137</td>\n",
       "    </tr>\n",
       "    <tr>\n",
       "      <th>3</th>\n",
       "      <td>claim</td>\n",
       "      <td>25</td>\n",
       "      <td>someone shared with me that the metro of st. p...</td>\n",
       "      <td>not verified</td>\n",
       "      <td>active</td>\n",
       "      <td>437506.0</td>\n",
       "      <td>239954.0</td>\n",
       "      <td>34812.0</td>\n",
       "      <td>1234.0</td>\n",
       "      <td>584.0</td>\n",
       "      <td>131</td>\n",
       "    </tr>\n",
       "    <tr>\n",
       "      <th>4</th>\n",
       "      <td>claim</td>\n",
       "      <td>19</td>\n",
       "      <td>someone shared with me that the number of busi...</td>\n",
       "      <td>not verified</td>\n",
       "      <td>active</td>\n",
       "      <td>56167.0</td>\n",
       "      <td>34987.0</td>\n",
       "      <td>4110.0</td>\n",
       "      <td>547.0</td>\n",
       "      <td>152.0</td>\n",
       "      <td>128</td>\n",
       "    </tr>\n",
       "  </tbody>\n",
       "</table>\n",
       "</div>"
      ],
      "text/plain": [
       "  claim_status  video_duration_sec  \\\n",
       "0        claim                  59   \n",
       "1        claim                  32   \n",
       "2        claim                  31   \n",
       "3        claim                  25   \n",
       "4        claim                  19   \n",
       "\n",
       "                            video_transcription_text verified_status  \\\n",
       "0  someone shared with me that drone deliveries a...    not verified   \n",
       "1  someone shared with me that there are more mic...    not verified   \n",
       "2  someone shared with me that american industria...    not verified   \n",
       "3  someone shared with me that the metro of st. p...    not verified   \n",
       "4  someone shared with me that the number of busi...    not verified   \n",
       "\n",
       "  author_ban_status  video_view_count  video_like_count  video_share_count  \\\n",
       "0      under review          343296.0           19425.0              241.0   \n",
       "1            active          140877.0           77355.0            19034.0   \n",
       "2            active          902185.0           97690.0             2858.0   \n",
       "3            active          437506.0          239954.0            34812.0   \n",
       "4            active           56167.0           34987.0             4110.0   \n",
       "\n",
       "   video_download_count  video_comment_count  text_length  \n",
       "0                   1.0                  0.0           97  \n",
       "1                1161.0                684.0          107  \n",
       "2                 833.0                329.0          137  \n",
       "3                1234.0                584.0          131  \n",
       "4                 547.0                152.0          128  "
      ]
     },
     "execution_count": 27,
     "metadata": {},
     "output_type": "execute_result"
    }
   ],
   "source": [
    "# Extract the length of each `video_transcription_text` and add this as a column to the dataframe\n",
    "data_upsampled[\"text_length\"] = data_upsampled[\"video_transcription_text\"].apply(func=lambda text: len(text))\n",
    "\n",
    "data_upsampled.head()"
   ]
  },
  {
   "cell_type": "code",
   "execution_count": 28,
   "id": "1bebeb53",
   "metadata": {},
   "outputs": [
    {
     "data": {
      "text/plain": [
       "Text(0.5, 0, 'Text Length(num of characters)')"
      ]
     },
     "execution_count": 28,
     "metadata": {},
     "output_type": "execute_result"
    },
    {
     "data": {
      "image/png": "[encoded data removed]",
      "text/plain": [
       "<Figure size 720x504 with 1 Axes>"
      ]
     },
     "metadata": {
      "needs_background": "light"
     },
     "output_type": "display_data"
    }
   ],
   "source": [
    "plt.figure(figsize = (10,7))\n",
    "sns.histplot(data=data_upsampled, \n",
    "            stat=\"count\", \n",
    "            multiple=\"stack\", \n",
    "            x=\"text_length\", \n",
    "            kde=False, \n",
    "            palette=\"viridis\", \n",
    "            hue=\"verified_status\", \n",
    "            element=\"bars\", \n",
    "            legend=True)\n",
    "plt.title('Distribution of text length for unverified and verified accounts', size = 16)\n",
    "plt.xlabel('Text Length(num of characters)', size = 12)"
   ]
  },
  {
   "cell_type": "markdown",
   "id": "67d9ffbb",
   "metadata": {},
   "source": [
    "**Observation**:\n",
    "- The text length is normally distrbuted without skewing on the either side. This also confirm that we dont have any outliers with respect to the length of the text.\n",
    "- This was indicative since the mean text length is somewhat similar for verified and not verified accounts(*84 and 89 respectively*)"
   ]
  },
  {
   "cell_type": "markdown",
   "id": "172ff260",
   "metadata": {},
   "source": [
    "One of the model assumptions for logistic regression is no severe multicollinearity among the features."
   ]
  },
  {
   "cell_type": "code",
   "execution_count": 29,
   "id": "f895adf5",
   "metadata": {},
   "outputs": [
    {
     "data": {
      "text/plain": [
       "Text(0.5, 1.0, 'Heatmap of Correlation')"
      ]
     },
     "execution_count": 29,
     "metadata": {},
     "output_type": "execute_result"
    },
    {
     "data": {
      "image/png": "[encoded data removed]",
      "text/plain": [
       "<Figure size 720x432 with 2 Axes>"
      ]
     },
     "metadata": {
      "needs_background": "light"
     },
     "output_type": "display_data"
    }
   ],
   "source": [
    "# Check for correaltions before modelling:\n",
    "plt.figure(figsize = (10,6))\n",
    "sns.heatmap(data_upsampled.corr(), annot=True)\n",
    "plt.title('Heatmap of Correlation', size = 15)"
   ]
  },
  {
   "cell_type": "markdown",
   "id": "e95f9c0a",
   "metadata": {},
   "source": [
    "**Observation**:\n",
    "- We have high multicollineairty in our dataset\n",
    "- We will resolve this using Recursive Feature Elimination technique \n",
    "\n",
    "First we will encode our feature variables **'claim_status'** and **author_ban_status** using OneHotEncoder"
   ]
  },
  {
   "cell_type": "code",
   "execution_count": 30,
   "id": "ad57d4d6",
   "metadata": {},
   "outputs": [
    {
     "name": "stdout",
     "output_type": "stream",
     "text": [
      "verified_status ['not verified' 'verified']\n",
      "\n",
      "claim_status ['claim' 'opinion']\n",
      "\n",
      "author_ban_status ['under review' 'active' 'banned']\n",
      "\n"
     ]
    }
   ],
   "source": [
    "cols = ['verified_status', 'claim_status', 'author_ban_status']\n",
    "\n",
    "for i in cols:\n",
    "    print(i, df[i].unique())\n",
    "    print('')"
   ]
  },
  {
   "cell_type": "code",
   "execution_count": 31,
   "id": "80afac79",
   "metadata": {},
   "outputs": [],
   "source": [
    "# Converting our categorical target variable(verified_status) to binary\n",
    "data_upsampled['verified_status'] = data_upsampled['verified_status'].replace({'verified':1, 'not verified': 0})"
   ]
  },
  {
   "cell_type": "code",
   "execution_count": 32,
   "id": "a6f59254",
   "metadata": {},
   "outputs": [
    {
     "data": {
      "text/plain": [
       "0    17884\n",
       "1    17884\n",
       "Name: verified_status, dtype: int64"
      ]
     },
     "execution_count": 32,
     "metadata": {},
     "output_type": "execute_result"
    }
   ],
   "source": [
    "data_upsampled['verified_status'].value_counts()"
   ]
  },
  {
   "cell_type": "code",
   "execution_count": 33,
   "id": "d8821d86",
   "metadata": {},
   "outputs": [],
   "source": [
    "# OneHotEncoding 'author_ban_status'\n",
    "encoder = OneHotEncoder(drop='first')\n",
    "encoded_cols = pd.DataFrame(encoder.fit_transform(data_upsampled[['author_ban_status']]).toarray())\n",
    "encoded_cols.columns = encoder.get_feature_names_out(['author_ban_status'])\n",
    "\n",
    "# Concatenate the encoded columns with the original DataFrame\n",
    "data_upsampled = pd.concat([data_upsampled.drop('author_ban_status', axis=1), encoded_cols], axis=1)"
   ]
  },
  {
   "cell_type": "code",
   "execution_count": 34,
   "id": "9b953e8a",
   "metadata": {},
   "outputs": [
    {
     "name": "stdout",
     "output_type": "stream",
     "text": [
      "<class 'pandas.core.frame.DataFrame'>\n",
      "RangeIndex: 35768 entries, 0 to 35767\n",
      "Data columns (total 12 columns):\n",
      " #   Column                          Non-Null Count  Dtype  \n",
      "---  ------                          --------------  -----  \n",
      " 0   claim_status                    35768 non-null  object \n",
      " 1   video_duration_sec              35768 non-null  int64  \n",
      " 2   video_transcription_text        35768 non-null  object \n",
      " 3   verified_status                 35768 non-null  int64  \n",
      " 4   video_view_count                35768 non-null  float64\n",
      " 5   video_like_count                35768 non-null  float64\n",
      " 6   video_share_count               35768 non-null  float64\n",
      " 7   video_download_count            35768 non-null  float64\n",
      " 8   video_comment_count             35768 non-null  float64\n",
      " 9   text_length                     35768 non-null  int64  \n",
      " 10  author_ban_status_banned        35768 non-null  float64\n",
      " 11  author_ban_status_under review  35768 non-null  float64\n",
      "dtypes: float64(7), int64(3), object(2)\n",
      "memory usage: 3.3+ MB\n"
     ]
    }
   ],
   "source": [
    "# Verifying encoding\n",
    "data_upsampled.info()"
   ]
  },
  {
   "cell_type": "code",
   "execution_count": 35,
   "id": "e58e7d95",
   "metadata": {},
   "outputs": [],
   "source": [
    "# OneHotEncoding claim_status'\n",
    "encoder = OneHotEncoder(drop='first')\n",
    "encoded_cols = pd.DataFrame(encoder.fit_transform(data_upsampled[['claim_status']]).toarray())\n",
    "encoded_cols.columns = encoder.get_feature_names_out(['claim_status'])\n",
    "\n",
    "# Concatenate the encoded columns with the original DataFrame\n",
    "data_upsampled = pd.concat([data_upsampled.drop('claim_status', axis=1), encoded_cols], axis=1)"
   ]
  },
  {
   "cell_type": "code",
   "execution_count": 36,
   "id": "83305bdf",
   "metadata": {},
   "outputs": [
    {
     "name": "stdout",
     "output_type": "stream",
     "text": [
      "<class 'pandas.core.frame.DataFrame'>\n",
      "RangeIndex: 35768 entries, 0 to 35767\n",
      "Data columns (total 11 columns):\n",
      " #   Column                          Non-Null Count  Dtype  \n",
      "---  ------                          --------------  -----  \n",
      " 0   video_duration_sec              35768 non-null  int64  \n",
      " 1   verified_status                 35768 non-null  int64  \n",
      " 2   video_view_count                35768 non-null  float64\n",
      " 3   video_like_count                35768 non-null  float64\n",
      " 4   video_share_count               35768 non-null  float64\n",
      " 5   video_download_count            35768 non-null  float64\n",
      " 6   video_comment_count             35768 non-null  float64\n",
      " 7   text_length                     35768 non-null  int64  \n",
      " 8   author_ban_status_banned        35768 non-null  float64\n",
      " 9   author_ban_status_under review  35768 non-null  float64\n",
      " 10  claim_status_opinion            35768 non-null  float64\n",
      "dtypes: float64(8), int64(3)\n",
      "memory usage: 3.0 MB\n"
     ]
    }
   ],
   "source": [
    "# Dropping transcription column:\n",
    "data_upsampled = data_upsampled.drop('video_transcription_text', axis = 1)\n",
    "\n",
    "data_upsampled.info()"
   ]
  },
  {
   "cell_type": "code",
   "execution_count": 38,
   "id": "c42dacab",
   "metadata": {},
   "outputs": [
    {
     "data": {
      "text/html": [
       "<div>\n",
       "<style scoped>\n",
       "    .dataframe tbody tr th:only-of-type {\n",
       "        vertical-align: middle;\n",
       "    }\n",
       "\n",
       "    .dataframe tbody tr th {\n",
       "        vertical-align: top;\n",
       "    }\n",
       "\n",
       "    .dataframe thead th {\n",
       "        text-align: right;\n",
       "    }\n",
       "</style>\n",
       "<table border=\"1\" class=\"dataframe\">\n",
       "  <thead>\n",
       "    <tr style=\"text-align: right;\">\n",
       "      <th></th>\n",
       "      <th>Variable</th>\n",
       "      <th>VIF</th>\n",
       "    </tr>\n",
       "  </thead>\n",
       "  <tbody>\n",
       "    <tr>\n",
       "      <th>3</th>\n",
       "      <td>video_like_count</td>\n",
       "      <td>11.37</td>\n",
       "    </tr>\n",
       "    <tr>\n",
       "      <th>5</th>\n",
       "      <td>video_download_count</td>\n",
       "      <td>10.82</td>\n",
       "    </tr>\n",
       "    <tr>\n",
       "      <th>7</th>\n",
       "      <td>text_length</td>\n",
       "      <td>9.06</td>\n",
       "    </tr>\n",
       "    <tr>\n",
       "      <th>6</th>\n",
       "      <td>video_comment_count</td>\n",
       "      <td>7.92</td>\n",
       "    </tr>\n",
       "    <tr>\n",
       "      <th>2</th>\n",
       "      <td>video_view_count</td>\n",
       "      <td>6.61</td>\n",
       "    </tr>\n",
       "    <tr>\n",
       "      <th>4</th>\n",
       "      <td>video_share_count</td>\n",
       "      <td>6.45</td>\n",
       "    </tr>\n",
       "    <tr>\n",
       "      <th>10</th>\n",
       "      <td>claim_status_opinion</td>\n",
       "      <td>6.22</td>\n",
       "    </tr>\n",
       "    <tr>\n",
       "      <th>0</th>\n",
       "      <td>video_duration_sec</td>\n",
       "      <td>4.43</td>\n",
       "    </tr>\n",
       "    <tr>\n",
       "      <th>1</th>\n",
       "      <td>verified_status</td>\n",
       "      <td>2.30</td>\n",
       "    </tr>\n",
       "    <tr>\n",
       "      <th>8</th>\n",
       "      <td>author_ban_status_banned</td>\n",
       "      <td>1.14</td>\n",
       "    </tr>\n",
       "    <tr>\n",
       "      <th>9</th>\n",
       "      <td>author_ban_status_under review</td>\n",
       "      <td>1.14</td>\n",
       "    </tr>\n",
       "  </tbody>\n",
       "</table>\n",
       "</div>"
      ],
      "text/plain": [
       "                          Variable    VIF\n",
       "3                 video_like_count  11.37\n",
       "5             video_download_count  10.82\n",
       "7                      text_length   9.06\n",
       "6              video_comment_count   7.92\n",
       "2                 video_view_count   6.61\n",
       "4                video_share_count   6.45\n",
       "10            claim_status_opinion   6.22\n",
       "0               video_duration_sec   4.43\n",
       "1                  verified_status   2.30\n",
       "8         author_ban_status_banned   1.14\n",
       "9   author_ban_status_under review   1.14"
      ]
     },
     "execution_count": 38,
     "metadata": {},
     "output_type": "execute_result"
    }
   ],
   "source": [
    "from statsmodels.stats.outliers_influence import variance_inflation_factor\n",
    "\n",
    "# Assuming you already have your predictor variables in X DataFrame\n",
    "X = data_upsampled\n",
    "\n",
    "# Calculate VIF for each variable\n",
    "vif = pd.DataFrame()\n",
    "vif[\"Variable\"] = X.columns\n",
    "vif[\"VIF\"] = [variance_inflation_factor(X.values, i) for i in range(X.shape[1])]\n",
    "vif['VIF'] = round(vif['VIF'], 2)\n",
    "vif = vif.sort_values(by = \"VIF\", ascending = False)\n",
    "\n",
    "# Print VIF results\n",
    "vif"
   ]
  },
  {
   "cell_type": "markdown",
   "id": "ed9d6278",
   "metadata": {},
   "source": [
    "## Splitting our dataset for modelling:"
   ]
  },
  {
   "cell_type": "markdown",
   "id": "2030d84b",
   "metadata": {},
   "source": [
    "\n",
    "- Given the *absence of concrete evidence* to justify the selection of specific variables for our Multiple Linear Regression (MLR), we opt to employ **Recursive Feature Elimination (RFE)** from the **SciKit Learn** library.\n",
    "  \n",
    "  - RFE is chosen for its compatibility and utility with **sklearn**, enabling a systematic approach to feature selection.\n",
    "  - RFE, or Recursive Feature Elimination, is a feature selection technique used in machine learning. It works by recursively removing attributes and building a model on those attributes that remain.\n",
    "  - It assesses the importance of each feature and eliminates the least important ones, iteratively. This process helps to identify the most relevant features for improving model performance."
   ]
  },
  {
   "cell_type": "code",
   "execution_count": 39,
   "id": "01097c14",
   "metadata": {},
   "outputs": [],
   "source": [
    "# # Scaling of feature\n",
    "# from sklearn.preprocessing import MinMaxScaler\n",
    "\n",
    "# # Copy of data:\n",
    "# final_data_copy = data_upsampled.copy()\n",
    "\n",
    "# cols = ['video_duration_sec', 'verified_status', 'video_view_count',\n",
    "#        'video_like_count', 'video_share_count', 'video_download_count',\n",
    "#        'video_comment_count', 'text_length', 'author_ban_status_banned',\n",
    "#        'author_ban_status_under review', 'claim_status_opinion']\n",
    "\n",
    "# scaler = MinMaxScaler()\n",
    "\n",
    "# data_upsampled[cols] = scaler.fit_transform(data_upsampled[cols])\n",
    "\n",
    "# data_upsampled.describe()"
   ]
  },
  {
   "cell_type": "code",
   "execution_count": 40,
   "id": "840a3285",
   "metadata": {},
   "outputs": [],
   "source": [
    "# Splitting data\n",
    "X = data_upsampled.drop('verified_status', axis = 1)\n",
    "y = data_upsampled['verified_status']\n",
    "\n",
    "X_train, X_test, y_train, y_test = train_test_split(X, y, test_size=0.30, random_state=42)"
   ]
  },
  {
   "cell_type": "code",
   "execution_count": 41,
   "id": "09fce575",
   "metadata": {},
   "outputs": [
    {
     "data": {
      "text/html": [
       "<div>\n",
       "<style scoped>\n",
       "    .dataframe tbody tr th:only-of-type {\n",
       "        vertical-align: middle;\n",
       "    }\n",
       "\n",
       "    .dataframe tbody tr th {\n",
       "        vertical-align: top;\n",
       "    }\n",
       "\n",
       "    .dataframe thead th {\n",
       "        text-align: right;\n",
       "    }\n",
       "</style>\n",
       "<table border=\"1\" class=\"dataframe\">\n",
       "  <thead>\n",
       "    <tr style=\"text-align: right;\">\n",
       "      <th></th>\n",
       "      <th>video_duration_sec</th>\n",
       "      <th>video_view_count</th>\n",
       "      <th>video_like_count</th>\n",
       "      <th>video_share_count</th>\n",
       "      <th>video_download_count</th>\n",
       "      <th>video_comment_count</th>\n",
       "      <th>text_length</th>\n",
       "      <th>author_ban_status_banned</th>\n",
       "      <th>author_ban_status_under review</th>\n",
       "      <th>claim_status_opinion</th>\n",
       "    </tr>\n",
       "  </thead>\n",
       "  <tbody>\n",
       "    <tr>\n",
       "      <th>0</th>\n",
       "      <td>59</td>\n",
       "      <td>343296.0</td>\n",
       "      <td>19425.0</td>\n",
       "      <td>241.0</td>\n",
       "      <td>1.0</td>\n",
       "      <td>0.0</td>\n",
       "      <td>97</td>\n",
       "      <td>0.0</td>\n",
       "      <td>1.0</td>\n",
       "      <td>0.0</td>\n",
       "    </tr>\n",
       "    <tr>\n",
       "      <th>1</th>\n",
       "      <td>32</td>\n",
       "      <td>140877.0</td>\n",
       "      <td>77355.0</td>\n",
       "      <td>19034.0</td>\n",
       "      <td>1161.0</td>\n",
       "      <td>684.0</td>\n",
       "      <td>107</td>\n",
       "      <td>0.0</td>\n",
       "      <td>0.0</td>\n",
       "      <td>0.0</td>\n",
       "    </tr>\n",
       "    <tr>\n",
       "      <th>2</th>\n",
       "      <td>31</td>\n",
       "      <td>902185.0</td>\n",
       "      <td>97690.0</td>\n",
       "      <td>2858.0</td>\n",
       "      <td>833.0</td>\n",
       "      <td>329.0</td>\n",
       "      <td>137</td>\n",
       "      <td>0.0</td>\n",
       "      <td>0.0</td>\n",
       "      <td>0.0</td>\n",
       "    </tr>\n",
       "    <tr>\n",
       "      <th>3</th>\n",
       "      <td>25</td>\n",
       "      <td>437506.0</td>\n",
       "      <td>239954.0</td>\n",
       "      <td>34812.0</td>\n",
       "      <td>1234.0</td>\n",
       "      <td>584.0</td>\n",
       "      <td>131</td>\n",
       "      <td>0.0</td>\n",
       "      <td>0.0</td>\n",
       "      <td>0.0</td>\n",
       "    </tr>\n",
       "    <tr>\n",
       "      <th>4</th>\n",
       "      <td>19</td>\n",
       "      <td>56167.0</td>\n",
       "      <td>34987.0</td>\n",
       "      <td>4110.0</td>\n",
       "      <td>547.0</td>\n",
       "      <td>152.0</td>\n",
       "      <td>128</td>\n",
       "      <td>0.0</td>\n",
       "      <td>0.0</td>\n",
       "      <td>0.0</td>\n",
       "    </tr>\n",
       "  </tbody>\n",
       "</table>\n",
       "</div>"
      ],
      "text/plain": [
       "   video_duration_sec  video_view_count  video_like_count  video_share_count  \\\n",
       "0                  59          343296.0           19425.0              241.0   \n",
       "1                  32          140877.0           77355.0            19034.0   \n",
       "2                  31          902185.0           97690.0             2858.0   \n",
       "3                  25          437506.0          239954.0            34812.0   \n",
       "4                  19           56167.0           34987.0             4110.0   \n",
       "\n",
       "   video_download_count  video_comment_count  text_length  \\\n",
       "0                   1.0                  0.0           97   \n",
       "1                1161.0                684.0          107   \n",
       "2                 833.0                329.0          137   \n",
       "3                1234.0                584.0          131   \n",
       "4                 547.0                152.0          128   \n",
       "\n",
       "   author_ban_status_banned  author_ban_status_under review  \\\n",
       "0                       0.0                             1.0   \n",
       "1                       0.0                             0.0   \n",
       "2                       0.0                             0.0   \n",
       "3                       0.0                             0.0   \n",
       "4                       0.0                             0.0   \n",
       "\n",
       "   claim_status_opinion  \n",
       "0                   0.0  \n",
       "1                   0.0  \n",
       "2                   0.0  \n",
       "3                   0.0  \n",
       "4                   0.0  "
      ]
     },
     "execution_count": 41,
     "metadata": {},
     "output_type": "execute_result"
    }
   ],
   "source": [
    "X.head()"
   ]
  },
  {
   "cell_type": "code",
   "execution_count": 42,
   "id": "7660b06f",
   "metadata": {},
   "outputs": [
    {
     "data": {
      "text/plain": [
       "0        0\n",
       "1        0\n",
       "2        0\n",
       "3        0\n",
       "4        0\n",
       "        ..\n",
       "35763    1\n",
       "35764    1\n",
       "35765    1\n",
       "35766    1\n",
       "35767    1\n",
       "Name: verified_status, Length: 35768, dtype: int64"
      ]
     },
     "execution_count": 42,
     "metadata": {},
     "output_type": "execute_result"
    }
   ],
   "source": [
    "y"
   ]
  },
  {
   "cell_type": "code",
   "execution_count": 43,
   "id": "0b1da857",
   "metadata": {},
   "outputs": [],
   "source": [
    "# Imports for modelling\n",
    "from sklearn.feature_selection import RFE\n",
    "from mlxtend.feature_selection import SequentialFeatureSelector as sfs\n",
    "from sklearn.linear_model import LogisticRegression"
   ]
  },
  {
   "cell_type": "code",
   "execution_count": 44,
   "id": "78c2546f",
   "metadata": {},
   "outputs": [
    {
     "data": {
      "text/plain": [
       "[('video_duration_sec', True, 1),\n",
       " ('video_view_count', True, 1),\n",
       " ('video_like_count', True, 1),\n",
       " ('video_share_count', True, 1),\n",
       " ('video_download_count', True, 1),\n",
       " ('video_comment_count', True, 1),\n",
       " ('text_length', True, 1),\n",
       " ('author_ban_status_banned', True, 1),\n",
       " ('author_ban_status_under review', False, 2),\n",
       " ('claim_status_opinion', True, 1)]"
      ]
     },
     "execution_count": 44,
     "metadata": {},
     "output_type": "execute_result"
    }
   ],
   "source": [
    "lr = LogisticRegression().fit(X_train, y_train)\n",
    "\n",
    "# Starting with 9 features eliminating one of the 10 features we have \n",
    "rfe = RFE(estimator=lr, n_features_to_select=9)\n",
    "rfe = rfe.fit(X_train, y_train)\n",
    "\n",
    "list(zip(X_train.columns, rfe.support_, rfe.ranking_))"
   ]
  },
  {
   "cell_type": "code",
   "execution_count": 45,
   "id": "e5972e64",
   "metadata": {},
   "outputs": [
    {
     "data": {
      "text/plain": [
       "Index(['video_duration_sec', 'video_view_count', 'video_like_count',\n",
       "       'video_share_count', 'video_download_count', 'video_comment_count',\n",
       "       'text_length', 'author_ban_status_banned', 'claim_status_opinion'],\n",
       "      dtype='object')"
      ]
     },
     "execution_count": 45,
     "metadata": {},
     "output_type": "execute_result"
    }
   ],
   "source": [
    "# Features selected by RFE\n",
    "col = X_train.columns[rfe.support_]\n",
    "col"
   ]
  },
  {
   "cell_type": "code",
   "execution_count": 46,
   "id": "dad2cdba",
   "metadata": {},
   "outputs": [
    {
     "data": {
      "text/plain": [
       "Index(['author_ban_status_under review'], dtype='object')"
      ]
     },
     "execution_count": 46,
     "metadata": {},
     "output_type": "execute_result"
    }
   ],
   "source": [
    "# Features not selected by RFE\n",
    "X_train.columns[~rfe.support_]"
   ]
  },
  {
   "cell_type": "code",
   "execution_count": 47,
   "id": "eb7c6621",
   "metadata": {},
   "outputs": [],
   "source": [
    "# Creating X_test dataframe with RFE selected variables\n",
    "X_train_rfe = X_train[col]"
   ]
  },
  {
   "cell_type": "code",
   "execution_count": 48,
   "id": "ae1eaaa0",
   "metadata": {},
   "outputs": [
    {
     "name": "stdout",
     "output_type": "stream",
     "text": [
      "Optimization terminated successfully.\n",
      "         Current function value: 0.620273\n",
      "         Iterations 5\n"
     ]
    },
    {
     "data": {
      "text/html": [
       "<table class=\"simpletable\">\n",
       "<caption>Logit Regression Results</caption>\n",
       "<tr>\n",
       "  <th>Dep. Variable:</th>    <td>verified_status</td> <th>  No. Observations:  </th>  <td> 25037</td> \n",
       "</tr>\n",
       "<tr>\n",
       "  <th>Model:</th>                 <td>Logit</td>      <th>  Df Residuals:      </th>  <td> 25027</td> \n",
       "</tr>\n",
       "<tr>\n",
       "  <th>Method:</th>                 <td>MLE</td>       <th>  Df Model:          </th>  <td>     9</td> \n",
       "</tr>\n",
       "<tr>\n",
       "  <th>Date:</th>            <td>Sat, 06 Apr 2024</td> <th>  Pseudo R-squ.:     </th>  <td>0.1051</td> \n",
       "</tr>\n",
       "<tr>\n",
       "  <th>Time:</th>                <td>14:46:20</td>     <th>  Log-Likelihood:    </th> <td> -15530.</td>\n",
       "</tr>\n",
       "<tr>\n",
       "  <th>converged:</th>             <td>True</td>       <th>  LL-Null:           </th> <td> -17354.</td>\n",
       "</tr>\n",
       "<tr>\n",
       "  <th>Covariance Type:</th>     <td>nonrobust</td>    <th>  LLR p-value:       </th>  <td> 0.000</td> \n",
       "</tr>\n",
       "</table>\n",
       "<table class=\"simpletable\">\n",
       "<tr>\n",
       "              <td></td>                <th>coef</th>     <th>std err</th>      <th>z</th>      <th>P>|z|</th>  <th>[0.025</th>    <th>0.975]</th>  \n",
       "</tr>\n",
       "<tr>\n",
       "  <th>const</th>                    <td>   -1.0440</td> <td>    0.090</td> <td>  -11.569</td> <td> 0.000</td> <td>   -1.221</td> <td>   -0.867</td>\n",
       "</tr>\n",
       "<tr>\n",
       "  <th>video_duration_sec</th>       <td>   -0.0019</td> <td>    0.001</td> <td>   -2.285</td> <td> 0.022</td> <td>   -0.004</td> <td>   -0.000</td>\n",
       "</tr>\n",
       "<tr>\n",
       "  <th>video_view_count</th>         <td>-2.887e-07</td> <td> 1.19e-07</td> <td>   -2.426</td> <td> 0.015</td> <td>-5.22e-07</td> <td>-5.55e-08</td>\n",
       "</tr>\n",
       "<tr>\n",
       "  <th>video_like_count</th>         <td> 1.287e-07</td> <td>  4.6e-07</td> <td>    0.280</td> <td> 0.780</td> <td>-7.73e-07</td> <td> 1.03e-06</td>\n",
       "</tr>\n",
       "<tr>\n",
       "  <th>video_share_count</th>        <td> 1.546e-05</td> <td> 2.28e-06</td> <td>    6.769</td> <td> 0.000</td> <td>  1.1e-05</td> <td> 1.99e-05</td>\n",
       "</tr>\n",
       "<tr>\n",
       "  <th>video_download_count</th>     <td>   -0.0003</td> <td> 4.69e-05</td> <td>   -6.608</td> <td> 0.000</td> <td>   -0.000</td> <td>   -0.000</td>\n",
       "</tr>\n",
       "<tr>\n",
       "  <th>video_comment_count</th>      <td>    0.0008</td> <td>    0.000</td> <td>    5.410</td> <td> 0.000</td> <td>    0.001</td> <td>    0.001</td>\n",
       "</tr>\n",
       "<tr>\n",
       "  <th>text_length</th>              <td>   -0.0009</td> <td>    0.001</td> <td>   -1.269</td> <td> 0.204</td> <td>   -0.002</td> <td>    0.000</td>\n",
       "</tr>\n",
       "<tr>\n",
       "  <th>author_ban_status_banned</th> <td>   -0.2935</td> <td>    0.063</td> <td>   -4.674</td> <td> 0.000</td> <td>   -0.417</td> <td>   -0.170</td>\n",
       "</tr>\n",
       "<tr>\n",
       "  <th>claim_status_opinion</th>     <td>    1.7335</td> <td>    0.057</td> <td>   30.606</td> <td> 0.000</td> <td>    1.622</td> <td>    1.844</td>\n",
       "</tr>\n",
       "</table>"
      ],
      "text/plain": [
       "<class 'statsmodels.iolib.summary.Summary'>\n",
       "\"\"\"\n",
       "                           Logit Regression Results                           \n",
       "==============================================================================\n",
       "Dep. Variable:        verified_status   No. Observations:                25037\n",
       "Model:                          Logit   Df Residuals:                    25027\n",
       "Method:                           MLE   Df Model:                            9\n",
       "Date:                Sat, 06 Apr 2024   Pseudo R-squ.:                  0.1051\n",
       "Time:                        14:46:20   Log-Likelihood:                -15530.\n",
       "converged:                       True   LL-Null:                       -17354.\n",
       "Covariance Type:            nonrobust   LLR p-value:                     0.000\n",
       "============================================================================================\n",
       "                               coef    std err          z      P>|z|      [0.025      0.975]\n",
       "--------------------------------------------------------------------------------------------\n",
       "const                       -1.0440      0.090    -11.569      0.000      -1.221      -0.867\n",
       "video_duration_sec          -0.0019      0.001     -2.285      0.022      -0.004      -0.000\n",
       "video_view_count         -2.887e-07   1.19e-07     -2.426      0.015   -5.22e-07   -5.55e-08\n",
       "video_like_count          1.287e-07    4.6e-07      0.280      0.780   -7.73e-07    1.03e-06\n",
       "video_share_count         1.546e-05   2.28e-06      6.769      0.000     1.1e-05    1.99e-05\n",
       "video_download_count        -0.0003   4.69e-05     -6.608      0.000      -0.000      -0.000\n",
       "video_comment_count          0.0008      0.000      5.410      0.000       0.001       0.001\n",
       "text_length                 -0.0009      0.001     -1.269      0.204      -0.002       0.000\n",
       "author_ban_status_banned    -0.2935      0.063     -4.674      0.000      -0.417      -0.170\n",
       "claim_status_opinion         1.7335      0.057     30.606      0.000       1.622       1.844\n",
       "============================================================================================\n",
       "\"\"\""
      ]
     },
     "execution_count": 48,
     "metadata": {},
     "output_type": "execute_result"
    }
   ],
   "source": [
    "# Adding a constant to the independent variables\n",
    "X_train_lm1 = sm.add_constant(X_train_rfe)\n",
    "\n",
    "# Creating the logistic regression model\n",
    "logit_model = sm.Logit(y_train, X_train_lm1)\n",
    "\n",
    "# Fitting the model\n",
    "result = logit_model.fit()\n",
    "\n",
    "# Getting the summary of the model\n",
    "result.summary()\n"
   ]
  },
  {
   "cell_type": "code",
   "execution_count": 49,
   "id": "3ab41e5a",
   "metadata": {},
   "outputs": [
    {
     "data": {
      "text/html": [
       "<div>\n",
       "<style scoped>\n",
       "    .dataframe tbody tr th:only-of-type {\n",
       "        vertical-align: middle;\n",
       "    }\n",
       "\n",
       "    .dataframe tbody tr th {\n",
       "        vertical-align: top;\n",
       "    }\n",
       "\n",
       "    .dataframe thead th {\n",
       "        text-align: right;\n",
       "    }\n",
       "</style>\n",
       "<table border=\"1\" class=\"dataframe\">\n",
       "  <thead>\n",
       "    <tr style=\"text-align: right;\">\n",
       "      <th></th>\n",
       "      <th>Features</th>\n",
       "      <th>VIF</th>\n",
       "    </tr>\n",
       "  </thead>\n",
       "  <tbody>\n",
       "    <tr>\n",
       "      <th>2</th>\n",
       "      <td>video_like_count</td>\n",
       "      <td>11.31</td>\n",
       "    </tr>\n",
       "    <tr>\n",
       "      <th>4</th>\n",
       "      <td>video_download_count</td>\n",
       "      <td>10.70</td>\n",
       "    </tr>\n",
       "    <tr>\n",
       "      <th>6</th>\n",
       "      <td>text_length</td>\n",
       "      <td>8.92</td>\n",
       "    </tr>\n",
       "    <tr>\n",
       "      <th>5</th>\n",
       "      <td>video_comment_count</td>\n",
       "      <td>7.85</td>\n",
       "    </tr>\n",
       "    <tr>\n",
       "      <th>1</th>\n",
       "      <td>video_view_count</td>\n",
       "      <td>6.60</td>\n",
       "    </tr>\n",
       "    <tr>\n",
       "      <th>3</th>\n",
       "      <td>video_share_count</td>\n",
       "      <td>6.38</td>\n",
       "    </tr>\n",
       "    <tr>\n",
       "      <th>8</th>\n",
       "      <td>claim_status_opinion</td>\n",
       "      <td>5.49</td>\n",
       "    </tr>\n",
       "    <tr>\n",
       "      <th>0</th>\n",
       "      <td>video_duration_sec</td>\n",
       "      <td>4.44</td>\n",
       "    </tr>\n",
       "    <tr>\n",
       "      <th>7</th>\n",
       "      <td>author_ban_status_banned</td>\n",
       "      <td>1.12</td>\n",
       "    </tr>\n",
       "  </tbody>\n",
       "</table>\n",
       "</div>"
      ],
      "text/plain": [
       "                   Features    VIF\n",
       "2          video_like_count  11.31\n",
       "4      video_download_count  10.70\n",
       "6               text_length   8.92\n",
       "5       video_comment_count   7.85\n",
       "1          video_view_count   6.60\n",
       "3         video_share_count   6.38\n",
       "8      claim_status_opinion   5.49\n",
       "0        video_duration_sec   4.44\n",
       "7  author_ban_status_banned   1.12"
      ]
     },
     "execution_count": 49,
     "metadata": {},
     "output_type": "execute_result"
    }
   ],
   "source": [
    "# VIF score\n",
    "\n",
    "from statsmodels.stats.outliers_influence import variance_inflation_factor\n",
    "\n",
    "vif = pd.DataFrame()\n",
    "\n",
    "vif['Features'] = X_train_rfe.columns\n",
    "\n",
    "vif['VIF'] = [variance_inflation_factor(X_train_rfe.values, i) for i in range(X_train_rfe.shape[1])]\n",
    "\n",
    "vif['VIF'] = round(vif['VIF'], 2)\n",
    "\n",
    "vif = vif.sort_values(by = \"VIF\", ascending = False)\n",
    "vif"
   ]
  },
  {
   "cell_type": "markdown",
   "id": "065bbb88",
   "metadata": {},
   "source": [
    "**Observation**:\n",
    "- We will eliminate video_downlaod_count due to high VIF score."
   ]
  },
  {
   "cell_type": "markdown",
   "id": "852f0c15",
   "metadata": {},
   "source": [
    "### Second Iteration:\n",
    "We eliminate 'video_download_count' due to high VIF score"
   ]
  },
  {
   "cell_type": "code",
   "execution_count": 50,
   "id": "a667431e",
   "metadata": {},
   "outputs": [],
   "source": [
    "X_train_new = X_train_rfe.drop('video_like_count', axis = 1)"
   ]
  },
  {
   "cell_type": "code",
   "execution_count": 51,
   "id": "b3f16b0c",
   "metadata": {},
   "outputs": [
    {
     "data": {
      "text/html": [
       "<div>\n",
       "<style scoped>\n",
       "    .dataframe tbody tr th:only-of-type {\n",
       "        vertical-align: middle;\n",
       "    }\n",
       "\n",
       "    .dataframe tbody tr th {\n",
       "        vertical-align: top;\n",
       "    }\n",
       "\n",
       "    .dataframe thead th {\n",
       "        text-align: right;\n",
       "    }\n",
       "</style>\n",
       "<table border=\"1\" class=\"dataframe\">\n",
       "  <thead>\n",
       "    <tr style=\"text-align: right;\">\n",
       "      <th></th>\n",
       "      <th>Features</th>\n",
       "      <th>VIF</th>\n",
       "    </tr>\n",
       "  </thead>\n",
       "  <tbody>\n",
       "    <tr>\n",
       "      <th>3</th>\n",
       "      <td>video_download_count</td>\n",
       "      <td>9.38</td>\n",
       "    </tr>\n",
       "    <tr>\n",
       "      <th>5</th>\n",
       "      <td>text_length</td>\n",
       "      <td>8.87</td>\n",
       "    </tr>\n",
       "    <tr>\n",
       "      <th>4</th>\n",
       "      <td>video_comment_count</td>\n",
       "      <td>7.85</td>\n",
       "    </tr>\n",
       "    <tr>\n",
       "      <th>1</th>\n",
       "      <td>video_view_count</td>\n",
       "      <td>5.49</td>\n",
       "    </tr>\n",
       "    <tr>\n",
       "      <th>7</th>\n",
       "      <td>claim_status_opinion</td>\n",
       "      <td>5.45</td>\n",
       "    </tr>\n",
       "    <tr>\n",
       "      <th>2</th>\n",
       "      <td>video_share_count</td>\n",
       "      <td>4.56</td>\n",
       "    </tr>\n",
       "    <tr>\n",
       "      <th>0</th>\n",
       "      <td>video_duration_sec</td>\n",
       "      <td>4.44</td>\n",
       "    </tr>\n",
       "    <tr>\n",
       "      <th>6</th>\n",
       "      <td>author_ban_status_banned</td>\n",
       "      <td>1.12</td>\n",
       "    </tr>\n",
       "  </tbody>\n",
       "</table>\n",
       "</div>"
      ],
      "text/plain": [
       "                   Features   VIF\n",
       "3      video_download_count  9.38\n",
       "5               text_length  8.87\n",
       "4       video_comment_count  7.85\n",
       "1          video_view_count  5.49\n",
       "7      claim_status_opinion  5.45\n",
       "2         video_share_count  4.56\n",
       "0        video_duration_sec  4.44\n",
       "6  author_ban_status_banned  1.12"
      ]
     },
     "execution_count": 51,
     "metadata": {},
     "output_type": "execute_result"
    }
   ],
   "source": [
    "vif = pd.DataFrame()\n",
    "\n",
    "vif['Features'] = X_train_new.columns\n",
    "\n",
    "vif['VIF'] = [variance_inflation_factor(X_train_new.values, i) for i in range(X_train_new.shape[1])]\n",
    "\n",
    "vif['VIF'] = round(vif['VIF'], 2)\n",
    "\n",
    "vif = vif.sort_values(by = \"VIF\", ascending = False)\n",
    "vif"
   ]
  },
  {
   "cell_type": "code",
   "execution_count": 52,
   "id": "308703ec",
   "metadata": {},
   "outputs": [
    {
     "name": "stdout",
     "output_type": "stream",
     "text": [
      "Optimization terminated successfully.\n",
      "         Current function value: 0.620275\n",
      "         Iterations 5\n"
     ]
    },
    {
     "data": {
      "text/html": [
       "<table class=\"simpletable\">\n",
       "<caption>Logit Regression Results</caption>\n",
       "<tr>\n",
       "  <th>Dep. Variable:</th>    <td>verified_status</td> <th>  No. Observations:  </th>  <td> 25037</td> \n",
       "</tr>\n",
       "<tr>\n",
       "  <th>Model:</th>                 <td>Logit</td>      <th>  Df Residuals:      </th>  <td> 25028</td> \n",
       "</tr>\n",
       "<tr>\n",
       "  <th>Method:</th>                 <td>MLE</td>       <th>  Df Model:          </th>  <td>     8</td> \n",
       "</tr>\n",
       "<tr>\n",
       "  <th>Date:</th>            <td>Sat, 06 Apr 2024</td> <th>  Pseudo R-squ.:     </th>  <td>0.1051</td> \n",
       "</tr>\n",
       "<tr>\n",
       "  <th>Time:</th>                <td>14:47:27</td>     <th>  Log-Likelihood:    </th> <td> -15530.</td>\n",
       "</tr>\n",
       "<tr>\n",
       "  <th>converged:</th>             <td>True</td>       <th>  LL-Null:           </th> <td> -17354.</td>\n",
       "</tr>\n",
       "<tr>\n",
       "  <th>Covariance Type:</th>     <td>nonrobust</td>    <th>  LLR p-value:       </th>  <td> 0.000</td> \n",
       "</tr>\n",
       "</table>\n",
       "<table class=\"simpletable\">\n",
       "<tr>\n",
       "              <td></td>                <th>coef</th>     <th>std err</th>      <th>z</th>      <th>P>|z|</th>  <th>[0.025</th>    <th>0.975]</th>  \n",
       "</tr>\n",
       "<tr>\n",
       "  <th>const</th>                    <td>   -1.0457</td> <td>    0.090</td> <td>  -11.613</td> <td> 0.000</td> <td>   -1.222</td> <td>   -0.869</td>\n",
       "</tr>\n",
       "<tr>\n",
       "  <th>video_duration_sec</th>       <td>   -0.0019</td> <td>    0.001</td> <td>   -2.286</td> <td> 0.022</td> <td>   -0.004</td> <td>   -0.000</td>\n",
       "</tr>\n",
       "<tr>\n",
       "  <th>video_view_count</th>         <td>-2.748e-07</td> <td> 1.08e-07</td> <td>   -2.546</td> <td> 0.011</td> <td>-4.86e-07</td> <td>-6.32e-08</td>\n",
       "</tr>\n",
       "<tr>\n",
       "  <th>video_share_count</th>        <td> 1.581e-05</td> <td>  1.9e-06</td> <td>    8.326</td> <td> 0.000</td> <td> 1.21e-05</td> <td> 1.95e-05</td>\n",
       "</tr>\n",
       "<tr>\n",
       "  <th>video_download_count</th>     <td>   -0.0003</td> <td> 4.45e-05</td> <td>   -6.859</td> <td> 0.000</td> <td>   -0.000</td> <td>   -0.000</td>\n",
       "</tr>\n",
       "<tr>\n",
       "  <th>video_comment_count</th>      <td>    0.0008</td> <td>    0.000</td> <td>    5.411</td> <td> 0.000</td> <td>    0.001</td> <td>    0.001</td>\n",
       "</tr>\n",
       "<tr>\n",
       "  <th>text_length</th>              <td>   -0.0009</td> <td>    0.001</td> <td>   -1.271</td> <td> 0.204</td> <td>   -0.002</td> <td>    0.000</td>\n",
       "</tr>\n",
       "<tr>\n",
       "  <th>author_ban_status_banned</th> <td>   -0.2934</td> <td>    0.063</td> <td>   -4.672</td> <td> 0.000</td> <td>   -0.416</td> <td>   -0.170</td>\n",
       "</tr>\n",
       "<tr>\n",
       "  <th>claim_status_opinion</th>     <td>    1.7352</td> <td>    0.056</td> <td>   30.818</td> <td> 0.000</td> <td>    1.625</td> <td>    1.846</td>\n",
       "</tr>\n",
       "</table>"
      ],
      "text/plain": [
       "<class 'statsmodels.iolib.summary.Summary'>\n",
       "\"\"\"\n",
       "                           Logit Regression Results                           \n",
       "==============================================================================\n",
       "Dep. Variable:        verified_status   No. Observations:                25037\n",
       "Model:                          Logit   Df Residuals:                    25028\n",
       "Method:                           MLE   Df Model:                            8\n",
       "Date:                Sat, 06 Apr 2024   Pseudo R-squ.:                  0.1051\n",
       "Time:                        14:47:27   Log-Likelihood:                -15530.\n",
       "converged:                       True   LL-Null:                       -17354.\n",
       "Covariance Type:            nonrobust   LLR p-value:                     0.000\n",
       "============================================================================================\n",
       "                               coef    std err          z      P>|z|      [0.025      0.975]\n",
       "--------------------------------------------------------------------------------------------\n",
       "const                       -1.0457      0.090    -11.613      0.000      -1.222      -0.869\n",
       "video_duration_sec          -0.0019      0.001     -2.286      0.022      -0.004      -0.000\n",
       "video_view_count         -2.748e-07   1.08e-07     -2.546      0.011   -4.86e-07   -6.32e-08\n",
       "video_share_count         1.581e-05    1.9e-06      8.326      0.000    1.21e-05    1.95e-05\n",
       "video_download_count        -0.0003   4.45e-05     -6.859      0.000      -0.000      -0.000\n",
       "video_comment_count          0.0008      0.000      5.411      0.000       0.001       0.001\n",
       "text_length                 -0.0009      0.001     -1.271      0.204      -0.002       0.000\n",
       "author_ban_status_banned    -0.2934      0.063     -4.672      0.000      -0.416      -0.170\n",
       "claim_status_opinion         1.7352      0.056     30.818      0.000       1.625       1.846\n",
       "============================================================================================\n",
       "\"\"\""
      ]
     },
     "execution_count": 52,
     "metadata": {},
     "output_type": "execute_result"
    }
   ],
   "source": [
    "# Add a constant for model 2: \n",
    "X_train_lm2 = sm.add_constant(X_train_new)\n",
    "\n",
    "# Create a first fitted model\n",
    "lr2 = sm.Logit(y_train, X_train_lm2).fit()\n",
    "\n",
    "lr2.summary()"
   ]
  },
  {
   "cell_type": "markdown",
   "id": "74b559ca",
   "metadata": {},
   "source": [
    "## Third Iteration:\n",
    "\n",
    "Eliminating text_length due to high VIF score and p-value. This was one of the varaible that was feature engineered "
   ]
  },
  {
   "cell_type": "code",
   "execution_count": 53,
   "id": "28062fab",
   "metadata": {},
   "outputs": [],
   "source": [
    "X_train_new = X_train_new.drop('video_download_count', axis = 1)"
   ]
  },
  {
   "cell_type": "code",
   "execution_count": 54,
   "id": "9d63db72",
   "metadata": {},
   "outputs": [
    {
     "data": {
      "text/html": [
       "<div>\n",
       "<style scoped>\n",
       "    .dataframe tbody tr th:only-of-type {\n",
       "        vertical-align: middle;\n",
       "    }\n",
       "\n",
       "    .dataframe tbody tr th {\n",
       "        vertical-align: top;\n",
       "    }\n",
       "\n",
       "    .dataframe thead th {\n",
       "        text-align: right;\n",
       "    }\n",
       "</style>\n",
       "<table border=\"1\" class=\"dataframe\">\n",
       "  <thead>\n",
       "    <tr style=\"text-align: right;\">\n",
       "      <th></th>\n",
       "      <th>Features</th>\n",
       "      <th>VIF</th>\n",
       "    </tr>\n",
       "  </thead>\n",
       "  <tbody>\n",
       "    <tr>\n",
       "      <th>4</th>\n",
       "      <td>text_length</td>\n",
       "      <td>8.87</td>\n",
       "    </tr>\n",
       "    <tr>\n",
       "      <th>6</th>\n",
       "      <td>claim_status_opinion</td>\n",
       "      <td>5.45</td>\n",
       "    </tr>\n",
       "    <tr>\n",
       "      <th>1</th>\n",
       "      <td>video_view_count</td>\n",
       "      <td>5.28</td>\n",
       "    </tr>\n",
       "    <tr>\n",
       "      <th>0</th>\n",
       "      <td>video_duration_sec</td>\n",
       "      <td>4.44</td>\n",
       "    </tr>\n",
       "    <tr>\n",
       "      <th>2</th>\n",
       "      <td>video_share_count</td>\n",
       "      <td>4.26</td>\n",
       "    </tr>\n",
       "    <tr>\n",
       "      <th>3</th>\n",
       "      <td>video_comment_count</td>\n",
       "      <td>3.64</td>\n",
       "    </tr>\n",
       "    <tr>\n",
       "      <th>5</th>\n",
       "      <td>author_ban_status_banned</td>\n",
       "      <td>1.12</td>\n",
       "    </tr>\n",
       "  </tbody>\n",
       "</table>\n",
       "</div>"
      ],
      "text/plain": [
       "                   Features   VIF\n",
       "4               text_length  8.87\n",
       "6      claim_status_opinion  5.45\n",
       "1          video_view_count  5.28\n",
       "0        video_duration_sec  4.44\n",
       "2         video_share_count  4.26\n",
       "3       video_comment_count  3.64\n",
       "5  author_ban_status_banned  1.12"
      ]
     },
     "execution_count": 54,
     "metadata": {},
     "output_type": "execute_result"
    }
   ],
   "source": [
    "# VIF score:\n",
    "vif = pd.DataFrame()\n",
    "\n",
    "vif['Features'] = X_train_new.columns\n",
    "\n",
    "vif['VIF'] = [variance_inflation_factor(X_train_new.values, i) for i in range(X_train_new.shape[1])]\n",
    "\n",
    "vif['VIF'] = round(vif['VIF'], 2)\n",
    "\n",
    "vif = vif.sort_values(by = \"VIF\", ascending = False)\n",
    "vif"
   ]
  },
  {
   "cell_type": "code",
   "execution_count": 55,
   "id": "25dba9ef",
   "metadata": {},
   "outputs": [
    {
     "name": "stdout",
     "output_type": "stream",
     "text": [
      "Optimization terminated successfully.\n",
      "         Current function value: 0.621245\n",
      "         Iterations 5\n"
     ]
    },
    {
     "data": {
      "text/html": [
       "<table class=\"simpletable\">\n",
       "<caption>Logit Regression Results</caption>\n",
       "<tr>\n",
       "  <th>Dep. Variable:</th>    <td>verified_status</td> <th>  No. Observations:  </th>  <td> 25037</td> \n",
       "</tr>\n",
       "<tr>\n",
       "  <th>Model:</th>                 <td>Logit</td>      <th>  Df Residuals:      </th>  <td> 25029</td> \n",
       "</tr>\n",
       "<tr>\n",
       "  <th>Method:</th>                 <td>MLE</td>       <th>  Df Model:          </th>  <td>     7</td> \n",
       "</tr>\n",
       "<tr>\n",
       "  <th>Date:</th>            <td>Sat, 06 Apr 2024</td> <th>  Pseudo R-squ.:     </th>  <td>0.1037</td> \n",
       "</tr>\n",
       "<tr>\n",
       "  <th>Time:</th>                <td>14:47:56</td>     <th>  Log-Likelihood:    </th> <td> -15554.</td>\n",
       "</tr>\n",
       "<tr>\n",
       "  <th>converged:</th>             <td>True</td>       <th>  LL-Null:           </th> <td> -17354.</td>\n",
       "</tr>\n",
       "<tr>\n",
       "  <th>Covariance Type:</th>     <td>nonrobust</td>    <th>  LLR p-value:       </th>  <td> 0.000</td> \n",
       "</tr>\n",
       "</table>\n",
       "<table class=\"simpletable\">\n",
       "<tr>\n",
       "              <td></td>                <th>coef</th>     <th>std err</th>      <th>z</th>      <th>P>|z|</th>  <th>[0.025</th>    <th>0.975]</th>  \n",
       "</tr>\n",
       "<tr>\n",
       "  <th>const</th>                    <td>   -1.0286</td> <td>    0.090</td> <td>  -11.444</td> <td> 0.000</td> <td>   -1.205</td> <td>   -0.852</td>\n",
       "</tr>\n",
       "<tr>\n",
       "  <th>video_duration_sec</th>       <td>   -0.0021</td> <td>    0.001</td> <td>   -2.436</td> <td> 0.015</td> <td>   -0.004</td> <td>   -0.000</td>\n",
       "</tr>\n",
       "<tr>\n",
       "  <th>video_view_count</th>         <td>-4.086e-07</td> <td> 1.06e-07</td> <td>   -3.839</td> <td> 0.000</td> <td>-6.17e-07</td> <td>   -2e-07</td>\n",
       "</tr>\n",
       "<tr>\n",
       "  <th>video_share_count</th>        <td>  1.24e-05</td> <td> 1.82e-06</td> <td>    6.802</td> <td> 0.000</td> <td> 8.83e-06</td> <td>  1.6e-05</td>\n",
       "</tr>\n",
       "<tr>\n",
       "  <th>video_comment_count</th>      <td> 5.318e-05</td> <td>    0.000</td> <td>    0.515</td> <td> 0.607</td> <td>   -0.000</td> <td>    0.000</td>\n",
       "</tr>\n",
       "<tr>\n",
       "  <th>text_length</th>              <td>   -0.0009</td> <td>    0.001</td> <td>   -1.285</td> <td> 0.199</td> <td>   -0.002</td> <td>    0.000</td>\n",
       "</tr>\n",
       "<tr>\n",
       "  <th>author_ban_status_banned</th> <td>   -0.2951</td> <td>    0.063</td> <td>   -4.709</td> <td> 0.000</td> <td>   -0.418</td> <td>   -0.172</td>\n",
       "</tr>\n",
       "<tr>\n",
       "  <th>claim_status_opinion</th>     <td>    1.7223</td> <td>    0.056</td> <td>   30.684</td> <td> 0.000</td> <td>    1.612</td> <td>    1.832</td>\n",
       "</tr>\n",
       "</table>"
      ],
      "text/plain": [
       "<class 'statsmodels.iolib.summary.Summary'>\n",
       "\"\"\"\n",
       "                           Logit Regression Results                           \n",
       "==============================================================================\n",
       "Dep. Variable:        verified_status   No. Observations:                25037\n",
       "Model:                          Logit   Df Residuals:                    25029\n",
       "Method:                           MLE   Df Model:                            7\n",
       "Date:                Sat, 06 Apr 2024   Pseudo R-squ.:                  0.1037\n",
       "Time:                        14:47:56   Log-Likelihood:                -15554.\n",
       "converged:                       True   LL-Null:                       -17354.\n",
       "Covariance Type:            nonrobust   LLR p-value:                     0.000\n",
       "============================================================================================\n",
       "                               coef    std err          z      P>|z|      [0.025      0.975]\n",
       "--------------------------------------------------------------------------------------------\n",
       "const                       -1.0286      0.090    -11.444      0.000      -1.205      -0.852\n",
       "video_duration_sec          -0.0021      0.001     -2.436      0.015      -0.004      -0.000\n",
       "video_view_count         -4.086e-07   1.06e-07     -3.839      0.000   -6.17e-07      -2e-07\n",
       "video_share_count          1.24e-05   1.82e-06      6.802      0.000    8.83e-06     1.6e-05\n",
       "video_comment_count       5.318e-05      0.000      0.515      0.607      -0.000       0.000\n",
       "text_length                 -0.0009      0.001     -1.285      0.199      -0.002       0.000\n",
       "author_ban_status_banned    -0.2951      0.063     -4.709      0.000      -0.418      -0.172\n",
       "claim_status_opinion         1.7223      0.056     30.684      0.000       1.612       1.832\n",
       "============================================================================================\n",
       "\"\"\""
      ]
     },
     "execution_count": 55,
     "metadata": {},
     "output_type": "execute_result"
    }
   ],
   "source": [
    "# Add a constant for model 2: \n",
    "X_train_lm3 = sm.add_constant(X_train_new)\n",
    "\n",
    "# Create a first fitted model\n",
    "lr3 = sm.Logit(y_train, X_train_lm3).fit()\n",
    "\n",
    "lr3.summary()"
   ]
  },
  {
   "cell_type": "markdown",
   "id": "d3c508ac",
   "metadata": {},
   "source": [
    "### Iteration fourth\n",
    "Dropping 'video_comment_count' due to high p-value"
   ]
  },
  {
   "cell_type": "code",
   "execution_count": 56,
   "id": "fc4d3af8",
   "metadata": {},
   "outputs": [],
   "source": [
    "X_train_new = X_train_new.drop('text_length', axis = 1)"
   ]
  },
  {
   "cell_type": "code",
   "execution_count": 57,
   "id": "2b22b1ff",
   "metadata": {},
   "outputs": [
    {
     "data": {
      "text/html": [
       "<div>\n",
       "<style scoped>\n",
       "    .dataframe tbody tr th:only-of-type {\n",
       "        vertical-align: middle;\n",
       "    }\n",
       "\n",
       "    .dataframe tbody tr th {\n",
       "        vertical-align: top;\n",
       "    }\n",
       "\n",
       "    .dataframe thead th {\n",
       "        text-align: right;\n",
       "    }\n",
       "</style>\n",
       "<table border=\"1\" class=\"dataframe\">\n",
       "  <thead>\n",
       "    <tr style=\"text-align: right;\">\n",
       "      <th></th>\n",
       "      <th>Features</th>\n",
       "      <th>VIF</th>\n",
       "    </tr>\n",
       "  </thead>\n",
       "  <tbody>\n",
       "    <tr>\n",
       "      <th>1</th>\n",
       "      <td>video_view_count</td>\n",
       "      <td>4.54</td>\n",
       "    </tr>\n",
       "    <tr>\n",
       "      <th>2</th>\n",
       "      <td>video_share_count</td>\n",
       "      <td>4.24</td>\n",
       "    </tr>\n",
       "    <tr>\n",
       "      <th>0</th>\n",
       "      <td>video_duration_sec</td>\n",
       "      <td>3.74</td>\n",
       "    </tr>\n",
       "    <tr>\n",
       "      <th>3</th>\n",
       "      <td>video_comment_count</td>\n",
       "      <td>3.56</td>\n",
       "    </tr>\n",
       "    <tr>\n",
       "      <th>5</th>\n",
       "      <td>claim_status_opinion</td>\n",
       "      <td>2.89</td>\n",
       "    </tr>\n",
       "    <tr>\n",
       "      <th>4</th>\n",
       "      <td>author_ban_status_banned</td>\n",
       "      <td>1.10</td>\n",
       "    </tr>\n",
       "  </tbody>\n",
       "</table>\n",
       "</div>"
      ],
      "text/plain": [
       "                   Features   VIF\n",
       "1          video_view_count  4.54\n",
       "2         video_share_count  4.24\n",
       "0        video_duration_sec  3.74\n",
       "3       video_comment_count  3.56\n",
       "5      claim_status_opinion  2.89\n",
       "4  author_ban_status_banned  1.10"
      ]
     },
     "execution_count": 57,
     "metadata": {},
     "output_type": "execute_result"
    }
   ],
   "source": [
    "# VIF score:\n",
    "vif = pd.DataFrame()\n",
    "\n",
    "vif['Features'] = X_train_new.columns\n",
    "\n",
    "vif['VIF'] = [variance_inflation_factor(X_train_new.values, i) for i in range(X_train_new.shape[1])]\n",
    "\n",
    "vif['VIF'] = round(vif['VIF'], 2)\n",
    "\n",
    "vif = vif.sort_values(by = \"VIF\", ascending = False)\n",
    "vif"
   ]
  },
  {
   "cell_type": "code",
   "execution_count": 58,
   "id": "58a85112",
   "metadata": {},
   "outputs": [
    {
     "name": "stdout",
     "output_type": "stream",
     "text": [
      "Optimization terminated successfully.\n",
      "         Current function value: 0.621278\n",
      "         Iterations 5\n"
     ]
    },
    {
     "data": {
      "text/html": [
       "<table class=\"simpletable\">\n",
       "<caption>Logit Regression Results</caption>\n",
       "<tr>\n",
       "  <th>Dep. Variable:</th>    <td>verified_status</td> <th>  No. Observations:  </th>  <td> 25037</td> \n",
       "</tr>\n",
       "<tr>\n",
       "  <th>Model:</th>                 <td>Logit</td>      <th>  Df Residuals:      </th>  <td> 25030</td> \n",
       "</tr>\n",
       "<tr>\n",
       "  <th>Method:</th>                 <td>MLE</td>       <th>  Df Model:          </th>  <td>     6</td> \n",
       "</tr>\n",
       "<tr>\n",
       "  <th>Date:</th>            <td>Sat, 06 Apr 2024</td> <th>  Pseudo R-squ.:     </th>  <td>0.1037</td> \n",
       "</tr>\n",
       "<tr>\n",
       "  <th>Time:</th>                <td>14:48:24</td>     <th>  Log-Likelihood:    </th> <td> -15555.</td>\n",
       "</tr>\n",
       "<tr>\n",
       "  <th>converged:</th>             <td>True</td>       <th>  LL-Null:           </th> <td> -17354.</td>\n",
       "</tr>\n",
       "<tr>\n",
       "  <th>Covariance Type:</th>     <td>nonrobust</td>    <th>  LLR p-value:       </th>  <td> 0.000</td> \n",
       "</tr>\n",
       "</table>\n",
       "<table class=\"simpletable\">\n",
       "<tr>\n",
       "              <td></td>                <th>coef</th>     <th>std err</th>      <th>z</th>      <th>P>|z|</th>  <th>[0.025</th>    <th>0.975]</th>  \n",
       "</tr>\n",
       "<tr>\n",
       "  <th>const</th>                    <td>   -1.1142</td> <td>    0.060</td> <td>  -18.450</td> <td> 0.000</td> <td>   -1.233</td> <td>   -0.996</td>\n",
       "</tr>\n",
       "<tr>\n",
       "  <th>video_duration_sec</th>       <td>   -0.0021</td> <td>    0.001</td> <td>   -2.428</td> <td> 0.015</td> <td>   -0.004</td> <td>   -0.000</td>\n",
       "</tr>\n",
       "<tr>\n",
       "  <th>video_view_count</th>         <td>-4.103e-07</td> <td> 1.06e-07</td> <td>   -3.855</td> <td> 0.000</td> <td>-6.19e-07</td> <td>-2.02e-07</td>\n",
       "</tr>\n",
       "<tr>\n",
       "  <th>video_share_count</th>        <td> 1.244e-05</td> <td> 1.82e-06</td> <td>    6.826</td> <td> 0.000</td> <td> 8.87e-06</td> <td>  1.6e-05</td>\n",
       "</tr>\n",
       "<tr>\n",
       "  <th>video_comment_count</th>      <td> 5.172e-05</td> <td>    0.000</td> <td>    0.501</td> <td> 0.617</td> <td>   -0.000</td> <td>    0.000</td>\n",
       "</tr>\n",
       "<tr>\n",
       "  <th>author_ban_status_banned</th> <td>   -0.2958</td> <td>    0.063</td> <td>   -4.720</td> <td> 0.000</td> <td>   -0.419</td> <td>   -0.173</td>\n",
       "</tr>\n",
       "<tr>\n",
       "  <th>claim_status_opinion</th>     <td>    1.7333</td> <td>    0.055</td> <td>   31.238</td> <td> 0.000</td> <td>    1.625</td> <td>    1.842</td>\n",
       "</tr>\n",
       "</table>"
      ],
      "text/plain": [
       "<class 'statsmodels.iolib.summary.Summary'>\n",
       "\"\"\"\n",
       "                           Logit Regression Results                           \n",
       "==============================================================================\n",
       "Dep. Variable:        verified_status   No. Observations:                25037\n",
       "Model:                          Logit   Df Residuals:                    25030\n",
       "Method:                           MLE   Df Model:                            6\n",
       "Date:                Sat, 06 Apr 2024   Pseudo R-squ.:                  0.1037\n",
       "Time:                        14:48:24   Log-Likelihood:                -15555.\n",
       "converged:                       True   LL-Null:                       -17354.\n",
       "Covariance Type:            nonrobust   LLR p-value:                     0.000\n",
       "============================================================================================\n",
       "                               coef    std err          z      P>|z|      [0.025      0.975]\n",
       "--------------------------------------------------------------------------------------------\n",
       "const                       -1.1142      0.060    -18.450      0.000      -1.233      -0.996\n",
       "video_duration_sec          -0.0021      0.001     -2.428      0.015      -0.004      -0.000\n",
       "video_view_count         -4.103e-07   1.06e-07     -3.855      0.000   -6.19e-07   -2.02e-07\n",
       "video_share_count         1.244e-05   1.82e-06      6.826      0.000    8.87e-06     1.6e-05\n",
       "video_comment_count       5.172e-05      0.000      0.501      0.617      -0.000       0.000\n",
       "author_ban_status_banned    -0.2958      0.063     -4.720      0.000      -0.419      -0.173\n",
       "claim_status_opinion         1.7333      0.055     31.238      0.000       1.625       1.842\n",
       "============================================================================================\n",
       "\"\"\""
      ]
     },
     "execution_count": 58,
     "metadata": {},
     "output_type": "execute_result"
    }
   ],
   "source": [
    "# Add a constant for model 2: \n",
    "X_train_lm4 = sm.add_constant(X_train_new)\n",
    "\n",
    "# Create a first fitted model\n",
    "lr4 = sm.Logit(y_train, X_train_lm4).fit()\n",
    "\n",
    "lr4.summary()"
   ]
  },
  {
   "cell_type": "markdown",
   "id": "d53b1236",
   "metadata": {},
   "source": [
    "## Iteration fifth:\n",
    "Dropping 'video_comment_count' due to high p-value"
   ]
  },
  {
   "cell_type": "code",
   "execution_count": 59,
   "id": "d967a25e",
   "metadata": {},
   "outputs": [],
   "source": [
    "X_train_new = X_train_new.drop('video_comment_count', axis = 1)"
   ]
  },
  {
   "cell_type": "code",
   "execution_count": 60,
   "id": "05ce4900",
   "metadata": {},
   "outputs": [
    {
     "data": {
      "text/html": [
       "<div>\n",
       "<style scoped>\n",
       "    .dataframe tbody tr th:only-of-type {\n",
       "        vertical-align: middle;\n",
       "    }\n",
       "\n",
       "    .dataframe tbody tr th {\n",
       "        vertical-align: top;\n",
       "    }\n",
       "\n",
       "    .dataframe thead th {\n",
       "        text-align: right;\n",
       "    }\n",
       "</style>\n",
       "<table border=\"1\" class=\"dataframe\">\n",
       "  <thead>\n",
       "    <tr style=\"text-align: right;\">\n",
       "      <th></th>\n",
       "      <th>Features</th>\n",
       "      <th>VIF</th>\n",
       "    </tr>\n",
       "  </thead>\n",
       "  <tbody>\n",
       "    <tr>\n",
       "      <th>1</th>\n",
       "      <td>video_view_count</td>\n",
       "      <td>4.05</td>\n",
       "    </tr>\n",
       "    <tr>\n",
       "      <th>0</th>\n",
       "      <td>video_duration_sec</td>\n",
       "      <td>3.71</td>\n",
       "    </tr>\n",
       "    <tr>\n",
       "      <th>2</th>\n",
       "      <td>video_share_count</td>\n",
       "      <td>3.48</td>\n",
       "    </tr>\n",
       "    <tr>\n",
       "      <th>4</th>\n",
       "      <td>claim_status_opinion</td>\n",
       "      <td>2.87</td>\n",
       "    </tr>\n",
       "    <tr>\n",
       "      <th>3</th>\n",
       "      <td>author_ban_status_banned</td>\n",
       "      <td>1.10</td>\n",
       "    </tr>\n",
       "  </tbody>\n",
       "</table>\n",
       "</div>"
      ],
      "text/plain": [
       "                   Features   VIF\n",
       "1          video_view_count  4.05\n",
       "0        video_duration_sec  3.71\n",
       "2         video_share_count  3.48\n",
       "4      claim_status_opinion  2.87\n",
       "3  author_ban_status_banned  1.10"
      ]
     },
     "execution_count": 60,
     "metadata": {},
     "output_type": "execute_result"
    }
   ],
   "source": [
    "# VIF score:\n",
    "vif = pd.DataFrame()\n",
    "\n",
    "vif['Features'] = X_train_new.columns\n",
    "\n",
    "vif['VIF'] = [variance_inflation_factor(X_train_new.values, i) for i in range(X_train_new.shape[1])]\n",
    "\n",
    "vif['VIF'] = round(vif['VIF'], 2)\n",
    "\n",
    "vif = vif.sort_values(by = \"VIF\", ascending = False)\n",
    "vif"
   ]
  },
  {
   "cell_type": "code",
   "execution_count": 61,
   "id": "132be90e",
   "metadata": {
    "scrolled": true
   },
   "outputs": [
    {
     "name": "stdout",
     "output_type": "stream",
     "text": [
      "Optimization terminated successfully.\n",
      "         Current function value: 0.621283\n",
      "         Iterations 5\n"
     ]
    },
    {
     "data": {
      "text/html": [
       "<table class=\"simpletable\">\n",
       "<caption>Logit Regression Results</caption>\n",
       "<tr>\n",
       "  <th>Dep. Variable:</th>    <td>verified_status</td> <th>  No. Observations:  </th>  <td> 25037</td> \n",
       "</tr>\n",
       "<tr>\n",
       "  <th>Model:</th>                 <td>Logit</td>      <th>  Df Residuals:      </th>  <td> 25031</td> \n",
       "</tr>\n",
       "<tr>\n",
       "  <th>Method:</th>                 <td>MLE</td>       <th>  Df Model:          </th>  <td>     5</td> \n",
       "</tr>\n",
       "<tr>\n",
       "  <th>Date:</th>            <td>Sat, 06 Apr 2024</td> <th>  Pseudo R-squ.:     </th>  <td>0.1037</td> \n",
       "</tr>\n",
       "<tr>\n",
       "  <th>Time:</th>                <td>14:49:36</td>     <th>  Log-Likelihood:    </th> <td> -15555.</td>\n",
       "</tr>\n",
       "<tr>\n",
       "  <th>converged:</th>             <td>True</td>       <th>  LL-Null:           </th> <td> -17354.</td>\n",
       "</tr>\n",
       "<tr>\n",
       "  <th>Covariance Type:</th>     <td>nonrobust</td>    <th>  LLR p-value:       </th>  <td> 0.000</td> \n",
       "</tr>\n",
       "</table>\n",
       "<table class=\"simpletable\">\n",
       "<tr>\n",
       "              <td></td>                <th>coef</th>     <th>std err</th>      <th>z</th>      <th>P>|z|</th>  <th>[0.025</th>    <th>0.975]</th>  \n",
       "</tr>\n",
       "<tr>\n",
       "  <th>const</th>                    <td>   -1.1083</td> <td>    0.059</td> <td>  -18.719</td> <td> 0.000</td> <td>   -1.224</td> <td>   -0.992</td>\n",
       "</tr>\n",
       "<tr>\n",
       "  <th>video_duration_sec</th>       <td>   -0.0021</td> <td>    0.001</td> <td>   -2.438</td> <td> 0.015</td> <td>   -0.004</td> <td>   -0.000</td>\n",
       "</tr>\n",
       "<tr>\n",
       "  <th>video_view_count</th>         <td>-4.003e-07</td> <td> 1.05e-07</td> <td>   -3.830</td> <td> 0.000</td> <td>-6.05e-07</td> <td>-1.95e-07</td>\n",
       "</tr>\n",
       "<tr>\n",
       "  <th>video_share_count</th>        <td> 1.281e-05</td> <td> 1.67e-06</td> <td>    7.649</td> <td> 0.000</td> <td> 9.53e-06</td> <td> 1.61e-05</td>\n",
       "</tr>\n",
       "<tr>\n",
       "  <th>author_ban_status_banned</th> <td>   -0.2958</td> <td>    0.063</td> <td>   -4.721</td> <td> 0.000</td> <td>   -0.419</td> <td>   -0.173</td>\n",
       "</tr>\n",
       "<tr>\n",
       "  <th>claim_status_opinion</th>     <td>    1.7277</td> <td>    0.054</td> <td>   31.810</td> <td> 0.000</td> <td>    1.621</td> <td>    1.834</td>\n",
       "</tr>\n",
       "</table>"
      ],
      "text/plain": [
       "<class 'statsmodels.iolib.summary.Summary'>\n",
       "\"\"\"\n",
       "                           Logit Regression Results                           \n",
       "==============================================================================\n",
       "Dep. Variable:        verified_status   No. Observations:                25037\n",
       "Model:                          Logit   Df Residuals:                    25031\n",
       "Method:                           MLE   Df Model:                            5\n",
       "Date:                Sat, 06 Apr 2024   Pseudo R-squ.:                  0.1037\n",
       "Time:                        14:49:36   Log-Likelihood:                -15555.\n",
       "converged:                       True   LL-Null:                       -17354.\n",
       "Covariance Type:            nonrobust   LLR p-value:                     0.000\n",
       "============================================================================================\n",
       "                               coef    std err          z      P>|z|      [0.025      0.975]\n",
       "--------------------------------------------------------------------------------------------\n",
       "const                       -1.1083      0.059    -18.719      0.000      -1.224      -0.992\n",
       "video_duration_sec          -0.0021      0.001     -2.438      0.015      -0.004      -0.000\n",
       "video_view_count         -4.003e-07   1.05e-07     -3.830      0.000   -6.05e-07   -1.95e-07\n",
       "video_share_count         1.281e-05   1.67e-06      7.649      0.000    9.53e-06    1.61e-05\n",
       "author_ban_status_banned    -0.2958      0.063     -4.721      0.000      -0.419      -0.173\n",
       "claim_status_opinion         1.7277      0.054     31.810      0.000       1.621       1.834\n",
       "============================================================================================\n",
       "\"\"\""
      ]
     },
     "execution_count": 61,
     "metadata": {},
     "output_type": "execute_result"
    }
   ],
   "source": [
    "# Add a constant for model 2: \n",
    "X_train_lm5 = sm.add_constant(X_train_new)\n",
    "\n",
    "# Create a first fitted model\n",
    "lr5 = sm.Logit(y_train, X_train_lm5).fit()\n",
    "\n",
    "lr5.summary()"
   ]
  },
  {
   "cell_type": "code",
   "execution_count": 62,
   "id": "9f68f296",
   "metadata": {},
   "outputs": [
    {
     "data": {
      "text/plain": [
       "const                      -1.108336e+00\n",
       "video_duration_sec         -2.061825e-03\n",
       "video_view_count           -4.003400e-07\n",
       "video_share_count           1.280670e-05\n",
       "author_ban_status_banned   -2.958218e-01\n",
       "claim_status_opinion        1.727653e+00\n",
       "dtype: float64"
      ]
     },
     "execution_count": 62,
     "metadata": {},
     "output_type": "execute_result"
    }
   ],
   "source": [
    "lr5.params"
   ]
  },
  {
   "cell_type": "code",
   "execution_count": 63,
   "id": "8e9b782b",
   "metadata": {},
   "outputs": [
    {
     "name": "stdout",
     "output_type": "stream",
     "text": [
      "<class 'pandas.core.frame.DataFrame'>\n",
      "Int64Index: 10731 entries, 26849 to 7676\n",
      "Data columns (total 5 columns):\n",
      " #   Column                    Non-Null Count  Dtype  \n",
      "---  ------                    --------------  -----  \n",
      " 0   video_duration_sec        10731 non-null  int64  \n",
      " 1   video_view_count          10731 non-null  float64\n",
      " 2   video_share_count         10731 non-null  float64\n",
      " 3   author_ban_status_banned  10731 non-null  float64\n",
      " 4   claim_status_opinion      10731 non-null  float64\n",
      "dtypes: float64(4), int64(1)\n",
      "memory usage: 503.0 KB\n"
     ]
    }
   ],
   "source": [
    "# Selecting only relevant lr5 model columns from our intital X_test\n",
    "cols = X_train_new.columns\n",
    "X_test = X_test[cols]\n",
    "X_test.info()"
   ]
  },
  {
   "cell_type": "code",
   "execution_count": 64,
   "id": "7f3afb13",
   "metadata": {},
   "outputs": [],
   "source": [
    "# First adding a constant colum to our data (Equates our X_Test dimension with model lr8 dimensions)\n",
    "X_test_lr5 = sm.add_constant(X_test)\n",
    "\n",
    "# Making Predicitons:\n",
    "y_pred = lr5.predict(X_test_lr5)"
   ]
  },
  {
   "cell_type": "code",
   "execution_count": 65,
   "id": "e96327aa",
   "metadata": {},
   "outputs": [
    {
     "data": {
      "text/plain": [
       "26849    0.644708\n",
       "1227     0.276660\n",
       "25467    0.643551\n",
       "27310    0.647049\n",
       "27560    0.634541\n",
       "           ...   \n",
       "16758    0.622225\n",
       "28583    0.633288\n",
       "23163    0.639696\n",
       "1580     0.217378\n",
       "7676     0.241061\n",
       "Length: 10731, dtype: float64"
      ]
     },
     "execution_count": 65,
     "metadata": {},
     "output_type": "execute_result"
    }
   ],
   "source": [
    "y_pred"
   ]
  },
  {
   "cell_type": "code",
   "execution_count": null,
   "id": "c2fb7e20",
   "metadata": {},
   "outputs": [],
   "source": []
  },
  {
   "cell_type": "code",
   "execution_count": 66,
   "id": "5117223a",
   "metadata": {},
   "outputs": [],
   "source": [
    "# Assuming y_pred is your series of probabilities from the logistic regression\n",
    "threshold = 0.5\n",
    "y_pred_class = y_pred.apply(lambda x: 1 if x > threshold else 0)"
   ]
  },
  {
   "cell_type": "code",
   "execution_count": 96,
   "id": "fd0453b7",
   "metadata": {},
   "outputs": [
    {
     "data": {
      "text/html": [
       "<div>\n",
       "<style scoped>\n",
       "    .dataframe tbody tr th:only-of-type {\n",
       "        vertical-align: middle;\n",
       "    }\n",
       "\n",
       "    .dataframe tbody tr th {\n",
       "        vertical-align: top;\n",
       "    }\n",
       "\n",
       "    .dataframe thead th {\n",
       "        text-align: right;\n",
       "    }\n",
       "</style>\n",
       "<table border=\"1\" class=\"dataframe\">\n",
       "  <thead>\n",
       "    <tr style=\"text-align: right;\">\n",
       "      <th></th>\n",
       "      <th>video_duration_sec</th>\n",
       "      <th>video_view_count</th>\n",
       "      <th>video_share_count</th>\n",
       "      <th>author_ban_status_banned</th>\n",
       "      <th>claim_status_opinion</th>\n",
       "    </tr>\n",
       "  </thead>\n",
       "  <tbody>\n",
       "    <tr>\n",
       "      <th>26849</th>\n",
       "      <td>0.127273</td>\n",
       "      <td>0.002157</td>\n",
       "      <td>0.003702</td>\n",
       "      <td>0.0</td>\n",
       "      <td>1.0</td>\n",
       "    </tr>\n",
       "    <tr>\n",
       "      <th>1227</th>\n",
       "      <td>0.690909</td>\n",
       "      <td>0.862662</td>\n",
       "      <td>1.000000</td>\n",
       "      <td>0.0</td>\n",
       "      <td>0.0</td>\n",
       "    </tr>\n",
       "    <tr>\n",
       "      <th>25467</th>\n",
       "      <td>0.145455</td>\n",
       "      <td>0.007439</td>\n",
       "      <td>0.002203</td>\n",
       "      <td>0.0</td>\n",
       "      <td>1.0</td>\n",
       "    </tr>\n",
       "    <tr>\n",
       "      <th>27310</th>\n",
       "      <td>0.018182</td>\n",
       "      <td>0.006369</td>\n",
       "      <td>0.002931</td>\n",
       "      <td>0.0</td>\n",
       "      <td>1.0</td>\n",
       "    </tr>\n",
       "    <tr>\n",
       "      <th>27560</th>\n",
       "      <td>0.527273</td>\n",
       "      <td>0.004056</td>\n",
       "      <td>0.007161</td>\n",
       "      <td>0.0</td>\n",
       "      <td>1.0</td>\n",
       "    </tr>\n",
       "    <tr>\n",
       "      <th>...</th>\n",
       "      <td>...</td>\n",
       "      <td>...</td>\n",
       "      <td>...</td>\n",
       "      <td>...</td>\n",
       "      <td>...</td>\n",
       "    </tr>\n",
       "    <tr>\n",
       "      <th>16758</th>\n",
       "      <td>0.963636</td>\n",
       "      <td>0.004649</td>\n",
       "      <td>0.001961</td>\n",
       "      <td>0.0</td>\n",
       "      <td>1.0</td>\n",
       "    </tr>\n",
       "    <tr>\n",
       "      <th>28583</th>\n",
       "      <td>0.563636</td>\n",
       "      <td>0.007045</td>\n",
       "      <td>0.007029</td>\n",
       "      <td>0.0</td>\n",
       "      <td>1.0</td>\n",
       "    </tr>\n",
       "    <tr>\n",
       "      <th>23163</th>\n",
       "      <td>0.309091</td>\n",
       "      <td>0.002164</td>\n",
       "      <td>0.001653</td>\n",
       "      <td>0.0</td>\n",
       "      <td>1.0</td>\n",
       "    </tr>\n",
       "    <tr>\n",
       "      <th>1580</th>\n",
       "      <td>0.527273</td>\n",
       "      <td>0.363751</td>\n",
       "      <td>0.074037</td>\n",
       "      <td>0.0</td>\n",
       "      <td>0.0</td>\n",
       "    </tr>\n",
       "    <tr>\n",
       "      <th>7676</th>\n",
       "      <td>0.109091</td>\n",
       "      <td>0.467994</td>\n",
       "      <td>0.295026</td>\n",
       "      <td>0.0</td>\n",
       "      <td>0.0</td>\n",
       "    </tr>\n",
       "  </tbody>\n",
       "</table>\n",
       "<p>10731 rows × 5 columns</p>\n",
       "</div>"
      ],
      "text/plain": [
       "       video_duration_sec  video_view_count  video_share_count  \\\n",
       "26849            0.127273          0.002157           0.003702   \n",
       "1227             0.690909          0.862662           1.000000   \n",
       "25467            0.145455          0.007439           0.002203   \n",
       "27310            0.018182          0.006369           0.002931   \n",
       "27560            0.527273          0.004056           0.007161   \n",
       "...                   ...               ...                ...   \n",
       "16758            0.963636          0.004649           0.001961   \n",
       "28583            0.563636          0.007045           0.007029   \n",
       "23163            0.309091          0.002164           0.001653   \n",
       "1580             0.527273          0.363751           0.074037   \n",
       "7676             0.109091          0.467994           0.295026   \n",
       "\n",
       "       author_ban_status_banned  claim_status_opinion  \n",
       "26849                       0.0                   1.0  \n",
       "1227                        0.0                   0.0  \n",
       "25467                       0.0                   1.0  \n",
       "27310                       0.0                   1.0  \n",
       "27560                       0.0                   1.0  \n",
       "...                         ...                   ...  \n",
       "16758                       0.0                   1.0  \n",
       "28583                       0.0                   1.0  \n",
       "23163                       0.0                   1.0  \n",
       "1580                        0.0                   0.0  \n",
       "7676                        0.0                   0.0  \n",
       "\n",
       "[10731 rows x 5 columns]"
      ]
     },
     "execution_count": 96,
     "metadata": {},
     "output_type": "execute_result"
    }
   ],
   "source": [
    "# Compute values for confusion matrix\n",
    "log_cm = confusion_matrix(y_test_final, y_pred_class, labels=log_clf.classes_)\n",
    "\n",
    "# Create display of confusion matrix\n",
    "log_disp = ConfusionMatrixDisplay(confusion_matrix=log_cm, display_labels=log_clf.classes_)\n",
    "\n",
    "# Plot confusion matrix\n",
    "log_disp.plot()\n",
    "\n",
    "# Display plot\n",
    "plt.show()X_test"
   ]
  },
  {
   "cell_type": "code",
   "execution_count": null,
   "id": "2cdfe988",
   "metadata": {},
   "outputs": [],
   "source": []
  },
  {
   "cell_type": "markdown",
   "id": "224792f1",
   "metadata": {},
   "source": [
    "**Observations**:\n",
    "- We now have features that are not only statistically significant but also have the least multicollineairty among them.\n",
    "\n",
    "\n",
    "# Logistic Regression Model Summary\n",
    "\n",
    "## Overview\n",
    "The logistic regression analysis has been conducted to identify key factors influencing the verification status of individuals. The dependent variable for the analysis is `verified_status`. The model includes several predictors: `video_duration_sec`, `video_view_count`, `video_share_count`, `author_ban_status_banned`, and `claim_status_opinion`. The analysis outcomes provide insightful guidance for strategizing verification processes.\n",
    "\n",
    "## Model Performance\n",
    "- Observations: 25037\n",
    "- Log-Likelihood: -17555.5\n",
    "- LL-Null: -17354.3\n",
    "- LLR p-value: 0.000\n",
    "\n",
    "These statistics indicate that the model fits the data significantly better than a null model, which is an essential aspect of the utility of the model in practical scenarios.\n",
    "\n",
    "## Significant Predictors\n",
    "Based on the logistic regression results, the significant predictors affecting the verification status are:\n",
    "\n",
    "1. **Video Share Count (`video_share_count`)** - With a coefficient of `0.5812` and a p-value of `0.000`, the number of shares a video receives is a strong positive predictor of verification status. For each additional share, the log odds of being verified increase by `0.5812`.\n",
    "\n",
    "2. **Claim Status Opinion (`claim_status_opinion`)** - Holding a coefficient of `1.7277` and a p-value of `0.000`, this variable is a substantial positive predictor. An increase in the claim status opinion metric increases the log odds of being verified by `1.7277`.\n",
    "\n",
    "3. **Video View Count (`video_view_count`)** - With a coefficient of `-0.4003` and a p-value of `0.000`, this predictor has a negative relationship with verification status. An increase in video views is associated with a decrease in the log odds of being verified by `0.4003`.\n",
    "\n",
    "## Additional Considerations\n",
    "While the aforementioned variables are the most significant, other predictors also contribute to the model and should be considered:\n",
    "\n",
    "- **Video Duration (`video_duration_sec`)** - The coefficient of `-0.1134` suggests a negative impact on verification status. As the duration of a video increases, the likelihood of verification slightly decreases.\n",
    "- **Author Ban Status Banned (`author_ban_status_banned`)** - With a coefficient of `-0.2958`, this indicates that an author's banned status is negatively associated with verification status.\n",
    "\n",
    "## Conclusion and Recommendations\n",
    "The analysis highlights the importance of video share count and claim status opinion in the verification status of an individual. While more shared videos and favorable claim status opinions are strong indicators of verification, higher view counts and longer video durations may negatively impact verification status. These insights should guide strategic decision-making to maximize verification rates, focusing on fostering content that is share-worthy and credible, as these aspects are key drivers of verification.\n",
    "\n",
    "#### Note\n",
    "- P-values below `0.05` are considered significant, indicating a strong likelihood that the predictor has a real effect on the outcome.\n",
    "- The coefficients represent the change in the log odds of the outcome for a one-unit change in the predictor variable.\n",
    "\n"
   ]
  },
  {
   "cell_type": "code",
   "execution_count": null,
   "id": "6361b8fc",
   "metadata": {},
   "outputs": [],
   "source": []
  },
  {
   "cell_type": "code",
   "execution_count": null,
   "id": "5226ab0d",
   "metadata": {},
   "outputs": [],
   "source": []
  },
  {
   "cell_type": "code",
   "execution_count": null,
   "id": "1ab484a8",
   "metadata": {},
   "outputs": [],
   "source": []
  },
  {
   "cell_type": "code",
   "execution_count": null,
   "id": "bf2cbacf",
   "metadata": {},
   "outputs": [],
   "source": []
  },
  {
   "cell_type": "code",
   "execution_count": null,
   "id": "9c311bf8",
   "metadata": {},
   "outputs": [],
   "source": []
  },
  {
   "cell_type": "code",
   "execution_count": null,
   "id": "debc58de",
   "metadata": {},
   "outputs": [],
   "source": []
  },
  {
   "cell_type": "code",
   "execution_count": null,
   "id": "dba80c4f",
   "metadata": {},
   "outputs": [],
   "source": []
  },
  {
   "cell_type": "code",
   "execution_count": null,
   "id": "6ad2320e",
   "metadata": {},
   "outputs": [],
   "source": []
  },
  {
   "cell_type": "code",
   "execution_count": null,
   "id": "636bd102",
   "metadata": {},
   "outputs": [],
   "source": []
  },
  {
   "cell_type": "code",
   "execution_count": null,
   "id": "5a906a73",
   "metadata": {},
   "outputs": [],
   "source": []
  },
  {
   "cell_type": "code",
   "execution_count": null,
   "id": "19f15024",
   "metadata": {},
   "outputs": [],
   "source": []
  },
  {
   "cell_type": "code",
   "execution_count": null,
   "id": "5cd43fcf",
   "metadata": {},
   "outputs": [],
   "source": []
  }
 ],
 "metadata": {
  "kernelspec": {
   "display_name": "Python 3 (ipykernel)",
   "language": "python",
   "name": "python3"
  },
  "language_info": {
   "codemirror_mode": {
    "name": "ipython",
    "version": 3
   },
   "file_extension": ".py",
   "mimetype": "text/x-python",
   "name": "python",
   "nbconvert_exporter": "python",
   "pygments_lexer": "ipython3",
   "version": "3.9.12"
  }
 },
 "nbformat": 4,
 "nbformat_minor": 5
}
