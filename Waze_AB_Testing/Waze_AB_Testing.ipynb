{
 "cells": [
  {
   "cell_type": "markdown",
   "id": "578ca875",
   "metadata": {},
   "source": [
    "<img src = 'og.png' width = '400' height = '300'> \n",
    "\n",
    "## Scenario:\n",
    "The Waze team is working on developing a machine learning model to predict user churn. In light of this, as a data analyst you've received a concise brief from Jordan Matthews, a key figure in project management at Waze. The message highlights the necessity to dissect and compare user engagement across the two device platforms.The leadership has now requested an analysis of the relationship between the mean amount of rides and device type (iPhone® vs. Android™).\n",
    "\n",
    "## Problem Statement:\n",
    "Conduct a statistical analysis to determine whether there is a statistically significant difference in the mean amount of rides between **iPhone® users and Android™ users**. Additionally, assess the **average user engagement** for both groups.\n",
    "\n",
    "## Objective:\n",
    "The feature to give insights into the differences between iPhone® and Android™ users will be '$drives$'.\n",
    "* Build **confidence intervals** for the mean amount of rides for both iPhone® and Android™ users respectively.\n",
    "* Conduct a **two-sample hypothesis test** to assess if the difference between the mean amount of rides for iPhone® and Android™ users is statistically significant.\n",
    "\n",
    "## Approach:\n",
    "* Explore descriptive statistics\n",
    "* Perform Exploratory Data Analysis (EDA)\n",
    "* Build confidence intervals for the mean amount of rides\n",
    "    * Identify sample statistic: MEAN\n",
    "    * Choose confidence levels: 95% and 99%\n",
    "    * Calculate Standard Error\n",
    "    * Determine Margin of Error (MOE)\n",
    "    * Calculate the confidence intervals \n",
    "  \n",
    "* Conduct A/B testing (two-sample hypothesis test)\n",
    "    * Calculate sample means for iPhone® and Android™ users\n",
    "    * State the null hypothesis (H₀) and alternative hypothesis (Hₐ)\n",
    "    * Choose the significance level (α = 0.05)\n",
    "    * Calculate the p-value\n",
    "    * Based on the p-value, either reject H₀ or fail to reject H₀"
   ]
  },
  {
   "cell_type": "code",
   "execution_count": 1,
   "id": "d7145577",
   "metadata": {},
   "outputs": [],
   "source": [
    "# Imports\n",
    "import numpy as np\n",
    "import pandas as pd\n",
    "import seaborn as sns\n",
    "import matplotlib.pyplot as plt\n",
    "from scipy import stats\n",
    "\n",
    "pd.set_option('display.max_columns', 100)\n",
    "pd.set_option('display.max_rows', 100)"
   ]
  },
  {
   "cell_type": "code",
   "execution_count": 4,
   "id": "a85232a9",
   "metadata": {},
   "outputs": [
    {
     "data": {
      "text/html": [
       "<div>\n",
       "<style scoped>\n",
       "    .dataframe tbody tr th:only-of-type {\n",
       "        vertical-align: middle;\n",
       "    }\n",
       "\n",
       "    .dataframe tbody tr th {\n",
       "        vertical-align: top;\n",
       "    }\n",
       "\n",
       "    .dataframe thead th {\n",
       "        text-align: right;\n",
       "    }\n",
       "</style>\n",
       "<table border=\"1\" class=\"dataframe\">\n",
       "  <thead>\n",
       "    <tr style=\"text-align: right;\">\n",
       "      <th></th>\n",
       "      <th>label</th>\n",
       "      <th>sessions</th>\n",
       "      <th>drives</th>\n",
       "      <th>total_sessions</th>\n",
       "      <th>n_days_after_onboarding</th>\n",
       "      <th>total_navigations_fav1</th>\n",
       "      <th>total_navigations_fav2</th>\n",
       "      <th>driven_km_drives</th>\n",
       "      <th>duration_minutes_drives</th>\n",
       "      <th>activity_days</th>\n",
       "      <th>driving_days</th>\n",
       "      <th>device</th>\n",
       "    </tr>\n",
       "    <tr>\n",
       "      <th>ID</th>\n",
       "      <th></th>\n",
       "      <th></th>\n",
       "      <th></th>\n",
       "      <th></th>\n",
       "      <th></th>\n",
       "      <th></th>\n",
       "      <th></th>\n",
       "      <th></th>\n",
       "      <th></th>\n",
       "      <th></th>\n",
       "      <th></th>\n",
       "      <th></th>\n",
       "    </tr>\n",
       "  </thead>\n",
       "  <tbody>\n",
       "    <tr>\n",
       "      <th>0</th>\n",
       "      <td>retained</td>\n",
       "      <td>283</td>\n",
       "      <td>226</td>\n",
       "      <td>296.748273</td>\n",
       "      <td>2276</td>\n",
       "      <td>208</td>\n",
       "      <td>0</td>\n",
       "      <td>2628.845068</td>\n",
       "      <td>1985.775061</td>\n",
       "      <td>28</td>\n",
       "      <td>19</td>\n",
       "      <td>Android</td>\n",
       "    </tr>\n",
       "    <tr>\n",
       "      <th>1</th>\n",
       "      <td>retained</td>\n",
       "      <td>133</td>\n",
       "      <td>107</td>\n",
       "      <td>326.896596</td>\n",
       "      <td>1225</td>\n",
       "      <td>19</td>\n",
       "      <td>64</td>\n",
       "      <td>13715.920550</td>\n",
       "      <td>3160.472914</td>\n",
       "      <td>13</td>\n",
       "      <td>11</td>\n",
       "      <td>iPhone</td>\n",
       "    </tr>\n",
       "    <tr>\n",
       "      <th>2</th>\n",
       "      <td>retained</td>\n",
       "      <td>114</td>\n",
       "      <td>95</td>\n",
       "      <td>135.522926</td>\n",
       "      <td>2651</td>\n",
       "      <td>0</td>\n",
       "      <td>0</td>\n",
       "      <td>3059.148818</td>\n",
       "      <td>1610.735904</td>\n",
       "      <td>14</td>\n",
       "      <td>8</td>\n",
       "      <td>Android</td>\n",
       "    </tr>\n",
       "    <tr>\n",
       "      <th>3</th>\n",
       "      <td>retained</td>\n",
       "      <td>49</td>\n",
       "      <td>40</td>\n",
       "      <td>67.589221</td>\n",
       "      <td>15</td>\n",
       "      <td>322</td>\n",
       "      <td>7</td>\n",
       "      <td>913.591123</td>\n",
       "      <td>587.196542</td>\n",
       "      <td>7</td>\n",
       "      <td>3</td>\n",
       "      <td>iPhone</td>\n",
       "    </tr>\n",
       "    <tr>\n",
       "      <th>4</th>\n",
       "      <td>retained</td>\n",
       "      <td>84</td>\n",
       "      <td>68</td>\n",
       "      <td>168.247020</td>\n",
       "      <td>1562</td>\n",
       "      <td>166</td>\n",
       "      <td>5</td>\n",
       "      <td>3950.202008</td>\n",
       "      <td>1219.555924</td>\n",
       "      <td>27</td>\n",
       "      <td>18</td>\n",
       "      <td>Android</td>\n",
       "    </tr>\n",
       "  </tbody>\n",
       "</table>\n",
       "</div>"
      ],
      "text/plain": [
       "       label  sessions  drives  total_sessions  n_days_after_onboarding  \\\n",
       "ID                                                                        \n",
       "0   retained       283     226      296.748273                     2276   \n",
       "1   retained       133     107      326.896596                     1225   \n",
       "2   retained       114      95      135.522926                     2651   \n",
       "3   retained        49      40       67.589221                       15   \n",
       "4   retained        84      68      168.247020                     1562   \n",
       "\n",
       "    total_navigations_fav1  total_navigations_fav2  driven_km_drives  \\\n",
       "ID                                                                     \n",
       "0                      208                       0       2628.845068   \n",
       "1                       19                      64      13715.920550   \n",
       "2                        0                       0       3059.148818   \n",
       "3                      322                       7        913.591123   \n",
       "4                      166                       5       3950.202008   \n",
       "\n",
       "    duration_minutes_drives  activity_days  driving_days   device  \n",
       "ID                                                                 \n",
       "0               1985.775061             28            19  Android  \n",
       "1               3160.472914             13            11   iPhone  \n",
       "2               1610.735904             14             8  Android  \n",
       "3                587.196542              7             3   iPhone  \n",
       "4               1219.555924             27            18  Android  "
      ]
     },
     "execution_count": 4,
     "metadata": {},
     "output_type": "execute_result"
    }
   ],
   "source": [
    "# Load the data\n",
    "waze = pd.read_csv('waze_dataset.csv', index_col=0)\n",
    "waze.head()"
   ]
  },
  {
   "cell_type": "code",
   "execution_count": 5,
   "id": "5d2327c1",
   "metadata": {},
   "outputs": [
    {
     "data": {
      "text/html": [
       "<div>\n",
       "<style scoped>\n",
       "    .dataframe tbody tr th:only-of-type {\n",
       "        vertical-align: middle;\n",
       "    }\n",
       "\n",
       "    .dataframe tbody tr th {\n",
       "        vertical-align: top;\n",
       "    }\n",
       "\n",
       "    .dataframe thead th {\n",
       "        text-align: right;\n",
       "    }\n",
       "</style>\n",
       "<table border=\"1\" class=\"dataframe\">\n",
       "  <thead>\n",
       "    <tr style=\"text-align: right;\">\n",
       "      <th></th>\n",
       "      <th>label</th>\n",
       "      <th>sessions</th>\n",
       "      <th>drives</th>\n",
       "      <th>total_sessions</th>\n",
       "      <th>n_days_after_onboarding</th>\n",
       "      <th>total_navigations_fav1</th>\n",
       "      <th>total_navigations_fav2</th>\n",
       "      <th>driven_km_drives</th>\n",
       "      <th>duration_minutes_drives</th>\n",
       "      <th>activity_days</th>\n",
       "      <th>driving_days</th>\n",
       "      <th>device</th>\n",
       "    </tr>\n",
       "  </thead>\n",
       "  <tbody>\n",
       "    <tr>\n",
       "      <th>count</th>\n",
       "      <td>14299</td>\n",
       "      <td>14999.000000</td>\n",
       "      <td>14999.000000</td>\n",
       "      <td>14999.000000</td>\n",
       "      <td>14999.000000</td>\n",
       "      <td>14999.000000</td>\n",
       "      <td>14999.000000</td>\n",
       "      <td>14999.000000</td>\n",
       "      <td>14999.000000</td>\n",
       "      <td>14999.000000</td>\n",
       "      <td>14999.000000</td>\n",
       "      <td>14999</td>\n",
       "    </tr>\n",
       "    <tr>\n",
       "      <th>unique</th>\n",
       "      <td>2</td>\n",
       "      <td>NaN</td>\n",
       "      <td>NaN</td>\n",
       "      <td>NaN</td>\n",
       "      <td>NaN</td>\n",
       "      <td>NaN</td>\n",
       "      <td>NaN</td>\n",
       "      <td>NaN</td>\n",
       "      <td>NaN</td>\n",
       "      <td>NaN</td>\n",
       "      <td>NaN</td>\n",
       "      <td>2</td>\n",
       "    </tr>\n",
       "    <tr>\n",
       "      <th>top</th>\n",
       "      <td>retained</td>\n",
       "      <td>NaN</td>\n",
       "      <td>NaN</td>\n",
       "      <td>NaN</td>\n",
       "      <td>NaN</td>\n",
       "      <td>NaN</td>\n",
       "      <td>NaN</td>\n",
       "      <td>NaN</td>\n",
       "      <td>NaN</td>\n",
       "      <td>NaN</td>\n",
       "      <td>NaN</td>\n",
       "      <td>iPhone</td>\n",
       "    </tr>\n",
       "    <tr>\n",
       "      <th>freq</th>\n",
       "      <td>11763</td>\n",
       "      <td>NaN</td>\n",
       "      <td>NaN</td>\n",
       "      <td>NaN</td>\n",
       "      <td>NaN</td>\n",
       "      <td>NaN</td>\n",
       "      <td>NaN</td>\n",
       "      <td>NaN</td>\n",
       "      <td>NaN</td>\n",
       "      <td>NaN</td>\n",
       "      <td>NaN</td>\n",
       "      <td>9672</td>\n",
       "    </tr>\n",
       "    <tr>\n",
       "      <th>mean</th>\n",
       "      <td>NaN</td>\n",
       "      <td>80.633776</td>\n",
       "      <td>67.281152</td>\n",
       "      <td>189.964447</td>\n",
       "      <td>1749.837789</td>\n",
       "      <td>121.605974</td>\n",
       "      <td>29.672512</td>\n",
       "      <td>4039.340921</td>\n",
       "      <td>1860.976012</td>\n",
       "      <td>15.537102</td>\n",
       "      <td>12.179879</td>\n",
       "      <td>NaN</td>\n",
       "    </tr>\n",
       "    <tr>\n",
       "      <th>std</th>\n",
       "      <td>NaN</td>\n",
       "      <td>80.699065</td>\n",
       "      <td>65.913872</td>\n",
       "      <td>136.405128</td>\n",
       "      <td>1008.513876</td>\n",
       "      <td>148.121544</td>\n",
       "      <td>45.394651</td>\n",
       "      <td>2502.149334</td>\n",
       "      <td>1446.702288</td>\n",
       "      <td>9.004655</td>\n",
       "      <td>7.824036</td>\n",
       "      <td>NaN</td>\n",
       "    </tr>\n",
       "    <tr>\n",
       "      <th>min</th>\n",
       "      <td>NaN</td>\n",
       "      <td>0.000000</td>\n",
       "      <td>0.000000</td>\n",
       "      <td>0.220211</td>\n",
       "      <td>4.000000</td>\n",
       "      <td>0.000000</td>\n",
       "      <td>0.000000</td>\n",
       "      <td>60.441250</td>\n",
       "      <td>18.282082</td>\n",
       "      <td>0.000000</td>\n",
       "      <td>0.000000</td>\n",
       "      <td>NaN</td>\n",
       "    </tr>\n",
       "    <tr>\n",
       "      <th>25%</th>\n",
       "      <td>NaN</td>\n",
       "      <td>23.000000</td>\n",
       "      <td>20.000000</td>\n",
       "      <td>90.661156</td>\n",
       "      <td>878.000000</td>\n",
       "      <td>9.000000</td>\n",
       "      <td>0.000000</td>\n",
       "      <td>2212.600607</td>\n",
       "      <td>835.996260</td>\n",
       "      <td>8.000000</td>\n",
       "      <td>5.000000</td>\n",
       "      <td>NaN</td>\n",
       "    </tr>\n",
       "    <tr>\n",
       "      <th>50%</th>\n",
       "      <td>NaN</td>\n",
       "      <td>56.000000</td>\n",
       "      <td>48.000000</td>\n",
       "      <td>159.568115</td>\n",
       "      <td>1741.000000</td>\n",
       "      <td>71.000000</td>\n",
       "      <td>9.000000</td>\n",
       "      <td>3493.858085</td>\n",
       "      <td>1478.249859</td>\n",
       "      <td>16.000000</td>\n",
       "      <td>12.000000</td>\n",
       "      <td>NaN</td>\n",
       "    </tr>\n",
       "    <tr>\n",
       "      <th>75%</th>\n",
       "      <td>NaN</td>\n",
       "      <td>112.000000</td>\n",
       "      <td>93.000000</td>\n",
       "      <td>254.192341</td>\n",
       "      <td>2623.500000</td>\n",
       "      <td>178.000000</td>\n",
       "      <td>43.000000</td>\n",
       "      <td>5289.861262</td>\n",
       "      <td>2464.362632</td>\n",
       "      <td>23.000000</td>\n",
       "      <td>19.000000</td>\n",
       "      <td>NaN</td>\n",
       "    </tr>\n",
       "    <tr>\n",
       "      <th>max</th>\n",
       "      <td>NaN</td>\n",
       "      <td>743.000000</td>\n",
       "      <td>596.000000</td>\n",
       "      <td>1216.154633</td>\n",
       "      <td>3500.000000</td>\n",
       "      <td>1236.000000</td>\n",
       "      <td>415.000000</td>\n",
       "      <td>21183.401890</td>\n",
       "      <td>15851.727160</td>\n",
       "      <td>31.000000</td>\n",
       "      <td>30.000000</td>\n",
       "      <td>NaN</td>\n",
       "    </tr>\n",
       "  </tbody>\n",
       "</table>\n",
       "</div>"
      ],
      "text/plain": [
       "           label      sessions        drives  total_sessions  \\\n",
       "count      14299  14999.000000  14999.000000    14999.000000   \n",
       "unique         2           NaN           NaN             NaN   \n",
       "top     retained           NaN           NaN             NaN   \n",
       "freq       11763           NaN           NaN             NaN   \n",
       "mean         NaN     80.633776     67.281152      189.964447   \n",
       "std          NaN     80.699065     65.913872      136.405128   \n",
       "min          NaN      0.000000      0.000000        0.220211   \n",
       "25%          NaN     23.000000     20.000000       90.661156   \n",
       "50%          NaN     56.000000     48.000000      159.568115   \n",
       "75%          NaN    112.000000     93.000000      254.192341   \n",
       "max          NaN    743.000000    596.000000     1216.154633   \n",
       "\n",
       "        n_days_after_onboarding  total_navigations_fav1  \\\n",
       "count              14999.000000            14999.000000   \n",
       "unique                      NaN                     NaN   \n",
       "top                         NaN                     NaN   \n",
       "freq                        NaN                     NaN   \n",
       "mean                1749.837789              121.605974   \n",
       "std                 1008.513876              148.121544   \n",
       "min                    4.000000                0.000000   \n",
       "25%                  878.000000                9.000000   \n",
       "50%                 1741.000000               71.000000   \n",
       "75%                 2623.500000              178.000000   \n",
       "max                 3500.000000             1236.000000   \n",
       "\n",
       "        total_navigations_fav2  driven_km_drives  duration_minutes_drives  \\\n",
       "count             14999.000000      14999.000000             14999.000000   \n",
       "unique                     NaN               NaN                      NaN   \n",
       "top                        NaN               NaN                      NaN   \n",
       "freq                       NaN               NaN                      NaN   \n",
       "mean                 29.672512       4039.340921              1860.976012   \n",
       "std                  45.394651       2502.149334              1446.702288   \n",
       "min                   0.000000         60.441250                18.282082   \n",
       "25%                   0.000000       2212.600607               835.996260   \n",
       "50%                   9.000000       3493.858085              1478.249859   \n",
       "75%                  43.000000       5289.861262              2464.362632   \n",
       "max                 415.000000      21183.401890             15851.727160   \n",
       "\n",
       "        activity_days  driving_days  device  \n",
       "count    14999.000000  14999.000000   14999  \n",
       "unique            NaN           NaN       2  \n",
       "top               NaN           NaN  iPhone  \n",
       "freq              NaN           NaN    9672  \n",
       "mean        15.537102     12.179879     NaN  \n",
       "std          9.004655      7.824036     NaN  \n",
       "min          0.000000      0.000000     NaN  \n",
       "25%          8.000000      5.000000     NaN  \n",
       "50%         16.000000     12.000000     NaN  \n",
       "75%         23.000000     19.000000     NaN  \n",
       "max         31.000000     30.000000     NaN  "
      ]
     },
     "execution_count": 5,
     "metadata": {},
     "output_type": "execute_result"
    }
   ],
   "source": [
    "waze.describe(include = 'all')"
   ]
  },
  {
   "cell_type": "code",
   "execution_count": 6,
   "id": "38a7da53",
   "metadata": {},
   "outputs": [
    {
     "data": {
      "text/plain": [
       "(14999, 12)"
      ]
     },
     "execution_count": 6,
     "metadata": {},
     "output_type": "execute_result"
    }
   ],
   "source": [
    "# Check size\n",
    "waze.shape"
   ]
  },
  {
   "cell_type": "code",
   "execution_count": 7,
   "id": "227afa1f",
   "metadata": {},
   "outputs": [
    {
     "data": {
      "text/html": [
       "<div>\n",
       "<style scoped>\n",
       "    .dataframe tbody tr th:only-of-type {\n",
       "        vertical-align: middle;\n",
       "    }\n",
       "\n",
       "    .dataframe tbody tr th {\n",
       "        vertical-align: top;\n",
       "    }\n",
       "\n",
       "    .dataframe thead th {\n",
       "        text-align: right;\n",
       "    }\n",
       "</style>\n",
       "<table border=\"1\" class=\"dataframe\">\n",
       "  <thead>\n",
       "    <tr style=\"text-align: right;\">\n",
       "      <th></th>\n",
       "      <th>percentage</th>\n",
       "      <th>null count</th>\n",
       "    </tr>\n",
       "  </thead>\n",
       "  <tbody>\n",
       "    <tr>\n",
       "      <th>label</th>\n",
       "      <td>4.666978</td>\n",
       "      <td>700</td>\n",
       "    </tr>\n",
       "    <tr>\n",
       "      <th>sessions</th>\n",
       "      <td>0.000000</td>\n",
       "      <td>0</td>\n",
       "    </tr>\n",
       "    <tr>\n",
       "      <th>drives</th>\n",
       "      <td>0.000000</td>\n",
       "      <td>0</td>\n",
       "    </tr>\n",
       "    <tr>\n",
       "      <th>total_sessions</th>\n",
       "      <td>0.000000</td>\n",
       "      <td>0</td>\n",
       "    </tr>\n",
       "    <tr>\n",
       "      <th>n_days_after_onboarding</th>\n",
       "      <td>0.000000</td>\n",
       "      <td>0</td>\n",
       "    </tr>\n",
       "    <tr>\n",
       "      <th>total_navigations_fav1</th>\n",
       "      <td>0.000000</td>\n",
       "      <td>0</td>\n",
       "    </tr>\n",
       "    <tr>\n",
       "      <th>total_navigations_fav2</th>\n",
       "      <td>0.000000</td>\n",
       "      <td>0</td>\n",
       "    </tr>\n",
       "    <tr>\n",
       "      <th>driven_km_drives</th>\n",
       "      <td>0.000000</td>\n",
       "      <td>0</td>\n",
       "    </tr>\n",
       "    <tr>\n",
       "      <th>duration_minutes_drives</th>\n",
       "      <td>0.000000</td>\n",
       "      <td>0</td>\n",
       "    </tr>\n",
       "    <tr>\n",
       "      <th>activity_days</th>\n",
       "      <td>0.000000</td>\n",
       "      <td>0</td>\n",
       "    </tr>\n",
       "    <tr>\n",
       "      <th>driving_days</th>\n",
       "      <td>0.000000</td>\n",
       "      <td>0</td>\n",
       "    </tr>\n",
       "    <tr>\n",
       "      <th>device</th>\n",
       "      <td>0.000000</td>\n",
       "      <td>0</td>\n",
       "    </tr>\n",
       "  </tbody>\n",
       "</table>\n",
       "</div>"
      ],
      "text/plain": [
       "                         percentage  null count\n",
       "label                      4.666978         700\n",
       "sessions                   0.000000           0\n",
       "drives                     0.000000           0\n",
       "total_sessions             0.000000           0\n",
       "n_days_after_onboarding    0.000000           0\n",
       "total_navigations_fav1     0.000000           0\n",
       "total_navigations_fav2     0.000000           0\n",
       "driven_km_drives           0.000000           0\n",
       "duration_minutes_drives    0.000000           0\n",
       "activity_days              0.000000           0\n",
       "driving_days               0.000000           0\n",
       "device                     0.000000           0"
      ]
     },
     "execution_count": 7,
     "metadata": {},
     "output_type": "execute_result"
    }
   ],
   "source": [
    "# Inspecting nulls\n",
    "nulls = pd.DataFrame(waze.isnull().sum() * 100 / waze.shape[0], columns=['percentage'])\n",
    "nulls['null count'] = waze.isnull().sum()\n",
    "\n",
    "nulls"
   ]
  },
  {
   "cell_type": "code",
   "execution_count": 8,
   "id": "f646e35c",
   "metadata": {},
   "outputs": [],
   "source": [
    "# Dropping nulls due to minor % of nulls\n",
    "waze.dropna(inplace = True)"
   ]
  },
  {
   "cell_type": "code",
   "execution_count": 9,
   "id": "56cd3556",
   "metadata": {},
   "outputs": [
    {
     "data": {
      "text/plain": [
       "label                      0\n",
       "sessions                   0\n",
       "drives                     0\n",
       "total_sessions             0\n",
       "n_days_after_onboarding    0\n",
       "total_navigations_fav1     0\n",
       "total_navigations_fav2     0\n",
       "driven_km_drives           0\n",
       "duration_minutes_drives    0\n",
       "activity_days              0\n",
       "driving_days               0\n",
       "device                     0\n",
       "dtype: int64"
      ]
     },
     "execution_count": 9,
     "metadata": {},
     "output_type": "execute_result"
    }
   ],
   "source": [
    "# Verifying nulls being removed\n",
    "waze.isnull().sum()"
   ]
  },
  {
   "cell_type": "markdown",
   "id": "e7513172",
   "metadata": {},
   "source": [
    "We have labels for our 'device' encoding them would be crucial for modelling"
   ]
  },
  {
   "cell_type": "code",
   "execution_count": 10,
   "id": "b6543408",
   "metadata": {},
   "outputs": [
    {
     "data": {
      "text/plain": [
       "iPhone     9225\n",
       "Android    5074\n",
       "Name: device, dtype: int64"
      ]
     },
     "execution_count": 10,
     "metadata": {},
     "output_type": "execute_result"
    }
   ],
   "source": [
    "# unique labels\n",
    "waze['device'].value_counts()"
   ]
  },
  {
   "cell_type": "code",
   "execution_count": 12,
   "id": "b74b9e25",
   "metadata": {},
   "outputs": [
    {
     "data": {
      "text/html": [
       "<div>\n",
       "<style scoped>\n",
       "    .dataframe tbody tr th:only-of-type {\n",
       "        vertical-align: middle;\n",
       "    }\n",
       "\n",
       "    .dataframe tbody tr th {\n",
       "        vertical-align: top;\n",
       "    }\n",
       "\n",
       "    .dataframe thead th {\n",
       "        text-align: right;\n",
       "    }\n",
       "</style>\n",
       "<table border=\"1\" class=\"dataframe\">\n",
       "  <thead>\n",
       "    <tr style=\"text-align: right;\">\n",
       "      <th></th>\n",
       "      <th>label</th>\n",
       "      <th>sessions</th>\n",
       "      <th>drives</th>\n",
       "      <th>total_sessions</th>\n",
       "      <th>n_days_after_onboarding</th>\n",
       "      <th>total_navigations_fav1</th>\n",
       "      <th>total_navigations_fav2</th>\n",
       "      <th>driven_km_drives</th>\n",
       "      <th>duration_minutes_drives</th>\n",
       "      <th>activity_days</th>\n",
       "      <th>driving_days</th>\n",
       "      <th>device</th>\n",
       "      <th>device_type</th>\n",
       "    </tr>\n",
       "    <tr>\n",
       "      <th>ID</th>\n",
       "      <th></th>\n",
       "      <th></th>\n",
       "      <th></th>\n",
       "      <th></th>\n",
       "      <th></th>\n",
       "      <th></th>\n",
       "      <th></th>\n",
       "      <th></th>\n",
       "      <th></th>\n",
       "      <th></th>\n",
       "      <th></th>\n",
       "      <th></th>\n",
       "      <th></th>\n",
       "    </tr>\n",
       "  </thead>\n",
       "  <tbody>\n",
       "    <tr>\n",
       "      <th>0</th>\n",
       "      <td>retained</td>\n",
       "      <td>283</td>\n",
       "      <td>226</td>\n",
       "      <td>296.748273</td>\n",
       "      <td>2276</td>\n",
       "      <td>208</td>\n",
       "      <td>0</td>\n",
       "      <td>2628.845068</td>\n",
       "      <td>1985.775061</td>\n",
       "      <td>28</td>\n",
       "      <td>19</td>\n",
       "      <td>Android</td>\n",
       "      <td>2</td>\n",
       "    </tr>\n",
       "    <tr>\n",
       "      <th>1</th>\n",
       "      <td>retained</td>\n",
       "      <td>133</td>\n",
       "      <td>107</td>\n",
       "      <td>326.896596</td>\n",
       "      <td>1225</td>\n",
       "      <td>19</td>\n",
       "      <td>64</td>\n",
       "      <td>13715.920550</td>\n",
       "      <td>3160.472914</td>\n",
       "      <td>13</td>\n",
       "      <td>11</td>\n",
       "      <td>iPhone</td>\n",
       "      <td>1</td>\n",
       "    </tr>\n",
       "    <tr>\n",
       "      <th>2</th>\n",
       "      <td>retained</td>\n",
       "      <td>114</td>\n",
       "      <td>95</td>\n",
       "      <td>135.522926</td>\n",
       "      <td>2651</td>\n",
       "      <td>0</td>\n",
       "      <td>0</td>\n",
       "      <td>3059.148818</td>\n",
       "      <td>1610.735904</td>\n",
       "      <td>14</td>\n",
       "      <td>8</td>\n",
       "      <td>Android</td>\n",
       "      <td>2</td>\n",
       "    </tr>\n",
       "    <tr>\n",
       "      <th>3</th>\n",
       "      <td>retained</td>\n",
       "      <td>49</td>\n",
       "      <td>40</td>\n",
       "      <td>67.589221</td>\n",
       "      <td>15</td>\n",
       "      <td>322</td>\n",
       "      <td>7</td>\n",
       "      <td>913.591123</td>\n",
       "      <td>587.196542</td>\n",
       "      <td>7</td>\n",
       "      <td>3</td>\n",
       "      <td>iPhone</td>\n",
       "      <td>1</td>\n",
       "    </tr>\n",
       "    <tr>\n",
       "      <th>4</th>\n",
       "      <td>retained</td>\n",
       "      <td>84</td>\n",
       "      <td>68</td>\n",
       "      <td>168.247020</td>\n",
       "      <td>1562</td>\n",
       "      <td>166</td>\n",
       "      <td>5</td>\n",
       "      <td>3950.202008</td>\n",
       "      <td>1219.555924</td>\n",
       "      <td>27</td>\n",
       "      <td>18</td>\n",
       "      <td>Android</td>\n",
       "      <td>2</td>\n",
       "    </tr>\n",
       "  </tbody>\n",
       "</table>\n",
       "</div>"
      ],
      "text/plain": [
       "       label  sessions  drives  total_sessions  n_days_after_onboarding  \\\n",
       "ID                                                                        \n",
       "0   retained       283     226      296.748273                     2276   \n",
       "1   retained       133     107      326.896596                     1225   \n",
       "2   retained       114      95      135.522926                     2651   \n",
       "3   retained        49      40       67.589221                       15   \n",
       "4   retained        84      68      168.247020                     1562   \n",
       "\n",
       "    total_navigations_fav1  total_navigations_fav2  driven_km_drives  \\\n",
       "ID                                                                     \n",
       "0                      208                       0       2628.845068   \n",
       "1                       19                      64      13715.920550   \n",
       "2                        0                       0       3059.148818   \n",
       "3                      322                       7        913.591123   \n",
       "4                      166                       5       3950.202008   \n",
       "\n",
       "    duration_minutes_drives  activity_days  driving_days   device  device_type  \n",
       "ID                                                                              \n",
       "0               1985.775061             28            19  Android            2  \n",
       "1               3160.472914             13            11   iPhone            1  \n",
       "2               1610.735904             14             8  Android            2  \n",
       "3                587.196542              7             3   iPhone            1  \n",
       "4               1219.555924             27            18  Android            2  "
      ]
     },
     "execution_count": 12,
     "metadata": {},
     "output_type": "execute_result"
    }
   ],
   "source": [
    "# Mapping labels to integers for future modelling\n",
    "devive_types = {'iPhone': 1, 'Android': 2}\n",
    "waze['device_type'] = waze['device'].map(devive_types)\n",
    "\n",
    "waze.head()"
   ]
  },
  {
   "cell_type": "code",
   "execution_count": 13,
   "id": "84755fb9",
   "metadata": {},
   "outputs": [
    {
     "data": {
      "text/plain": [
       "device\n",
       "Android    66.024241\n",
       "iPhone     67.933225\n",
       "Name: drives, dtype: float64"
      ]
     },
     "execution_count": 13,
     "metadata": {},
     "output_type": "execute_result"
    }
   ],
   "source": [
    "# Check drives per device type:\n",
    "waze.groupby('device')['drives'].mean()"
   ]
  },
  {
   "cell_type": "code",
   "execution_count": 15,
   "id": "339b3612",
   "metadata": {},
   "outputs": [
    {
     "data": {
      "text/plain": [
       "<AxesSubplot:xlabel='device', ylabel='drives'>"
      ]
     },
     "execution_count": 15,
     "metadata": {},
     "output_type": "execute_result"
    },
    {
     "data": {
      "image/png": "[encoded data removed]",
      "text/plain": [
       "<Figure size 432x288 with 1 Axes>"
      ]
     },
     "metadata": {
      "needs_background": "light"
     },
     "output_type": "display_data"
    }
   ],
   "source": [
    "# Check outliers\n",
    "sns.boxplot(x = waze['device'], y = waze['drives'])"
   ]
  },
  {
   "cell_type": "markdown",
   "id": "1e51681e",
   "metadata": {},
   "source": [
    "**NOTE:** Though there are exceptions(outliers), they reflect natural differences in the data, as some riders may have taken many more rides than others. We will keep these exceptions in our sample to be reflective of the actual population"
   ]
  },
  {
   "cell_type": "code",
   "execution_count": 17,
   "id": "abafd6d2",
   "metadata": {},
   "outputs": [
    {
     "name": "stdout",
     "output_type": "stream",
     "text": [
      "(9225, 13)\n",
      "(5074, 13)\n"
     ]
    }
   ],
   "source": [
    "# Segregate the data based on device type:\n",
    "iphone = waze[waze['device'] == 'iPhone']   # Sample 1\n",
    "android = waze[waze['device'] == 'Android'] # Sample 2\n",
    "\n",
    "print(iphone.shape)\n",
    "print(android.shape)"
   ]
  },
  {
   "cell_type": "markdown",
   "id": "02fafecd",
   "metadata": {},
   "source": [
    "# Building Confidence Intervals"
   ]
  },
  {
   "cell_type": "code",
   "execution_count": 18,
   "id": "1cf76cdd",
   "metadata": {},
   "outputs": [
    {
     "name": "stdout",
     "output_type": "stream",
     "text": [
      "Mean drives for Iphone users: 67.93322493224932\n",
      "Mean drives for Andorid users: 66.02424122979897\n"
     ]
    }
   ],
   "source": [
    "iphone_mean = iphone['drives'].mean()\n",
    "android_mean = android['drives'].mean()\n",
    "\n",
    "print('Mean drives for Iphone users:', iphone_mean)\n",
    "print('Mean drives for Andorid users:', android_mean)"
   ]
  },
  {
   "cell_type": "markdown",
   "id": "f73be525",
   "metadata": {},
   "source": [
    "### Choose confidence level\n",
    "\n",
    "* Confidence level is 95%  (Z Score of 1.96)\n",
    "* Confidence level is 99%  (Z Score of 2.576)\n",
    "\n",
    "### Calculate Std Error"
   ]
  },
  {
   "cell_type": "code",
   "execution_count": 19,
   "id": "22811e80",
   "metadata": {},
   "outputs": [
    {
     "name": "stdout",
     "output_type": "stream",
     "text": [
      "Iphone users Std Error: 0.6965996648987175\n",
      "Android users Std Error: 0.9006538660131282\n"
     ]
    }
   ],
   "source": [
    "# Find std error:\n",
    "iphone_std_error = iphone['drives'].std() / np.sqrt(iphone.shape[0])\n",
    "android_std_error = android['drives'].std() / np.sqrt(android.shape[0])\n",
    "\n",
    "print('Iphone users Std Error:', iphone_std_error)\n",
    "print('Android users Std Error:', android_std_error)"
   ]
  },
  {
   "cell_type": "markdown",
   "id": "87b06969",
   "metadata": {},
   "source": [
    "### Build confidence interval "
   ]
  },
  {
   "cell_type": "code",
   "execution_count": 20,
   "id": "849b61c0",
   "metadata": {},
   "outputs": [
    {
     "name": "stdout",
     "output_type": "stream",
     "text": [
      "Average Range of rides for iPhone users is: (66.56791467740516, 69.29853518709348)\n",
      "Average Range of rides for Android users is: (64.25899208987649, 67.78949036972146)\n"
     ]
    }
   ],
   "source": [
    "# 95 % confidence \n",
    "iphone_confidence = stats.norm.interval(alpha = 0.95, \n",
    "                                        scale = iphone_std_error,\n",
    "                                        loc = iphone_mean\n",
    "                                        )\n",
    "android_confidence = stats.norm.interval(alpha = 0.95, \n",
    "                                        scale = android_std_error,\n",
    "                                        loc = android_mean\n",
    "                                        )\n",
    "\n",
    "print('Average Range of rides for iPhone users is:', iphone_confidence)\n",
    "print('Average Range of rides for Android users is:', android_confidence)"
   ]
  },
  {
   "cell_type": "code",
   "execution_count": 21,
   "id": "fca6f12e",
   "metadata": {},
   "outputs": [
    {
     "name": "stdout",
     "output_type": "stream",
     "text": [
      "Average Range of rides for iPhone users is: (66.13890310256086, 69.72754676193777)\n",
      "Average Range of rides for Android users is: (63.70431060936775, 68.3441718502302)\n"
     ]
    }
   ],
   "source": [
    "# 99 % confidence \n",
    "iphone_confidence = stats.norm.interval(alpha = 0.99, \n",
    "                                        scale = iphone_std_error,\n",
    "                                        loc = iphone_mean\n",
    "                                        )\n",
    "android_confidence = stats.norm.interval(alpha = 0.99, \n",
    "                                        scale = android_std_error,\n",
    "                                        loc = android_mean\n",
    "                                        )\n",
    "\n",
    "print('Average Range of rides for iPhone users is:', iphone_confidence)\n",
    "print('Average Range of rides for Android users is:', android_confidence)"
   ]
  },
  {
   "cell_type": "markdown",
   "id": "7d6f4f15",
   "metadata": {},
   "source": [
    "# A/B testing:"
   ]
  },
  {
   "cell_type": "code",
   "execution_count": 22,
   "id": "f43654fb",
   "metadata": {},
   "outputs": [],
   "source": [
    "# Separate the drives column:\n",
    "iphone_drives = iphone['drives']\n",
    "android_drives = android['drives']"
   ]
  },
  {
   "cell_type": "code",
   "execution_count": 23,
   "id": "b416ad4b",
   "metadata": {},
   "outputs": [
    {
     "data": {
      "text/plain": [
       "Ttest_indResult(statistic=1.676594122141587, pvalue=0.09365074661708836)"
      ]
     },
     "execution_count": 23,
     "metadata": {},
     "output_type": "execute_result"
    }
   ],
   "source": [
    "# Conduct the test:\n",
    "stats.ttest_ind(a = iphone_drives, b = android_drives, equal_var=False)"
   ]
  },
  {
   "cell_type": "markdown",
   "id": "b36ef045",
   "metadata": {},
   "source": [
    "> *Since the **p-value > significance level (5%)**, we fail to reject the null hypothesis. We conclude that there is **NOT** a statistically significant difference in the average number of drives between drivers who use iPhones and drivers who use Androids.*"
   ]
  },
  {
   "attachments": {},
   "cell_type": "markdown",
   "id": "27d580e6",
   "metadata": {},
   "source": [
    "# Conclusions:\n",
    "\n",
    "* Based on the calculations, drivers who use an iPhone to interact with the application have a higher number of drives on average. \n",
    "* The average number of drives for iPhone and Android with **99%** confidence is similar:\n",
    "    - iPhone: (66.13890310256086, 69.72754676193777)\n",
    "    - Andorid: (63.70431060936775, 68.3441718502302)\n",
    "* The average number of drives for iPhone and Android with **95%** confidence ranges is similar:\n",
    "    - iPhone: (66.56791467740516, 69.29853518709348)\n",
    "    - Andorid: (64.25899208987649, 67.78949036972146)\n",
    "* The t-test results concluded there is not a statistically significant difference in mean number of rides between iPhone users and Android users. \n"
   ]
  },
  {
   "cell_type": "markdown",
   "id": "91ef2f3b",
   "metadata": {},
   "source": [
    "# Next Steps:\n",
    "* Due to the results from our AB testing, the team recommends to use other features and conduct additional t-tests to learn more about user behavior for churn.\n",
    "* Since our user experience is the same, temporary changes in marketing or user interface may be imapctful to investigate user churn behavior."
   ]
  }
 ],
 "metadata": {
  "kernelspec": {
   "display_name": "Python 3 (ipykernel)",
   "language": "python",
   "name": "python3"
  },
  "language_info": {
   "codemirror_mode": {
    "name": "ipython",
    "version": 3
   },
   "file_extension": ".py",
   "mimetype": "text/x-python",
   "name": "python",
   "nbconvert_exporter": "python",
   "pygments_lexer": "ipython3",
   "version": "3.9.12"
  }
 },
 "nbformat": 4,
 "nbformat_minor": 5
}
