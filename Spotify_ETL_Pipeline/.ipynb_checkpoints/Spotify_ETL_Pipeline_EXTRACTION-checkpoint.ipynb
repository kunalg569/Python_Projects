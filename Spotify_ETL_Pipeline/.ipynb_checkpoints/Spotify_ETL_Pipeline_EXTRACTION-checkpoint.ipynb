{
 "cells": [
  {
   "cell_type": "markdown",
   "id": "5fee13a6",
   "metadata": {},
   "source": [
    "## Methodology:\n",
    "1. Install Spotipy <br> (*documentation*: https://spotipy.readthedocs.io/en/2.24.0/index.html#spotipy.oauth2.SpotifyPKCE)\n",
    "1. "
   ]
  },
  {
   "cell_type": "code",
   "execution_count": null,
   "id": "138320f0",
   "metadata": {},
   "outputs": [],
   "source": [
    "# !pip install spotipy"
   ]
  },
  {
   "cell_type": "code",
   "execution_count": 3,
   "id": "3100c97e",
   "metadata": {},
   "outputs": [],
   "source": [
    "# Imports:\n",
    "import spotipy\n",
    "from spotipy.oauth2 import SpotifyClientCredentials"
   ]
  },
  {
   "cell_type": "code",
   "execution_count": 4,
   "id": "879a3bca",
   "metadata": {},
   "outputs": [],
   "source": [
    "# Provide secret key and client key id:\n",
    "client_credential_manager = SpotifyClientCredentials(client_id = 'd9b12c57e70d4f6c9876eeaf53992871', \n",
    "                                                     client_secret = '9baf7f2888734b27a459ebb152747cb6')\n"
   ]
  },
  {
   "cell_type": "code",
   "execution_count": 5,
   "id": "b5088e5d",
   "metadata": {},
   "outputs": [],
   "source": [
    "# Object to extract data from spotify website:\n",
    "sp = spotipy.Spotify(client_credentials_manager= client_credential_manager)"
   ]
  },
  {
   "cell_type": "code",
   "execution_count": 16,
   "id": "d8b0d805",
   "metadata": {},
   "outputs": [
    {
     "name": "stdout",
     "output_type": "stream",
     "text": [
      "Playlist_URI: 5ABHKGoOzxkaa28ttQV9sE\n"
     ]
    }
   ],
   "source": [
    "# Extract playlist URI from the top 100 trnedin songs website \n",
    "\n",
    "playlist_link = 'https://open.spotify.com/playlist/5ABHKGoOzxkaa28ttQV9sE'\n",
    "playlist_URI = playlist_link.split('/')[-1]\n",
    "\n",
    "print('Playlist_URI:', playlist_URI)"
   ]
  },
  {
   "cell_type": "code",
   "execution_count": null,
   "id": "d16c7948",
   "metadata": {},
   "outputs": [],
   "source": []
  },
  {
   "cell_type": "code",
   "execution_count": null,
   "id": "4391e3cc",
   "metadata": {},
   "outputs": [],
   "source": []
  },
  {
   "cell_type": "code",
   "execution_count": null,
   "id": "5973d82b",
   "metadata": {},
   "outputs": [],
   "source": []
  },
  {
   "cell_type": "code",
   "execution_count": null,
   "id": "a9ad3218",
   "metadata": {},
   "outputs": [],
   "source": []
  },
  {
   "cell_type": "code",
   "execution_count": null,
   "id": "badaae4d",
   "metadata": {},
   "outputs": [],
   "source": []
  },
  {
   "cell_type": "code",
   "execution_count": null,
   "id": "bbbec215",
   "metadata": {},
   "outputs": [],
   "source": []
  },
  {
   "cell_type": "code",
   "execution_count": null,
   "id": "dc52526e",
   "metadata": {},
   "outputs": [],
   "source": []
  },
  {
   "cell_type": "code",
   "execution_count": null,
   "id": "7c972391",
   "metadata": {},
   "outputs": [],
   "source": []
  },
  {
   "cell_type": "code",
   "execution_count": null,
   "id": "566d5342",
   "metadata": {},
   "outputs": [],
   "source": []
  },
  {
   "cell_type": "code",
   "execution_count": null,
   "id": "b07f21e0",
   "metadata": {},
   "outputs": [],
   "source": []
  },
  {
   "cell_type": "code",
   "execution_count": null,
   "id": "97de7154",
   "metadata": {},
   "outputs": [],
   "source": []
  },
  {
   "cell_type": "code",
   "execution_count": null,
   "id": "c0c08d80",
   "metadata": {},
   "outputs": [],
   "source": []
  },
  {
   "cell_type": "code",
   "execution_count": null,
   "id": "7e99b07f",
   "metadata": {},
   "outputs": [],
   "source": []
  },
  {
   "cell_type": "code",
   "execution_count": null,
   "id": "2e1d2974",
   "metadata": {},
   "outputs": [],
   "source": []
  },
  {
   "cell_type": "code",
   "execution_count": null,
   "id": "0d805f38",
   "metadata": {},
   "outputs": [],
   "source": []
  },
  {
   "cell_type": "code",
   "execution_count": null,
   "id": "7f72edc0",
   "metadata": {},
   "outputs": [],
   "source": []
  },
  {
   "cell_type": "code",
   "execution_count": null,
   "id": "c22a6837",
   "metadata": {},
   "outputs": [],
   "source": []
  },
  {
   "cell_type": "code",
   "execution_count": null,
   "id": "0ec661f8",
   "metadata": {},
   "outputs": [],
   "source": []
  }
 ],
 "metadata": {
  "kernelspec": {
   "display_name": "Python 3 (ipykernel)",
   "language": "python",
   "name": "python3"
  },
  "language_info": {
   "codemirror_mode": {
    "name": "ipython",
    "version": 3
   },
   "file_extension": ".py",
   "mimetype": "text/x-python",
   "name": "python",
   "nbconvert_exporter": "python",
   "pygments_lexer": "ipython3",
   "version": "3.9.12"
  }
 },
 "nbformat": 4,
 "nbformat_minor": 5
}
