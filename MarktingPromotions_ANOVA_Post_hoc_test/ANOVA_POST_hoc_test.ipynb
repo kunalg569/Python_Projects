{
 "cells": [
  {
   "cell_type": "markdown",
   "id": "8fc44f1b",
   "metadata": {},
   "source": [
    "# Goal: \n",
    "\n",
    "Stakeholders want to know if sales are ignificantly differnet among various TV and influencer promotion types"
   ]
  },
  {
   "cell_type": "markdown",
   "id": "020a1f71",
   "metadata": {},
   "source": [
    "<div style=\"background-color:#f0f0f0; padding:10px; border-radius:5px;\">\n",
    "    <h2 style=\"color:#333333; text-align:center;\">Executive Summary</h2>\n",
    "    <p style=\"color:#555555; font-size:16px;\">\n",
    "        The TV feature explains approximately <strong>87.1%</strong> of the variance in Sales, as indicated by the R-squared value of <strong>0.871</strong>. Influencer feature is not taken into consideration as it does not have significant affect on the Sales.\n",
    "    </p>\n",
    "    <h2 style=\"color:#333333; text-align:center;\">Interpreting Coefficients</h2>\n",
    "    <ul style=\"color:#555555; font-size:16px;\">\n",
    "        <li>\n",
    "            Using a high TV promotion budget instead of a low TV promotion budget is estimated to increase sales by approximately <strong>209.8691 million dollars</strong>, with a 95% confidence interval ranging from <strong>203.203 million</strong> to <strong>216.535 million dollars</strong>, taking 'High' TV category as the reference.\n",
    "        </li>\n",
    "        <li>\n",
    "            Using a high TV promotion budget instead of a medium TV promotion budget is estimated to increase sales by approximately <strong>105.4952 million dollars</strong>, with a 95% confidence interval ranging from <strong>98.859 million</strong> to <strong>112.131 million dollars</strong>, again with 'High' TV category as the reference.\n",
    "        </li>\n",
    "    </ul>\n",
    "    <p style=\"color:#555555; font-size:16px;\">\n",
    "        The statistical significance of the coefficients for both the LOW and MEDIUM levels of TV is affirmed by their <strong>p-values</strong> being less than <strong>0.05</strong>.\n",
    "    </p>\n",
    "</div>\n"
   ]
  },
  {
   "cell_type": "code",
   "execution_count": 1,
   "id": "3612e2dd",
   "metadata": {},
   "outputs": [],
   "source": [
    "# Imports\n",
    "import pandas as pd\n",
    "import numpy as np\n",
    "import matplotlib.pyplot as plt\n",
    "import seaborn as sns\n",
    "from statsmodels.formula.api import ols\n",
    "import statsmodels.api as sm\n",
    "\n",
    "from statsmodels.stats.multicomp import pairwise_tukeyhsd"
   ]
  },
  {
   "cell_type": "code",
   "execution_count": 2,
   "id": "66318566",
   "metadata": {},
   "outputs": [
    {
     "data": {
      "text/html": [
       "<div>\n",
       "<style scoped>\n",
       "    .dataframe tbody tr th:only-of-type {\n",
       "        vertical-align: middle;\n",
       "    }\n",
       "\n",
       "    .dataframe tbody tr th {\n",
       "        vertical-align: top;\n",
       "    }\n",
       "\n",
       "    .dataframe thead th {\n",
       "        text-align: right;\n",
       "    }\n",
       "</style>\n",
       "<table border=\"1\" class=\"dataframe\">\n",
       "  <thead>\n",
       "    <tr style=\"text-align: right;\">\n",
       "      <th></th>\n",
       "      <th>TV</th>\n",
       "      <th>Radio</th>\n",
       "      <th>Social Media</th>\n",
       "      <th>Influencer</th>\n",
       "      <th>Sales</th>\n",
       "    </tr>\n",
       "  </thead>\n",
       "  <tbody>\n",
       "    <tr>\n",
       "      <th>0</th>\n",
       "      <td>Low</td>\n",
       "      <td>1.218354</td>\n",
       "      <td>1.270444</td>\n",
       "      <td>Micro</td>\n",
       "      <td>90.054222</td>\n",
       "    </tr>\n",
       "    <tr>\n",
       "      <th>1</th>\n",
       "      <td>Medium</td>\n",
       "      <td>14.949791</td>\n",
       "      <td>0.274451</td>\n",
       "      <td>Macro</td>\n",
       "      <td>222.741668</td>\n",
       "    </tr>\n",
       "    <tr>\n",
       "      <th>2</th>\n",
       "      <td>Low</td>\n",
       "      <td>10.377258</td>\n",
       "      <td>0.061984</td>\n",
       "      <td>Mega</td>\n",
       "      <td>102.774790</td>\n",
       "    </tr>\n",
       "    <tr>\n",
       "      <th>3</th>\n",
       "      <td>High</td>\n",
       "      <td>26.469274</td>\n",
       "      <td>7.070945</td>\n",
       "      <td>Micro</td>\n",
       "      <td>328.239378</td>\n",
       "    </tr>\n",
       "    <tr>\n",
       "      <th>4</th>\n",
       "      <td>High</td>\n",
       "      <td>36.876302</td>\n",
       "      <td>7.618605</td>\n",
       "      <td>Mega</td>\n",
       "      <td>351.807328</td>\n",
       "    </tr>\n",
       "  </tbody>\n",
       "</table>\n",
       "</div>"
      ],
      "text/plain": [
       "       TV      Radio  Social Media Influencer       Sales\n",
       "0     Low   1.218354      1.270444      Micro   90.054222\n",
       "1  Medium  14.949791      0.274451      Macro  222.741668\n",
       "2     Low  10.377258      0.061984       Mega  102.774790\n",
       "3    High  26.469274      7.070945      Micro  328.239378\n",
       "4    High  36.876302      7.618605       Mega  351.807328"
      ]
     },
     "execution_count": 2,
     "metadata": {},
     "output_type": "execute_result"
    }
   ],
   "source": [
    "# load the dataset:\n",
    "data = pd.read_csv('marketing_sales_data.csv')\n",
    "data.head()"
   ]
  },
  {
   "cell_type": "code",
   "execution_count": 3,
   "id": "a2706b83",
   "metadata": {},
   "outputs": [
    {
     "name": "stdout",
     "output_type": "stream",
     "text": [
      "<class 'pandas.core.frame.DataFrame'>\n",
      "RangeIndex: 572 entries, 0 to 571\n",
      "Data columns (total 5 columns):\n",
      " #   Column        Non-Null Count  Dtype  \n",
      "---  ------        --------------  -----  \n",
      " 0   TV            571 non-null    object \n",
      " 1   Radio         571 non-null    float64\n",
      " 2   Social Media  572 non-null    float64\n",
      " 3   Influencer    572 non-null    object \n",
      " 4   Sales         571 non-null    float64\n",
      "dtypes: float64(3), object(2)\n",
      "memory usage: 22.5+ KB\n"
     ]
    }
   ],
   "source": [
    "# Data overview\n",
    "data.info()"
   ]
  },
  {
   "cell_type": "code",
   "execution_count": 4,
   "id": "54aed9f7",
   "metadata": {},
   "outputs": [],
   "source": [
    "# Drop nulls \n",
    "data.dropna(inplace=True)"
   ]
  },
  {
   "cell_type": "code",
   "execution_count": 5,
   "id": "22550490",
   "metadata": {},
   "outputs": [
    {
     "data": {
      "text/plain": [
       "TV              0\n",
       "Radio           0\n",
       "Social Media    0\n",
       "Influencer      0\n",
       "Sales           0\n",
       "dtype: int64"
      ]
     },
     "execution_count": 5,
     "metadata": {},
     "output_type": "execute_result"
    }
   ],
   "source": [
    "# Verifying nulls\n",
    "data.isnull().sum()"
   ]
  },
  {
   "cell_type": "code",
   "execution_count": 9,
   "id": "0d477692",
   "metadata": {},
   "outputs": [],
   "source": [
    "# Converting objetc to category\n",
    "data['TV'] = data['TV'].astype('category')\n",
    "data['Influencer'] = data['Influencer'].astype('category')"
   ]
  },
  {
   "cell_type": "code",
   "execution_count": 10,
   "id": "6e31ee32",
   "metadata": {},
   "outputs": [
    {
     "data": {
      "text/html": [
       "<div>\n",
       "<style scoped>\n",
       "    .dataframe tbody tr th:only-of-type {\n",
       "        vertical-align: middle;\n",
       "    }\n",
       "\n",
       "    .dataframe tbody tr th {\n",
       "        vertical-align: top;\n",
       "    }\n",
       "\n",
       "    .dataframe thead th {\n",
       "        text-align: right;\n",
       "    }\n",
       "</style>\n",
       "<table border=\"1\" class=\"dataframe\">\n",
       "  <thead>\n",
       "    <tr style=\"text-align: right;\">\n",
       "      <th></th>\n",
       "      <th>TV</th>\n",
       "      <th>Influencer</th>\n",
       "    </tr>\n",
       "  </thead>\n",
       "  <tbody>\n",
       "    <tr>\n",
       "      <th>count</th>\n",
       "      <td>569</td>\n",
       "      <td>569</td>\n",
       "    </tr>\n",
       "    <tr>\n",
       "      <th>unique</th>\n",
       "      <td>3</td>\n",
       "      <td>4</td>\n",
       "    </tr>\n",
       "    <tr>\n",
       "      <th>top</th>\n",
       "      <td>Medium</td>\n",
       "      <td>Mega</td>\n",
       "    </tr>\n",
       "    <tr>\n",
       "      <th>freq</th>\n",
       "      <td>197</td>\n",
       "      <td>147</td>\n",
       "    </tr>\n",
       "  </tbody>\n",
       "</table>\n",
       "</div>"
      ],
      "text/plain": [
       "            TV Influencer\n",
       "count      569        569\n",
       "unique       3          4\n",
       "top     Medium       Mega\n",
       "freq       197        147"
      ]
     },
     "execution_count": 10,
     "metadata": {},
     "output_type": "execute_result"
    }
   ],
   "source": [
    "data.describe(include = 'category')"
   ]
  },
  {
   "cell_type": "code",
   "execution_count": 46,
   "id": "c7ddf26a",
   "metadata": {},
   "outputs": [
    {
     "data": {
      "text/plain": [
       "Text(0.5, 1.0, 'Influencer VS Sales')"
      ]
     },
     "execution_count": 46,
     "metadata": {},
     "output_type": "execute_result"
    },
    {
     "data": {
      "image/png": "[encoded data removed]",
      "text/plain": [
       "<Figure size 1080x504 with 2 Axes>"
      ]
     },
     "metadata": {
      "needs_background": "light"
     },
     "output_type": "display_data"
    }
   ],
   "source": [
    "fig, axes = plt.subplots(1,2,figsize =(15,7))\n",
    "\n",
    "sns.boxplot(data = data, x='TV', y = 'Sales', ax = axes[0])\n",
    "axes[0].set_title('TV VS Sales', size = 20)\n",
    "\n",
    "sns.boxplot(data = data, x='Influencer', y = 'Sales', ax = axes[1])\n",
    "axes[1].set_title('Influencer VS Sales', size = 20)"
   ]
  },
  {
   "cell_type": "code",
   "execution_count": 17,
   "id": "457da263",
   "metadata": {},
   "outputs": [
    {
     "data": {
      "text/plain": [
       "TV\n",
       "High      300.529591\n",
       "Low        91.716309\n",
       "Medium    199.023461\n",
       "Name: Sales, dtype: float64"
      ]
     },
     "execution_count": 17,
     "metadata": {},
     "output_type": "execute_result"
    }
   ],
   "source": [
    "# Checking groups of TV\n",
    "data.groupby('TV')['Sales'].mean()"
   ]
  },
  {
   "cell_type": "code",
   "execution_count": 19,
   "id": "a966df78",
   "metadata": {},
   "outputs": [
    {
     "data": {
      "text/plain": [
       "Influencer\n",
       "Macro    206.641805\n",
       "Mega     180.385096\n",
       "Micro    198.655080\n",
       "Nano     189.742830\n",
       "Name: Sales, dtype: float64"
      ]
     },
     "execution_count": 19,
     "metadata": {},
     "output_type": "execute_result"
    }
   ],
   "source": [
    "# Checking groups of Influencer\n",
    "data.groupby('Influencer')['Sales'].mean()"
   ]
  },
  {
   "cell_type": "markdown",
   "id": "f110dccd",
   "metadata": {},
   "source": [
    "**Observation**:\n",
    "\n",
    "1. There is significant difference in sales when the type of TV promotion changes\n",
    "1. There is no significant difference in sales when the type of Influencer promotion changes, though there is slight variation but not significant. Hence we will not consider 'Influencer' for our model building as it has very little influence compared to TV levels.\n",
    "\n",
    "\n",
    "**The significance of the difference in sales with respect to TV promotions can be tested with one-way ANOVA.**"
   ]
  },
  {
   "cell_type": "markdown",
   "id": "f1685400",
   "metadata": {},
   "source": [
    "# Model building"
   ]
  },
  {
   "cell_type": "code",
   "execution_count": 20,
   "id": "cfa33c55",
   "metadata": {},
   "outputs": [],
   "source": [
    "ols_formula = 'Sales ~ C(TV)'\n",
    "\n",
    "model = ols(formula=ols_formula, data=data).fit()"
   ]
  },
  {
   "cell_type": "code",
   "execution_count": 21,
   "id": "daa9a53d",
   "metadata": {},
   "outputs": [
    {
     "data": {
      "text/html": [
       "<table class=\"simpletable\">\n",
       "<caption>OLS Regression Results</caption>\n",
       "<tr>\n",
       "  <th>Dep. Variable:</th>          <td>Sales</td>      <th>  R-squared:         </th> <td>   0.874</td> \n",
       "</tr>\n",
       "<tr>\n",
       "  <th>Model:</th>                   <td>OLS</td>       <th>  Adj. R-squared:    </th> <td>   0.874</td> \n",
       "</tr>\n",
       "<tr>\n",
       "  <th>Method:</th>             <td>Least Squares</td>  <th>  F-statistic:       </th> <td>   1971.</td> \n",
       "</tr>\n",
       "<tr>\n",
       "  <th>Date:</th>             <td>Tue, 02 Apr 2024</td> <th>  Prob (F-statistic):</th> <td>8.81e-256</td>\n",
       "</tr>\n",
       "<tr>\n",
       "  <th>Time:</th>                 <td>09:13:45</td>     <th>  Log-Likelihood:    </th> <td> -2778.9</td> \n",
       "</tr>\n",
       "<tr>\n",
       "  <th>No. Observations:</th>      <td>   569</td>      <th>  AIC:               </th> <td>   5564.</td> \n",
       "</tr>\n",
       "<tr>\n",
       "  <th>Df Residuals:</th>          <td>   566</td>      <th>  BIC:               </th> <td>   5577.</td> \n",
       "</tr>\n",
       "<tr>\n",
       "  <th>Df Model:</th>              <td>     2</td>      <th>                     </th>     <td> </td>    \n",
       "</tr>\n",
       "<tr>\n",
       "  <th>Covariance Type:</th>      <td>nonrobust</td>    <th>                     </th>     <td> </td>    \n",
       "</tr>\n",
       "</table>\n",
       "<table class=\"simpletable\">\n",
       "<tr>\n",
       "         <td></td>            <th>coef</th>     <th>std err</th>      <th>t</th>      <th>P>|t|</th>  <th>[0.025</th>    <th>0.975]</th>  \n",
       "</tr>\n",
       "<tr>\n",
       "  <th>Intercept</th>       <td>  300.5296</td> <td>    2.417</td> <td>  124.360</td> <td> 0.000</td> <td>  295.783</td> <td>  305.276</td>\n",
       "</tr>\n",
       "<tr>\n",
       "  <th>C(TV)[T.Low]</th>    <td> -208.8133</td> <td>    3.329</td> <td>  -62.720</td> <td> 0.000</td> <td> -215.353</td> <td> -202.274</td>\n",
       "</tr>\n",
       "<tr>\n",
       "  <th>C(TV)[T.Medium]</th> <td> -101.5061</td> <td>    3.325</td> <td>  -30.526</td> <td> 0.000</td> <td> -108.038</td> <td>  -94.975</td>\n",
       "</tr>\n",
       "</table>\n",
       "<table class=\"simpletable\">\n",
       "<tr>\n",
       "  <th>Omnibus:</th>       <td>450.714</td> <th>  Durbin-Watson:     </th> <td>   2.002</td>\n",
       "</tr>\n",
       "<tr>\n",
       "  <th>Prob(Omnibus):</th> <td> 0.000</td>  <th>  Jarque-Bera (JB):  </th> <td>  35.763</td>\n",
       "</tr>\n",
       "<tr>\n",
       "  <th>Skew:</th>          <td>-0.044</td>  <th>  Prob(JB):          </th> <td>1.71e-08</td>\n",
       "</tr>\n",
       "<tr>\n",
       "  <th>Kurtosis:</th>      <td> 1.775</td>  <th>  Cond. No.          </th> <td>    3.86</td>\n",
       "</tr>\n",
       "</table><br/><br/>Notes:<br/>[1] Standard Errors assume that the covariance matrix of the errors is correctly specified."
      ],
      "text/plain": [
       "<class 'statsmodels.iolib.summary.Summary'>\n",
       "\"\"\"\n",
       "                            OLS Regression Results                            \n",
       "==============================================================================\n",
       "Dep. Variable:                  Sales   R-squared:                       0.874\n",
       "Model:                            OLS   Adj. R-squared:                  0.874\n",
       "Method:                 Least Squares   F-statistic:                     1971.\n",
       "Date:                Tue, 02 Apr 2024   Prob (F-statistic):          8.81e-256\n",
       "Time:                        09:13:45   Log-Likelihood:                -2778.9\n",
       "No. Observations:                 569   AIC:                             5564.\n",
       "Df Residuals:                     566   BIC:                             5577.\n",
       "Df Model:                           2                                         \n",
       "Covariance Type:            nonrobust                                         \n",
       "===================================================================================\n",
       "                      coef    std err          t      P>|t|      [0.025      0.975]\n",
       "-----------------------------------------------------------------------------------\n",
       "Intercept         300.5296      2.417    124.360      0.000     295.783     305.276\n",
       "C(TV)[T.Low]     -208.8133      3.329    -62.720      0.000    -215.353    -202.274\n",
       "C(TV)[T.Medium]  -101.5061      3.325    -30.526      0.000    -108.038     -94.975\n",
       "==============================================================================\n",
       "Omnibus:                      450.714   Durbin-Watson:                   2.002\n",
       "Prob(Omnibus):                  0.000   Jarque-Bera (JB):               35.763\n",
       "Skew:                          -0.044   Prob(JB):                     1.71e-08\n",
       "Kurtosis:                       1.775   Cond. No.                         3.86\n",
       "==============================================================================\n",
       "\n",
       "Notes:\n",
       "[1] Standard Errors assume that the covariance matrix of the errors is correctly specified.\n",
       "\"\"\""
      ]
     },
     "execution_count": 21,
     "metadata": {},
     "output_type": "execute_result"
    }
   ],
   "source": [
    "model.summary()"
   ]
  },
  {
   "cell_type": "markdown",
   "id": "ad3af0f8",
   "metadata": {},
   "source": [
    "# Check model Assumptions:\n",
    "- Linearity\n",
    "- Independant Observation\n",
    "- Normality\n",
    "- Homoscedasticity (constant variation)\n",
    "- No Multicollinearity \n",
    "\n",
    "\n",
    "### Assumption 1: Linearity \n",
    "\n",
    "Because the model does not have any continuous independent variables, the linearity assumption is not required.\n"
   ]
  },
  {
   "cell_type": "markdown",
   "id": "c5997c32",
   "metadata": {},
   "source": [
    "### Assumption 2: Ind Observation\n",
    "As each marketing promotion (row) is independent from one another, the independence assumption is not violated."
   ]
  },
  {
   "cell_type": "markdown",
   "id": "45801607",
   "metadata": {},
   "source": [
    "### Assunption 3: Normality\n",
    "The residual values follow a normal distribution and form a diagonal line in the qqplot"
   ]
  },
  {
   "cell_type": "code",
   "execution_count": 31,
   "id": "b4cb9060",
   "metadata": {},
   "outputs": [
    {
     "data": {
      "text/plain": [
       "Text(0.5, 1.0, 'Theoritical Quantile Plot')"
      ]
     },
     "execution_count": 31,
     "metadata": {},
     "output_type": "execute_result"
    },
    {
     "data": {
      "image/png": "[encoded data removed]",
      "text/plain": [
       "<Figure size 1440x360 with 2 Axes>"
      ]
     },
     "metadata": {
      "needs_background": "light"
     },
     "output_type": "display_data"
    }
   ],
   "source": [
    "fig, axes = plt.subplots(1,2, figsize = (20,5))\n",
    "\n",
    "sns.histplot(data=model.resid, ax = axes[0], bins= 30)\n",
    "axes[0].set_title('Distribution of residuals')\n",
    "\n",
    "sm.qqplot(data = model.resid, line = 's', ax = axes[1])\n",
    "axes[1].set_title('Theoritical Quantile Plot')"
   ]
  },
  {
   "cell_type": "markdown",
   "id": "00766a7b",
   "metadata": {},
   "source": [
    "**Observation:**\n",
    "There is reasonable concern that the normality assumption is not met when TV is used as the independent variable predicting Sales. The normal q-q forms an 'S' that deviates off the red diagonal line, which is not desired behavior."
   ]
  },
  {
   "cell_type": "markdown",
   "id": "aa896b18",
   "metadata": {},
   "source": [
    "### Assumption 4: Homoscedasticity (Constant variance)\n"
   ]
  },
  {
   "cell_type": "code",
   "execution_count": 37,
   "id": "01c3ddf8",
   "metadata": {},
   "outputs": [
    {
     "data": {
      "text/plain": [
       "<matplotlib.lines.Line2D at 0x7fb0b11ffd00>"
      ]
     },
     "execution_count": 37,
     "metadata": {},
     "output_type": "execute_result"
    },
    {
     "data": {
      "image/png": "[encoded data removed]",
      "text/plain": [
       "<Figure size 432x288 with 1 Axes>"
      ]
     },
     "metadata": {
      "needs_background": "light"
     },
     "output_type": "display_data"
    }
   ],
   "source": [
    "sns.scatterplot(x= model.fittedvalues, y = model.resid)\n",
    "plt.title('Check for Homoscedasticity', size = 15)\n",
    "plt.xlabel('Fitted Values of Model')\n",
    "plt.ylabel('Residual Values of Model')\n",
    "plt.axhline(0, color = 'red')"
   ]
  },
  {
   "cell_type": "markdown",
   "id": "e9ff42d2",
   "metadata": {},
   "source": [
    "**Observation**:\n",
    "- We have groups of data points which is due the 3 groups of the TV feature variable.\n",
    "- The distribution of these points acroos each levels of TV (High, Medium and Low) shows variance across the plot\n",
    "- Our assumption is thus not violated as there is constant variance(equal spread) across all levels."
   ]
  },
  {
   "cell_type": "markdown",
   "id": "a3a78018",
   "metadata": {},
   "source": [
    "### Assumption 5: No multicollinearity\n",
    "As we have only one independant variable in our model there is no multicollinerity among independant variable. This our assumption is not violated."
   ]
  },
  {
   "cell_type": "markdown",
   "id": "f932fcbd",
   "metadata": {},
   "source": [
    "# Results and evalution of the model"
   ]
  },
  {
   "cell_type": "markdown",
   "id": "fec363b4",
   "metadata": {},
   "source": [
    "- The TV features describes almost 87.4% of the variation in Sales, since R Adjusted is 0.874\n",
    "- Interpreting Coefficients:\n",
    "    - Estimated avg difference between High and Low TV sales is about 208.83 Million ranging from [202.274-215.353] with 'High' TV category as reference\n",
    "    - Estimated avg difference between High and Medium TV sales is about 101.51 Million from [94.97-108.038] with 'High' TV category as reference\n",
    "- The coefficients are statsically significant since we have p-values less than 0.05 for LOW and MEDIUM levels of TV\n",
    "\n",
    "\n",
    "How can the model be imporved?\n",
    "- A more granular view of the levels of the TV promotions such as additional categories or even the actual budgets for each level. Furthermore, inclusion of other featuers like location of the marketing campaign or time of the year may increase model accuracy"
   ]
  },
  {
   "cell_type": "markdown",
   "id": "e3e59c85",
   "metadata": {},
   "source": [
    "## One way ANOVA test:"
   ]
  },
  {
   "cell_type": "markdown",
   "id": "96d0a674",
   "metadata": {},
   "source": [
    "We have to test if there is a statiscally significant difference in the sales wrt TV promotions we will perform one way ANOVA test."
   ]
  },
  {
   "cell_type": "markdown",
   "id": "7083265f",
   "metadata": {},
   "source": [
    "### State the hypothesis:\n",
    "$H_0$ = There is no differnece in Sales based on TV promotion budget\n",
    "\n",
    "$H_1$ = There is a difference in Sales based on the TV promotion budget"
   ]
  },
  {
   "cell_type": "code",
   "execution_count": 38,
   "id": "497d9fee",
   "metadata": {},
   "outputs": [
    {
     "data": {
      "text/html": [
       "<div>\n",
       "<style scoped>\n",
       "    .dataframe tbody tr th:only-of-type {\n",
       "        vertical-align: middle;\n",
       "    }\n",
       "\n",
       "    .dataframe tbody tr th {\n",
       "        vertical-align: top;\n",
       "    }\n",
       "\n",
       "    .dataframe thead th {\n",
       "        text-align: right;\n",
       "    }\n",
       "</style>\n",
       "<table border=\"1\" class=\"dataframe\">\n",
       "  <thead>\n",
       "    <tr style=\"text-align: right;\">\n",
       "      <th></th>\n",
       "      <th>df</th>\n",
       "      <th>sum_sq</th>\n",
       "      <th>mean_sq</th>\n",
       "      <th>F</th>\n",
       "      <th>PR(&gt;F)</th>\n",
       "    </tr>\n",
       "  </thead>\n",
       "  <tbody>\n",
       "    <tr>\n",
       "      <th>C(TV)</th>\n",
       "      <td>2.0</td>\n",
       "      <td>4.052692e+06</td>\n",
       "      <td>2.026346e+06</td>\n",
       "      <td>1971.455737</td>\n",
       "      <td>8.805550e-256</td>\n",
       "    </tr>\n",
       "    <tr>\n",
       "      <th>Residual</th>\n",
       "      <td>566.0</td>\n",
       "      <td>5.817589e+05</td>\n",
       "      <td>1.027843e+03</td>\n",
       "      <td>NaN</td>\n",
       "      <td>NaN</td>\n",
       "    </tr>\n",
       "  </tbody>\n",
       "</table>\n",
       "</div>"
      ],
      "text/plain": [
       "             df        sum_sq       mean_sq            F         PR(>F)\n",
       "C(TV)       2.0  4.052692e+06  2.026346e+06  1971.455737  8.805550e-256\n",
       "Residual  566.0  5.817589e+05  1.027843e+03          NaN            NaN"
      ]
     },
     "execution_count": 38,
     "metadata": {},
     "output_type": "execute_result"
    }
   ],
   "source": [
    "# Perform the one way anova test:\n",
    "sm.stats.anova_lm(model, typ = 1)"
   ]
  },
  {
   "cell_type": "code",
   "execution_count": 40,
   "id": "3c83e9c3",
   "metadata": {},
   "outputs": [
    {
     "data": {
      "text/html": [
       "<div>\n",
       "<style scoped>\n",
       "    .dataframe tbody tr th:only-of-type {\n",
       "        vertical-align: middle;\n",
       "    }\n",
       "\n",
       "    .dataframe tbody tr th {\n",
       "        vertical-align: top;\n",
       "    }\n",
       "\n",
       "    .dataframe thead th {\n",
       "        text-align: right;\n",
       "    }\n",
       "</style>\n",
       "<table border=\"1\" class=\"dataframe\">\n",
       "  <thead>\n",
       "    <tr style=\"text-align: right;\">\n",
       "      <th></th>\n",
       "      <th>df</th>\n",
       "      <th>sum_sq</th>\n",
       "      <th>mean_sq</th>\n",
       "      <th>F</th>\n",
       "      <th>PR(&gt;F)</th>\n",
       "    </tr>\n",
       "  </thead>\n",
       "  <tbody>\n",
       "    <tr>\n",
       "      <th>C(TV)</th>\n",
       "      <td>2.00000000</td>\n",
       "      <td>4052692.11805894</td>\n",
       "      <td>2026346.05902947</td>\n",
       "      <td>1971.45573654</td>\n",
       "      <td>0.00000000</td>\n",
       "    </tr>\n",
       "    <tr>\n",
       "      <th>Residual</th>\n",
       "      <td>566.00000000</td>\n",
       "      <td>581758.87399027</td>\n",
       "      <td>1027.84253355</td>\n",
       "      <td>nan</td>\n",
       "      <td>nan</td>\n",
       "    </tr>\n",
       "  </tbody>\n",
       "</table>\n",
       "</div>"
      ],
      "text/plain": [
       "                    df            sum_sq  ...              F      PR(>F)\n",
       "C(TV)       2.00000000  4052692.11805894  ...  1971.45573654  0.00000000\n",
       "Residual  566.00000000   581758.87399027  ...            nan         nan\n",
       "\n",
       "[2 rows x 5 columns]"
      ]
     },
     "execution_count": 40,
     "metadata": {},
     "output_type": "execute_result"
    }
   ],
   "source": [
    "# More readable numbers:\n",
    "\n",
    "def readable_numbers(x):\n",
    "    \"\"\"takes a large number and formats it into K,M to make it more readable\n",
    "    {[argument_index_or_keyword]:[width][.precision][type]}\n",
    "    \"\"\"\n",
    "    if x >= 1e6:\n",
    "        s = '{:1.1f}M'.format(x*1e-6)\n",
    "    else:\n",
    "        s = '{:1.0f}K'.format(x*1e-3)\n",
    "    return s\n",
    "\n",
    "sm.stats.anova_lm(model, typ = 1).apply(lambda x: x.apply('{0:.8f}'.format))"
   ]
  },
  {
   "cell_type": "markdown",
   "id": "be06c853",
   "metadata": {},
   "source": [
    "**Observstion**\n",
    "Since our p-value is less than 0.05 (95% confidence level) we reject our Null hypothesis as the results are statiscally significant.\n",
    "Thus we conclude that there is statiscally significant difference in the Sales with respect to the type of TV promotions, that is, High, Medium and Low."
   ]
  },
  {
   "cell_type": "markdown",
   "id": "6deceab5",
   "metadata": {},
   "source": [
    "## Perform Post_hoc test \n",
    "To validate the rejection of Null hypothesis:"
   ]
  },
  {
   "cell_type": "code",
   "execution_count": 42,
   "id": "70bb2e36",
   "metadata": {},
   "outputs": [
    {
     "data": {
      "text/html": [
       "<table class=\"simpletable\">\n",
       "<caption>Multiple Comparison of Means - Tukey HSD, FWER=0.05</caption>\n",
       "<tr>\n",
       "  <th>group1</th> <th>group2</th> <th>meandiff</th>  <th>p-adj</th>   <th>lower</th>     <th>upper</th>   <th>reject</th>\n",
       "</tr>\n",
       "<tr>\n",
       "   <td>High</td>    <td>Low</td>  <td>-208.8133</td> <td>-0.0</td>  <td>-216.6367</td> <td>-200.9898</td>  <td>True</td> \n",
       "</tr>\n",
       "<tr>\n",
       "   <td>High</td>  <td>Medium</td> <td>-101.5061</td> <td>-0.0</td>  <td>-109.3202</td> <td>-93.6921</td>   <td>True</td> \n",
       "</tr>\n",
       "<tr>\n",
       "    <td>Low</td>  <td>Medium</td> <td>107.3072</td>  <td>-0.0</td>   <td>99.7066</td>  <td>114.9077</td>   <td>True</td> \n",
       "</tr>\n",
       "</table>"
      ],
      "text/plain": [
       "<class 'statsmodels.iolib.table.SimpleTable'>"
      ]
     },
     "execution_count": 42,
     "metadata": {},
     "output_type": "execute_result"
    }
   ],
   "source": [
    "tukey = pairwise_tukeyhsd(endog = data['Sales'],groups = data['TV'], alpha = 0.05)\n",
    "\n",
    "tukey.summary()"
   ]
  },
  {
   "cell_type": "markdown",
   "id": "0859a8b6",
   "metadata": {},
   "source": [
    "**Observations:\n",
    "\n",
    "- The first row, which compares the High and Low TV groups, indicates that you can reject the null hypothesis that there is no significant difference between the Sales of these two groups.\n",
    "- You can also reject the null hypotheses for the two other pairwise comparisons that compare High to Medium and Low to Medium.\n",
    "- A post hoc test was conducted to determine which TV groups are different and how many are different from each other. This provides more detail than the one-way ANOVA results, which can at most determine that at least one group is different. Further, using the Tukey HSD controls for the increasing probability of incorrectly rejecting a null hypothesis from peforming multiple tests.\n",
    "- The results were that Sales is not the same between any pair of TV groups."
   ]
  },
  {
   "cell_type": "markdown",
   "id": "07be59cf",
   "metadata": {},
   "source": [
    "## Executive Summary\n",
    "- The TV feature explains approximately **87.1%** of the variance in Sales, as indicated by the R-squared value of **0.871**. Influencer feature is not taken into consideration as it does not have significant affect on the Sales.\n",
    "\n",
    "## Interpreting Coefficients\n",
    "- Using a high TV promotion budget instead of a low TV promotion budget is estimated to increase sales by approximately **209.8691 million dollars**, with a 95% confidence interval ranging from **203.203 million** to **216.535 million dollars**, taking 'High' TV category as the reference.\n",
    "- Using a high TV promotion budget instead of a medium TV promotion budget is estimated to increase sales by approximately **105.4952 million dollars**, with a 95% confidence interval ranging from **98.859 million** to **112.131 million dollars**, again with 'High' TV category as the reference.\n",
    "\n",
    "The statistical significance of the coefficients for both the LOW and MEDIUM levels of TV is affirmed by their **p-values** being less than **0.05**.\n"
   ]
  },
  {
   "cell_type": "code",
   "execution_count": null,
   "id": "1b28d818",
   "metadata": {},
   "outputs": [],
   "source": []
  },
  {
   "cell_type": "code",
   "execution_count": null,
   "id": "dc089b35",
   "metadata": {},
   "outputs": [],
   "source": []
  },
  {
   "cell_type": "code",
   "execution_count": null,
   "id": "dd8d576d",
   "metadata": {},
   "outputs": [],
   "source": []
  },
  {
   "cell_type": "code",
   "execution_count": null,
   "id": "53481e5e",
   "metadata": {},
   "outputs": [],
   "source": []
  },
  {
   "cell_type": "code",
   "execution_count": null,
   "id": "d6efcef9",
   "metadata": {},
   "outputs": [],
   "source": []
  },
  {
   "cell_type": "code",
   "execution_count": null,
   "id": "7dd6fb95",
   "metadata": {},
   "outputs": [],
   "source": []
  },
  {
   "cell_type": "code",
   "execution_count": null,
   "id": "50b506c4",
   "metadata": {},
   "outputs": [],
   "source": []
  },
  {
   "cell_type": "code",
   "execution_count": null,
   "id": "481d2ce5",
   "metadata": {},
   "outputs": [],
   "source": []
  }
 ],
 "metadata": {
  "kernelspec": {
   "display_name": "Python 3 (ipykernel)",
   "language": "python",
   "name": "python3"
  },
  "language_info": {
   "codemirror_mode": {
    "name": "ipython",
    "version": 3
   },
   "file_extension": ".py",
   "mimetype": "text/x-python",
   "name": "python",
   "nbconvert_exporter": "python",
   "pygments_lexer": "ipython3",
   "version": "3.9.12"
  }
 },
 "nbformat": 4,
 "nbformat_minor": 5
}
