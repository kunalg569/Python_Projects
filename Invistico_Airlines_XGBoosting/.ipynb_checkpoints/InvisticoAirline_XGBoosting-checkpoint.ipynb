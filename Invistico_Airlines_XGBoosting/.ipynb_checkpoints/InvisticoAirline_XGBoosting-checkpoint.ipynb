{
 "cells": [
  {
   "cell_type": "markdown",
   "id": "bec9b865",
   "metadata": {},
   "source": [
    "<div style=\"background-color:#f0f0f0; padding:10px; border-radius:5px;\">\n",
    "    <h2 style=\"color:#333333; text-align:center;\">Background</h2>\n",
    "    <p style=\"color:#555555; font-size:16px;\">\n",
    "        <strong>Invistico Airlines</strong> is committed to enhancing customer satisfaction. Initially, Decision Tree models were used to analyze a dataset of <strong>129,880 passenger survey responses</strong>. However, to address overfitting and improve predictive accuracy, a <strong>Random Forest approach</strong> is being implemented. You have been tasked to build upon the previous Decision Tree models by training, tuning, and evaluating a <strong>Random Forest and XGBoost</strong> model. Your task to eavaluate the performance of all three models (<strong>Decision Tree, Random Forest, and XGBoost</strong>) to determine the most effective model for predicting customer satisfaction. Additionally, give recommendation for <strong>feature importances</strong> to identify the factors that most significantly influence customer satisfaction.\n",
    "    </p>\n",
    "    <img src=\"airline.png\" alt=\"Invistico Airlines\" style=\"display: block; margin-left: auto; margin-right: auto; width: 50%;\">\n",
    "</div>\n",
    "\n",
    "<div style=\"background-color:#f0f0f0; padding:10px; border-radius:5px;\">\n",
    "    <h2 style=\"color:#333333; text-align:center;\">Objective</h2>\n",
    "    <p style=\"color:#555555; font-size:16px;\">\n",
    "        Enhance the accuracy and reliability of customer satisfaction prediction by leveraging <strong>XGBoost's ensemble learning capabilities</strong> and comparing its performance with <strong>Decision Tree and Random Forest models</strong>.\n",
    "    </p>\n",
    "</div>\n",
    "\n",
    "<div style=\"background-color:#f0f0f0; padding:10px; border-radius:5px;\">\n",
    "    <h2 style=\"color:#333333; text-align:center;\">Goals</h2>\n",
    "    <ol style=\"color:#555555; font-size:16px;\">\n",
    "        <li>Utilize <strong>XGBoost</strong> to gain deeper insights into customer satisfaction drivers, enabling the tailoring of services to better meet passenger needs.</li>\n",
    "        <li>Ensure model robustness and accuracy through evaluation metrics like <strong>accuracy, precision, recall, and F1-score</strong>.</li>\n",
    "        <li>Compare the performance of <strong>Decision Tree, Random Forest, and XGBoost models</strong> to identify the most effective model for customer satisfaction prediction.</li>\n",
    "        <li>Explore <strong>feature importances</strong> within the chosen model to understand the key factors influencing customer satisfaction.</li>\n",
    "    </ol>\n",
    "</div>\n"
   ]
  },
  {
   "cell_type": "markdown",
   "id": "bd4d36e1",
   "metadata": {},
   "source": [
    "<div style=\"background-color:#f0f0f0; padding:10px; border-radius:5px;\">\n",
    "    <h2 style=\"color:#333333; text-align:center;\">Technical Report on Invistico Airline Customer Satisfaction Prediction Models</h2>\n",
    "    <h3 style=\"color:#333333; text-align:center;\">Executive Summary</h3>\n",
    "    <p style=\"color:#555555; font-size:16px;\">\n",
    "        This report presents an analysis of predictive models for airline customer satisfaction. Based on the performance metrics and feature importances, we have evaluated and compared several models. The objective is to identify key factors influencing customer satisfaction and to provide actionable insights to stakeholders.\n",
    "    </p>\n",
    "    <h3 style=\"color:#333333; text-align:center;\">Model Performance</h3>\n",
    "    <p style=\"color:#555555; font-size:16px;\">\n",
    "        Three models were analyzed: Tuned Decision Tree, Optimized Random Forest, and Optimized XGBoost. The Optimized Random Forest model outperforms others with an <strong>F1 score</strong> of <strong>0.958</strong>, <strong>recall</strong> of <strong>0.947</strong>, <strong>precision</strong> of <strong>0.969</strong>, and <strong>accuracy</strong> of <strong>0.954</strong>. It is thus recommended for predicting customer satisfaction.\n",
    "    </p>\n",
    "    <h3 style=\"color:#333333; text-align:center;\">Feature Importance</h3>\n",
    "    <p style=\"color:#555555; font-size:16px;\">\n",
    "        The feature importance analysis from both the XGBoost and Random Forest models identifies key features that impact customer satisfaction:\n",
    "    </p>\n",
    "    <ol style=\"color:#555555; font-size:16px;\">\n",
    "        <li><strong>Inflight entertainment:</strong> Identified as the most significant feature, implying its critical role in customer satisfaction.</li>\n",
    "        <li><strong>Seat comfort:</strong> A close second in importance, indicating the value placed on physical comfort during flights.</li>\n",
    "        <li><strong>Ease of Online booking and Online support:</strong> Highlight the importance of a seamless digital experience.</li>\n",
    "    </ol>\n",
    "    <p style=\"color:#555555; font-size:16px;\">\n",
    "        These features are consistent across models, underscoring their significance in predicting customer satisfaction.\n",
    "    </p>\n",
    "    <h3 style=\"color:#333333; text-align:center;\">Recommendations</h3>\n",
    "    <ul style=\"color:#555555; font-size:16px;\">\n",
    "        <li><strong>Enhance Inflight Entertainment:</strong> Invest in a diverse and high-quality inflight entertainment system to improve customer experience.</li>\n",
    "        <li><strong>Improve Seat Comfort:</strong> Consider upgrading seating arrangements to enhance physical comfort for passengers.</li>\n",
    "        <li><strong>Digital Experience:</strong> Develop robust online platforms for booking and support, ensuring a user-friendly and efficient process.</li>\n",
    "    </ul>\n",
    "    <h3 style=\"color:#333333; text-align:center;\">Conclusion</h3>\n",
    "    <p style=\"color:#555555; font-size:16px;\">\n",
    "        The Optimized Random Forest model is recommended for deployment due to its superior performance metrics. The identified key features should be prioritized for service improvements to enhance customer satisfaction and achieve strategic business outcomes.\n",
    "    </p>\n",
    "</div>\n"
   ]
  },
  {
   "cell_type": "code",
   "execution_count": 45,
   "id": "de12479b",
   "metadata": {},
   "outputs": [],
   "source": [
    "# Imports:\n",
    " \n",
    "import numpy as np\n",
    "import pandas as pd\n",
    "import matplotlib.pyplot as plt\n",
    "import seaborn as sns\n",
    "\n",
    "import pickle as pkl\n",
    " \n",
    "from sklearn.ensemble import RandomForestClassifier\n",
    "from xgboost import XGBClassifier\n",
    "from xgboost import plot_importance\n",
    "\n",
    "\n",
    "from sklearn.model_selection import train_test_split, PredefinedSplit, GridSearchCV\n",
    "from sklearn.metrics import f1_score, precision_score, recall_score, accuracy_score\n",
    "from sklearn.metrics import ConfusionMatrixDisplay, confusion_matrix\n",
    "\n",
    "import warnings\n",
    "warnings.filterwarnings('ignore')\n",
    "\n",
    "import time"
   ]
  },
  {
   "cell_type": "code",
   "execution_count": 2,
   "id": "4a93f4dd",
   "metadata": {},
   "outputs": [],
   "source": [
    "# Read the file:\n",
    "air_data = pd.read_csv(\"Invistico_Airline.csv\")"
   ]
  },
  {
   "cell_type": "markdown",
   "id": "bf29255b",
   "metadata": {},
   "source": [
    "## EDA:"
   ]
  },
  {
   "cell_type": "code",
   "execution_count": 3,
   "id": "033b77c7",
   "metadata": {},
   "outputs": [
    {
     "data": {
      "text/html": [
       "<div>\n",
       "<style scoped>\n",
       "    .dataframe tbody tr th:only-of-type {\n",
       "        vertical-align: middle;\n",
       "    }\n",
       "\n",
       "    .dataframe tbody tr th {\n",
       "        vertical-align: top;\n",
       "    }\n",
       "\n",
       "    .dataframe thead th {\n",
       "        text-align: right;\n",
       "    }\n",
       "</style>\n",
       "<table border=\"1\" class=\"dataframe\">\n",
       "  <thead>\n",
       "    <tr style=\"text-align: right;\">\n",
       "      <th></th>\n",
       "      <th>satisfaction</th>\n",
       "      <th>Customer Type</th>\n",
       "      <th>Age</th>\n",
       "      <th>Type of Travel</th>\n",
       "      <th>Class</th>\n",
       "      <th>Flight Distance</th>\n",
       "      <th>Seat comfort</th>\n",
       "      <th>Departure/Arrival time convenient</th>\n",
       "      <th>Food and drink</th>\n",
       "      <th>Gate location</th>\n",
       "      <th>...</th>\n",
       "      <th>Online support</th>\n",
       "      <th>Ease of Online booking</th>\n",
       "      <th>On-board service</th>\n",
       "      <th>Leg room service</th>\n",
       "      <th>Baggage handling</th>\n",
       "      <th>Checkin service</th>\n",
       "      <th>Cleanliness</th>\n",
       "      <th>Online boarding</th>\n",
       "      <th>Departure Delay in Minutes</th>\n",
       "      <th>Arrival Delay in Minutes</th>\n",
       "    </tr>\n",
       "  </thead>\n",
       "  <tbody>\n",
       "    <tr>\n",
       "      <th>0</th>\n",
       "      <td>satisfied</td>\n",
       "      <td>Loyal Customer</td>\n",
       "      <td>65</td>\n",
       "      <td>Personal Travel</td>\n",
       "      <td>Eco</td>\n",
       "      <td>265</td>\n",
       "      <td>0</td>\n",
       "      <td>0</td>\n",
       "      <td>0</td>\n",
       "      <td>2</td>\n",
       "      <td>...</td>\n",
       "      <td>2</td>\n",
       "      <td>3</td>\n",
       "      <td>3</td>\n",
       "      <td>0</td>\n",
       "      <td>3</td>\n",
       "      <td>5</td>\n",
       "      <td>3</td>\n",
       "      <td>2</td>\n",
       "      <td>0</td>\n",
       "      <td>0.0</td>\n",
       "    </tr>\n",
       "    <tr>\n",
       "      <th>1</th>\n",
       "      <td>satisfied</td>\n",
       "      <td>Loyal Customer</td>\n",
       "      <td>47</td>\n",
       "      <td>Personal Travel</td>\n",
       "      <td>Business</td>\n",
       "      <td>2464</td>\n",
       "      <td>0</td>\n",
       "      <td>0</td>\n",
       "      <td>0</td>\n",
       "      <td>3</td>\n",
       "      <td>...</td>\n",
       "      <td>2</td>\n",
       "      <td>3</td>\n",
       "      <td>4</td>\n",
       "      <td>4</td>\n",
       "      <td>4</td>\n",
       "      <td>2</td>\n",
       "      <td>3</td>\n",
       "      <td>2</td>\n",
       "      <td>310</td>\n",
       "      <td>305.0</td>\n",
       "    </tr>\n",
       "    <tr>\n",
       "      <th>2</th>\n",
       "      <td>satisfied</td>\n",
       "      <td>Loyal Customer</td>\n",
       "      <td>15</td>\n",
       "      <td>Personal Travel</td>\n",
       "      <td>Eco</td>\n",
       "      <td>2138</td>\n",
       "      <td>0</td>\n",
       "      <td>0</td>\n",
       "      <td>0</td>\n",
       "      <td>3</td>\n",
       "      <td>...</td>\n",
       "      <td>2</td>\n",
       "      <td>2</td>\n",
       "      <td>3</td>\n",
       "      <td>3</td>\n",
       "      <td>4</td>\n",
       "      <td>4</td>\n",
       "      <td>4</td>\n",
       "      <td>2</td>\n",
       "      <td>0</td>\n",
       "      <td>0.0</td>\n",
       "    </tr>\n",
       "    <tr>\n",
       "      <th>3</th>\n",
       "      <td>satisfied</td>\n",
       "      <td>Loyal Customer</td>\n",
       "      <td>60</td>\n",
       "      <td>Personal Travel</td>\n",
       "      <td>Eco</td>\n",
       "      <td>623</td>\n",
       "      <td>0</td>\n",
       "      <td>0</td>\n",
       "      <td>0</td>\n",
       "      <td>3</td>\n",
       "      <td>...</td>\n",
       "      <td>3</td>\n",
       "      <td>1</td>\n",
       "      <td>1</td>\n",
       "      <td>0</td>\n",
       "      <td>1</td>\n",
       "      <td>4</td>\n",
       "      <td>1</td>\n",
       "      <td>3</td>\n",
       "      <td>0</td>\n",
       "      <td>0.0</td>\n",
       "    </tr>\n",
       "    <tr>\n",
       "      <th>4</th>\n",
       "      <td>satisfied</td>\n",
       "      <td>Loyal Customer</td>\n",
       "      <td>70</td>\n",
       "      <td>Personal Travel</td>\n",
       "      <td>Eco</td>\n",
       "      <td>354</td>\n",
       "      <td>0</td>\n",
       "      <td>0</td>\n",
       "      <td>0</td>\n",
       "      <td>3</td>\n",
       "      <td>...</td>\n",
       "      <td>4</td>\n",
       "      <td>2</td>\n",
       "      <td>2</td>\n",
       "      <td>0</td>\n",
       "      <td>2</td>\n",
       "      <td>4</td>\n",
       "      <td>2</td>\n",
       "      <td>5</td>\n",
       "      <td>0</td>\n",
       "      <td>0.0</td>\n",
       "    </tr>\n",
       "    <tr>\n",
       "      <th>5</th>\n",
       "      <td>satisfied</td>\n",
       "      <td>Loyal Customer</td>\n",
       "      <td>30</td>\n",
       "      <td>Personal Travel</td>\n",
       "      <td>Eco</td>\n",
       "      <td>1894</td>\n",
       "      <td>0</td>\n",
       "      <td>0</td>\n",
       "      <td>0</td>\n",
       "      <td>3</td>\n",
       "      <td>...</td>\n",
       "      <td>2</td>\n",
       "      <td>2</td>\n",
       "      <td>5</td>\n",
       "      <td>4</td>\n",
       "      <td>5</td>\n",
       "      <td>5</td>\n",
       "      <td>4</td>\n",
       "      <td>2</td>\n",
       "      <td>0</td>\n",
       "      <td>0.0</td>\n",
       "    </tr>\n",
       "    <tr>\n",
       "      <th>6</th>\n",
       "      <td>satisfied</td>\n",
       "      <td>Loyal Customer</td>\n",
       "      <td>66</td>\n",
       "      <td>Personal Travel</td>\n",
       "      <td>Eco</td>\n",
       "      <td>227</td>\n",
       "      <td>0</td>\n",
       "      <td>0</td>\n",
       "      <td>0</td>\n",
       "      <td>3</td>\n",
       "      <td>...</td>\n",
       "      <td>5</td>\n",
       "      <td>5</td>\n",
       "      <td>5</td>\n",
       "      <td>0</td>\n",
       "      <td>5</td>\n",
       "      <td>5</td>\n",
       "      <td>5</td>\n",
       "      <td>3</td>\n",
       "      <td>17</td>\n",
       "      <td>15.0</td>\n",
       "    </tr>\n",
       "    <tr>\n",
       "      <th>7</th>\n",
       "      <td>satisfied</td>\n",
       "      <td>Loyal Customer</td>\n",
       "      <td>10</td>\n",
       "      <td>Personal Travel</td>\n",
       "      <td>Eco</td>\n",
       "      <td>1812</td>\n",
       "      <td>0</td>\n",
       "      <td>0</td>\n",
       "      <td>0</td>\n",
       "      <td>3</td>\n",
       "      <td>...</td>\n",
       "      <td>2</td>\n",
       "      <td>2</td>\n",
       "      <td>3</td>\n",
       "      <td>3</td>\n",
       "      <td>4</td>\n",
       "      <td>5</td>\n",
       "      <td>4</td>\n",
       "      <td>2</td>\n",
       "      <td>0</td>\n",
       "      <td>0.0</td>\n",
       "    </tr>\n",
       "    <tr>\n",
       "      <th>8</th>\n",
       "      <td>satisfied</td>\n",
       "      <td>Loyal Customer</td>\n",
       "      <td>56</td>\n",
       "      <td>Personal Travel</td>\n",
       "      <td>Business</td>\n",
       "      <td>73</td>\n",
       "      <td>0</td>\n",
       "      <td>0</td>\n",
       "      <td>0</td>\n",
       "      <td>3</td>\n",
       "      <td>...</td>\n",
       "      <td>5</td>\n",
       "      <td>4</td>\n",
       "      <td>4</td>\n",
       "      <td>0</td>\n",
       "      <td>1</td>\n",
       "      <td>5</td>\n",
       "      <td>4</td>\n",
       "      <td>4</td>\n",
       "      <td>0</td>\n",
       "      <td>0.0</td>\n",
       "    </tr>\n",
       "    <tr>\n",
       "      <th>9</th>\n",
       "      <td>satisfied</td>\n",
       "      <td>Loyal Customer</td>\n",
       "      <td>22</td>\n",
       "      <td>Personal Travel</td>\n",
       "      <td>Eco</td>\n",
       "      <td>1556</td>\n",
       "      <td>0</td>\n",
       "      <td>0</td>\n",
       "      <td>0</td>\n",
       "      <td>3</td>\n",
       "      <td>...</td>\n",
       "      <td>2</td>\n",
       "      <td>2</td>\n",
       "      <td>2</td>\n",
       "      <td>4</td>\n",
       "      <td>5</td>\n",
       "      <td>3</td>\n",
       "      <td>4</td>\n",
       "      <td>2</td>\n",
       "      <td>30</td>\n",
       "      <td>26.0</td>\n",
       "    </tr>\n",
       "  </tbody>\n",
       "</table>\n",
       "<p>10 rows × 22 columns</p>\n",
       "</div>"
      ],
      "text/plain": [
       "  satisfaction   Customer Type  Age   Type of Travel     Class  \\\n",
       "0    satisfied  Loyal Customer   65  Personal Travel       Eco   \n",
       "1    satisfied  Loyal Customer   47  Personal Travel  Business   \n",
       "2    satisfied  Loyal Customer   15  Personal Travel       Eco   \n",
       "3    satisfied  Loyal Customer   60  Personal Travel       Eco   \n",
       "4    satisfied  Loyal Customer   70  Personal Travel       Eco   \n",
       "5    satisfied  Loyal Customer   30  Personal Travel       Eco   \n",
       "6    satisfied  Loyal Customer   66  Personal Travel       Eco   \n",
       "7    satisfied  Loyal Customer   10  Personal Travel       Eco   \n",
       "8    satisfied  Loyal Customer   56  Personal Travel  Business   \n",
       "9    satisfied  Loyal Customer   22  Personal Travel       Eco   \n",
       "\n",
       "   Flight Distance  Seat comfort  Departure/Arrival time convenient  \\\n",
       "0              265             0                                  0   \n",
       "1             2464             0                                  0   \n",
       "2             2138             0                                  0   \n",
       "3              623             0                                  0   \n",
       "4              354             0                                  0   \n",
       "5             1894             0                                  0   \n",
       "6              227             0                                  0   \n",
       "7             1812             0                                  0   \n",
       "8               73             0                                  0   \n",
       "9             1556             0                                  0   \n",
       "\n",
       "   Food and drink  Gate location  ...  Online support  Ease of Online booking  \\\n",
       "0               0              2  ...               2                       3   \n",
       "1               0              3  ...               2                       3   \n",
       "2               0              3  ...               2                       2   \n",
       "3               0              3  ...               3                       1   \n",
       "4               0              3  ...               4                       2   \n",
       "5               0              3  ...               2                       2   \n",
       "6               0              3  ...               5                       5   \n",
       "7               0              3  ...               2                       2   \n",
       "8               0              3  ...               5                       4   \n",
       "9               0              3  ...               2                       2   \n",
       "\n",
       "   On-board service  Leg room service  Baggage handling  Checkin service  \\\n",
       "0                 3                 0                 3                5   \n",
       "1                 4                 4                 4                2   \n",
       "2                 3                 3                 4                4   \n",
       "3                 1                 0                 1                4   \n",
       "4                 2                 0                 2                4   \n",
       "5                 5                 4                 5                5   \n",
       "6                 5                 0                 5                5   \n",
       "7                 3                 3                 4                5   \n",
       "8                 4                 0                 1                5   \n",
       "9                 2                 4                 5                3   \n",
       "\n",
       "   Cleanliness  Online boarding  Departure Delay in Minutes  \\\n",
       "0            3                2                           0   \n",
       "1            3                2                         310   \n",
       "2            4                2                           0   \n",
       "3            1                3                           0   \n",
       "4            2                5                           0   \n",
       "5            4                2                           0   \n",
       "6            5                3                          17   \n",
       "7            4                2                           0   \n",
       "8            4                4                           0   \n",
       "9            4                2                          30   \n",
       "\n",
       "   Arrival Delay in Minutes  \n",
       "0                       0.0  \n",
       "1                     305.0  \n",
       "2                       0.0  \n",
       "3                       0.0  \n",
       "4                       0.0  \n",
       "5                       0.0  \n",
       "6                      15.0  \n",
       "7                       0.0  \n",
       "8                       0.0  \n",
       "9                      26.0  \n",
       "\n",
       "[10 rows x 22 columns]"
      ]
     },
     "execution_count": 3,
     "metadata": {},
     "output_type": "execute_result"
    }
   ],
   "source": [
    "air_data.head(10)"
   ]
  },
  {
   "cell_type": "code",
   "execution_count": 4,
   "id": "54309c19",
   "metadata": {},
   "outputs": [
    {
     "data": {
      "text/plain": [
       "satisfaction                          object\n",
       "Customer Type                         object\n",
       "Age                                    int64\n",
       "Type of Travel                        object\n",
       "Class                                 object\n",
       "Flight Distance                        int64\n",
       "Seat comfort                           int64\n",
       "Departure/Arrival time convenient      int64\n",
       "Food and drink                         int64\n",
       "Gate location                          int64\n",
       "Inflight wifi service                  int64\n",
       "Inflight entertainment                 int64\n",
       "Online support                         int64\n",
       "Ease of Online booking                 int64\n",
       "On-board service                       int64\n",
       "Leg room service                       int64\n",
       "Baggage handling                       int64\n",
       "Checkin service                        int64\n",
       "Cleanliness                            int64\n",
       "Online boarding                        int64\n",
       "Departure Delay in Minutes             int64\n",
       "Arrival Delay in Minutes             float64\n",
       "dtype: object"
      ]
     },
     "execution_count": 4,
     "metadata": {},
     "output_type": "execute_result"
    }
   ],
   "source": [
    "# Check data types\n",
    "air_data.dtypes"
   ]
  },
  {
   "cell_type": "code",
   "execution_count": 5,
   "id": "806615dd",
   "metadata": {},
   "outputs": [
    {
     "data": {
      "text/html": [
       "<div>\n",
       "<style scoped>\n",
       "    .dataframe tbody tr th:only-of-type {\n",
       "        vertical-align: middle;\n",
       "    }\n",
       "\n",
       "    .dataframe tbody tr th {\n",
       "        vertical-align: top;\n",
       "    }\n",
       "\n",
       "    .dataframe thead th {\n",
       "        text-align: right;\n",
       "    }\n",
       "</style>\n",
       "<table border=\"1\" class=\"dataframe\">\n",
       "  <thead>\n",
       "    <tr style=\"text-align: right;\">\n",
       "      <th></th>\n",
       "      <th>perecntage_nulls</th>\n",
       "      <th>total_nulls</th>\n",
       "    </tr>\n",
       "  </thead>\n",
       "  <tbody>\n",
       "    <tr>\n",
       "      <th>satisfaction</th>\n",
       "      <td>0.000000</td>\n",
       "      <td>0</td>\n",
       "    </tr>\n",
       "    <tr>\n",
       "      <th>Customer Type</th>\n",
       "      <td>0.000000</td>\n",
       "      <td>0</td>\n",
       "    </tr>\n",
       "    <tr>\n",
       "      <th>Age</th>\n",
       "      <td>0.000000</td>\n",
       "      <td>0</td>\n",
       "    </tr>\n",
       "    <tr>\n",
       "      <th>Type of Travel</th>\n",
       "      <td>0.000000</td>\n",
       "      <td>0</td>\n",
       "    </tr>\n",
       "    <tr>\n",
       "      <th>Class</th>\n",
       "      <td>0.000000</td>\n",
       "      <td>0</td>\n",
       "    </tr>\n",
       "    <tr>\n",
       "      <th>Flight Distance</th>\n",
       "      <td>0.000000</td>\n",
       "      <td>0</td>\n",
       "    </tr>\n",
       "    <tr>\n",
       "      <th>Seat comfort</th>\n",
       "      <td>0.000000</td>\n",
       "      <td>0</td>\n",
       "    </tr>\n",
       "    <tr>\n",
       "      <th>Departure/Arrival time convenient</th>\n",
       "      <td>0.000000</td>\n",
       "      <td>0</td>\n",
       "    </tr>\n",
       "    <tr>\n",
       "      <th>Food and drink</th>\n",
       "      <td>0.000000</td>\n",
       "      <td>0</td>\n",
       "    </tr>\n",
       "    <tr>\n",
       "      <th>Gate location</th>\n",
       "      <td>0.000000</td>\n",
       "      <td>0</td>\n",
       "    </tr>\n",
       "    <tr>\n",
       "      <th>Inflight wifi service</th>\n",
       "      <td>0.000000</td>\n",
       "      <td>0</td>\n",
       "    </tr>\n",
       "    <tr>\n",
       "      <th>Inflight entertainment</th>\n",
       "      <td>0.000000</td>\n",
       "      <td>0</td>\n",
       "    </tr>\n",
       "    <tr>\n",
       "      <th>Online support</th>\n",
       "      <td>0.000000</td>\n",
       "      <td>0</td>\n",
       "    </tr>\n",
       "    <tr>\n",
       "      <th>Ease of Online booking</th>\n",
       "      <td>0.000000</td>\n",
       "      <td>0</td>\n",
       "    </tr>\n",
       "    <tr>\n",
       "      <th>On-board service</th>\n",
       "      <td>0.000000</td>\n",
       "      <td>0</td>\n",
       "    </tr>\n",
       "    <tr>\n",
       "      <th>Leg room service</th>\n",
       "      <td>0.000000</td>\n",
       "      <td>0</td>\n",
       "    </tr>\n",
       "    <tr>\n",
       "      <th>Baggage handling</th>\n",
       "      <td>0.000000</td>\n",
       "      <td>0</td>\n",
       "    </tr>\n",
       "    <tr>\n",
       "      <th>Checkin service</th>\n",
       "      <td>0.000000</td>\n",
       "      <td>0</td>\n",
       "    </tr>\n",
       "    <tr>\n",
       "      <th>Cleanliness</th>\n",
       "      <td>0.000000</td>\n",
       "      <td>0</td>\n",
       "    </tr>\n",
       "    <tr>\n",
       "      <th>Online boarding</th>\n",
       "      <td>0.000000</td>\n",
       "      <td>0</td>\n",
       "    </tr>\n",
       "    <tr>\n",
       "      <th>Departure Delay in Minutes</th>\n",
       "      <td>0.000000</td>\n",
       "      <td>0</td>\n",
       "    </tr>\n",
       "    <tr>\n",
       "      <th>Arrival Delay in Minutes</th>\n",
       "      <td>0.302587</td>\n",
       "      <td>393</td>\n",
       "    </tr>\n",
       "  </tbody>\n",
       "</table>\n",
       "</div>"
      ],
      "text/plain": [
       "                                   perecntage_nulls  total_nulls\n",
       "satisfaction                               0.000000            0\n",
       "Customer Type                              0.000000            0\n",
       "Age                                        0.000000            0\n",
       "Type of Travel                             0.000000            0\n",
       "Class                                      0.000000            0\n",
       "Flight Distance                            0.000000            0\n",
       "Seat comfort                               0.000000            0\n",
       "Departure/Arrival time convenient          0.000000            0\n",
       "Food and drink                             0.000000            0\n",
       "Gate location                              0.000000            0\n",
       "Inflight wifi service                      0.000000            0\n",
       "Inflight entertainment                     0.000000            0\n",
       "Online support                             0.000000            0\n",
       "Ease of Online booking                     0.000000            0\n",
       "On-board service                           0.000000            0\n",
       "Leg room service                           0.000000            0\n",
       "Baggage handling                           0.000000            0\n",
       "Checkin service                            0.000000            0\n",
       "Cleanliness                                0.000000            0\n",
       "Online boarding                            0.000000            0\n",
       "Departure Delay in Minutes                 0.000000            0\n",
       "Arrival Delay in Minutes                   0.302587          393"
      ]
     },
     "execution_count": 5,
     "metadata": {},
     "output_type": "execute_result"
    }
   ],
   "source": [
    "# Dataframe for Nulls and their percentage in column \n",
    "nulls = pd.DataFrame(air_data.isnull().sum()/air_data.shape[0]*100, columns = ['perecntage_nulls'])\n",
    "nulls['total_nulls'] = air_data.isnull().sum()\n",
    "nulls"
   ]
  },
  {
   "cell_type": "code",
   "execution_count": 6,
   "id": "7827684a",
   "metadata": {},
   "outputs": [],
   "source": [
    "# Drop the nulls since they are miniscule\n",
    "air_data_subset = air_data.dropna(axis=0)"
   ]
  },
  {
   "cell_type": "code",
   "execution_count": 7,
   "id": "4905fb80",
   "metadata": {},
   "outputs": [
    {
     "data": {
      "text/plain": [
       "satisfaction                         0\n",
       "Customer Type                        0\n",
       "Age                                  0\n",
       "Type of Travel                       0\n",
       "Class                                0\n",
       "Flight Distance                      0\n",
       "Seat comfort                         0\n",
       "Departure/Arrival time convenient    0\n",
       "Food and drink                       0\n",
       "Gate location                        0\n",
       "Inflight wifi service                0\n",
       "Inflight entertainment               0\n",
       "Online support                       0\n",
       "Ease of Online booking               0\n",
       "On-board service                     0\n",
       "Leg room service                     0\n",
       "Baggage handling                     0\n",
       "Checkin service                      0\n",
       "Cleanliness                          0\n",
       "Online boarding                      0\n",
       "Departure Delay in Minutes           0\n",
       "Arrival Delay in Minutes             0\n",
       "dtype: int64"
      ]
     },
     "execution_count": 7,
     "metadata": {},
     "output_type": "execute_result"
    }
   ],
   "source": [
    "# Check nulls again:\n",
    "air_data_subset.isna().sum()"
   ]
  },
  {
   "cell_type": "code",
   "execution_count": 8,
   "id": "cab39771",
   "metadata": {},
   "outputs": [],
   "source": [
    "# Convert categorical features to on-hot encoded:\n",
    "air_data_subset_dummies = pd.get_dummies(air_data_subset, \n",
    "                                         columns=['Customer Type','Type of Travel','Class'])\n",
    "\n",
    "air_data_subset_dummies['satisfaction'] = air_data_subset_dummies['satisfaction'].map({'satisfied': 1, 'dissatisfied':0})"
   ]
  },
  {
   "cell_type": "code",
   "execution_count": 9,
   "id": "f54fedd5",
   "metadata": {},
   "outputs": [
    {
     "data": {
      "text/plain": [
       "1    70882\n",
       "0    58605\n",
       "Name: satisfaction, dtype: int64"
      ]
     },
     "execution_count": 9,
     "metadata": {},
     "output_type": "execute_result"
    }
   ],
   "source": [
    "air_data_subset_dummies['satisfaction'].value_counts()"
   ]
  },
  {
   "cell_type": "code",
   "execution_count": 10,
   "id": "77e07485",
   "metadata": {},
   "outputs": [
    {
     "data": {
      "text/plain": [
       "satisfaction                           int64\n",
       "Age                                    int64\n",
       "Flight Distance                        int64\n",
       "Seat comfort                           int64\n",
       "Departure/Arrival time convenient      int64\n",
       "Food and drink                         int64\n",
       "Gate location                          int64\n",
       "Inflight wifi service                  int64\n",
       "Inflight entertainment                 int64\n",
       "Online support                         int64\n",
       "Ease of Online booking                 int64\n",
       "On-board service                       int64\n",
       "Leg room service                       int64\n",
       "Baggage handling                       int64\n",
       "Checkin service                        int64\n",
       "Cleanliness                            int64\n",
       "Online boarding                        int64\n",
       "Departure Delay in Minutes             int64\n",
       "Arrival Delay in Minutes             float64\n",
       "Customer Type_Loyal Customer           uint8\n",
       "Customer Type_disloyal Customer        uint8\n",
       "Type of Travel_Business travel         uint8\n",
       "Type of Travel_Personal Travel         uint8\n",
       "Class_Business                         uint8\n",
       "Class_Eco                              uint8\n",
       "Class_Eco Plus                         uint8\n",
       "dtype: object"
      ]
     },
     "execution_count": 10,
     "metadata": {},
     "output_type": "execute_result"
    }
   ],
   "source": [
    "# Check data types\n",
    "air_data_subset_dummies.dtypes"
   ]
  },
  {
   "cell_type": "markdown",
   "id": "f434197c",
   "metadata": {},
   "source": [
    "## Modelling Random Forest:\n",
    "\n",
    "We will train the model on the validation set first, then find the best parameters of the model using Grid Search. Using these parameters we will train our model again on the training set(X_train and y_train) and then evaluate our performance"
   ]
  },
  {
   "cell_type": "code",
   "execution_count": 11,
   "id": "fe47437a",
   "metadata": {},
   "outputs": [],
   "source": [
    "# Segregate our data in X and y \n",
    "y = air_data_subset_dummies[\"satisfaction\"]\n",
    "X = air_data_subset_dummies.drop(\"satisfaction\", axis=1)"
   ]
  },
  {
   "cell_type": "code",
   "execution_count": 12,
   "id": "431d06c6",
   "metadata": {},
   "outputs": [],
   "source": [
    "# training and test split:\n",
    "X_train, X_test, y_train, y_test = train_test_split(X, y, test_size=0.25, random_state=0)"
   ]
  },
  {
   "cell_type": "code",
   "execution_count": 13,
   "id": "6e9e16d2",
   "metadata": {},
   "outputs": [],
   "source": [
    "def make_results(model_name, model_object):\n",
    "    '''\n",
    "    Accepts as arguments a model name (your choice - string) and\n",
    "    a fit GridSearchCV model object.\n",
    "  \n",
    "    Returns a pandas df with the F1, recall, precision, and accuracy scores\n",
    "    for the model with the best mean F1 score across all validation folds.  \n",
    "    '''\n",
    "\n",
    "    # Get all the results from the CV and put them in a df\n",
    "    cv_results = pd.DataFrame(model_object.cv_results_)\n",
    "\n",
    "    # Isolate the row of the df with the max(mean f1 score)\n",
    "    best_estimator_results = cv_results.iloc[cv_results['mean_test_f1'].idxmax(), :]\n",
    "\n",
    "    # Extract accuracy, precision, recall, and f1 score from that row\n",
    "    f1 = best_estimator_results.mean_test_f1\n",
    "    recall = best_estimator_results.mean_test_recall\n",
    "    precision = best_estimator_results.mean_test_precision\n",
    "    accuracy = best_estimator_results.mean_test_accuracy\n",
    "  \n",
    "    # Create table of results\n",
    "    table = pd.DataFrame()\n",
    "    table = table.append({'Model': model_name,\n",
    "                        'F1': f1,\n",
    "                        'Recall': recall,\n",
    "                        'Precision': precision,\n",
    "                        'Accuracy': accuracy\n",
    "                        },\n",
    "                        ignore_index=True\n",
    "                       )\n",
    "  \n",
    "    return table"
   ]
  },
  {
   "cell_type": "markdown",
   "id": "64df5bb2",
   "metadata": {},
   "source": [
    "### Model building using Validaiton Set\n"
   ]
  },
  {
   "cell_type": "code",
   "execution_count": 14,
   "id": "499e99d2",
   "metadata": {},
   "outputs": [
    {
     "name": "stdout",
     "output_type": "stream",
     "text": [
      "CPU times: user 121 ms, sys: 6.85 ms, total: 128 ms\n",
      "Wall time: 128 ms\n"
     ]
    }
   ],
   "source": [
    "%%time \n",
    "# Validation set split:\n",
    "X_tr, X_val, y_tr, y_val = train_test_split(X_train, y_train, test_size = 0.25, random_state = 0)\n",
    "\n",
    "# Instantiate the Model:\n",
    "rf_2 = RandomForestClassifier(random_state=0)\n",
    "\n",
    "# Tune the model by setting the hyper parameters:\n",
    "cv_para = {\n",
    "    'max_depth' : [10,50],\n",
    "    'min_samples_leaf': [1, 2, 3],\n",
    "    'min_samples_split': [2,3,4],\n",
    "    'max_features': ['sqrt'], # Random subset of features whose size is the square root of the total number of features will be considered for splitting a node\n",
    "    'n_estimators': [50, 100],\n",
    "    'max_samples': [0.5, 0.9]\n",
    "}\n",
    "\n",
    "# Assign a dictionary of scoring metrics to capture\n",
    "scoring = {'accuracy', 'precision', 'recall', 'f1'}\n",
    "\n",
    "# Split the index:\n",
    "split_index = [0 if x in X_val.index else -1 for x in X_train.index]\n",
    "\n",
    "# Predefined split:\n",
    "custom_split = PredefinedSplit(split_index)\n",
    "\n",
    "\n",
    "# Find the best parameters using Grid Search:\n",
    "rf_val = GridSearchCV(\n",
    "    estimator=rf_2, \n",
    "    param_grid=cv_para,\n",
    "    refit='f1', \n",
    "    cv=custom_split,\n",
    "    scoring = scoring,\n",
    "    verbose = 1,\n",
    "    n_jobs = -1\n",
    ")\n"
   ]
  },
  {
   "cell_type": "code",
   "execution_count": 15,
   "id": "e7218b77",
   "metadata": {},
   "outputs": [
    {
     "name": "stdout",
     "output_type": "stream",
     "text": [
      "Fitting 1 folds for each of 72 candidates, totalling 72 fits\n",
      "CPU times: user 7.39 s, sys: 584 ms, total: 7.97 s\n",
      "Wall time: 1min 12s\n"
     ]
    },
    {
     "data": {
      "text/plain": [
       "GridSearchCV(cv=PredefinedSplit(test_fold=array([-1, -1, ..., -1, -1])),\n",
       "             estimator=RandomForestClassifier(random_state=0), n_jobs=-1,\n",
       "             param_grid={'max_depth': [10, 50], 'max_features': ['sqrt'],\n",
       "                         'max_samples': [0.5, 0.9],\n",
       "                         'min_samples_leaf': [1, 2, 3],\n",
       "                         'min_samples_split': [2, 3, 4],\n",
       "                         'n_estimators': [50, 100]},\n",
       "             refit='f1', scoring={'recall', 'f1', 'accuracy', 'precision'},\n",
       "             verbose=1)"
      ]
     },
     "execution_count": 15,
     "metadata": {},
     "output_type": "execute_result"
    }
   ],
   "source": [
    "%%time\n",
    "# Training our model\n",
    "rf_val.fit(X_train, y_train)"
   ]
  },
  {
   "cell_type": "markdown",
   "id": "92c77c6b",
   "metadata": {},
   "source": [
    "### Do not run this code directly "
   ]
  },
  {
   "cell_type": "code",
   "execution_count": 16,
   "id": "feded20d",
   "metadata": {},
   "outputs": [],
   "source": [
    "# Save the model locally:\n",
    "import pickle\n",
    "\n",
    "path = '/Users/dawny/Documents/PortFolio_projects/Python/Invistico_Airlines_XGBoosting' # Change it to your path \n",
    "\n",
    "# Pickle the model\n",
    "with open(path+'rf_val_model.pickle', 'wb') as to_write:\n",
    "    pickle.dump(rf_val, to_write)"
   ]
  },
  {
   "cell_type": "markdown",
   "id": "1d5075a5",
   "metadata": {},
   "source": [
    "### Load the model saved locally"
   ]
  },
  {
   "cell_type": "code",
   "execution_count": 17,
   "id": "917f34e1",
   "metadata": {},
   "outputs": [],
   "source": [
    "import pickle\n",
    "\n",
    "path = '/Users/dawny/Documents/PortFolio_projects/Python/Invistico_Airlines_XGBoosting'\n",
    "\n",
    "# Re-load the model:\n",
    "with open(path + 'rf_val_model.pickle', 'rb') as to_read:\n",
    "    rf_val = pickle.load(to_read)"
   ]
  },
  {
   "cell_type": "code",
   "execution_count": 18,
   "id": "6b7208ab",
   "metadata": {},
   "outputs": [
    {
     "data": {
      "text/plain": [
       "GridSearchCV(cv=PredefinedSplit(test_fold=array([-1, -1, ..., -1, -1])),\n",
       "             estimator=RandomForestClassifier(random_state=0), n_jobs=-1,\n",
       "             param_grid={'max_depth': [10, 50], 'max_features': ['sqrt'],\n",
       "                         'max_samples': [0.5, 0.9],\n",
       "                         'min_samples_leaf': [1, 2, 3],\n",
       "                         'min_samples_split': [2, 3, 4],\n",
       "                         'n_estimators': [50, 100]},\n",
       "             refit='f1', scoring={'recall', 'f1', 'accuracy', 'precision'},\n",
       "             verbose=1)"
      ]
     },
     "execution_count": 18,
     "metadata": {},
     "output_type": "execute_result"
    }
   ],
   "source": [
    "rf_val"
   ]
  },
  {
   "cell_type": "code",
   "execution_count": 60,
   "id": "b8061a36",
   "metadata": {},
   "outputs": [
    {
     "data": {
      "image/png": "[encoded data removed]",
      "text/plain": [
       "<Figure size 720x432 with 1 Axes>"
      ]
     },
     "metadata": {
      "needs_background": "light"
     },
     "output_type": "display_data"
    }
   ],
   "source": [
    "# Plotting Most important features \n",
    "feature_importances = rf_val.best_estimator_.feature_importances_\n",
    "\n",
    "# Create a DataFrame to store feature names and their importances\n",
    "feature_importance_df = pd.DataFrame({'Feature': X_train.columns, 'Importance': feature_importances})\n",
    "\n",
    "# Sort the DataFrame by feature importances in descending order\n",
    "feature_importance_df = feature_importance_df.sort_values(by='Importance', ascending=False)\n",
    "\n",
    "# Plot the feature importances\n",
    "plt.figure(figsize=(10, 6))\n",
    "sns.barplot(x='Importance', y='Feature', data=feature_importance_df, color='orange')\n",
    "plt.title('Feature Importances')\n",
    "plt.xlabel('Importance')\n",
    "plt.ylabel('Feature')\n",
    "plt.show()"
   ]
  },
  {
   "cell_type": "markdown",
   "id": "04dcc9d8",
   "metadata": {},
   "source": [
    "**Observations**\n",
    "> **Inflight entertainment**: The most significant feature, suggesting that on-board entertainment is crucial to customer satisfaction.<br>\n",
    "\n",
    "> **Seat comfort**: A close second, indicating that the comfort of seating is highly valued by passengers.<br>\n",
    "\n",
    "> **Ease of Online booking** and **Online support**: Important features, highlighting the significance of a seamless digital experience.<br>\n",
    "\n",
    "> **Class_Eco** and **Class_Eco Plus**: Lower importance, perhaps indicating that economy travel class distinctions are less critical to satisfaction levels.<br>\n",
    "\n",
    "> **Type of Travel_Personal Travel**: Similarly low in importance, suggesting the reason for travel (at least between personal and other types) is not a major factor in satisfaction.<br>\n",
    "\n",
    "> **Departure Delay in Minutes**: Surprisingly low importance, which could imply that customers are relatively tolerant of delays or that other factors overshadow the inconvenience caused by delays.\n"
   ]
  },
  {
   "cell_type": "code",
   "execution_count": 72,
   "id": "eb205495",
   "metadata": {},
   "outputs": [],
   "source": [
    "# Confusion matrix\n",
    "def conf_matrix_plot(model, x_data, y_data):\n",
    "    '''\n",
    "    Accepts as argument model object, X data (test or validate), and y data (test or validate). \n",
    "    Returns a plot of confusion matrix for predictions on y data.\n",
    "    ''' \n",
    "  \n",
    "    model_pred = model.predict(x_data)\n",
    "    cm = confusion_matrix(y_data, model_pred, labels=model.classes_)\n",
    "    disp = ConfusionMatrixDisplay(confusion_matrix=cm,\n",
    "                             display_labels=model.classes_)\n",
    "  \n",
    "    disp.plot()\n",
    "    plt.show()"
   ]
  },
  {
   "cell_type": "code",
   "execution_count": 74,
   "id": "80afdd71",
   "metadata": {},
   "outputs": [
    {
     "data": {
      "image/png": "[encoded data removed]",
      "text/plain": [
       "<Figure size 432x288 with 2 Axes>"
      ]
     },
     "metadata": {
      "needs_background": "light"
     },
     "output_type": "display_data"
    }
   ],
   "source": [
    "conf_matrix_plot(rf_val, X_test, y_test)"
   ]
  },
  {
   "cell_type": "markdown",
   "id": "5cc0e837",
   "metadata": {},
   "source": [
    "**Obervations**:\n",
    "- Precision and recall scores are both useful to evaluate the correct predictive capability of the model because they balance the false positives and false negatives inherent in prediction.\n",
    "- The model shows a precision score of 0.97, suggesting the model is very good at predicting true positives; indicative of our confusion matrix true positives(14,113). This means the model correctly predicts whether the airline passenger will be satisfied.\n",
    "- The recall score of 0.94 is also very good. This means that the model does a good job of correctly identifying dissatisfied passengers within the dataset; indicative of our confusion matrix true negatives (16,793)\n",
    "- These two metrics combined give a better assessment of model performance than the accuracy metric does alone."
   ]
  },
  {
   "cell_type": "code",
   "execution_count": 19,
   "id": "8d83be19",
   "metadata": {},
   "outputs": [
    {
     "data": {
      "text/html": [
       "<div>\n",
       "<style scoped>\n",
       "    .dataframe tbody tr th:only-of-type {\n",
       "        vertical-align: middle;\n",
       "    }\n",
       "\n",
       "    .dataframe tbody tr th {\n",
       "        vertical-align: top;\n",
       "    }\n",
       "\n",
       "    .dataframe thead th {\n",
       "        text-align: right;\n",
       "    }\n",
       "</style>\n",
       "<table border=\"1\" class=\"dataframe\">\n",
       "  <thead>\n",
       "    <tr style=\"text-align: right;\">\n",
       "      <th></th>\n",
       "      <th>Model</th>\n",
       "      <th>F1</th>\n",
       "      <th>Recall</th>\n",
       "      <th>Precision</th>\n",
       "      <th>Accuracy</th>\n",
       "    </tr>\n",
       "  </thead>\n",
       "  <tbody>\n",
       "    <tr>\n",
       "      <th>0</th>\n",
       "      <td>Random Forest Validated</td>\n",
       "      <td>0.957007</td>\n",
       "      <td>0.94515</td>\n",
       "      <td>0.969166</td>\n",
       "      <td>0.953705</td>\n",
       "    </tr>\n",
       "  </tbody>\n",
       "</table>\n",
       "</div>"
      ],
      "text/plain": [
       "                     Model        F1   Recall  Precision  Accuracy\n",
       "0  Random Forest Validated  0.957007  0.94515   0.969166  0.953705"
      ]
     },
     "execution_count": 19,
     "metadata": {},
     "output_type": "execute_result"
    }
   ],
   "source": [
    "table = make_results(\"Random Forest Validated\",rf_val)\n",
    "table"
   ]
  },
  {
   "cell_type": "code",
   "execution_count": 20,
   "id": "fdf13c1d",
   "metadata": {},
   "outputs": [
    {
     "data": {
      "text/plain": [
       "{'max_depth': 50,\n",
       " 'max_features': 'sqrt',\n",
       " 'max_samples': 0.9,\n",
       " 'min_samples_leaf': 1,\n",
       " 'min_samples_split': 2,\n",
       " 'n_estimators': 100}"
      ]
     },
     "execution_count": 20,
     "metadata": {},
     "output_type": "execute_result"
    }
   ],
   "source": [
    "# Find the best parameters from the validated random forest model:\n",
    "rf_val.best_params_"
   ]
  },
  {
   "cell_type": "markdown",
   "id": "de75afef",
   "metadata": {},
   "source": [
    "We have found our best parameters from the training set and validation set, now we will optimise our previous model (rf_val) using these parameters `specifically` to again train on the X_train and y_train sets"
   ]
  },
  {
   "cell_type": "code",
   "execution_count": 21,
   "id": "22a2a2fc",
   "metadata": {},
   "outputs": [],
   "source": [
    "# Using these best_parameters to train on our data:\n",
    "rf_opt = RandomForestClassifier(\n",
    "    max_depth=50, \n",
    "    max_features='sqrt', \n",
    "    max_samples=0.9,\n",
    "    min_samples_leaf=1,\n",
    "    min_samples_split=2,\n",
    "    n_estimators=100,\n",
    "    random_state=0)"
   ]
  },
  {
   "cell_type": "code",
   "execution_count": 22,
   "id": "8a8e2260",
   "metadata": {},
   "outputs": [
    {
     "name": "stdout",
     "output_type": "stream",
     "text": [
      "CPU times: user 7.19 s, sys: 57.8 ms, total: 7.24 s\n",
      "Wall time: 7.28 s\n"
     ]
    },
    {
     "data": {
      "text/plain": [
       "RandomForestClassifier(max_depth=50, max_features='sqrt', max_samples=0.9,\n",
       "                       random_state=0)"
      ]
     },
     "execution_count": 22,
     "metadata": {},
     "output_type": "execute_result"
    }
   ],
   "source": [
    "%%time \n",
    "# Fit/Train the optimised model:\n",
    "rf_opt.fit(X_train, y_train)"
   ]
  },
  {
   "cell_type": "markdown",
   "id": "8ff99a52",
   "metadata": {},
   "source": [
    "Note: We will now use this model to make predictions on the test set"
   ]
  },
  {
   "cell_type": "code",
   "execution_count": 23,
   "id": "ab981b70",
   "metadata": {},
   "outputs": [],
   "source": [
    "# Make prediction using the optimised Random Forest model\"\n",
    "y_pred_rf_val = rf_opt.predict(X_test)"
   ]
  },
  {
   "cell_type": "code",
   "execution_count": 24,
   "id": "84f2db10",
   "metadata": {},
   "outputs": [
    {
     "name": "stdout",
     "output_type": "stream",
     "text": [
      "The precision score is 0.96946\n"
     ]
    }
   ],
   "source": [
    "# Precision Score\n",
    "pc_test = precision_score(y_test, y_pred_rf_val)\n",
    "print(\"The precision score is {pc:.5f}\".format(pc = pc_test))"
   ]
  },
  {
   "cell_type": "code",
   "execution_count": 25,
   "id": "3ab6561d",
   "metadata": {},
   "outputs": [
    {
     "name": "stdout",
     "output_type": "stream",
     "text": [
      "The recall score is 0.94715\n"
     ]
    }
   ],
   "source": [
    "# Get recall score:\n",
    "\n",
    "rc_test = recall_score(y_test, y_pred_rf_val)\n",
    "print(\"The recall score is {rc:.5f}\".format(rc = rc_test))"
   ]
  },
  {
   "cell_type": "code",
   "execution_count": 26,
   "id": "1589e527",
   "metadata": {},
   "outputs": [
    {
     "name": "stdout",
     "output_type": "stream",
     "text": [
      "The accuracy score is 0.95471\n"
     ]
    }
   ],
   "source": [
    "# Get accuracy score:\n",
    "\n",
    "ac_test = accuracy_score(y_test, y_pred_rf_val)\n",
    "print(\"The accuracy score is {ac:.5f}\".format(ac = ac_test))"
   ]
  },
  {
   "cell_type": "code",
   "execution_count": 27,
   "id": "2476bbfa",
   "metadata": {},
   "outputs": [
    {
     "name": "stdout",
     "output_type": "stream",
     "text": [
      "The F1 score is 0.95818\n"
     ]
    }
   ],
   "source": [
    "# Get F1 score.\n",
    "\n",
    "f1_test = f1_score(y_test, y_pred_rf_val)\n",
    "print(\"The F1 score is {f1:.5f}\".format(f1 = f1_test))"
   ]
  },
  {
   "cell_type": "code",
   "execution_count": 28,
   "id": "f6efad13",
   "metadata": {},
   "outputs": [
    {
     "name": "stdout",
     "output_type": "stream",
     "text": [
      "\n",
      "The precision score is: 0.969 for the test set, \n",
      "which means of all positive predictions, 96.9% prediction are true positive.\n",
      "\n",
      "\n",
      "The recall score is: 0.947 for the test set, \n",
      "which means of which means of all real positive cases in test set, 94.7% are  predicted positive.\n",
      "\n",
      "\n",
      "The accuracy score is: 0.955 for the test set, \n",
      "which means of all cases in test set, 95.5% are predicted true positive or true negative.\n",
      "\n",
      "\n",
      "The F1 score is: 0.958 for the test set, \n",
      "which means the test set's harmonic mean is 95.8%.\n"
     ]
    }
   ],
   "source": [
    "print(\"\\nThe precision score is: {pc:.3f}\".format(pc = pc_test), \"for the test set,\", \"\\nwhich means of all positive predictions,\", \"{pc_pct:.1f}% prediction are true positive.\".format(pc_pct = pc_test * 100))\n",
    "print('')\n",
    "print(\"\\nThe recall score is: {rc:.3f}\".format(rc = rc_test), \"for the test set,\", \"\\nwhich means of which means of all real positive cases in test set,\", \"{rc_pct:.1f}% are  predicted positive.\".format(rc_pct = rc_test * 100))\n",
    "print('')\n",
    "print(\"\\nThe accuracy score is: {ac:.3f}\".format(ac = ac_test), \"for the test set,\", \"\\nwhich means of all cases in test set,\", \"{ac_pct:.1f}% are predicted true positive or true negative.\".format(ac_pct = ac_test * 100))\n",
    "print('')\n",
    "print(\"\\nThe F1 score is: {f1:.3f}\".format(f1 = f1_test), \"for the test set,\", \"\\nwhich means the test set's harmonic mean is {f1_pct:.1f}%.\".format(f1_pct = f1_test * 100))"
   ]
  },
  {
   "cell_type": "code",
   "execution_count": 29,
   "id": "67aa2d3d",
   "metadata": {},
   "outputs": [
    {
     "data": {
      "text/html": [
       "<div>\n",
       "<style scoped>\n",
       "    .dataframe tbody tr th:only-of-type {\n",
       "        vertical-align: middle;\n",
       "    }\n",
       "\n",
       "    .dataframe tbody tr th {\n",
       "        vertical-align: top;\n",
       "    }\n",
       "\n",
       "    .dataframe thead th {\n",
       "        text-align: right;\n",
       "    }\n",
       "</style>\n",
       "<table border=\"1\" class=\"dataframe\">\n",
       "  <thead>\n",
       "    <tr style=\"text-align: right;\">\n",
       "      <th></th>\n",
       "      <th>Model</th>\n",
       "      <th>F1</th>\n",
       "      <th>Recall</th>\n",
       "      <th>Precision</th>\n",
       "      <th>Accuracy</th>\n",
       "    </tr>\n",
       "  </thead>\n",
       "  <tbody>\n",
       "    <tr>\n",
       "      <th>0</th>\n",
       "      <td>Random Forest Optimised[best_params]</td>\n",
       "      <td>0.958176</td>\n",
       "      <td>0.947152</td>\n",
       "      <td>0.969461</td>\n",
       "      <td>0.954714</td>\n",
       "    </tr>\n",
       "  </tbody>\n",
       "</table>\n",
       "</div>"
      ],
      "text/plain": [
       "                                  Model        F1    Recall  Precision  \\\n",
       "0  Random Forest Optimised[best_params]  0.958176  0.947152   0.969461   \n",
       "\n",
       "   Accuracy  \n",
       "0  0.954714  "
      ]
     },
     "execution_count": 29,
     "metadata": {},
     "output_type": "execute_result"
    }
   ],
   "source": [
    "# Create a Data frame of the results \n",
    "table_2 = pd.DataFrame({'Model': [\"Random Forest Optimised[best_params]\"],\n",
    "                        'F1':  [f1_test],\n",
    "                        'Recall': [rc_test],\n",
    "                        'Precision': [pc_test],\n",
    "                        'Accuracy': [ac_test]\n",
    "                      }\n",
    "                    )\n",
    "table_2"
   ]
  },
  {
   "cell_type": "code",
   "execution_count": 38,
   "id": "697ad3c0",
   "metadata": {},
   "outputs": [
    {
     "data": {
      "text/html": [
       "<div>\n",
       "<style scoped>\n",
       "    .dataframe tbody tr th:only-of-type {\n",
       "        vertical-align: middle;\n",
       "    }\n",
       "\n",
       "    .dataframe tbody tr th {\n",
       "        vertical-align: top;\n",
       "    }\n",
       "\n",
       "    .dataframe thead th {\n",
       "        text-align: right;\n",
       "    }\n",
       "</style>\n",
       "<table border=\"1\" class=\"dataframe\">\n",
       "  <thead>\n",
       "    <tr style=\"text-align: right;\">\n",
       "      <th></th>\n",
       "      <th>Model</th>\n",
       "      <th>F1</th>\n",
       "      <th>Recall</th>\n",
       "      <th>Precision</th>\n",
       "      <th>Accuracy</th>\n",
       "    </tr>\n",
       "  </thead>\n",
       "  <tbody>\n",
       "    <tr>\n",
       "      <th>0</th>\n",
       "      <td>Random Forest Validated</td>\n",
       "      <td>0.957007</td>\n",
       "      <td>0.945150</td>\n",
       "      <td>0.969166</td>\n",
       "      <td>0.953705</td>\n",
       "    </tr>\n",
       "    <tr>\n",
       "      <th>0</th>\n",
       "      <td>Random Forest Optimised[best_params]</td>\n",
       "      <td>0.958176</td>\n",
       "      <td>0.947152</td>\n",
       "      <td>0.969461</td>\n",
       "      <td>0.954714</td>\n",
       "    </tr>\n",
       "  </tbody>\n",
       "</table>\n",
       "</div>"
      ],
      "text/plain": [
       "                                  Model        F1    Recall  Precision  \\\n",
       "0               Random Forest Validated  0.957007  0.945150   0.969166   \n",
       "0  Random Forest Optimised[best_params]  0.958176  0.947152   0.969461   \n",
       "\n",
       "   Accuracy  \n",
       "0  0.953705  \n",
       "0  0.954714  "
      ]
     },
     "execution_count": 38,
     "metadata": {},
     "output_type": "execute_result"
    }
   ],
   "source": [
    "# Concat the results of table_2 with previous table results\n",
    "table_3 = pd.concat([table, table_2])\n",
    "table_3"
   ]
  },
  {
   "cell_type": "markdown",
   "id": "18dbb5d8",
   "metadata": {},
   "source": [
    "> **Note:** We will compare our results once we build our XGBoost model\n",
    "\n",
    "Moving on to building the XGBoost model"
   ]
  },
  {
   "cell_type": "markdown",
   "id": "b87e9e43",
   "metadata": {},
   "source": [
    "## Modelling XGBoost\n",
    "To identify suitable parameters for our xgboost model, first define the parameters for hyperparameter tuning. Specifically, define a range of values for max_depth, min_child_weight, learning_rate, n_estimators, subsample, and colsample_bytree.\n",
    "\n",
    "> Consider a more limited range for each parameter to allow for timely iteration and model training."
   ]
  },
  {
   "cell_type": "code",
   "execution_count": 55,
   "id": "49cf055c",
   "metadata": {},
   "outputs": [
    {
     "name": "stdout",
     "output_type": "stream",
     "text": [
      "CPU times: user 113 ms, sys: 16 ms, total: 129 ms\n",
      "Wall time: 142 ms\n"
     ]
    }
   ],
   "source": [
    "%%time \n",
    "# Validation set split:\n",
    "X_tr_2, X_val_2, y_tr_2, y_val_2 = train_test_split(X_train, y_train, test_size = 0.25, random_state = 0)\n",
    "\n",
    "# Instantiate your XGBoost classifier:\n",
    "xgb = XGBClassifier(objective='binary:logistic', random_state=0)\n",
    "\n",
    "# Cros validation paras:\n",
    "cv_para = {\n",
    "    'max_depth': [4,6,8],\n",
    "    'learning_rate': [0.1, 0.2, 0,3],\n",
    "    'n_estimators': [5,10,15],\n",
    "    'min_child_weight': [3, 5],\n",
    "    'subsample': [0.7],\n",
    "    'colsample_bytree': [0.7]\n",
    "}\n",
    "\n",
    "split_index = [0 if x in X_val_2.index else -1 for x in X_train.index]\n",
    "\n",
    "custom_split = PredefinedSplit(split_index)\n",
    "\n",
    "scoring = {'accuracy', 'precision', 'recall', 'f1'}\n",
    "\n",
    "xgb = GridSearchCV(estimator=xgb,\n",
    "                  param_grid=cv_para,\n",
    "                  scoring=scoring,\n",
    "                  cv=custom_split,\n",
    "                  refit='f1',\n",
    "                  verbose = 1)"
   ]
  },
  {
   "cell_type": "code",
   "execution_count": 56,
   "id": "4a22189a",
   "metadata": {},
   "outputs": [
    {
     "name": "stdout",
     "output_type": "stream",
     "text": [
      "Fitting 1 folds for each of 72 candidates, totalling 72 fits\n",
      "CPU times: user 2min 29s, sys: 23 s, total: 2min 52s\n",
      "Wall time: 26.7 s\n"
     ]
    },
    {
     "data": {
      "text/plain": [
       "GridSearchCV(cv=PredefinedSplit(test_fold=array([-1, -1, ..., -1, -1])),\n",
       "             estimator=XGBClassifier(base_score=None, booster=None,\n",
       "                                     callbacks=None, colsample_bylevel=None,\n",
       "                                     colsample_bynode=None,\n",
       "                                     colsample_bytree=None,\n",
       "                                     early_stopping_rounds=None,\n",
       "                                     enable_categorical=False, eval_metric=None,\n",
       "                                     feature_types=None, gamma=None,\n",
       "                                     gpu_id=None, grow_policy=None,\n",
       "                                     importance_type=Non...\n",
       "                                     max_leaves=None, min_child_weight=None,\n",
       "                                     missing=nan, monotone_constraints=None,\n",
       "                                     n_estimators=100, n_jobs=None,\n",
       "                                     num_parallel_tree=None, predictor=None,\n",
       "                                     random_state=0, ...),\n",
       "             param_grid={'colsample_bytree': [0.7],\n",
       "                         'learning_rate': [0.1, 0.2, 0, 3],\n",
       "                         'max_depth': [4, 6, 8], 'min_child_weight': [3, 5],\n",
       "                         'n_estimators': [5, 10, 15], 'subsample': [0.7]},\n",
       "             refit='f1', scoring={'recall', 'f1', 'accuracy', 'precision'},\n",
       "             verbose=1)"
      ]
     },
     "execution_count": 56,
     "metadata": {},
     "output_type": "execute_result"
    }
   ],
   "source": [
    "%%time \n",
    "# Fit the model\n",
    "xgb.fit(X_train, y_train)"
   ]
  },
  {
   "cell_type": "code",
   "execution_count": 78,
   "id": "8cf5a17b",
   "metadata": {},
   "outputs": [
    {
     "data": {
      "image/png": "[encoded data removed]",
      "text/plain": [
       "<Figure size 720x432 with 1 Axes>"
      ]
     },
     "metadata": {
      "needs_background": "light"
     },
     "output_type": "display_data"
    }
   ],
   "source": [
    "# Plotting Most important features \n",
    "feature_importances = xgb.best_estimator_.feature_importances_\n",
    "\n",
    "# Create a DataFrame to store feature names and their importances\n",
    "feature_importance_df = pd.DataFrame({'Feature': X_train.columns, 'Importance': feature_importances})\n",
    "\n",
    "# Sort the DataFrame by feature importances in descending order\n",
    "feature_importance_df = feature_importance_df.sort_values(by='Importance', ascending=False)\n",
    "\n",
    "# Plot the feature importances\n",
    "plt.figure(figsize=(10, 6))\n",
    "sns.barplot(x='Importance', y='Feature', data=feature_importance_df, color='orange')\n",
    "plt.title('Feature Importances')\n",
    "plt.xlabel('Importance')\n",
    "plt.ylabel('Feature')\n",
    "plt.show()"
   ]
  },
  {
   "cell_type": "markdown",
   "id": "9d98fbb8",
   "metadata": {},
   "source": [
    "**Observations:**\n",
    "\n",
    "> **Inflight entertainment**: The most significant feature, suggesting that on-board entertainment is crucial to customer satisfaction.<br>\n",
    "\n",
    "> **Seat comfort**: A close second, indicating that the comfort of seating is highly valued by passengers.<br>\n",
    "\n",
    "The rest of the features have almost equal lesser importance than the specified features (Inflight entertainment and seat comfort)\n",
    "\n",
    "> Note: <br>\n",
    "Compared to the random forest model our XGB model identified different feature importances, namely `Inflight Entertainment` and `Seat comfort` being the most important features, common, in both the models. The rest of the features vary, based on thier importance."
   ]
  },
  {
   "cell_type": "code",
   "execution_count": 64,
   "id": "12dc2ab6",
   "metadata": {},
   "outputs": [
    {
     "data": {
      "text/plain": [
       "{'colsample_bytree': 0.7,\n",
       " 'learning_rate': 0.2,\n",
       " 'max_depth': 8,\n",
       " 'min_child_weight': 3,\n",
       " 'n_estimators': 15,\n",
       " 'subsample': 0.7}"
      ]
     },
     "execution_count": 64,
     "metadata": {},
     "output_type": "execute_result"
    }
   ],
   "source": [
    "# Choosing the best params:\n",
    "xgb.best_params_"
   ]
  },
  {
   "cell_type": "code",
   "execution_count": 65,
   "id": "19962972",
   "metadata": {},
   "outputs": [],
   "source": [
    "# Use these best params as our final XGbooost model:\n",
    "xgb_opt = XGBClassifier(objective='binary:logistic',\n",
    "                        colsample_bytree = 0.7,\n",
    "                        learning_rate= 0.2,\n",
    "                        max_depth = 8,\n",
    "                        min_child_weight= 3,\n",
    "                        n_estimators= 15,\n",
    "                        subsample= 0.7,\n",
    "                       random_state = 0)"
   ]
  },
  {
   "cell_type": "code",
   "execution_count": 67,
   "id": "b17857de",
   "metadata": {},
   "outputs": [
    {
     "name": "stdout",
     "output_type": "stream",
     "text": [
      "CPU times: user 4.88 s, sys: 673 ms, total: 5.55 s\n",
      "Wall time: 963 ms\n"
     ]
    },
    {
     "data": {
      "text/plain": [
       "XGBClassifier(base_score=None, booster=None, callbacks=None,\n",
       "              colsample_bylevel=None, colsample_bynode=None,\n",
       "              colsample_bytree=0.7, early_stopping_rounds=None,\n",
       "              enable_categorical=False, eval_metric=None, feature_types=None,\n",
       "              gamma=None, gpu_id=None, grow_policy=None, importance_type=None,\n",
       "              interaction_constraints=None, learning_rate=0.2, max_bin=None,\n",
       "              max_cat_threshold=None, max_cat_to_onehot=None,\n",
       "              max_delta_step=None, max_depth=8, max_leaves=None,\n",
       "              min_child_weight=3, missing=nan, monotone_constraints=None,\n",
       "              n_estimators=15, n_jobs=None, num_parallel_tree=None,\n",
       "              predictor=None, random_state=0, ...)"
      ]
     },
     "execution_count": 67,
     "metadata": {},
     "output_type": "execute_result"
    }
   ],
   "source": [
    "%%time\n",
    "# Fit our optimised XGBoost:\n",
    "xgb_opt.fit(X_train, y_train)"
   ]
  },
  {
   "cell_type": "code",
   "execution_count": 68,
   "id": "faa53acc",
   "metadata": {},
   "outputs": [],
   "source": [
    "# Make Predictions on our test set \n",
    "y_pred_xgb_opt = xgb_opt.predict(X_test)"
   ]
  },
  {
   "cell_type": "code",
   "execution_count": 70,
   "id": "0c38b166",
   "metadata": {},
   "outputs": [
    {
     "name": "stdout",
     "output_type": "stream",
     "text": [
      "accuracy score: 0.9392993945384901\n",
      "precision score: 0.9489662242980008\n",
      "recall score: 0.9397067117879301\n",
      "f1 score: 0.9443137699436053\n"
     ]
    }
   ],
   "source": [
    "# 1. Print your accuracy score.\n",
    "ac_score = accuracy_score(y_test, y_pred_xgb_opt)\n",
    "print('accuracy score:', ac_score)\n",
    "\n",
    "# 2. Print your precision score.\n",
    "pc_score = precision_score(y_test, y_pred_xgb_opt)\n",
    "print('precision score:', pc_score)\n",
    "\n",
    "# 3. Print your recall score.\n",
    "rc_score = recall_score(y_test, y_pred_xgb_opt)\n",
    "print('recall score:', rc_score)\n",
    "\n",
    "# 4. Print your f1 score.\n",
    "f1_score = f1_score(y_test, y_pred_xgb_opt)\n",
    "print('f1 score:', f1_score)"
   ]
  },
  {
   "cell_type": "markdown",
   "id": "4c30c955",
   "metadata": {},
   "source": [
    "**Observations:**\n",
    "- Precision and recall scores are both useful to evaluate the correct predictive capability of the model because they balance the false positives and false negatives inherent in prediction. \n",
    "- The model shows a precision score of 0.948, suggesting the model is very good at predicting true positives. This means the model correctly predicts whether the airline passenger will be satisfied. \n",
    "- The recall score of 0.940 is also very good. This means that the model does a good job of correctly identifying dissatisfied passengers within the dataset. \n",
    "- These two metrics combined give a better assessment of model performance than the accuracy metric does alone."
   ]
  },
  {
   "cell_type": "code",
   "execution_count": 84,
   "id": "86c650d5",
   "metadata": {},
   "outputs": [
    {
     "data": {
      "text/html": [
       "<div>\n",
       "<style scoped>\n",
       "    .dataframe tbody tr th:only-of-type {\n",
       "        vertical-align: middle;\n",
       "    }\n",
       "\n",
       "    .dataframe tbody tr th {\n",
       "        vertical-align: top;\n",
       "    }\n",
       "\n",
       "    .dataframe thead th {\n",
       "        text-align: right;\n",
       "    }\n",
       "</style>\n",
       "<table border=\"1\" class=\"dataframe\">\n",
       "  <thead>\n",
       "    <tr style=\"text-align: right;\">\n",
       "      <th></th>\n",
       "      <th>Model</th>\n",
       "      <th>F1</th>\n",
       "      <th>Recall</th>\n",
       "      <th>Precision</th>\n",
       "      <th>Accuracy</th>\n",
       "    </tr>\n",
       "  </thead>\n",
       "  <tbody>\n",
       "    <tr>\n",
       "      <th>0</th>\n",
       "      <td>Tuned Decision Tree</td>\n",
       "      <td>0.945422</td>\n",
       "      <td>0.935863</td>\n",
       "      <td>0.955197</td>\n",
       "      <td>0.940864</td>\n",
       "    </tr>\n",
       "    <tr>\n",
       "      <th>1</th>\n",
       "      <td>Optimised Random Forest</td>\n",
       "      <td>0.958176</td>\n",
       "      <td>0.947152</td>\n",
       "      <td>0.969461</td>\n",
       "      <td>0.954714</td>\n",
       "    </tr>\n",
       "    <tr>\n",
       "      <th>2</th>\n",
       "      <td>Optimised XGBoost</td>\n",
       "      <td>0.944314</td>\n",
       "      <td>0.939707</td>\n",
       "      <td>0.948966</td>\n",
       "      <td>0.939299</td>\n",
       "    </tr>\n",
       "  </tbody>\n",
       "</table>\n",
       "</div>"
      ],
      "text/plain": [
       "                     Model        F1    Recall  Precision  Accuracy\n",
       "0      Tuned Decision Tree  0.945422  0.935863   0.955197  0.940864\n",
       "1  Optimised Random Forest  0.958176  0.947152   0.969461  0.954714\n",
       "2        Optimised XGBoost  0.944314  0.939707   0.948966  0.939299"
      ]
     },
     "execution_count": 84,
     "metadata": {},
     "output_type": "execute_result"
    }
   ],
   "source": [
    "# Create a table of results to compare model performances.\n",
    "\n",
    "\"\"\"\n",
    "Comparing optimised random forest, provided results from Decision Tree and optimised XGBoost\n",
    "\n",
    "\"\"\"\n",
    "\n",
    "table_final = pd.DataFrame({'Model': [\"Tuned Decision Tree\", \"Optimised Random Forest\", \"Optimised XGBoost\"],\n",
    "                      'F1': [0.945422, 0.958176, f1_score],\n",
    "                      'Recall': [0.935863,0.947152, rc_score],\n",
    "                      'Precision': [0.955197, 0.969461, pc_score],\n",
    "                      'Accuracy': [0.940864, 0.954714, ac_score]\n",
    "                           })\n",
    "table_final\n"
   ]
  },
  {
   "cell_type": "markdown",
   "id": "cf4c3900",
   "metadata": {},
   "source": [
    "# Technical Report on Invistico Airline Customer Satisfaction Prediction Models\n",
    "\n",
    "## Executive Summary\n",
    "This report presents an analysis of predictive models for airline customer satisfaction. Based on the performance metrics and feature importances, we have evaluated and compared several models. The objective is to identify key factors influencing customer satisfaction and to provide actionable insights to stakeholders.\n",
    "\n",
    "## Model Performance\n",
    "Three models were analyzed: Tuned Decision Tree, Optimized Random Forest, and Optimized XGBoost. The Optimized Random Forest model outperforms others with an F1 score of 0.958, recall of 0.947, precision of 0.969, and accuracy of 0.954. It is thus recommended for predicting customer satisfaction.\n",
    "\n",
    "## Feature Importance\n",
    "The feature importance analysis from both the XGBoost and Random Forest models identifies key features that impact customer satisfaction:\n",
    "1. **Inflight entertainment**: Identified as the most significant feature, implying its critical role in customer satisfaction.\n",
    "2. **Seat comfort**: A close second in importance, indicating the value placed on physical comfort during flights.\n",
    "3. **Ease of Online booking and Online support**: Highlight the importance of a seamless digital experience.\n",
    "\n",
    "These features are consistent across models, underscoring their significance in predicting customer satisfaction.\n",
    "\n",
    "## Recommendations\n",
    "- **Enhance Inflight Entertainment**: Invest in a diverse and high-quality inflight entertainment system to improve customer experience.\n",
    "- **Improve Seat Comfort**: Consider upgrading seating arrangements to enhance physical comfort for passengers.\n",
    "- **Digital Experience**: Develop robust online platforms for booking and support, ensuring a user-friendly and efficient process.\n",
    "\n",
    "## Conclusion\n",
    "The Optimized Random Forest model is recommended for deployment due to its superior performance metrics. The identified key features should be prioritized for service improvements to enhance customer satisfaction and achieve strategic business outcomes.\n"
   ]
  },
  {
   "cell_type": "code",
   "execution_count": null,
   "id": "2fd30c84",
   "metadata": {},
   "outputs": [],
   "source": []
  }
 ],
 "metadata": {
  "kernelspec": {
   "display_name": "Python 3 (ipykernel)",
   "language": "python",
   "name": "python3"
  },
  "language_info": {
   "codemirror_mode": {
    "name": "ipython",
    "version": 3
   },
   "file_extension": ".py",
   "mimetype": "text/x-python",
   "name": "python",
   "nbconvert_exporter": "python",
   "pygments_lexer": "ipython3",
   "version": "3.9.12"
  }
 },
 "nbformat": 4,
 "nbformat_minor": 5
}
